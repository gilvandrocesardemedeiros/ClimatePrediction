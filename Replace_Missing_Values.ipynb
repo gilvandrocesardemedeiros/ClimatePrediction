{
  "nbformat": 4,
  "nbformat_minor": 0,
  "metadata": {
    "colab": {
      "name": "Predict_Rain_MLP.ipynb",
      "version": "0.3.2",
      "provenance": [],
      "collapsed_sections": [],
      "include_colab_link": true
    },
    "language_info": {
      "codemirror_mode": {
        "name": "ipython",
        "version": 3
      },
      "file_extension": ".py",
      "mimetype": "text/x-python",
      "name": "python",
      "nbconvert_exporter": "python",
      "pygments_lexer": "ipython3",
      "version": "3.6.8"
    },
    "kernelspec": {
      "display_name": "Python 3",
      "language": "python",
      "name": "python3"
    }
  },
  "cells": [
    {
      "cell_type": "markdown",
      "metadata": {
        "id": "view-in-github",
        "colab_type": "text"
      },
      "source": [
        "<a href=\"https://colab.research.google.com/github/gilvandrocesardemedeiros/ClimatePrediction/blob/master/Replace_Missing_Values.ipynb\" target=\"_parent\"><img src=\"https://colab.research.google.com/assets/colab-badge.svg\" alt=\"Open In Colab\"/></a>"
      ]
    },
    {
      "metadata": {
        "id": "27ZehESHNz63",
        "colab_type": "code",
        "colab": {
          "base_uri": "https://localhost:8080/",
          "height": 34
        },
        "outputId": "e9361527-af06-49e2-97fe-15951264ffe1"
      },
      "cell_type": "code",
      "source": [
        "#Importando bibliotecas\n",
        "import pandas as pd\n",
        "import numpy as np\n",
        "from datetime import datetime\n",
        "from keras.models import Sequential\n",
        "from keras.layers import Dense\n",
        "from keras.wrappers.scikit_learn import KerasRegressor\n",
        "from keras.utils import np_utils\n",
        "import keras.backend as tf\n",
        "from sklearn.model_selection import cross_val_score\n",
        "from sklearn.model_selection import KFold\n",
        "from sklearn.model_selection import GridSearchCV\n",
        "from sklearn.preprocessing import RobustScaler\n",
        "from sklearn.preprocessing import LabelEncoder\n",
        "from sklearn.model_selection import train_test_split\n",
        "import matplotlib.pyplot as plt"
      ],
      "execution_count": 3,
      "outputs": [
        {
          "output_type": "stream",
          "text": [
            "Using TensorFlow backend.\n"
          ],
          "name": "stderr"
        }
      ]
    },
    {
      "metadata": {
        "id": "_30s_sAnNz7Z",
        "colab_type": "code",
        "colab": {}
      },
      "cell_type": "code",
      "source": [
        "#Nomes para as colunas\n",
        "columns = [\"Estacao\",\"Data\",\"Hora\",\"Prec\",\"TempMax\",\"TempMin\",\"Insolacao\",\"EvapoPiche\",\"TempCompMedia\",\n",
        "           \"UmidRelatMedia\", \"VelocVento\", \"Missing\"]\n",
        "\n",
        "#Tipos de dados em cada coluna\n",
        "types = {\"Hora\":np.uint16,\"Prec\":np.float64,\"TempMax\":np.float64,\"TempMin\":np.float64,\"Insolacao\":np.float64,\n",
        "         \"EvapoPiche\":np.float64,\"TempCompMedia\":np.float64,\"UmidRelatMedia\":np.float64,\"VelocVento\":np.float64}\n",
        "\n",
        "#Leitura do arquivo csv\n",
        "dataSet = pd.read_csv(\"https://github.com/gilvandrocesardemedeiros/ClimatePrediction/raw/master/Dados_INMET/Diarios/INMET-Dados_Diarios_Natal_1968-2018.csv\",\n",
        "                      sep=';',skiprows=48, nrows = 27003, usecols = columns[1:11], names=columns, dtype = types)"
      ],
      "execution_count": 0,
      "outputs": []
    },
    {
      "metadata": {
        "id": "j6wsU7SJNz7t",
        "colab_type": "code",
        "colab": {}
      },
      "cell_type": "code",
      "source": [
        "#Transformando data em variável do tipo datetime\n",
        "dataSet[\"Data\"] = pd.to_datetime(dataSet[\"Data\"], format = \"%d/%m/%Y\")"
      ],
      "execution_count": 0,
      "outputs": []
    },
    {
      "metadata": {
        "id": "4Q7RdptNNz8A",
        "colab_type": "code",
        "outputId": "99b8a723-2a0c-4909-e9e2-e8d48000a482",
        "colab": {
          "base_uri": "https://localhost:8080/",
          "height": 206
        }
      },
      "cell_type": "code",
      "source": [
        "#Verificando dados\n",
        "dataSet.head()"
      ],
      "execution_count": 6,
      "outputs": [
        {
          "output_type": "execute_result",
          "data": {
            "text/html": [
              "<div>\n",
              "<style scoped>\n",
              "    .dataframe tbody tr th:only-of-type {\n",
              "        vertical-align: middle;\n",
              "    }\n",
              "\n",
              "    .dataframe tbody tr th {\n",
              "        vertical-align: top;\n",
              "    }\n",
              "\n",
              "    .dataframe thead th {\n",
              "        text-align: right;\n",
              "    }\n",
              "</style>\n",
              "<table border=\"1\" class=\"dataframe\">\n",
              "  <thead>\n",
              "    <tr style=\"text-align: right;\">\n",
              "      <th></th>\n",
              "      <th>Data</th>\n",
              "      <th>Hora</th>\n",
              "      <th>Prec</th>\n",
              "      <th>TempMax</th>\n",
              "      <th>TempMin</th>\n",
              "      <th>Insolacao</th>\n",
              "      <th>EvapoPiche</th>\n",
              "      <th>TempCompMedia</th>\n",
              "      <th>UmidRelatMedia</th>\n",
              "      <th>VelocVento</th>\n",
              "    </tr>\n",
              "  </thead>\n",
              "  <tbody>\n",
              "    <tr>\n",
              "      <th>0</th>\n",
              "      <td>1968-01-01</td>\n",
              "      <td>0</td>\n",
              "      <td>NaN</td>\n",
              "      <td>30.6</td>\n",
              "      <td>NaN</td>\n",
              "      <td>11.1</td>\n",
              "      <td>4.4</td>\n",
              "      <td>25.14</td>\n",
              "      <td>73.50</td>\n",
              "      <td>2.666667</td>\n",
              "    </tr>\n",
              "    <tr>\n",
              "      <th>1</th>\n",
              "      <td>1968-01-01</td>\n",
              "      <td>1200</td>\n",
              "      <td>0.0</td>\n",
              "      <td>NaN</td>\n",
              "      <td>21.4</td>\n",
              "      <td>NaN</td>\n",
              "      <td>NaN</td>\n",
              "      <td>NaN</td>\n",
              "      <td>NaN</td>\n",
              "      <td>NaN</td>\n",
              "    </tr>\n",
              "    <tr>\n",
              "      <th>2</th>\n",
              "      <td>1968-01-02</td>\n",
              "      <td>0</td>\n",
              "      <td>NaN</td>\n",
              "      <td>31.0</td>\n",
              "      <td>NaN</td>\n",
              "      <td>11.9</td>\n",
              "      <td>6.5</td>\n",
              "      <td>24.92</td>\n",
              "      <td>74.75</td>\n",
              "      <td>1.666667</td>\n",
              "    </tr>\n",
              "    <tr>\n",
              "      <th>3</th>\n",
              "      <td>1968-01-02</td>\n",
              "      <td>1200</td>\n",
              "      <td>0.0</td>\n",
              "      <td>NaN</td>\n",
              "      <td>19.6</td>\n",
              "      <td>NaN</td>\n",
              "      <td>NaN</td>\n",
              "      <td>NaN</td>\n",
              "      <td>NaN</td>\n",
              "      <td>NaN</td>\n",
              "    </tr>\n",
              "    <tr>\n",
              "      <th>4</th>\n",
              "      <td>1968-01-03</td>\n",
              "      <td>0</td>\n",
              "      <td>NaN</td>\n",
              "      <td>31.6</td>\n",
              "      <td>NaN</td>\n",
              "      <td>11.3</td>\n",
              "      <td>5.0</td>\n",
              "      <td>24.90</td>\n",
              "      <td>77.25</td>\n",
              "      <td>2.333333</td>\n",
              "    </tr>\n",
              "  </tbody>\n",
              "</table>\n",
              "</div>"
            ],
            "text/plain": [
              "        Data  Hora  Prec  TempMax  TempMin  Insolacao  EvapoPiche  \\\n",
              "0 1968-01-01     0   NaN     30.6      NaN       11.1         4.4   \n",
              "1 1968-01-01  1200   0.0      NaN     21.4        NaN         NaN   \n",
              "2 1968-01-02     0   NaN     31.0      NaN       11.9         6.5   \n",
              "3 1968-01-02  1200   0.0      NaN     19.6        NaN         NaN   \n",
              "4 1968-01-03     0   NaN     31.6      NaN       11.3         5.0   \n",
              "\n",
              "   TempCompMedia  UmidRelatMedia  VelocVento  \n",
              "0          25.14           73.50    2.666667  \n",
              "1            NaN             NaN         NaN  \n",
              "2          24.92           74.75    1.666667  \n",
              "3            NaN             NaN         NaN  \n",
              "4          24.90           77.25    2.333333  "
            ]
          },
          "metadata": {
            "tags": []
          },
          "execution_count": 6
        }
      ]
    },
    {
      "metadata": {
        "id": "1GBPk-0mNz8Q",
        "colab_type": "code",
        "outputId": "3aa7142f-882f-4dfb-93fe-2b6a634f9758",
        "colab": {
          "base_uri": "https://localhost:8080/",
          "height": 208
        }
      },
      "cell_type": "code",
      "source": [
        "#Verificando o tipo dos dados\n",
        "dataSet.dtypes"
      ],
      "execution_count": 7,
      "outputs": [
        {
          "output_type": "execute_result",
          "data": {
            "text/plain": [
              "Data              datetime64[ns]\n",
              "Hora                      uint16\n",
              "Prec                     float64\n",
              "TempMax                  float64\n",
              "TempMin                  float64\n",
              "Insolacao                float64\n",
              "EvapoPiche               float64\n",
              "TempCompMedia            float64\n",
              "UmidRelatMedia           float64\n",
              "VelocVento               float64\n",
              "dtype: object"
            ]
          },
          "metadata": {
            "tags": []
          },
          "execution_count": 7
        }
      ]
    },
    {
      "metadata": {
        "id": "Bljp6tdBNz8e",
        "colab_type": "code",
        "colab": {}
      },
      "cell_type": "code",
      "source": [
        "#Separando os dados em dois dataframes, um para as 00:00 h e outro para as 12:00 h\n",
        "dataSet00, dataSet12 = dataSet[dataSet[\"Hora\"] == 0], dataSet[dataSet[\"Hora\"] == 1200]"
      ],
      "execution_count": 0,
      "outputs": []
    },
    {
      "metadata": {
        "id": "2bh8K6NANz8r",
        "colab_type": "code",
        "outputId": "d014c5b5-9b4e-4484-b0bf-b44d26a3f8e0",
        "colab": {
          "base_uri": "https://localhost:8080/",
          "height": 206
        }
      },
      "cell_type": "code",
      "source": [
        "#Verificando dataframe para os dados disponibilizados às 00:00 h\n",
        "dataSet00.head()"
      ],
      "execution_count": 9,
      "outputs": [
        {
          "output_type": "execute_result",
          "data": {
            "text/html": [
              "<div>\n",
              "<style scoped>\n",
              "    .dataframe tbody tr th:only-of-type {\n",
              "        vertical-align: middle;\n",
              "    }\n",
              "\n",
              "    .dataframe tbody tr th {\n",
              "        vertical-align: top;\n",
              "    }\n",
              "\n",
              "    .dataframe thead th {\n",
              "        text-align: right;\n",
              "    }\n",
              "</style>\n",
              "<table border=\"1\" class=\"dataframe\">\n",
              "  <thead>\n",
              "    <tr style=\"text-align: right;\">\n",
              "      <th></th>\n",
              "      <th>Data</th>\n",
              "      <th>Hora</th>\n",
              "      <th>Prec</th>\n",
              "      <th>TempMax</th>\n",
              "      <th>TempMin</th>\n",
              "      <th>Insolacao</th>\n",
              "      <th>EvapoPiche</th>\n",
              "      <th>TempCompMedia</th>\n",
              "      <th>UmidRelatMedia</th>\n",
              "      <th>VelocVento</th>\n",
              "    </tr>\n",
              "  </thead>\n",
              "  <tbody>\n",
              "    <tr>\n",
              "      <th>0</th>\n",
              "      <td>1968-01-01</td>\n",
              "      <td>0</td>\n",
              "      <td>NaN</td>\n",
              "      <td>30.6</td>\n",
              "      <td>NaN</td>\n",
              "      <td>11.1</td>\n",
              "      <td>4.4</td>\n",
              "      <td>25.14</td>\n",
              "      <td>73.50</td>\n",
              "      <td>2.666667</td>\n",
              "    </tr>\n",
              "    <tr>\n",
              "      <th>2</th>\n",
              "      <td>1968-01-02</td>\n",
              "      <td>0</td>\n",
              "      <td>NaN</td>\n",
              "      <td>31.0</td>\n",
              "      <td>NaN</td>\n",
              "      <td>11.9</td>\n",
              "      <td>6.5</td>\n",
              "      <td>24.92</td>\n",
              "      <td>74.75</td>\n",
              "      <td>1.666667</td>\n",
              "    </tr>\n",
              "    <tr>\n",
              "      <th>4</th>\n",
              "      <td>1968-01-03</td>\n",
              "      <td>0</td>\n",
              "      <td>NaN</td>\n",
              "      <td>31.6</td>\n",
              "      <td>NaN</td>\n",
              "      <td>11.3</td>\n",
              "      <td>5.0</td>\n",
              "      <td>24.90</td>\n",
              "      <td>77.25</td>\n",
              "      <td>2.333333</td>\n",
              "    </tr>\n",
              "    <tr>\n",
              "      <th>6</th>\n",
              "      <td>1968-01-04</td>\n",
              "      <td>0</td>\n",
              "      <td>NaN</td>\n",
              "      <td>31.2</td>\n",
              "      <td>NaN</td>\n",
              "      <td>10.3</td>\n",
              "      <td>4.0</td>\n",
              "      <td>24.82</td>\n",
              "      <td>80.75</td>\n",
              "      <td>3.666667</td>\n",
              "    </tr>\n",
              "    <tr>\n",
              "      <th>8</th>\n",
              "      <td>1968-01-05</td>\n",
              "      <td>0</td>\n",
              "      <td>NaN</td>\n",
              "      <td>30.8</td>\n",
              "      <td>NaN</td>\n",
              "      <td>11.0</td>\n",
              "      <td>4.2</td>\n",
              "      <td>24.78</td>\n",
              "      <td>76.00</td>\n",
              "      <td>4.000000</td>\n",
              "    </tr>\n",
              "  </tbody>\n",
              "</table>\n",
              "</div>"
            ],
            "text/plain": [
              "        Data  Hora  Prec  TempMax  TempMin  Insolacao  EvapoPiche  \\\n",
              "0 1968-01-01     0   NaN     30.6      NaN       11.1         4.4   \n",
              "2 1968-01-02     0   NaN     31.0      NaN       11.9         6.5   \n",
              "4 1968-01-03     0   NaN     31.6      NaN       11.3         5.0   \n",
              "6 1968-01-04     0   NaN     31.2      NaN       10.3         4.0   \n",
              "8 1968-01-05     0   NaN     30.8      NaN       11.0         4.2   \n",
              "\n",
              "   TempCompMedia  UmidRelatMedia  VelocVento  \n",
              "0          25.14           73.50    2.666667  \n",
              "2          24.92           74.75    1.666667  \n",
              "4          24.90           77.25    2.333333  \n",
              "6          24.82           80.75    3.666667  \n",
              "8          24.78           76.00    4.000000  "
            ]
          },
          "metadata": {
            "tags": []
          },
          "execution_count": 9
        }
      ]
    },
    {
      "metadata": {
        "id": "edBEOHdPNz9B",
        "colab_type": "code",
        "outputId": "d11b59dc-9c05-4e5d-9224-2f38e594fc0b",
        "colab": {
          "base_uri": "https://localhost:8080/",
          "height": 206
        }
      },
      "cell_type": "code",
      "source": [
        "#Verificando dataframe para os dados disponibilizados às 12:00 h\n",
        "dataSet12.head()"
      ],
      "execution_count": 10,
      "outputs": [
        {
          "output_type": "execute_result",
          "data": {
            "text/html": [
              "<div>\n",
              "<style scoped>\n",
              "    .dataframe tbody tr th:only-of-type {\n",
              "        vertical-align: middle;\n",
              "    }\n",
              "\n",
              "    .dataframe tbody tr th {\n",
              "        vertical-align: top;\n",
              "    }\n",
              "\n",
              "    .dataframe thead th {\n",
              "        text-align: right;\n",
              "    }\n",
              "</style>\n",
              "<table border=\"1\" class=\"dataframe\">\n",
              "  <thead>\n",
              "    <tr style=\"text-align: right;\">\n",
              "      <th></th>\n",
              "      <th>Data</th>\n",
              "      <th>Hora</th>\n",
              "      <th>Prec</th>\n",
              "      <th>TempMax</th>\n",
              "      <th>TempMin</th>\n",
              "      <th>Insolacao</th>\n",
              "      <th>EvapoPiche</th>\n",
              "      <th>TempCompMedia</th>\n",
              "      <th>UmidRelatMedia</th>\n",
              "      <th>VelocVento</th>\n",
              "    </tr>\n",
              "  </thead>\n",
              "  <tbody>\n",
              "    <tr>\n",
              "      <th>1</th>\n",
              "      <td>1968-01-01</td>\n",
              "      <td>1200</td>\n",
              "      <td>0.0</td>\n",
              "      <td>NaN</td>\n",
              "      <td>21.4</td>\n",
              "      <td>NaN</td>\n",
              "      <td>NaN</td>\n",
              "      <td>NaN</td>\n",
              "      <td>NaN</td>\n",
              "      <td>NaN</td>\n",
              "    </tr>\n",
              "    <tr>\n",
              "      <th>3</th>\n",
              "      <td>1968-01-02</td>\n",
              "      <td>1200</td>\n",
              "      <td>0.0</td>\n",
              "      <td>NaN</td>\n",
              "      <td>19.6</td>\n",
              "      <td>NaN</td>\n",
              "      <td>NaN</td>\n",
              "      <td>NaN</td>\n",
              "      <td>NaN</td>\n",
              "      <td>NaN</td>\n",
              "    </tr>\n",
              "    <tr>\n",
              "      <th>5</th>\n",
              "      <td>1968-01-03</td>\n",
              "      <td>1200</td>\n",
              "      <td>0.0</td>\n",
              "      <td>NaN</td>\n",
              "      <td>18.5</td>\n",
              "      <td>NaN</td>\n",
              "      <td>NaN</td>\n",
              "      <td>NaN</td>\n",
              "      <td>NaN</td>\n",
              "      <td>NaN</td>\n",
              "    </tr>\n",
              "    <tr>\n",
              "      <th>7</th>\n",
              "      <td>1968-01-04</td>\n",
              "      <td>1200</td>\n",
              "      <td>0.0</td>\n",
              "      <td>NaN</td>\n",
              "      <td>20.7</td>\n",
              "      <td>NaN</td>\n",
              "      <td>NaN</td>\n",
              "      <td>NaN</td>\n",
              "      <td>NaN</td>\n",
              "      <td>NaN</td>\n",
              "    </tr>\n",
              "    <tr>\n",
              "      <th>9</th>\n",
              "      <td>1968-01-05</td>\n",
              "      <td>1200</td>\n",
              "      <td>0.0</td>\n",
              "      <td>NaN</td>\n",
              "      <td>19.9</td>\n",
              "      <td>NaN</td>\n",
              "      <td>NaN</td>\n",
              "      <td>NaN</td>\n",
              "      <td>NaN</td>\n",
              "      <td>NaN</td>\n",
              "    </tr>\n",
              "  </tbody>\n",
              "</table>\n",
              "</div>"
            ],
            "text/plain": [
              "        Data  Hora  Prec  TempMax  TempMin  Insolacao  EvapoPiche  \\\n",
              "1 1968-01-01  1200   0.0      NaN     21.4        NaN         NaN   \n",
              "3 1968-01-02  1200   0.0      NaN     19.6        NaN         NaN   \n",
              "5 1968-01-03  1200   0.0      NaN     18.5        NaN         NaN   \n",
              "7 1968-01-04  1200   0.0      NaN     20.7        NaN         NaN   \n",
              "9 1968-01-05  1200   0.0      NaN     19.9        NaN         NaN   \n",
              "\n",
              "   TempCompMedia  UmidRelatMedia  VelocVento  \n",
              "1            NaN             NaN         NaN  \n",
              "3            NaN             NaN         NaN  \n",
              "5            NaN             NaN         NaN  \n",
              "7            NaN             NaN         NaN  \n",
              "9            NaN             NaN         NaN  "
            ]
          },
          "metadata": {
            "tags": []
          },
          "execution_count": 10
        }
      ]
    },
    {
      "metadata": {
        "id": "OUqiIBkLNz9S",
        "colab_type": "code",
        "colab": {}
      },
      "cell_type": "code",
      "source": [
        "#Transformando a data no índice de cada dataframe\n",
        "dataSet00 = dataSet00.set_index(\"Data\")\n",
        "dataSet12 = dataSet12.set_index(\"Data\")"
      ],
      "execution_count": 0,
      "outputs": []
    },
    {
      "metadata": {
        "id": "CSC3Qof0Nz9j",
        "colab_type": "code",
        "colab": {}
      },
      "cell_type": "code",
      "source": [
        "#Descartando a coluna \"Hora\"\n",
        "dataSet00, dataSet12 = dataSet00.drop(columns = \"Hora\"), dataSet12.drop(columns = \"Hora\")"
      ],
      "execution_count": 0,
      "outputs": []
    },
    {
      "metadata": {
        "id": "EOtr9pK5Nz99",
        "colab_type": "code",
        "outputId": "1c66b20e-a689-4bc1-9dda-bcc662d429c7",
        "colab": {
          "base_uri": "https://localhost:8080/",
          "height": 156
        }
      },
      "cell_type": "code",
      "source": [
        "#Juntando os dados em um mesmo dataframe (no caso, o dataSet00)\n",
        "for i in dataSet00.index:\n",
        "    try:\n",
        "        dataSet00[\"Prec\"].loc[i] = dataSet12[\"Prec\"].loc[i]\n",
        "        dataSet00[\"TempMin\"].loc[i] = dataSet12[\"TempMin\"].loc[i]\n",
        "    except:\n",
        "        print(\"Data \" + str(i.day) + \"/\" + str(i.month) + \"/\" + str(i.year) + \" Não encontrada!\")"
      ],
      "execution_count": 13,
      "outputs": [
        {
          "output_type": "stream",
          "text": [
            "Data 5/7/1986 Não encontrada!\n",
            "Data 20/7/1986 Não encontrada!\n",
            "Data 3/6/1989 Não encontrada!\n",
            "Data 12/6/1989 Não encontrada!\n",
            "Data 4/12/1992 Não encontrada!\n",
            "Data 26/5/2018 Não encontrada!\n",
            "Data 1/8/2018 Não encontrada!\n",
            "Data 27/10/2018 Não encontrada!\n"
          ],
          "name": "stdout"
        }
      ]
    },
    {
      "metadata": {
        "id": "ZkvEVq8aNz-M",
        "colab_type": "code",
        "outputId": "73c47dd2-2ada-455c-d9ec-248a179d67d3",
        "colab": {
          "base_uri": "https://localhost:8080/",
          "height": 34
        }
      },
      "cell_type": "code",
      "source": [
        "#Atribuindo à variável dataSet o DataFrame atualizado\n",
        "dataSet = dataSet00\n",
        "#Verificando dimensões do DataFrame\n",
        "print(dataSet.shape)"
      ],
      "execution_count": 14,
      "outputs": [
        {
          "output_type": "stream",
          "text": [
            "(13502, 8)\n"
          ],
          "name": "stdout"
        }
      ]
    },
    {
      "metadata": {
        "id": "jBsDkedfcZ_h",
        "colab_type": "code",
        "colab": {}
      },
      "cell_type": "code",
      "source": [
        "#Transformando a coluna Data de volta em uma coluna de informações do dataSet\n",
        "dataSet = dataSet.reset_index()"
      ],
      "execution_count": 0,
      "outputs": []
    },
    {
      "metadata": {
        "id": "XGeOl_FCqgyK",
        "colab_type": "code",
        "outputId": "a7931272-5bba-47f6-96ad-49cb62d7e945",
        "colab": {
          "base_uri": "https://localhost:8080/",
          "height": 34
        }
      },
      "cell_type": "code",
      "source": [
        "#Eliminando da base de dados dias que não tenham ao menos 5 das variáveis no dataSet\n",
        "dataSet = dataSet.dropna(thresh=5)\n",
        "#Exibindo novas dimensões da base de dados\n",
        "print(dataSet.shape)"
      ],
      "execution_count": 16,
      "outputs": [
        {
          "output_type": "stream",
          "text": [
            "(13455, 9)\n"
          ],
          "name": "stdout"
        }
      ]
    },
    {
      "metadata": {
        "id": "4YfK3SJ0dQAW",
        "colab_type": "text"
      },
      "cell_type": "markdown",
      "source": [
        "# Considerando os seguintes intervalos: \n",
        "- Outono: 20 de março a 21 de junho (fechado em 20/03 e aberto em 21/06)\n",
        "- Inverno: 21 de junho a 22 de setembro (fechado em 21/06 e aberto em 22/09)\n",
        "- Primavera: de 22 de setembro a 21 de dezembro (fechado em 22/09 e aberto em 21/12)\n",
        "- Verão: de 21 de dezembro a 20 de março (fechado em 21/12 e aberto em 20/03)"
      ]
    },
    {
      "metadata": {
        "id": "dtSvce66c8zF",
        "colab_type": "code",
        "colab": {}
      },
      "cell_type": "code",
      "source": [
        "#Função que retorna a estação do ano para uma determinada data, para ser adicionada à base de dados\n",
        "def season(data):\n",
        "    if (data.month > 3 and data.month < 6) or (data.month == 3 and data.day >= 20) or (data.month == 6 and data.day < 21):\n",
        "        return \"Out\"\n",
        "    if (data.month > 6 and data.month < 9) or (data.month == 6 and data.day >= 21) or (data.month == 9 and data.day < 22):\n",
        "        return \"Inv\"\n",
        "    if (data.month > 9 and data.month < 12) or (data.month == 9 and data.day >= 22) or (data.month == 12 and data.day < 21):\n",
        "        return \"Pri\"\n",
        "    else:\n",
        "        return \"Ver\""
      ],
      "execution_count": 0,
      "outputs": []
    },
    {
      "metadata": {
        "id": "FTRevEZ9AUSe",
        "colab_type": "code",
        "colab": {}
      },
      "cell_type": "code",
      "source": [
        "#Identificando a estação do ano na base de dados e guardando a informação referente ao ano de cada dado\n",
        "estacao = []\n",
        "for i in dataSet.index:\n",
        "    estacao.insert(i, season(dataSet.loc[i, \"Data\"]))"
      ],
      "execution_count": 0,
      "outputs": []
    },
    {
      "metadata": {
        "id": "Ut_YTEMKd3Jv",
        "colab_type": "code",
        "outputId": "bf9f7169-1bb2-431f-9d37-1944b1e16582",
        "colab": {
          "base_uri": "https://localhost:8080/",
          "height": 86
        }
      },
      "cell_type": "code",
      "source": [
        "#Contando quantos dados existem para cada estação\n",
        "print(\"Outono: \" + str(estacao.count(\"Out\")))\n",
        "print(\"Inverno: \" + str(estacao.count(\"Inv\")))\n",
        "print(\"Primavera: \" + str(estacao.count(\"Pri\")))\n",
        "print(\"Verão: \" + str(estacao.count(\"Ver\")))"
      ],
      "execution_count": 19,
      "outputs": [
        {
          "output_type": "stream",
          "text": [
            "Outono: 3397\n",
            "Inverno: 3460\n",
            "Primavera: 3337\n",
            "Verão: 3261\n"
          ],
          "name": "stdout"
        }
      ]
    },
    {
      "metadata": {
        "id": "UbW5mMKJcojI",
        "colab_type": "code",
        "outputId": "c7eec57f-6d39-4d1f-d16a-843ea81e79a2",
        "colab": {
          "base_uri": "https://localhost:8080/",
          "height": 206
        }
      },
      "cell_type": "code",
      "source": [
        "#Eliminando a coluna \"Data\" e visualizando dados\n",
        "dataSet = dataSet.drop(columns=\"Data\")\n",
        "dataSet.head()"
      ],
      "execution_count": 20,
      "outputs": [
        {
          "output_type": "execute_result",
          "data": {
            "text/html": [
              "<div>\n",
              "<style scoped>\n",
              "    .dataframe tbody tr th:only-of-type {\n",
              "        vertical-align: middle;\n",
              "    }\n",
              "\n",
              "    .dataframe tbody tr th {\n",
              "        vertical-align: top;\n",
              "    }\n",
              "\n",
              "    .dataframe thead th {\n",
              "        text-align: right;\n",
              "    }\n",
              "</style>\n",
              "<table border=\"1\" class=\"dataframe\">\n",
              "  <thead>\n",
              "    <tr style=\"text-align: right;\">\n",
              "      <th></th>\n",
              "      <th>Prec</th>\n",
              "      <th>TempMax</th>\n",
              "      <th>TempMin</th>\n",
              "      <th>Insolacao</th>\n",
              "      <th>EvapoPiche</th>\n",
              "      <th>TempCompMedia</th>\n",
              "      <th>UmidRelatMedia</th>\n",
              "      <th>VelocVento</th>\n",
              "    </tr>\n",
              "  </thead>\n",
              "  <tbody>\n",
              "    <tr>\n",
              "      <th>0</th>\n",
              "      <td>0.0</td>\n",
              "      <td>30.6</td>\n",
              "      <td>21.4</td>\n",
              "      <td>11.1</td>\n",
              "      <td>4.4</td>\n",
              "      <td>25.14</td>\n",
              "      <td>73.50</td>\n",
              "      <td>2.666667</td>\n",
              "    </tr>\n",
              "    <tr>\n",
              "      <th>1</th>\n",
              "      <td>0.0</td>\n",
              "      <td>31.0</td>\n",
              "      <td>19.6</td>\n",
              "      <td>11.9</td>\n",
              "      <td>6.5</td>\n",
              "      <td>24.92</td>\n",
              "      <td>74.75</td>\n",
              "      <td>1.666667</td>\n",
              "    </tr>\n",
              "    <tr>\n",
              "      <th>2</th>\n",
              "      <td>0.0</td>\n",
              "      <td>31.6</td>\n",
              "      <td>18.5</td>\n",
              "      <td>11.3</td>\n",
              "      <td>5.0</td>\n",
              "      <td>24.90</td>\n",
              "      <td>77.25</td>\n",
              "      <td>2.333333</td>\n",
              "    </tr>\n",
              "    <tr>\n",
              "      <th>3</th>\n",
              "      <td>0.0</td>\n",
              "      <td>31.2</td>\n",
              "      <td>20.7</td>\n",
              "      <td>10.3</td>\n",
              "      <td>4.0</td>\n",
              "      <td>24.82</td>\n",
              "      <td>80.75</td>\n",
              "      <td>3.666667</td>\n",
              "    </tr>\n",
              "    <tr>\n",
              "      <th>4</th>\n",
              "      <td>0.0</td>\n",
              "      <td>30.8</td>\n",
              "      <td>19.9</td>\n",
              "      <td>11.0</td>\n",
              "      <td>4.2</td>\n",
              "      <td>24.78</td>\n",
              "      <td>76.00</td>\n",
              "      <td>4.000000</td>\n",
              "    </tr>\n",
              "  </tbody>\n",
              "</table>\n",
              "</div>"
            ],
            "text/plain": [
              "   Prec  TempMax  TempMin  Insolacao  EvapoPiche  TempCompMedia  \\\n",
              "0   0.0     30.6     21.4       11.1         4.4          25.14   \n",
              "1   0.0     31.0     19.6       11.9         6.5          24.92   \n",
              "2   0.0     31.6     18.5       11.3         5.0          24.90   \n",
              "3   0.0     31.2     20.7       10.3         4.0          24.82   \n",
              "4   0.0     30.8     19.9       11.0         4.2          24.78   \n",
              "\n",
              "   UmidRelatMedia  VelocVento  \n",
              "0           73.50    2.666667  \n",
              "1           74.75    1.666667  \n",
              "2           77.25    2.333333  \n",
              "3           80.75    3.666667  \n",
              "4           76.00    4.000000  "
            ]
          },
          "metadata": {
            "tags": []
          },
          "execution_count": 20
        }
      ]
    },
    {
      "metadata": {
        "id": "oPXso2gaeUoN",
        "colab_type": "code",
        "colab": {}
      },
      "cell_type": "code",
      "source": [
        "#Decodificando as estações em uma matriz (one hot encoding - dummy variables)\n",
        "encoder = LabelEncoder()\n",
        "encoder.fit(estacao)\n",
        "encodedSeason = encoder.transform(estacao)\n",
        "dummySeason = np_utils.to_categorical(encodedSeason)"
      ],
      "execution_count": 0,
      "outputs": []
    },
    {
      "metadata": {
        "id": "z3c5JCUHqBna",
        "colab_type": "code",
        "outputId": "c2f6ba54-2bc4-4985-fb43-b6a18e4cb6e7",
        "colab": {
          "base_uri": "https://localhost:8080/",
          "height": 104
        }
      },
      "cell_type": "code",
      "source": [
        "#Identificar como aconteceu a transformação\n",
        "auxSeason = encoder.transform([\"Inv\",\"Out\",\"Pri\",\"Ver\"])\n",
        "auxDummy = np_utils.to_categorical(auxSeason)\n",
        "print(\"[Inv,Out,Pri,Ver]\")\n",
        "print(auxDummy)"
      ],
      "execution_count": 22,
      "outputs": [
        {
          "output_type": "stream",
          "text": [
            "[Inv,Out,Pri,Ver]\n",
            "[[1. 0. 0. 0.]\n",
            " [0. 1. 0. 0.]\n",
            " [0. 0. 1. 0.]\n",
            " [0. 0. 0. 1.]]\n"
          ],
          "name": "stdout"
        }
      ]
    },
    {
      "metadata": {
        "id": "cWsOQWadAsGG",
        "colab_type": "code",
        "colab": {}
      },
      "cell_type": "code",
      "source": [
        "#Separando a variável que será prevista, precipitação, da base de dados\n",
        "prec = dataSet[\"Prec\"]\n",
        "dataSet = dataSet.drop(columns = \"Prec\")"
      ],
      "execution_count": 0,
      "outputs": []
    },
    {
      "metadata": {
        "id": "yEz1zDeWDvBs",
        "colab_type": "code",
        "colab": {}
      },
      "cell_type": "code",
      "source": [
        "#Adicionando ao dataSet as informações de estação climática\n",
        "dataSet[\"Inv\"] = dummySeason[:,0]\n",
        "dataSet[\"Out\"] = dummySeason[:,1]\n",
        "dataSet[\"Pri\"] = dummySeason[:,2]\n",
        "dataSet[\"Ver\"] = dummySeason[:,3]"
      ],
      "execution_count": 0,
      "outputs": []
    },
    {
      "metadata": {
        "id": "Y2eHNMUbET06",
        "colab_type": "code",
        "outputId": "106a6543-a222-487d-cb84-cbb7620b77e6",
        "colab": {
          "base_uri": "https://localhost:8080/",
          "height": 206
        }
      },
      "cell_type": "code",
      "source": [
        "#Visualizando dados\n",
        "dataSet.head()"
      ],
      "execution_count": 25,
      "outputs": [
        {
          "output_type": "execute_result",
          "data": {
            "text/html": [
              "<div>\n",
              "<style scoped>\n",
              "    .dataframe tbody tr th:only-of-type {\n",
              "        vertical-align: middle;\n",
              "    }\n",
              "\n",
              "    .dataframe tbody tr th {\n",
              "        vertical-align: top;\n",
              "    }\n",
              "\n",
              "    .dataframe thead th {\n",
              "        text-align: right;\n",
              "    }\n",
              "</style>\n",
              "<table border=\"1\" class=\"dataframe\">\n",
              "  <thead>\n",
              "    <tr style=\"text-align: right;\">\n",
              "      <th></th>\n",
              "      <th>TempMax</th>\n",
              "      <th>TempMin</th>\n",
              "      <th>Insolacao</th>\n",
              "      <th>EvapoPiche</th>\n",
              "      <th>TempCompMedia</th>\n",
              "      <th>UmidRelatMedia</th>\n",
              "      <th>VelocVento</th>\n",
              "      <th>Inv</th>\n",
              "      <th>Out</th>\n",
              "      <th>Pri</th>\n",
              "      <th>Ver</th>\n",
              "    </tr>\n",
              "  </thead>\n",
              "  <tbody>\n",
              "    <tr>\n",
              "      <th>0</th>\n",
              "      <td>30.6</td>\n",
              "      <td>21.4</td>\n",
              "      <td>11.1</td>\n",
              "      <td>4.4</td>\n",
              "      <td>25.14</td>\n",
              "      <td>73.50</td>\n",
              "      <td>2.666667</td>\n",
              "      <td>0.0</td>\n",
              "      <td>0.0</td>\n",
              "      <td>0.0</td>\n",
              "      <td>1.0</td>\n",
              "    </tr>\n",
              "    <tr>\n",
              "      <th>1</th>\n",
              "      <td>31.0</td>\n",
              "      <td>19.6</td>\n",
              "      <td>11.9</td>\n",
              "      <td>6.5</td>\n",
              "      <td>24.92</td>\n",
              "      <td>74.75</td>\n",
              "      <td>1.666667</td>\n",
              "      <td>0.0</td>\n",
              "      <td>0.0</td>\n",
              "      <td>0.0</td>\n",
              "      <td>1.0</td>\n",
              "    </tr>\n",
              "    <tr>\n",
              "      <th>2</th>\n",
              "      <td>31.6</td>\n",
              "      <td>18.5</td>\n",
              "      <td>11.3</td>\n",
              "      <td>5.0</td>\n",
              "      <td>24.90</td>\n",
              "      <td>77.25</td>\n",
              "      <td>2.333333</td>\n",
              "      <td>0.0</td>\n",
              "      <td>0.0</td>\n",
              "      <td>0.0</td>\n",
              "      <td>1.0</td>\n",
              "    </tr>\n",
              "    <tr>\n",
              "      <th>3</th>\n",
              "      <td>31.2</td>\n",
              "      <td>20.7</td>\n",
              "      <td>10.3</td>\n",
              "      <td>4.0</td>\n",
              "      <td>24.82</td>\n",
              "      <td>80.75</td>\n",
              "      <td>3.666667</td>\n",
              "      <td>0.0</td>\n",
              "      <td>0.0</td>\n",
              "      <td>0.0</td>\n",
              "      <td>1.0</td>\n",
              "    </tr>\n",
              "    <tr>\n",
              "      <th>4</th>\n",
              "      <td>30.8</td>\n",
              "      <td>19.9</td>\n",
              "      <td>11.0</td>\n",
              "      <td>4.2</td>\n",
              "      <td>24.78</td>\n",
              "      <td>76.00</td>\n",
              "      <td>4.000000</td>\n",
              "      <td>0.0</td>\n",
              "      <td>0.0</td>\n",
              "      <td>0.0</td>\n",
              "      <td>1.0</td>\n",
              "    </tr>\n",
              "  </tbody>\n",
              "</table>\n",
              "</div>"
            ],
            "text/plain": [
              "   TempMax  TempMin  Insolacao  EvapoPiche  TempCompMedia  UmidRelatMedia  \\\n",
              "0     30.6     21.4       11.1         4.4          25.14           73.50   \n",
              "1     31.0     19.6       11.9         6.5          24.92           74.75   \n",
              "2     31.6     18.5       11.3         5.0          24.90           77.25   \n",
              "3     31.2     20.7       10.3         4.0          24.82           80.75   \n",
              "4     30.8     19.9       11.0         4.2          24.78           76.00   \n",
              "\n",
              "   VelocVento  Inv  Out  Pri  Ver  \n",
              "0    2.666667  0.0  0.0  0.0  1.0  \n",
              "1    1.666667  0.0  0.0  0.0  1.0  \n",
              "2    2.333333  0.0  0.0  0.0  1.0  \n",
              "3    3.666667  0.0  0.0  0.0  1.0  \n",
              "4    4.000000  0.0  0.0  0.0  1.0  "
            ]
          },
          "metadata": {
            "tags": []
          },
          "execution_count": 25
        }
      ]
    },
    {
      "metadata": {
        "id": "q9vTWZ9PCH4H",
        "colab_type": "code",
        "colab": {}
      },
      "cell_type": "code",
      "source": [
        "#Efetuando uma transformação robusta, trabalhando com os dados entre os percentis 10 e 90\n",
        "rs = RobustScaler(quantile_range = (10.0,90.0))\n",
        "dataSet = rs.fit_transform(dataSet)"
      ],
      "execution_count": 0,
      "outputs": []
    },
    {
      "metadata": {
        "id": "lkLDSlvMJ_r5",
        "colab_type": "code",
        "outputId": "d358b0ef-823a-40e3-d870-47f6c8db6f90",
        "colab": {
          "base_uri": "https://localhost:8080/",
          "height": 243
        }
      },
      "cell_type": "code",
      "source": [
        "#Trocando dados faltantes por 0\n",
        "np.nan_to_num(dataSet, copy = False)"
      ],
      "execution_count": 27,
      "outputs": [
        {
          "output_type": "execute_result",
          "data": {
            "text/plain": [
              "array([[ 0.28571429, -0.31481481,  0.22666667, ...,  0.        ,\n",
              "         0.        ,  1.        ],\n",
              "       [ 0.42857143, -0.64814815,  0.33333333, ...,  0.        ,\n",
              "         0.        ,  1.        ],\n",
              "       [ 0.64285714, -0.85185185,  0.25333333, ...,  0.        ,\n",
              "         0.        ,  1.        ],\n",
              "       ...,\n",
              "       [ 0.21428571, -0.33333333,  0.18666667, ...,  0.        ,\n",
              "         0.        ,  1.        ],\n",
              "       [ 0.42857143,  0.57407407,  0.26666667, ...,  0.        ,\n",
              "         0.        ,  1.        ],\n",
              "       [ 0.28571429,  0.44444444,  0.21333333, ...,  0.        ,\n",
              "         0.        ,  1.        ]])"
            ]
          },
          "metadata": {
            "tags": []
          },
          "execution_count": 27
        }
      ]
    },
    {
      "metadata": {
        "id": "kMFGTMz8Kl75",
        "colab_type": "code",
        "outputId": "d0c72381-0be2-4a36-eb91-018700731ec5",
        "colab": {
          "base_uri": "https://localhost:8080/",
          "height": 34
        }
      },
      "cell_type": "code",
      "source": [
        "#Verificando dimensões do dataSet\n",
        "print(dataSet.shape)"
      ],
      "execution_count": 28,
      "outputs": [
        {
          "output_type": "stream",
          "text": [
            "(13455, 11)\n"
          ],
          "name": "stdout"
        }
      ]
    },
    {
      "metadata": {
        "id": "Hf3ar3QlVnKT",
        "colab_type": "code",
        "outputId": "a65462af-7921-4ae3-e1b3-bac6d7e5b587",
        "colab": {
          "base_uri": "https://localhost:8080/",
          "height": 54
        }
      },
      "cell_type": "code",
      "source": [
        "'''#Função para avaliar o desempenho da rede\n",
        "def acerto(y_true, y_pred):\n",
        "  try:\n",
        "    print(y_true.eval())\n",
        "    total = y_true.eval()\n",
        "    acertos = 0\n",
        "\n",
        "    for i in range(total):\n",
        "      if (y_true[i] <= (y_pred[i] + 5)) and (y_true[i] >= (y_pred[i] - 5)):\n",
        "        acertos += 1\n",
        "\n",
        "    return (acertos / total)\n",
        "  except:\n",
        "    return 0\n",
        "    '''"
      ],
      "execution_count": 29,
      "outputs": [
        {
          "output_type": "execute_result",
          "data": {
            "text/plain": [
              "'#Função para avaliar o desempenho da rede\\ndef acerto(y_true, y_pred):\\n  try:\\n    print(y_true.eval())\\n    total = y_true.eval()\\n    acertos = 0\\n\\n    for i in range(total):\\n      if (y_true[i] <= (y_pred[i] + 5)) and (y_true[i] >= (y_pred[i] - 5)):\\n        acertos += 1\\n\\n    return (acertos / total)\\n  except:\\n    return 0\\n    '"
            ]
          },
          "metadata": {
            "tags": []
          },
          "execution_count": 29
        }
      ]
    },
    {
      "metadata": {
        "id": "GgM6EySIB4-I",
        "colab_type": "code",
        "colab": {}
      },
      "cell_type": "code",
      "source": [
        "#Definindo uma função para fazer o Cross Validation com a MLP\n",
        "def trainMLP():    \n",
        "  #Criando o modelo\n",
        "  mlp = Sequential()\n",
        "  #Adicionando a camada de entrada\n",
        "  mlp.add(Dense(activation = 'tanh', input_dim = 11, units = 11, kernel_initializer = 'normal'))\n",
        "  #Adicionando a primeira camada escondida\n",
        "  mlp.add(Dense(activation = 'tanh', units = 11, kernel_initializer = 'normal'))\n",
        "  #Adicionando a segunda camada escondida\n",
        "  mlp.add(Dense(activation = 'tanh', units = 11, kernel_initializer='normal'))\n",
        "  #Adicionando a camada de saída\n",
        "  mlp.add(Dense(units = 1, kernel_initializer='normal'))    \n",
        "  # Compilando o modelo\n",
        "  mlp.compile(loss='mae', optimizer='rmsprop', metrics= ['mse', 'acc'])\n",
        "  return mlp"
      ],
      "execution_count": 0,
      "outputs": []
    },
    {
      "metadata": {
        "colab_type": "code",
        "id": "eqVxoZwYVAaJ",
        "colab": {}
      },
      "cell_type": "code",
      "source": [
        "#Modelo de classificação do Keras\n",
        "estimator = KerasClassifier(build_fn=trainMLP, epochs=100, batch_size=50, verbose=1)"
      ],
      "execution_count": 0,
      "outputs": []
    },
    {
      "metadata": {
        "colab_type": "code",
        "id": "wGupNX3XU_kO",
        "colab": {}
      },
      "cell_type": "code",
      "source": [
        "#Criando o objeto para Cross Validation\n",
        "kfold = KFold(n_splits=4, shuffle=True, random_state=7)"
      ],
      "execution_count": 0,
      "outputs": []
    },
    {
      "metadata": {
        "id": "zyeaH28XAO3j",
        "colab_type": "code",
        "colab": {
          "base_uri": "https://localhost:8080/",
          "height": 3632
        },
        "outputId": "e0205ba6-07b8-4d90-8989-5a8cf1608a88"
      },
      "cell_type": "code",
      "source": [
        "#Treinando a rede\n",
        "estimator.fit(dataSet, prec)"
      ],
      "execution_count": 33,
      "outputs": [
        {
          "output_type": "stream",
          "text": [
            "WARNING:tensorflow:From /usr/local/lib/python3.6/dist-packages/tensorflow/python/framework/op_def_library.py:263: colocate_with (from tensorflow.python.framework.ops) is deprecated and will be removed in a future version.\n",
            "Instructions for updating:\n",
            "Colocations handled automatically by placer.\n",
            "WARNING:tensorflow:From /usr/local/lib/python3.6/dist-packages/tensorflow/python/ops/math_ops.py:3066: to_int32 (from tensorflow.python.ops.math_ops) is deprecated and will be removed in a future version.\n",
            "Instructions for updating:\n",
            "Use tf.cast instead.\n",
            "Epoch 1/100\n",
            "13455/13455 [==============================] - 1s 61us/step - loss: 40.8172 - mean_squared_error: 11312.8030 - acc: 0.3597\n",
            "Epoch 2/100\n",
            "13455/13455 [==============================] - 0s 21us/step - loss: 40.5327 - mean_squared_error: 11137.4804 - acc: 0.1548\n",
            "Epoch 3/100\n",
            "13455/13455 [==============================] - 0s 22us/step - loss: 40.3341 - mean_squared_error: 11012.7579 - acc: 0.1271\n",
            "Epoch 4/100\n",
            "13455/13455 [==============================] - 0s 21us/step - loss: 40.1794 - mean_squared_error: 10900.5084 - acc: 0.1063\n",
            "Epoch 5/100\n",
            "13455/13455 [==============================] - 0s 21us/step - loss: 40.0410 - mean_squared_error: 10802.8019 - acc: 0.0946\n",
            "Epoch 6/100\n",
            "13455/13455 [==============================] - 0s 21us/step - loss: 39.9205 - mean_squared_error: 10713.5316 - acc: 0.0823\n",
            "Epoch 7/100\n",
            "13455/13455 [==============================] - 0s 21us/step - loss: 39.8217 - mean_squared_error: 10626.4333 - acc: 0.0768\n",
            "Epoch 8/100\n",
            "13455/13455 [==============================] - 0s 21us/step - loss: 39.7289 - mean_squared_error: 10558.9507 - acc: 0.0747\n",
            "Epoch 9/100\n",
            "13455/13455 [==============================] - 0s 23us/step - loss: 39.6321 - mean_squared_error: 10482.5411 - acc: 0.0712\n",
            "Epoch 10/100\n",
            "13455/13455 [==============================] - 0s 22us/step - loss: 39.5116 - mean_squared_error: 10416.7797 - acc: 0.0698\n",
            "Epoch 11/100\n",
            "13455/13455 [==============================] - 0s 21us/step - loss: 39.2628 - mean_squared_error: 10330.5507 - acc: 0.0797\n",
            "Epoch 12/100\n",
            "13455/13455 [==============================] - 0s 21us/step - loss: 38.5978 - mean_squared_error: 10174.9677 - acc: 0.1548\n",
            "Epoch 13/100\n",
            "13455/13455 [==============================] - 0s 21us/step - loss: 37.9909 - mean_squared_error: 10011.8469 - acc: 0.2904\n",
            "Epoch 14/100\n",
            "13455/13455 [==============================] - 0s 21us/step - loss: 37.6663 - mean_squared_error: 9891.6744 - acc: 0.3515\n",
            "Epoch 15/100\n",
            "13455/13455 [==============================] - 0s 21us/step - loss: 37.4697 - mean_squared_error: 9808.1855 - acc: 0.3695\n",
            "Epoch 16/100\n",
            "13455/13455 [==============================] - 0s 21us/step - loss: 37.3295 - mean_squared_error: 9753.4298 - acc: 0.3870\n",
            "Epoch 17/100\n",
            "13455/13455 [==============================] - 0s 21us/step - loss: 37.2232 - mean_squared_error: 9698.0395 - acc: 0.3961\n",
            "Epoch 18/100\n",
            "13455/13455 [==============================] - 0s 21us/step - loss: 37.1242 - mean_squared_error: 9649.4082 - acc: 0.4010\n",
            "Epoch 19/100\n",
            "13455/13455 [==============================] - 0s 21us/step - loss: 37.0403 - mean_squared_error: 9596.8644 - acc: 0.4049\n",
            "Epoch 20/100\n",
            "13455/13455 [==============================] - 0s 21us/step - loss: 36.9632 - mean_squared_error: 9559.0478 - acc: 0.4093\n",
            "Epoch 21/100\n",
            "13455/13455 [==============================] - 0s 21us/step - loss: 36.8890 - mean_squared_error: 9514.5001 - acc: 0.4061\n",
            "Epoch 22/100\n",
            "13455/13455 [==============================] - 0s 21us/step - loss: 36.8129 - mean_squared_error: 9471.4723 - acc: 0.4080\n",
            "Epoch 23/100\n",
            "13455/13455 [==============================] - 0s 21us/step - loss: 36.7511 - mean_squared_error: 9441.1846 - acc: 0.4127\n",
            "Epoch 24/100\n",
            "13455/13455 [==============================] - 0s 22us/step - loss: 36.6927 - mean_squared_error: 9400.5818 - acc: 0.4081\n",
            "Epoch 25/100\n",
            "13455/13455 [==============================] - 0s 21us/step - loss: 36.6243 - mean_squared_error: 9368.3204 - acc: 0.4100\n",
            "Epoch 26/100\n",
            "13455/13455 [==============================] - 0s 22us/step - loss: 36.5704 - mean_squared_error: 9342.1475 - acc: 0.4125\n",
            "Epoch 27/100\n",
            "13455/13455 [==============================] - 0s 21us/step - loss: 36.5041 - mean_squared_error: 9311.0366 - acc: 0.4077\n",
            "Epoch 28/100\n",
            "13455/13455 [==============================] - 0s 21us/step - loss: 36.4441 - mean_squared_error: 9273.0300 - acc: 0.4091\n",
            "Epoch 29/100\n",
            "13455/13455 [==============================] - 0s 21us/step - loss: 36.3974 - mean_squared_error: 9241.7063 - acc: 0.4081\n",
            "Epoch 30/100\n",
            "13455/13455 [==============================] - 0s 21us/step - loss: 36.3387 - mean_squared_error: 9215.9043 - acc: 0.4133\n",
            "Epoch 31/100\n",
            "13455/13455 [==============================] - 0s 22us/step - loss: 36.2965 - mean_squared_error: 9175.8688 - acc: 0.4094\n",
            "Epoch 32/100\n",
            "13455/13455 [==============================] - 0s 21us/step - loss: 36.2450 - mean_squared_error: 9154.0595 - acc: 0.4096\n",
            "Epoch 33/100\n",
            "13455/13455 [==============================] - 0s 21us/step - loss: 36.1975 - mean_squared_error: 9123.7666 - acc: 0.4096\n",
            "Epoch 34/100\n",
            "13455/13455 [==============================] - 0s 21us/step - loss: 36.1416 - mean_squared_error: 9081.5901 - acc: 0.4072\n",
            "Epoch 35/100\n",
            "13455/13455 [==============================] - 0s 21us/step - loss: 36.1146 - mean_squared_error: 9085.6284 - acc: 0.4077\n",
            "Epoch 36/100\n",
            "13455/13455 [==============================] - 0s 20us/step - loss: 36.0623 - mean_squared_error: 9047.2860 - acc: 0.4091\n",
            "Epoch 37/100\n",
            "13455/13455 [==============================] - 0s 21us/step - loss: 36.0203 - mean_squared_error: 9024.4188 - acc: 0.4055\n",
            "Epoch 38/100\n",
            "13455/13455 [==============================] - 0s 21us/step - loss: 35.9759 - mean_squared_error: 8985.7142 - acc: 0.4042\n",
            "Epoch 39/100\n",
            "13455/13455 [==============================] - 0s 21us/step - loss: 35.9306 - mean_squared_error: 8972.0762 - acc: 0.4082\n",
            "Epoch 40/100\n",
            "13455/13455 [==============================] - 0s 20us/step - loss: 35.8955 - mean_squared_error: 8934.8483 - acc: 0.4045\n",
            "Epoch 41/100\n",
            "13455/13455 [==============================] - 0s 21us/step - loss: 35.8604 - mean_squared_error: 8933.5346 - acc: 0.4105\n",
            "Epoch 42/100\n",
            "13455/13455 [==============================] - 0s 21us/step - loss: 35.8221 - mean_squared_error: 8914.1648 - acc: 0.4076\n",
            "Epoch 43/100\n",
            "13455/13455 [==============================] - 0s 21us/step - loss: 35.7878 - mean_squared_error: 8876.8619 - acc: 0.3996\n",
            "Epoch 44/100\n",
            "13455/13455 [==============================] - 0s 21us/step - loss: 35.7461 - mean_squared_error: 8858.6748 - acc: 0.4022\n",
            "Epoch 45/100\n",
            "13455/13455 [==============================] - 0s 21us/step - loss: 35.7132 - mean_squared_error: 8844.7728 - acc: 0.4029\n",
            "Epoch 46/100\n",
            "13455/13455 [==============================] - 0s 21us/step - loss: 35.6749 - mean_squared_error: 8810.6646 - acc: 0.4012\n",
            "Epoch 47/100\n",
            "13455/13455 [==============================] - 0s 20us/step - loss: 35.6388 - mean_squared_error: 8801.9134 - acc: 0.4031\n",
            "Epoch 48/100\n",
            "13455/13455 [==============================] - 0s 20us/step - loss: 35.5940 - mean_squared_error: 8772.8575 - acc: 0.4019\n",
            "Epoch 49/100\n",
            "13455/13455 [==============================] - 0s 21us/step - loss: 35.5679 - mean_squared_error: 8772.6638 - acc: 0.4032\n",
            "Epoch 50/100\n",
            "13455/13455 [==============================] - 0s 21us/step - loss: 35.5365 - mean_squared_error: 8716.8859 - acc: 0.4030\n",
            "Epoch 51/100\n",
            "13455/13455 [==============================] - 0s 21us/step - loss: 35.5053 - mean_squared_error: 8705.6269 - acc: 0.4056\n",
            "Epoch 52/100\n",
            "13455/13455 [==============================] - 0s 21us/step - loss: 35.4647 - mean_squared_error: 8702.3399 - acc: 0.4019\n",
            "Epoch 53/100\n",
            "13455/13455 [==============================] - 0s 21us/step - loss: 35.4337 - mean_squared_error: 8667.5310 - acc: 0.4019\n",
            "Epoch 54/100\n",
            "13455/13455 [==============================] - 0s 21us/step - loss: 35.4060 - mean_squared_error: 8637.1097 - acc: 0.4047\n",
            "Epoch 55/100\n",
            "13455/13455 [==============================] - 0s 21us/step - loss: 35.3673 - mean_squared_error: 8638.5624 - acc: 0.4042\n",
            "Epoch 56/100\n",
            "13455/13455 [==============================] - 0s 21us/step - loss: 35.3455 - mean_squared_error: 8624.8478 - acc: 0.4056\n",
            "Epoch 57/100\n",
            "13455/13455 [==============================] - 0s 21us/step - loss: 35.3120 - mean_squared_error: 8604.6334 - acc: 0.4037\n",
            "Epoch 58/100\n",
            "13455/13455 [==============================] - 0s 21us/step - loss: 35.2835 - mean_squared_error: 8577.3231 - acc: 0.4056\n",
            "Epoch 59/100\n",
            "13455/13455 [==============================] - 0s 21us/step - loss: 35.2415 - mean_squared_error: 8547.0174 - acc: 0.4025\n",
            "Epoch 60/100\n",
            "13455/13455 [==============================] - 0s 21us/step - loss: 35.2040 - mean_squared_error: 8550.5031 - acc: 0.4071\n",
            "Epoch 61/100\n",
            "13455/13455 [==============================] - 0s 21us/step - loss: 35.1967 - mean_squared_error: 8546.9892 - acc: 0.4037\n",
            "Epoch 62/100\n",
            "13455/13455 [==============================] - 0s 21us/step - loss: 35.1595 - mean_squared_error: 8527.1317 - acc: 0.4056\n",
            "Epoch 63/100\n",
            "13455/13455 [==============================] - 0s 22us/step - loss: 35.1366 - mean_squared_error: 8485.4774 - acc: 0.4017\n",
            "Epoch 64/100\n",
            "13455/13455 [==============================] - 0s 21us/step - loss: 35.0952 - mean_squared_error: 8472.6570 - acc: 0.4046\n",
            "Epoch 65/100\n",
            "13455/13455 [==============================] - 0s 21us/step - loss: 35.0670 - mean_squared_error: 8451.0074 - acc: 0.4048\n",
            "Epoch 66/100\n",
            "13455/13455 [==============================] - 0s 21us/step - loss: 35.0435 - mean_squared_error: 8431.4789 - acc: 0.4050\n",
            "Epoch 67/100\n",
            "13455/13455 [==============================] - 0s 22us/step - loss: 35.0086 - mean_squared_error: 8406.4514 - acc: 0.4091\n",
            "Epoch 68/100\n",
            "13455/13455 [==============================] - 0s 21us/step - loss: 34.9839 - mean_squared_error: 8403.5718 - acc: 0.4015\n",
            "Epoch 69/100\n",
            "13455/13455 [==============================] - 0s 21us/step - loss: 34.9587 - mean_squared_error: 8382.6875 - acc: 0.4045\n",
            "Epoch 70/100\n",
            "13455/13455 [==============================] - 0s 21us/step - loss: 34.9234 - mean_squared_error: 8371.1447 - acc: 0.4056\n",
            "Epoch 71/100\n",
            "13455/13455 [==============================] - 0s 21us/step - loss: 34.9001 - mean_squared_error: 8355.6214 - acc: 0.4088\n",
            "Epoch 72/100\n",
            "13455/13455 [==============================] - 0s 21us/step - loss: 34.8723 - mean_squared_error: 8340.7259 - acc: 0.4013\n",
            "Epoch 73/100\n",
            "13455/13455 [==============================] - 0s 21us/step - loss: 34.8345 - mean_squared_error: 8315.7577 - acc: 0.4082\n",
            "Epoch 74/100\n",
            "13455/13455 [==============================] - 0s 21us/step - loss: 34.8106 - mean_squared_error: 8289.5605 - acc: 0.4033\n",
            "Epoch 75/100\n",
            "13455/13455 [==============================] - 0s 21us/step - loss: 34.7812 - mean_squared_error: 8295.2029 - acc: 0.4058\n",
            "Epoch 76/100\n",
            "13455/13455 [==============================] - 0s 21us/step - loss: 34.7590 - mean_squared_error: 8278.1731 - acc: 0.4058\n",
            "Epoch 77/100\n",
            "13455/13455 [==============================] - 0s 22us/step - loss: 34.7244 - mean_squared_error: 8260.5360 - acc: 0.4115\n",
            "Epoch 78/100\n",
            "13455/13455 [==============================] - 0s 21us/step - loss: 34.7061 - mean_squared_error: 8249.9427 - acc: 0.4036\n",
            "Epoch 79/100\n",
            "13455/13455 [==============================] - 0s 21us/step - loss: 34.6807 - mean_squared_error: 8226.4750 - acc: 0.4059\n",
            "Epoch 80/100\n",
            "13455/13455 [==============================] - 0s 20us/step - loss: 34.6379 - mean_squared_error: 8197.7211 - acc: 0.4051\n",
            "Epoch 81/100\n",
            "13455/13455 [==============================] - 0s 21us/step - loss: 34.6103 - mean_squared_error: 8206.9509 - acc: 0.4049\n",
            "Epoch 82/100\n",
            "13455/13455 [==============================] - 0s 21us/step - loss: 34.5915 - mean_squared_error: 8164.1593 - acc: 0.4082\n",
            "Epoch 83/100\n",
            "13455/13455 [==============================] - 0s 21us/step - loss: 34.5672 - mean_squared_error: 8158.7512 - acc: 0.4111\n",
            "Epoch 84/100\n",
            "13455/13455 [==============================] - 0s 21us/step - loss: 34.5431 - mean_squared_error: 8148.2474 - acc: 0.4096\n",
            "Epoch 85/100\n",
            "13455/13455 [==============================] - 0s 20us/step - loss: 34.5197 - mean_squared_error: 8127.1959 - acc: 0.4074\n",
            "Epoch 86/100\n",
            "13455/13455 [==============================] - 0s 21us/step - loss: 34.4938 - mean_squared_error: 8122.4353 - acc: 0.4048\n",
            "Epoch 87/100\n",
            "13455/13455 [==============================] - 0s 21us/step - loss: 34.4635 - mean_squared_error: 8097.1039 - acc: 0.4094\n",
            "Epoch 88/100\n",
            "13455/13455 [==============================] - 0s 22us/step - loss: 34.4489 - mean_squared_error: 8082.9918 - acc: 0.4109\n",
            "Epoch 89/100\n",
            "13455/13455 [==============================] - 0s 21us/step - loss: 34.4159 - mean_squared_error: 8084.8069 - acc: 0.4109\n",
            "Epoch 90/100\n",
            "13455/13455 [==============================] - 0s 21us/step - loss: 34.4041 - mean_squared_error: 8073.9592 - acc: 0.4113\n",
            "Epoch 91/100\n",
            "13455/13455 [==============================] - 0s 20us/step - loss: 34.3705 - mean_squared_error: 8035.6728 - acc: 0.4082\n",
            "Epoch 92/100\n",
            "13455/13455 [==============================] - 0s 21us/step - loss: 34.3590 - mean_squared_error: 8039.9273 - acc: 0.4160\n",
            "Epoch 93/100\n",
            "13455/13455 [==============================] - 0s 21us/step - loss: 34.3319 - mean_squared_error: 8040.6112 - acc: 0.4120\n",
            "Epoch 94/100\n",
            "13455/13455 [==============================] - 0s 21us/step - loss: 34.3009 - mean_squared_error: 8024.6134 - acc: 0.4172\n",
            "Epoch 95/100\n",
            "13455/13455 [==============================] - 0s 21us/step - loss: 34.2913 - mean_squared_error: 8000.4549 - acc: 0.4211\n",
            "Epoch 96/100\n",
            "13455/13455 [==============================] - 0s 21us/step - loss: 34.2740 - mean_squared_error: 7965.7556 - acc: 0.4156\n",
            "Epoch 97/100\n",
            "13455/13455 [==============================] - 0s 21us/step - loss: 34.2600 - mean_squared_error: 7955.0105 - acc: 0.4169\n",
            "Epoch 98/100\n",
            "13455/13455 [==============================] - 0s 21us/step - loss: 34.2316 - mean_squared_error: 7970.1570 - acc: 0.4187\n",
            "Epoch 99/100\n",
            "13455/13455 [==============================] - 0s 21us/step - loss: 34.2134 - mean_squared_error: 7949.4334 - acc: 0.4195\n",
            "Epoch 100/100\n",
            "13455/13455 [==============================] - 0s 21us/step - loss: 34.1841 - mean_squared_error: 7931.6739 - acc: 0.4236\n"
          ],
          "name": "stdout"
        },
        {
          "output_type": "execute_result",
          "data": {
            "text/plain": [
              "<keras.callbacks.History at 0x7f81ec579198>"
            ]
          },
          "metadata": {
            "tags": []
          },
          "execution_count": 33
        }
      ]
    },
    {
      "metadata": {
        "id": "_u6GdTGCDe4C",
        "colab_type": "code",
        "colab": {}
      },
      "cell_type": "code",
      "source": [
        "#Treinando a rede\n",
        "results = cross_val_score(estimator = estimator, X = dataSet, y = prec, cv=kfold, n_jobs = -1)"
      ],
      "execution_count": 0,
      "outputs": []
    },
    {
      "metadata": {
        "id": "odMh7NI5A413",
        "colab_type": "code",
        "colab": {}
      },
      "cell_type": "code",
      "source": [
        "estimator.predict()"
      ],
      "execution_count": 0,
      "outputs": []
    },
    {
      "metadata": {
        "id": "BCuUY6uhOrOo",
        "colab_type": "code",
        "colab": {}
      },
      "cell_type": "code",
      "source": [
        "optimizers = ['rmsprop', 'adam']\n",
        "init = ['glorot_uniform', 'normal', 'uniform']\n",
        "epochs = [50, 100, 150]\n",
        "batches = [5, 10, 20]\n",
        "param_grid = dict(optimizer=optimizers, epochs=epochs, batch_size=batches, init=init)\n",
        "grid = GridSearchCV(estimator=model, param_grid=param_grid)\n",
        "grid_result = grid.fit(X, Y)\n",
        "# summarize results\n",
        "print(\"Best: %f using %s\" % (grid_result.best_score_, grid_result.best_params_))\n",
        "means = grid_result.cv_results_['mean_test_score']\n",
        "stds = grid_result.cv_results_['std_test_score']\n",
        "params = grid_result.cv_results_['params']\n",
        "for mean, stdev, param in zip(means, stds, params):\n",
        "\tprint(\"%f (%f) with: %r\" % (mean, stdev, param))"
      ],
      "execution_count": 0,
      "outputs": []
    },
    {
      "metadata": {
        "id": "0igJgQewOzNi",
        "colab_type": "code",
        "colab": {}
      },
      "cell_type": "code",
      "source": [
        ""
      ],
      "execution_count": 0,
      "outputs": []
    },
    {
      "metadata": {
        "id": "sqBn48tfA0LJ",
        "colab_type": "code",
        "colab": {}
      },
      "cell_type": "code",
      "source": [
        ""
      ],
      "execution_count": 0,
      "outputs": []
    },
    {
      "metadata": {
        "id": "nUtJBQYeL9PE",
        "colab_type": "text"
      },
      "cell_type": "markdown",
      "source": [
        ""
      ]
    },
    {
      "metadata": {
        "id": "MnrQPE09L9HL",
        "colab_type": "text"
      },
      "cell_type": "markdown",
      "source": [
        ""
      ]
    },
    {
      "metadata": {
        "id": "jWs_JBYAfQ1q",
        "colab_type": "code",
        "colab": {}
      },
      "cell_type": "code",
      "source": [
        ""
      ],
      "execution_count": 0,
      "outputs": []
    },
    {
      "metadata": {
        "id": "I5G5bohWhXQD",
        "colab_type": "code",
        "colab": {}
      },
      "cell_type": "code",
      "source": [
        ""
      ],
      "execution_count": 0,
      "outputs": []
    },
    {
      "metadata": {
        "id": "F2rQXnA6j0Xy",
        "colab_type": "code",
        "colab": {}
      },
      "cell_type": "code",
      "source": [
        ""
      ],
      "execution_count": 0,
      "outputs": []
    },
    {
      "metadata": {
        "id": "NjwIE1hecadS",
        "colab_type": "code",
        "colab": {}
      },
      "cell_type": "code",
      "source": [
        ""
      ],
      "execution_count": 0,
      "outputs": []
    },
    {
      "metadata": {
        "id": "lSIFz0ACnboP",
        "colab_type": "code",
        "colab": {}
      },
      "cell_type": "code",
      "source": [
        ""
      ],
      "execution_count": 0,
      "outputs": []
    },
    {
      "metadata": {
        "id": "RjWaTbkQNz-x",
        "colab_type": "code",
        "colab": {}
      },
      "cell_type": "code",
      "source": [
        ""
      ],
      "execution_count": 0,
      "outputs": []
    },
    {
      "metadata": {
        "id": "5wDWbpJSNz_F",
        "colab_type": "code",
        "colab": {}
      },
      "cell_type": "code",
      "source": [
        ""
      ],
      "execution_count": 0,
      "outputs": []
    },
    {
      "metadata": {
        "id": "CPODjA6bm8P5",
        "colab_type": "code",
        "colab": {}
      },
      "cell_type": "code",
      "source": [
        ""
      ],
      "execution_count": 0,
      "outputs": []
    },
    {
      "metadata": {
        "id": "Zs74NDWBNz_r",
        "colab_type": "code",
        "colab": {}
      },
      "cell_type": "code",
      "source": [
        ""
      ],
      "execution_count": 0,
      "outputs": []
    },
    {
      "metadata": {
        "id": "w-MZq6icm7iU",
        "colab_type": "text"
      },
      "cell_type": "markdown",
      "source": [
        ""
      ]
    },
    {
      "metadata": {
        "id": "dSO-wGBBN0AA",
        "colab_type": "code",
        "colab": {}
      },
      "cell_type": "code",
      "source": [
        ""
      ],
      "execution_count": 0,
      "outputs": []
    },
    {
      "metadata": {
        "id": "D9yfrDIaN0AL",
        "colab_type": "code",
        "colab": {}
      },
      "cell_type": "code",
      "source": [
        ""
      ],
      "execution_count": 0,
      "outputs": []
    },
    {
      "metadata": {
        "id": "gWeRFuONN0Aj",
        "colab_type": "code",
        "colab": {}
      },
      "cell_type": "code",
      "source": [
        ""
      ],
      "execution_count": 0,
      "outputs": []
    },
    {
      "metadata": {
        "id": "DGjQfELKN0A7",
        "colab_type": "code",
        "colab": {}
      },
      "cell_type": "code",
      "source": [
        ""
      ],
      "execution_count": 0,
      "outputs": []
    },
    {
      "metadata": {
        "id": "Sl1HYZOnN0BO",
        "colab_type": "code",
        "colab": {}
      },
      "cell_type": "code",
      "source": [
        ""
      ],
      "execution_count": 0,
      "outputs": []
    },
    {
      "metadata": {
        "id": "I2gQRcFCN0Bi",
        "colab_type": "code",
        "colab": {}
      },
      "cell_type": "code",
      "source": [
        ""
      ],
      "execution_count": 0,
      "outputs": []
    },
    {
      "metadata": {
        "id": "9tZo25aeN0By",
        "colab_type": "code",
        "colab": {}
      },
      "cell_type": "code",
      "source": [
        ""
      ],
      "execution_count": 0,
      "outputs": []
    },
    {
      "metadata": {
        "id": "UTZYi1RvN0Cc",
        "colab_type": "code",
        "colab": {}
      },
      "cell_type": "code",
      "source": [
        ""
      ],
      "execution_count": 0,
      "outputs": []
    },
    {
      "metadata": {
        "id": "W4nk88kUN0Cn",
        "colab_type": "code",
        "colab": {}
      },
      "cell_type": "code",
      "source": [
        ""
      ],
      "execution_count": 0,
      "outputs": []
    },
    {
      "metadata": {
        "id": "SnJyaBDdN0Cu",
        "colab_type": "code",
        "colab": {}
      },
      "cell_type": "code",
      "source": [
        ""
      ],
      "execution_count": 0,
      "outputs": []
    },
    {
      "metadata": {
        "id": "0QBr8WOUN0C7",
        "colab_type": "code",
        "colab": {}
      },
      "cell_type": "code",
      "source": [
        ""
      ],
      "execution_count": 0,
      "outputs": []
    },
    {
      "metadata": {
        "id": "u6qD1wW8N0DP",
        "colab_type": "code",
        "colab": {}
      },
      "cell_type": "code",
      "source": [
        ""
      ],
      "execution_count": 0,
      "outputs": []
    },
    {
      "metadata": {
        "id": "zNKrMGCDN0DZ",
        "colab_type": "code",
        "colab": {}
      },
      "cell_type": "code",
      "source": [
        ""
      ],
      "execution_count": 0,
      "outputs": []
    },
    {
      "metadata": {
        "id": "5A7WtLZ-N0Dk",
        "colab_type": "code",
        "colab": {}
      },
      "cell_type": "code",
      "source": [
        ""
      ],
      "execution_count": 0,
      "outputs": []
    },
    {
      "metadata": {
        "id": "zq6fXXomN0D5",
        "colab_type": "code",
        "colab": {}
      },
      "cell_type": "code",
      "source": [
        ""
      ],
      "execution_count": 0,
      "outputs": []
    },
    {
      "metadata": {
        "id": "3taxcy_IN0EB",
        "colab_type": "code",
        "colab": {}
      },
      "cell_type": "code",
      "source": [
        ""
      ],
      "execution_count": 0,
      "outputs": []
    },
    {
      "metadata": {
        "id": "_RrGhlUwN0EZ",
        "colab_type": "code",
        "colab": {}
      },
      "cell_type": "code",
      "source": [
        ""
      ],
      "execution_count": 0,
      "outputs": []
    },
    {
      "metadata": {
        "id": "OA0hBJ_sN0Ei",
        "colab_type": "code",
        "colab": {}
      },
      "cell_type": "code",
      "source": [
        ""
      ],
      "execution_count": 0,
      "outputs": []
    },
    {
      "metadata": {
        "id": "ZLzM6_QyN0Eu",
        "colab_type": "code",
        "colab": {}
      },
      "cell_type": "code",
      "source": [
        ""
      ],
      "execution_count": 0,
      "outputs": []
    },
    {
      "metadata": {
        "id": "DTozMQsmN0E4",
        "colab_type": "code",
        "colab": {}
      },
      "cell_type": "code",
      "source": [
        ""
      ],
      "execution_count": 0,
      "outputs": []
    },
    {
      "metadata": {
        "id": "HbpvTMZjN0E-",
        "colab_type": "code",
        "colab": {}
      },
      "cell_type": "code",
      "source": [
        ""
      ],
      "execution_count": 0,
      "outputs": []
    }
  ]
}