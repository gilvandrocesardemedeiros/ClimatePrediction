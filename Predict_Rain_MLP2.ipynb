{
  "nbformat": 4,
  "nbformat_minor": 0,
  "metadata": {
    "colab": {
      "name": "Copy of Predict_Rain_MLP.ipynb",
      "version": "0.3.2",
      "provenance": [],
      "collapsed_sections": [],
      "include_colab_link": true
    },
    "language_info": {
      "codemirror_mode": {
        "name": "ipython",
        "version": 3
      },
      "file_extension": ".py",
      "mimetype": "text/x-python",
      "name": "python",
      "nbconvert_exporter": "python",
      "pygments_lexer": "ipython3",
      "version": "3.6.8"
    },
    "kernelspec": {
      "display_name": "Python 3",
      "language": "python",
      "name": "python3"
    }
  },
  "cells": [
    {
      "cell_type": "markdown",
      "metadata": {
        "id": "view-in-github",
        "colab_type": "text"
      },
      "source": [
        "<a href=\"https://colab.research.google.com/github/gilvandrocesardemedeiros/ClimatePrediction/blob/master/Predict_Rain_MLP2.ipynb\" target=\"_parent\"><img src=\"https://colab.research.google.com/assets/colab-badge.svg\" alt=\"Open In Colab\"/></a>"
      ]
    },
    {
      "cell_type": "code",
      "metadata": {
        "id": "27ZehESHNz63",
        "colab_type": "code",
        "outputId": "fd53d98f-c04b-4916-917b-f433eba505c8",
        "colab": {
          "base_uri": "https://localhost:8080/",
          "height": 34
        }
      },
      "source": [
        "#Importando bibliotecas\n",
        "import pandas as pd\n",
        "import numpy as np\n",
        "from datetime import datetime\n",
        "from keras.models import Sequential\n",
        "from keras.layers import Dense\n",
        "from keras.wrappers.scikit_learn import KerasRegressor\n",
        "from keras.utils import np_utils\n",
        "from sklearn.metrics import mean_absolute_error\n",
        "from sklearn.metrics import mean_squared_error\n",
        "from sklearn.model_selection import KFold\n",
        "from sklearn.model_selection import GridSearchCV\n",
        "from sklearn.model_selection import train_test_split\n",
        "from sklearn.preprocessing import MinMaxScaler\n",
        "from sklearn.preprocessing import LabelEncoder\n",
        "import matplotlib.pyplot as plt"
      ],
      "execution_count": 2,
      "outputs": [
        {
          "output_type": "stream",
          "text": [
            "Using TensorFlow backend.\n"
          ],
          "name": "stderr"
        }
      ]
    },
    {
      "cell_type": "code",
      "metadata": {
        "id": "_30s_sAnNz7Z",
        "colab_type": "code",
        "colab": {}
      },
      "source": [
        "#Nomes para as colunas\n",
        "columns = [\"Estacao\",\"Data\",\"Hora\",\"Prec\",\"TempMax\",\"TempMin\",\"Insolacao\",\"EvapoPiche\",\"TempCompMedia\",\n",
        "           \"UmidRelatMedia\", \"VelocVento\", \"Missing\"]\n",
        "\n",
        "#Tipos de dados em cada coluna\n",
        "types = {\"Hora\":np.uint16,\"Prec\":np.float64,\"TempMax\":np.float64,\"TempMin\":np.float64,\"Insolacao\":np.float64,\n",
        "         \"EvapoPiche\":np.float64,\"TempCompMedia\":np.float64,\"UmidRelatMedia\":np.float64,\"VelocVento\":np.float64}\n",
        "\n",
        "#Leitura do arquivo csv\n",
        "dataSet = pd.read_csv(\"https://github.com/gilvandrocesardemedeiros/ClimatePrediction/raw/master/Dados_INMET/Diarios/INMET-Dados_Diarios_Natal_1968-2018.csv\",\n",
        "                      sep=';',skiprows=48, nrows = 27003, usecols = columns[1:11], names=columns, dtype = types)"
      ],
      "execution_count": 0,
      "outputs": []
    },
    {
      "cell_type": "code",
      "metadata": {
        "id": "wj6iNn4Q7PuM",
        "colab_type": "code",
        "colab": {
          "base_uri": "https://localhost:8080/",
          "height": 206
        },
        "outputId": "9e404d8f-60ec-422b-a26c-b19adc9cf15e"
      },
      "source": [
        "dataSet.head()"
      ],
      "execution_count": 6,
      "outputs": [
        {
          "output_type": "execute_result",
          "data": {
            "text/html": [
              "<div>\n",
              "<style scoped>\n",
              "    .dataframe tbody tr th:only-of-type {\n",
              "        vertical-align: middle;\n",
              "    }\n",
              "\n",
              "    .dataframe tbody tr th {\n",
              "        vertical-align: top;\n",
              "    }\n",
              "\n",
              "    .dataframe thead th {\n",
              "        text-align: right;\n",
              "    }\n",
              "</style>\n",
              "<table border=\"1\" class=\"dataframe\">\n",
              "  <thead>\n",
              "    <tr style=\"text-align: right;\">\n",
              "      <th></th>\n",
              "      <th>Data</th>\n",
              "      <th>Hora</th>\n",
              "      <th>Prec</th>\n",
              "      <th>TempMax</th>\n",
              "      <th>TempMin</th>\n",
              "      <th>Insolacao</th>\n",
              "      <th>EvapoPiche</th>\n",
              "      <th>TempCompMedia</th>\n",
              "      <th>UmidRelatMedia</th>\n",
              "      <th>VelocVento</th>\n",
              "    </tr>\n",
              "  </thead>\n",
              "  <tbody>\n",
              "    <tr>\n",
              "      <th>0</th>\n",
              "      <td>24/01/1968</td>\n",
              "      <td>1200</td>\n",
              "      <td>1.8</td>\n",
              "      <td>NaN</td>\n",
              "      <td>20.5</td>\n",
              "      <td>NaN</td>\n",
              "      <td>NaN</td>\n",
              "      <td>NaN</td>\n",
              "      <td>NaN</td>\n",
              "      <td>NaN</td>\n",
              "    </tr>\n",
              "    <tr>\n",
              "      <th>1</th>\n",
              "      <td>25/01/1968</td>\n",
              "      <td>0</td>\n",
              "      <td>NaN</td>\n",
              "      <td>27.6</td>\n",
              "      <td>NaN</td>\n",
              "      <td>0.0</td>\n",
              "      <td>4.3</td>\n",
              "      <td>23.92</td>\n",
              "      <td>93.25</td>\n",
              "      <td>1.333333</td>\n",
              "    </tr>\n",
              "    <tr>\n",
              "      <th>2</th>\n",
              "      <td>25/01/1968</td>\n",
              "      <td>1200</td>\n",
              "      <td>24.2</td>\n",
              "      <td>NaN</td>\n",
              "      <td>20.6</td>\n",
              "      <td>NaN</td>\n",
              "      <td>NaN</td>\n",
              "      <td>NaN</td>\n",
              "      <td>NaN</td>\n",
              "      <td>NaN</td>\n",
              "    </tr>\n",
              "    <tr>\n",
              "      <th>3</th>\n",
              "      <td>26/01/1968</td>\n",
              "      <td>0</td>\n",
              "      <td>NaN</td>\n",
              "      <td>29.5</td>\n",
              "      <td>NaN</td>\n",
              "      <td>2.6</td>\n",
              "      <td>2.5</td>\n",
              "      <td>24.76</td>\n",
              "      <td>93.25</td>\n",
              "      <td>2.333333</td>\n",
              "    </tr>\n",
              "    <tr>\n",
              "      <th>4</th>\n",
              "      <td>26/01/1968</td>\n",
              "      <td>1200</td>\n",
              "      <td>9.6</td>\n",
              "      <td>NaN</td>\n",
              "      <td>22.3</td>\n",
              "      <td>NaN</td>\n",
              "      <td>NaN</td>\n",
              "      <td>NaN</td>\n",
              "      <td>NaN</td>\n",
              "      <td>NaN</td>\n",
              "    </tr>\n",
              "  </tbody>\n",
              "</table>\n",
              "</div>"
            ],
            "text/plain": [
              "         Data  Hora  Prec  TempMax  TempMin  Insolacao  EvapoPiche  \\\n",
              "0  24/01/1968  1200   1.8      NaN     20.5        NaN         NaN   \n",
              "1  25/01/1968     0   NaN     27.6      NaN        0.0         4.3   \n",
              "2  25/01/1968  1200  24.2      NaN     20.6        NaN         NaN   \n",
              "3  26/01/1968     0   NaN     29.5      NaN        2.6         2.5   \n",
              "4  26/01/1968  1200   9.6      NaN     22.3        NaN         NaN   \n",
              "\n",
              "   TempCompMedia  UmidRelatMedia  VelocVento  \n",
              "0            NaN             NaN         NaN  \n",
              "1          23.92           93.25    1.333333  \n",
              "2            NaN             NaN         NaN  \n",
              "3          24.76           93.25    2.333333  \n",
              "4            NaN             NaN         NaN  "
            ]
          },
          "metadata": {
            "tags": []
          },
          "execution_count": 6
        }
      ]
    },
    {
      "cell_type": "code",
      "metadata": {
        "id": "j6wsU7SJNz7t",
        "colab_type": "code",
        "colab": {}
      },
      "source": [
        "#Transformando data em variável do tipo datetime\n",
        "dataSet[\"Data\"] = pd.to_datetime(dataSet[\"Data\"], format = \"%d/%m/%Y\")"
      ],
      "execution_count": 0,
      "outputs": []
    },
    {
      "cell_type": "code",
      "metadata": {
        "id": "4Q7RdptNNz8A",
        "colab_type": "code",
        "outputId": "16fe1917-d105-4801-db2e-e20cef4750d2",
        "colab": {
          "base_uri": "https://localhost:8080/",
          "height": 206
        }
      },
      "source": [
        "#Verificando dados\n",
        "dataSet.head()"
      ],
      "execution_count": 8,
      "outputs": [
        {
          "output_type": "execute_result",
          "data": {
            "text/html": [
              "<div>\n",
              "<style scoped>\n",
              "    .dataframe tbody tr th:only-of-type {\n",
              "        vertical-align: middle;\n",
              "    }\n",
              "\n",
              "    .dataframe tbody tr th {\n",
              "        vertical-align: top;\n",
              "    }\n",
              "\n",
              "    .dataframe thead th {\n",
              "        text-align: right;\n",
              "    }\n",
              "</style>\n",
              "<table border=\"1\" class=\"dataframe\">\n",
              "  <thead>\n",
              "    <tr style=\"text-align: right;\">\n",
              "      <th></th>\n",
              "      <th>Data</th>\n",
              "      <th>Hora</th>\n",
              "      <th>Prec</th>\n",
              "      <th>TempMax</th>\n",
              "      <th>TempMin</th>\n",
              "      <th>Insolacao</th>\n",
              "      <th>EvapoPiche</th>\n",
              "      <th>TempCompMedia</th>\n",
              "      <th>UmidRelatMedia</th>\n",
              "      <th>VelocVento</th>\n",
              "    </tr>\n",
              "  </thead>\n",
              "  <tbody>\n",
              "    <tr>\n",
              "      <th>0</th>\n",
              "      <td>1968-01-24</td>\n",
              "      <td>1200</td>\n",
              "      <td>1.8</td>\n",
              "      <td>NaN</td>\n",
              "      <td>20.5</td>\n",
              "      <td>NaN</td>\n",
              "      <td>NaN</td>\n",
              "      <td>NaN</td>\n",
              "      <td>NaN</td>\n",
              "      <td>NaN</td>\n",
              "    </tr>\n",
              "    <tr>\n",
              "      <th>1</th>\n",
              "      <td>1968-01-25</td>\n",
              "      <td>0</td>\n",
              "      <td>NaN</td>\n",
              "      <td>27.6</td>\n",
              "      <td>NaN</td>\n",
              "      <td>0.0</td>\n",
              "      <td>4.3</td>\n",
              "      <td>23.92</td>\n",
              "      <td>93.25</td>\n",
              "      <td>1.333333</td>\n",
              "    </tr>\n",
              "    <tr>\n",
              "      <th>2</th>\n",
              "      <td>1968-01-25</td>\n",
              "      <td>1200</td>\n",
              "      <td>24.2</td>\n",
              "      <td>NaN</td>\n",
              "      <td>20.6</td>\n",
              "      <td>NaN</td>\n",
              "      <td>NaN</td>\n",
              "      <td>NaN</td>\n",
              "      <td>NaN</td>\n",
              "      <td>NaN</td>\n",
              "    </tr>\n",
              "    <tr>\n",
              "      <th>3</th>\n",
              "      <td>1968-01-26</td>\n",
              "      <td>0</td>\n",
              "      <td>NaN</td>\n",
              "      <td>29.5</td>\n",
              "      <td>NaN</td>\n",
              "      <td>2.6</td>\n",
              "      <td>2.5</td>\n",
              "      <td>24.76</td>\n",
              "      <td>93.25</td>\n",
              "      <td>2.333333</td>\n",
              "    </tr>\n",
              "    <tr>\n",
              "      <th>4</th>\n",
              "      <td>1968-01-26</td>\n",
              "      <td>1200</td>\n",
              "      <td>9.6</td>\n",
              "      <td>NaN</td>\n",
              "      <td>22.3</td>\n",
              "      <td>NaN</td>\n",
              "      <td>NaN</td>\n",
              "      <td>NaN</td>\n",
              "      <td>NaN</td>\n",
              "      <td>NaN</td>\n",
              "    </tr>\n",
              "  </tbody>\n",
              "</table>\n",
              "</div>"
            ],
            "text/plain": [
              "        Data  Hora  Prec  TempMax  TempMin  Insolacao  EvapoPiche  \\\n",
              "0 1968-01-24  1200   1.8      NaN     20.5        NaN         NaN   \n",
              "1 1968-01-25     0   NaN     27.6      NaN        0.0         4.3   \n",
              "2 1968-01-25  1200  24.2      NaN     20.6        NaN         NaN   \n",
              "3 1968-01-26     0   NaN     29.5      NaN        2.6         2.5   \n",
              "4 1968-01-26  1200   9.6      NaN     22.3        NaN         NaN   \n",
              "\n",
              "   TempCompMedia  UmidRelatMedia  VelocVento  \n",
              "0            NaN             NaN         NaN  \n",
              "1          23.92           93.25    1.333333  \n",
              "2            NaN             NaN         NaN  \n",
              "3          24.76           93.25    2.333333  \n",
              "4            NaN             NaN         NaN  "
            ]
          },
          "metadata": {
            "tags": []
          },
          "execution_count": 8
        }
      ]
    },
    {
      "cell_type": "code",
      "metadata": {
        "id": "1GBPk-0mNz8Q",
        "colab_type": "code",
        "outputId": "8fc3e88d-9daa-41af-a67f-581e843ce794",
        "colab": {
          "base_uri": "https://localhost:8080/",
          "height": 208
        }
      },
      "source": [
        "#Verificando o tipo dos dados\n",
        "dataSet.dtypes"
      ],
      "execution_count": 9,
      "outputs": [
        {
          "output_type": "execute_result",
          "data": {
            "text/plain": [
              "Data              datetime64[ns]\n",
              "Hora                      uint16\n",
              "Prec                     float64\n",
              "TempMax                  float64\n",
              "TempMin                  float64\n",
              "Insolacao                float64\n",
              "EvapoPiche               float64\n",
              "TempCompMedia            float64\n",
              "UmidRelatMedia           float64\n",
              "VelocVento               float64\n",
              "dtype: object"
            ]
          },
          "metadata": {
            "tags": []
          },
          "execution_count": 9
        }
      ]
    },
    {
      "cell_type": "code",
      "metadata": {
        "id": "Bljp6tdBNz8e",
        "colab_type": "code",
        "colab": {}
      },
      "source": [
        "#Separando os dados em dois dataframes, um para as 00:00 h e outro para as 12:00 h\n",
        "dataSet00, dataSet12 = dataSet[dataSet[\"Hora\"] == 0], dataSet[dataSet[\"Hora\"] == 1200]"
      ],
      "execution_count": 0,
      "outputs": []
    },
    {
      "cell_type": "code",
      "metadata": {
        "id": "2bh8K6NANz8r",
        "colab_type": "code",
        "outputId": "2b6ae672-72b6-4443-8cd5-e42267e20399",
        "colab": {
          "base_uri": "https://localhost:8080/",
          "height": 206
        }
      },
      "source": [
        "#Verificando dataframe para os dados disponibilizados às 00:00 h\n",
        "dataSet00.head()"
      ],
      "execution_count": 11,
      "outputs": [
        {
          "output_type": "execute_result",
          "data": {
            "text/html": [
              "<div>\n",
              "<style scoped>\n",
              "    .dataframe tbody tr th:only-of-type {\n",
              "        vertical-align: middle;\n",
              "    }\n",
              "\n",
              "    .dataframe tbody tr th {\n",
              "        vertical-align: top;\n",
              "    }\n",
              "\n",
              "    .dataframe thead th {\n",
              "        text-align: right;\n",
              "    }\n",
              "</style>\n",
              "<table border=\"1\" class=\"dataframe\">\n",
              "  <thead>\n",
              "    <tr style=\"text-align: right;\">\n",
              "      <th></th>\n",
              "      <th>Data</th>\n",
              "      <th>Hora</th>\n",
              "      <th>Prec</th>\n",
              "      <th>TempMax</th>\n",
              "      <th>TempMin</th>\n",
              "      <th>Insolacao</th>\n",
              "      <th>EvapoPiche</th>\n",
              "      <th>TempCompMedia</th>\n",
              "      <th>UmidRelatMedia</th>\n",
              "      <th>VelocVento</th>\n",
              "    </tr>\n",
              "  </thead>\n",
              "  <tbody>\n",
              "    <tr>\n",
              "      <th>1</th>\n",
              "      <td>1968-01-25</td>\n",
              "      <td>0</td>\n",
              "      <td>NaN</td>\n",
              "      <td>27.6</td>\n",
              "      <td>NaN</td>\n",
              "      <td>0.0</td>\n",
              "      <td>4.3</td>\n",
              "      <td>23.92</td>\n",
              "      <td>93.25</td>\n",
              "      <td>1.333333</td>\n",
              "    </tr>\n",
              "    <tr>\n",
              "      <th>3</th>\n",
              "      <td>1968-01-26</td>\n",
              "      <td>0</td>\n",
              "      <td>NaN</td>\n",
              "      <td>29.5</td>\n",
              "      <td>NaN</td>\n",
              "      <td>2.6</td>\n",
              "      <td>2.5</td>\n",
              "      <td>24.76</td>\n",
              "      <td>93.25</td>\n",
              "      <td>2.333333</td>\n",
              "    </tr>\n",
              "    <tr>\n",
              "      <th>5</th>\n",
              "      <td>1968-01-27</td>\n",
              "      <td>0</td>\n",
              "      <td>NaN</td>\n",
              "      <td>29.9</td>\n",
              "      <td>NaN</td>\n",
              "      <td>5.3</td>\n",
              "      <td>2.3</td>\n",
              "      <td>25.16</td>\n",
              "      <td>86.00</td>\n",
              "      <td>2.666667</td>\n",
              "    </tr>\n",
              "    <tr>\n",
              "      <th>7</th>\n",
              "      <td>1968-01-28</td>\n",
              "      <td>0</td>\n",
              "      <td>NaN</td>\n",
              "      <td>31.0</td>\n",
              "      <td>NaN</td>\n",
              "      <td>3.5</td>\n",
              "      <td>3.5</td>\n",
              "      <td>25.74</td>\n",
              "      <td>86.00</td>\n",
              "      <td>3.333333</td>\n",
              "    </tr>\n",
              "    <tr>\n",
              "      <th>9</th>\n",
              "      <td>1968-01-29</td>\n",
              "      <td>0</td>\n",
              "      <td>NaN</td>\n",
              "      <td>31.0</td>\n",
              "      <td>NaN</td>\n",
              "      <td>9.4</td>\n",
              "      <td>4.4</td>\n",
              "      <td>26.02</td>\n",
              "      <td>80.00</td>\n",
              "      <td>5.000000</td>\n",
              "    </tr>\n",
              "  </tbody>\n",
              "</table>\n",
              "</div>"
            ],
            "text/plain": [
              "        Data  Hora  Prec  TempMax  TempMin  Insolacao  EvapoPiche  \\\n",
              "1 1968-01-25     0   NaN     27.6      NaN        0.0         4.3   \n",
              "3 1968-01-26     0   NaN     29.5      NaN        2.6         2.5   \n",
              "5 1968-01-27     0   NaN     29.9      NaN        5.3         2.3   \n",
              "7 1968-01-28     0   NaN     31.0      NaN        3.5         3.5   \n",
              "9 1968-01-29     0   NaN     31.0      NaN        9.4         4.4   \n",
              "\n",
              "   TempCompMedia  UmidRelatMedia  VelocVento  \n",
              "1          23.92           93.25    1.333333  \n",
              "3          24.76           93.25    2.333333  \n",
              "5          25.16           86.00    2.666667  \n",
              "7          25.74           86.00    3.333333  \n",
              "9          26.02           80.00    5.000000  "
            ]
          },
          "metadata": {
            "tags": []
          },
          "execution_count": 11
        }
      ]
    },
    {
      "cell_type": "code",
      "metadata": {
        "id": "edBEOHdPNz9B",
        "colab_type": "code",
        "outputId": "f0c88da1-6aea-40aa-d90a-51240e7ab60b",
        "colab": {
          "base_uri": "https://localhost:8080/",
          "height": 206
        }
      },
      "source": [
        "#Verificando dataframe para os dados disponibilizados às 12:00 h\n",
        "dataSet12.head()"
      ],
      "execution_count": 12,
      "outputs": [
        {
          "output_type": "execute_result",
          "data": {
            "text/html": [
              "<div>\n",
              "<style scoped>\n",
              "    .dataframe tbody tr th:only-of-type {\n",
              "        vertical-align: middle;\n",
              "    }\n",
              "\n",
              "    .dataframe tbody tr th {\n",
              "        vertical-align: top;\n",
              "    }\n",
              "\n",
              "    .dataframe thead th {\n",
              "        text-align: right;\n",
              "    }\n",
              "</style>\n",
              "<table border=\"1\" class=\"dataframe\">\n",
              "  <thead>\n",
              "    <tr style=\"text-align: right;\">\n",
              "      <th></th>\n",
              "      <th>Data</th>\n",
              "      <th>Hora</th>\n",
              "      <th>Prec</th>\n",
              "      <th>TempMax</th>\n",
              "      <th>TempMin</th>\n",
              "      <th>Insolacao</th>\n",
              "      <th>EvapoPiche</th>\n",
              "      <th>TempCompMedia</th>\n",
              "      <th>UmidRelatMedia</th>\n",
              "      <th>VelocVento</th>\n",
              "    </tr>\n",
              "  </thead>\n",
              "  <tbody>\n",
              "    <tr>\n",
              "      <th>0</th>\n",
              "      <td>1968-01-24</td>\n",
              "      <td>1200</td>\n",
              "      <td>1.8</td>\n",
              "      <td>NaN</td>\n",
              "      <td>20.5</td>\n",
              "      <td>NaN</td>\n",
              "      <td>NaN</td>\n",
              "      <td>NaN</td>\n",
              "      <td>NaN</td>\n",
              "      <td>NaN</td>\n",
              "    </tr>\n",
              "    <tr>\n",
              "      <th>2</th>\n",
              "      <td>1968-01-25</td>\n",
              "      <td>1200</td>\n",
              "      <td>24.2</td>\n",
              "      <td>NaN</td>\n",
              "      <td>20.6</td>\n",
              "      <td>NaN</td>\n",
              "      <td>NaN</td>\n",
              "      <td>NaN</td>\n",
              "      <td>NaN</td>\n",
              "      <td>NaN</td>\n",
              "    </tr>\n",
              "    <tr>\n",
              "      <th>4</th>\n",
              "      <td>1968-01-26</td>\n",
              "      <td>1200</td>\n",
              "      <td>9.6</td>\n",
              "      <td>NaN</td>\n",
              "      <td>22.3</td>\n",
              "      <td>NaN</td>\n",
              "      <td>NaN</td>\n",
              "      <td>NaN</td>\n",
              "      <td>NaN</td>\n",
              "      <td>NaN</td>\n",
              "    </tr>\n",
              "    <tr>\n",
              "      <th>6</th>\n",
              "      <td>1968-01-27</td>\n",
              "      <td>1200</td>\n",
              "      <td>2.6</td>\n",
              "      <td>NaN</td>\n",
              "      <td>21.3</td>\n",
              "      <td>NaN</td>\n",
              "      <td>NaN</td>\n",
              "      <td>NaN</td>\n",
              "      <td>NaN</td>\n",
              "      <td>NaN</td>\n",
              "    </tr>\n",
              "    <tr>\n",
              "      <th>8</th>\n",
              "      <td>1968-01-28</td>\n",
              "      <td>1200</td>\n",
              "      <td>3.8</td>\n",
              "      <td>NaN</td>\n",
              "      <td>22.3</td>\n",
              "      <td>NaN</td>\n",
              "      <td>NaN</td>\n",
              "      <td>NaN</td>\n",
              "      <td>NaN</td>\n",
              "      <td>NaN</td>\n",
              "    </tr>\n",
              "  </tbody>\n",
              "</table>\n",
              "</div>"
            ],
            "text/plain": [
              "        Data  Hora  Prec  TempMax  TempMin  Insolacao  EvapoPiche  \\\n",
              "0 1968-01-24  1200   1.8      NaN     20.5        NaN         NaN   \n",
              "2 1968-01-25  1200  24.2      NaN     20.6        NaN         NaN   \n",
              "4 1968-01-26  1200   9.6      NaN     22.3        NaN         NaN   \n",
              "6 1968-01-27  1200   2.6      NaN     21.3        NaN         NaN   \n",
              "8 1968-01-28  1200   3.8      NaN     22.3        NaN         NaN   \n",
              "\n",
              "   TempCompMedia  UmidRelatMedia  VelocVento  \n",
              "0            NaN             NaN         NaN  \n",
              "2            NaN             NaN         NaN  \n",
              "4            NaN             NaN         NaN  \n",
              "6            NaN             NaN         NaN  \n",
              "8            NaN             NaN         NaN  "
            ]
          },
          "metadata": {
            "tags": []
          },
          "execution_count": 12
        }
      ]
    },
    {
      "cell_type": "code",
      "metadata": {
        "id": "OUqiIBkLNz9S",
        "colab_type": "code",
        "colab": {}
      },
      "source": [
        "#Transformando a data no índice de cada dataframe\n",
        "dataSet00 = dataSet00.set_index(\"Data\")\n",
        "dataSet12 = dataSet12.set_index(\"Data\")"
      ],
      "execution_count": 0,
      "outputs": []
    },
    {
      "cell_type": "code",
      "metadata": {
        "id": "CSC3Qof0Nz9j",
        "colab_type": "code",
        "colab": {}
      },
      "source": [
        "#Descartando a coluna \"Hora\"\n",
        "dataSet00, dataSet12 = dataSet00.drop(columns = \"Hora\"), dataSet12.drop(columns = \"Hora\")"
      ],
      "execution_count": 0,
      "outputs": []
    },
    {
      "cell_type": "code",
      "metadata": {
        "id": "EOtr9pK5Nz99",
        "colab_type": "code",
        "outputId": "b282750a-2a26-41ad-f51d-25914a11f7f0",
        "colab": {
          "base_uri": "https://localhost:8080/",
          "height": 156
        }
      },
      "source": [
        "#Juntando os dados em um mesmo dataframe (no caso, o dataSet00)\n",
        "for i in dataSet00.index:\n",
        "    try:\n",
        "        dataSet00[\"Prec\"].loc[i] = dataSet12[\"Prec\"].loc[i]\n",
        "        dataSet00[\"TempMin\"].loc[i] = dataSet12[\"TempMin\"].loc[i]\n",
        "    except:\n",
        "        print(\"Data \" + str(i.day) + \"/\" + str(i.month) + \"/\" + str(i.year) + \" Não encontrada!\")"
      ],
      "execution_count": 17,
      "outputs": [
        {
          "output_type": "stream",
          "text": [
            "Data 5/7/1986 Não encontrada!\n",
            "Data 20/7/1986 Não encontrada!\n",
            "Data 3/6/1989 Não encontrada!\n",
            "Data 12/6/1989 Não encontrada!\n",
            "Data 4/12/1992 Não encontrada!\n",
            "Data 26/5/2018 Não encontrada!\n",
            "Data 1/8/2018 Não encontrada!\n",
            "Data 27/10/2018 Não encontrada!\n"
          ],
          "name": "stdout"
        }
      ]
    },
    {
      "cell_type": "code",
      "metadata": {
        "id": "ZkvEVq8aNz-M",
        "colab_type": "code",
        "outputId": "875e658e-dfac-4ae0-8119-493ecc1710a6",
        "colab": {
          "base_uri": "https://localhost:8080/",
          "height": 34
        }
      },
      "source": [
        "#Atribuindo à variável dataSet o DataFrame atualizado\n",
        "dataSet = dataSet00\n",
        "#Verificando dimensões do DataFrame\n",
        "print(dataSet.shape)"
      ],
      "execution_count": 18,
      "outputs": [
        {
          "output_type": "stream",
          "text": [
            "(13478, 8)\n"
          ],
          "name": "stdout"
        }
      ]
    },
    {
      "cell_type": "code",
      "metadata": {
        "id": "jBsDkedfcZ_h",
        "colab_type": "code",
        "colab": {}
      },
      "source": [
        "#Transformando a coluna Data de volta em uma coluna de informações do dataSet\n",
        "dataSet = dataSet.reset_index()"
      ],
      "execution_count": 0,
      "outputs": []
    },
    {
      "cell_type": "code",
      "metadata": {
        "id": "6I2YkiFa-RLM",
        "colab_type": "code",
        "colab": {
          "base_uri": "https://localhost:8080/",
          "height": 206
        },
        "outputId": "1b8819eb-465f-4da7-dd68-99165ad6b1ab"
      },
      "source": [
        "dataSet.head()"
      ],
      "execution_count": 20,
      "outputs": [
        {
          "output_type": "execute_result",
          "data": {
            "text/html": [
              "<div>\n",
              "<style scoped>\n",
              "    .dataframe tbody tr th:only-of-type {\n",
              "        vertical-align: middle;\n",
              "    }\n",
              "\n",
              "    .dataframe tbody tr th {\n",
              "        vertical-align: top;\n",
              "    }\n",
              "\n",
              "    .dataframe thead th {\n",
              "        text-align: right;\n",
              "    }\n",
              "</style>\n",
              "<table border=\"1\" class=\"dataframe\">\n",
              "  <thead>\n",
              "    <tr style=\"text-align: right;\">\n",
              "      <th></th>\n",
              "      <th>Data</th>\n",
              "      <th>Prec</th>\n",
              "      <th>TempMax</th>\n",
              "      <th>TempMin</th>\n",
              "      <th>Insolacao</th>\n",
              "      <th>EvapoPiche</th>\n",
              "      <th>TempCompMedia</th>\n",
              "      <th>UmidRelatMedia</th>\n",
              "      <th>VelocVento</th>\n",
              "    </tr>\n",
              "  </thead>\n",
              "  <tbody>\n",
              "    <tr>\n",
              "      <th>0</th>\n",
              "      <td>1968-01-25</td>\n",
              "      <td>24.2</td>\n",
              "      <td>27.6</td>\n",
              "      <td>20.6</td>\n",
              "      <td>0.0</td>\n",
              "      <td>4.3</td>\n",
              "      <td>23.92</td>\n",
              "      <td>93.25</td>\n",
              "      <td>1.333333</td>\n",
              "    </tr>\n",
              "    <tr>\n",
              "      <th>1</th>\n",
              "      <td>1968-01-26</td>\n",
              "      <td>9.6</td>\n",
              "      <td>29.5</td>\n",
              "      <td>22.3</td>\n",
              "      <td>2.6</td>\n",
              "      <td>2.5</td>\n",
              "      <td>24.76</td>\n",
              "      <td>93.25</td>\n",
              "      <td>2.333333</td>\n",
              "    </tr>\n",
              "    <tr>\n",
              "      <th>2</th>\n",
              "      <td>1968-01-27</td>\n",
              "      <td>2.6</td>\n",
              "      <td>29.9</td>\n",
              "      <td>21.3</td>\n",
              "      <td>5.3</td>\n",
              "      <td>2.3</td>\n",
              "      <td>25.16</td>\n",
              "      <td>86.00</td>\n",
              "      <td>2.666667</td>\n",
              "    </tr>\n",
              "    <tr>\n",
              "      <th>3</th>\n",
              "      <td>1968-01-28</td>\n",
              "      <td>3.8</td>\n",
              "      <td>31.0</td>\n",
              "      <td>22.3</td>\n",
              "      <td>3.5</td>\n",
              "      <td>3.5</td>\n",
              "      <td>25.74</td>\n",
              "      <td>86.00</td>\n",
              "      <td>3.333333</td>\n",
              "    </tr>\n",
              "    <tr>\n",
              "      <th>4</th>\n",
              "      <td>1968-01-29</td>\n",
              "      <td>0.0</td>\n",
              "      <td>31.0</td>\n",
              "      <td>22.1</td>\n",
              "      <td>9.4</td>\n",
              "      <td>4.4</td>\n",
              "      <td>26.02</td>\n",
              "      <td>80.00</td>\n",
              "      <td>5.000000</td>\n",
              "    </tr>\n",
              "  </tbody>\n",
              "</table>\n",
              "</div>"
            ],
            "text/plain": [
              "        Data  Prec  TempMax  TempMin  Insolacao  EvapoPiche  TempCompMedia  \\\n",
              "0 1968-01-25  24.2     27.6     20.6        0.0         4.3          23.92   \n",
              "1 1968-01-26   9.6     29.5     22.3        2.6         2.5          24.76   \n",
              "2 1968-01-27   2.6     29.9     21.3        5.3         2.3          25.16   \n",
              "3 1968-01-28   3.8     31.0     22.3        3.5         3.5          25.74   \n",
              "4 1968-01-29   0.0     31.0     22.1        9.4         4.4          26.02   \n",
              "\n",
              "   UmidRelatMedia  VelocVento  \n",
              "0           93.25    1.333333  \n",
              "1           93.25    2.333333  \n",
              "2           86.00    2.666667  \n",
              "3           86.00    3.333333  \n",
              "4           80.00    5.000000  "
            ]
          },
          "metadata": {
            "tags": []
          },
          "execution_count": 20
        }
      ]
    },
    {
      "cell_type": "code",
      "metadata": {
        "id": "XGeOl_FCqgyK",
        "colab_type": "code",
        "outputId": "300869bf-35c2-4d99-c448-b915897333a8",
        "colab": {
          "base_uri": "https://localhost:8080/",
          "height": 34
        }
      },
      "source": [
        "#Eliminando da base de dados dias com variáveis faltantes\n",
        "dataSet = dataSet.dropna()\n",
        "#Exibindo novas dimensões da base de dados\n",
        "print(dataSet.shape)"
      ],
      "execution_count": 21,
      "outputs": [
        {
          "output_type": "stream",
          "text": [
            "(11887, 9)\n"
          ],
          "name": "stdout"
        }
      ]
    },
    {
      "cell_type": "markdown",
      "metadata": {
        "id": "4YfK3SJ0dQAW",
        "colab_type": "text"
      },
      "source": [
        "# Considerando os seguintes intervalos: \n",
        "- Outono: 20 de março a 21 de junho (fechado em 20/03 e aberto em 21/06)\n",
        "- Inverno: 21 de junho a 22 de setembro (fechado em 21/06 e aberto em 22/09)\n",
        "- Primavera: de 22 de setembro a 21 de dezembro (fechado em 22/09 e aberto em 21/12)\n",
        "- Verão: de 21 de dezembro a 20 de março (fechado em 21/12 e aberto em 20/03)"
      ]
    },
    {
      "cell_type": "code",
      "metadata": {
        "id": "dtSvce66c8zF",
        "colab_type": "code",
        "colab": {}
      },
      "source": [
        "#Função que retorna a estação do ano para uma determinada data, para ser adicionada à base de dados\n",
        "def season(data):\n",
        "    if (data.month > 3 and data.month < 6) or (data.month == 3 and data.day >= 20) or (data.month == 6 and data.day < 21):\n",
        "        return \"Out\"\n",
        "    if (data.month > 6 and data.month < 9) or (data.month == 6 and data.day >= 21) or (data.month == 9 and data.day < 22):\n",
        "        return \"Inv\"\n",
        "    if (data.month > 9 and data.month < 12) or (data.month == 9 and data.day >= 22) or (data.month == 12 and data.day < 21):\n",
        "        return \"Pri\"\n",
        "    else:\n",
        "        return \"Ver\""
      ],
      "execution_count": 0,
      "outputs": []
    },
    {
      "cell_type": "code",
      "metadata": {
        "id": "FTRevEZ9AUSe",
        "colab_type": "code",
        "colab": {}
      },
      "source": [
        "#Identificando a estação do ano na base de dados e guardando a informação referente ao ano de cada dado\n",
        "estacao = []\n",
        "for i in dataSet.index:\n",
        "    estacao.insert(i, season(dataSet.loc[i, \"Data\"]))"
      ],
      "execution_count": 0,
      "outputs": []
    },
    {
      "cell_type": "code",
      "metadata": {
        "id": "Ut_YTEMKd3Jv",
        "colab_type": "code",
        "outputId": "7b6284b1-f3d6-44f8-c716-90a0aa71a5f1",
        "colab": {
          "base_uri": "https://localhost:8080/",
          "height": 86
        }
      },
      "source": [
        "#Contando quantos dados existem para cada estação\n",
        "print(\"Outono: \" + str(estacao.count(\"Out\")))\n",
        "print(\"Inverno: \" + str(estacao.count(\"Inv\")))\n",
        "print(\"Primavera: \" + str(estacao.count(\"Pri\")))\n",
        "print(\"Verão: \" + str(estacao.count(\"Ver\")))"
      ],
      "execution_count": 27,
      "outputs": [
        {
          "output_type": "stream",
          "text": [
            "Outono: 3048\n",
            "Inverno: 2988\n",
            "Primavera: 2946\n",
            "Verão: 2905\n"
          ],
          "name": "stdout"
        }
      ]
    },
    {
      "cell_type": "code",
      "metadata": {
        "id": "UbW5mMKJcojI",
        "colab_type": "code",
        "outputId": "e38786a1-2cd8-4a7e-b931-67c1aebc777f",
        "colab": {
          "base_uri": "https://localhost:8080/",
          "height": 206
        }
      },
      "source": [
        "#Eliminando a coluna \"Data\" e visualizando dados\n",
        "dataSet = dataSet.drop(columns=\"Data\")\n",
        "dataSet.head()"
      ],
      "execution_count": 28,
      "outputs": [
        {
          "output_type": "execute_result",
          "data": {
            "text/html": [
              "<div>\n",
              "<style scoped>\n",
              "    .dataframe tbody tr th:only-of-type {\n",
              "        vertical-align: middle;\n",
              "    }\n",
              "\n",
              "    .dataframe tbody tr th {\n",
              "        vertical-align: top;\n",
              "    }\n",
              "\n",
              "    .dataframe thead th {\n",
              "        text-align: right;\n",
              "    }\n",
              "</style>\n",
              "<table border=\"1\" class=\"dataframe\">\n",
              "  <thead>\n",
              "    <tr style=\"text-align: right;\">\n",
              "      <th></th>\n",
              "      <th>Prec</th>\n",
              "      <th>TempMax</th>\n",
              "      <th>TempMin</th>\n",
              "      <th>Insolacao</th>\n",
              "      <th>EvapoPiche</th>\n",
              "      <th>TempCompMedia</th>\n",
              "      <th>UmidRelatMedia</th>\n",
              "      <th>VelocVento</th>\n",
              "    </tr>\n",
              "  </thead>\n",
              "  <tbody>\n",
              "    <tr>\n",
              "      <th>0</th>\n",
              "      <td>24.2</td>\n",
              "      <td>27.6</td>\n",
              "      <td>20.6</td>\n",
              "      <td>0.0</td>\n",
              "      <td>4.3</td>\n",
              "      <td>23.92</td>\n",
              "      <td>93.25</td>\n",
              "      <td>1.333333</td>\n",
              "    </tr>\n",
              "    <tr>\n",
              "      <th>1</th>\n",
              "      <td>9.6</td>\n",
              "      <td>29.5</td>\n",
              "      <td>22.3</td>\n",
              "      <td>2.6</td>\n",
              "      <td>2.5</td>\n",
              "      <td>24.76</td>\n",
              "      <td>93.25</td>\n",
              "      <td>2.333333</td>\n",
              "    </tr>\n",
              "    <tr>\n",
              "      <th>2</th>\n",
              "      <td>2.6</td>\n",
              "      <td>29.9</td>\n",
              "      <td>21.3</td>\n",
              "      <td>5.3</td>\n",
              "      <td>2.3</td>\n",
              "      <td>25.16</td>\n",
              "      <td>86.00</td>\n",
              "      <td>2.666667</td>\n",
              "    </tr>\n",
              "    <tr>\n",
              "      <th>3</th>\n",
              "      <td>3.8</td>\n",
              "      <td>31.0</td>\n",
              "      <td>22.3</td>\n",
              "      <td>3.5</td>\n",
              "      <td>3.5</td>\n",
              "      <td>25.74</td>\n",
              "      <td>86.00</td>\n",
              "      <td>3.333333</td>\n",
              "    </tr>\n",
              "    <tr>\n",
              "      <th>4</th>\n",
              "      <td>0.0</td>\n",
              "      <td>31.0</td>\n",
              "      <td>22.1</td>\n",
              "      <td>9.4</td>\n",
              "      <td>4.4</td>\n",
              "      <td>26.02</td>\n",
              "      <td>80.00</td>\n",
              "      <td>5.000000</td>\n",
              "    </tr>\n",
              "  </tbody>\n",
              "</table>\n",
              "</div>"
            ],
            "text/plain": [
              "   Prec  TempMax  TempMin  Insolacao  EvapoPiche  TempCompMedia  \\\n",
              "0  24.2     27.6     20.6        0.0         4.3          23.92   \n",
              "1   9.6     29.5     22.3        2.6         2.5          24.76   \n",
              "2   2.6     29.9     21.3        5.3         2.3          25.16   \n",
              "3   3.8     31.0     22.3        3.5         3.5          25.74   \n",
              "4   0.0     31.0     22.1        9.4         4.4          26.02   \n",
              "\n",
              "   UmidRelatMedia  VelocVento  \n",
              "0           93.25    1.333333  \n",
              "1           93.25    2.333333  \n",
              "2           86.00    2.666667  \n",
              "3           86.00    3.333333  \n",
              "4           80.00    5.000000  "
            ]
          },
          "metadata": {
            "tags": []
          },
          "execution_count": 28
        }
      ]
    },
    {
      "cell_type": "code",
      "metadata": {
        "id": "oPXso2gaeUoN",
        "colab_type": "code",
        "colab": {}
      },
      "source": [
        "#Decodificando as estações em uma matriz (one hot encoding - dummy variables)\n",
        "encoder = LabelEncoder()\n",
        "encoder.fit(estacao)\n",
        "encodedSeason = encoder.transform(estacao)\n",
        "dummySeason = np_utils.to_categorical(encodedSeason)"
      ],
      "execution_count": 0,
      "outputs": []
    },
    {
      "cell_type": "code",
      "metadata": {
        "id": "z3c5JCUHqBna",
        "colab_type": "code",
        "outputId": "54d21379-d1d4-45e1-a837-121f87a9f4ff",
        "colab": {
          "base_uri": "https://localhost:8080/",
          "height": 104
        }
      },
      "source": [
        "#Identificar como aconteceu a transformação\n",
        "auxSeason = encoder.transform([\"Inv\",\"Out\",\"Pri\",\"Ver\"])\n",
        "auxDummy = np_utils.to_categorical(auxSeason)\n",
        "print(\"[Inv,Out,Pri,Ver]\")\n",
        "print(auxDummy)"
      ],
      "execution_count": 30,
      "outputs": [
        {
          "output_type": "stream",
          "text": [
            "[Inv,Out,Pri,Ver]\n",
            "[[1. 0. 0. 0.]\n",
            " [0. 1. 0. 0.]\n",
            " [0. 0. 1. 0.]\n",
            " [0. 0. 0. 1.]]\n"
          ],
          "name": "stdout"
        }
      ]
    },
    {
      "cell_type": "code",
      "metadata": {
        "id": "cWsOQWadAsGG",
        "colab_type": "code",
        "colab": {}
      },
      "source": [
        "#Separando a variável que será prevista, precipitação, da base de dados\n",
        "prec = dataSet[\"Prec\"]\n",
        "dataSet = dataSet.drop(columns = \"Prec\")"
      ],
      "execution_count": 0,
      "outputs": []
    },
    {
      "cell_type": "code",
      "metadata": {
        "id": "yEz1zDeWDvBs",
        "colab_type": "code",
        "colab": {}
      },
      "source": [
        "#Adicionando ao dataSet as informações de estação climática\n",
        "dataSet[\"Inv\"] = dummySeason[:,0]\n",
        "dataSet[\"Out\"] = dummySeason[:,1]\n",
        "dataSet[\"Pri\"] = dummySeason[:,2]\n",
        "dataSet[\"Ver\"] = dummySeason[:,3]"
      ],
      "execution_count": 0,
      "outputs": []
    },
    {
      "cell_type": "code",
      "metadata": {
        "id": "Y2eHNMUbET06",
        "colab_type": "code",
        "outputId": "d74f1693-d8fd-4811-9a23-54c90913ec30",
        "colab": {
          "base_uri": "https://localhost:8080/",
          "height": 206
        }
      },
      "source": [
        "#Visualizando dados\n",
        "dataSet.head()"
      ],
      "execution_count": 34,
      "outputs": [
        {
          "output_type": "execute_result",
          "data": {
            "text/html": [
              "<div>\n",
              "<style scoped>\n",
              "    .dataframe tbody tr th:only-of-type {\n",
              "        vertical-align: middle;\n",
              "    }\n",
              "\n",
              "    .dataframe tbody tr th {\n",
              "        vertical-align: top;\n",
              "    }\n",
              "\n",
              "    .dataframe thead th {\n",
              "        text-align: right;\n",
              "    }\n",
              "</style>\n",
              "<table border=\"1\" class=\"dataframe\">\n",
              "  <thead>\n",
              "    <tr style=\"text-align: right;\">\n",
              "      <th></th>\n",
              "      <th>TempMax</th>\n",
              "      <th>TempMin</th>\n",
              "      <th>Insolacao</th>\n",
              "      <th>EvapoPiche</th>\n",
              "      <th>TempCompMedia</th>\n",
              "      <th>UmidRelatMedia</th>\n",
              "      <th>VelocVento</th>\n",
              "      <th>Inv</th>\n",
              "      <th>Out</th>\n",
              "      <th>Pri</th>\n",
              "      <th>Ver</th>\n",
              "    </tr>\n",
              "  </thead>\n",
              "  <tbody>\n",
              "    <tr>\n",
              "      <th>0</th>\n",
              "      <td>27.6</td>\n",
              "      <td>20.6</td>\n",
              "      <td>0.0</td>\n",
              "      <td>4.3</td>\n",
              "      <td>23.92</td>\n",
              "      <td>93.25</td>\n",
              "      <td>1.333333</td>\n",
              "      <td>0.0</td>\n",
              "      <td>0.0</td>\n",
              "      <td>0.0</td>\n",
              "      <td>1.0</td>\n",
              "    </tr>\n",
              "    <tr>\n",
              "      <th>1</th>\n",
              "      <td>29.5</td>\n",
              "      <td>22.3</td>\n",
              "      <td>2.6</td>\n",
              "      <td>2.5</td>\n",
              "      <td>24.76</td>\n",
              "      <td>93.25</td>\n",
              "      <td>2.333333</td>\n",
              "      <td>0.0</td>\n",
              "      <td>0.0</td>\n",
              "      <td>0.0</td>\n",
              "      <td>1.0</td>\n",
              "    </tr>\n",
              "    <tr>\n",
              "      <th>2</th>\n",
              "      <td>29.9</td>\n",
              "      <td>21.3</td>\n",
              "      <td>5.3</td>\n",
              "      <td>2.3</td>\n",
              "      <td>25.16</td>\n",
              "      <td>86.00</td>\n",
              "      <td>2.666667</td>\n",
              "      <td>0.0</td>\n",
              "      <td>0.0</td>\n",
              "      <td>0.0</td>\n",
              "      <td>1.0</td>\n",
              "    </tr>\n",
              "    <tr>\n",
              "      <th>3</th>\n",
              "      <td>31.0</td>\n",
              "      <td>22.3</td>\n",
              "      <td>3.5</td>\n",
              "      <td>3.5</td>\n",
              "      <td>25.74</td>\n",
              "      <td>86.00</td>\n",
              "      <td>3.333333</td>\n",
              "      <td>0.0</td>\n",
              "      <td>0.0</td>\n",
              "      <td>0.0</td>\n",
              "      <td>1.0</td>\n",
              "    </tr>\n",
              "    <tr>\n",
              "      <th>4</th>\n",
              "      <td>31.0</td>\n",
              "      <td>22.1</td>\n",
              "      <td>9.4</td>\n",
              "      <td>4.4</td>\n",
              "      <td>26.02</td>\n",
              "      <td>80.00</td>\n",
              "      <td>5.000000</td>\n",
              "      <td>0.0</td>\n",
              "      <td>0.0</td>\n",
              "      <td>0.0</td>\n",
              "      <td>1.0</td>\n",
              "    </tr>\n",
              "  </tbody>\n",
              "</table>\n",
              "</div>"
            ],
            "text/plain": [
              "   TempMax  TempMin  Insolacao  EvapoPiche  TempCompMedia  UmidRelatMedia  \\\n",
              "0     27.6     20.6        0.0         4.3          23.92           93.25   \n",
              "1     29.5     22.3        2.6         2.5          24.76           93.25   \n",
              "2     29.9     21.3        5.3         2.3          25.16           86.00   \n",
              "3     31.0     22.3        3.5         3.5          25.74           86.00   \n",
              "4     31.0     22.1        9.4         4.4          26.02           80.00   \n",
              "\n",
              "   VelocVento  Inv  Out  Pri  Ver  \n",
              "0    1.333333  0.0  0.0  0.0  1.0  \n",
              "1    2.333333  0.0  0.0  0.0  1.0  \n",
              "2    2.666667  0.0  0.0  0.0  1.0  \n",
              "3    3.333333  0.0  0.0  0.0  1.0  \n",
              "4    5.000000  0.0  0.0  0.0  1.0  "
            ]
          },
          "metadata": {
            "tags": []
          },
          "execution_count": 34
        }
      ]
    },
    {
      "cell_type": "code",
      "metadata": {
        "id": "e6AWMiNF2XgU",
        "colab_type": "code",
        "colab": {}
      },
      "source": [
        "#Separando conjunto de treino e teste\n",
        "X_train, X_test, Y_train, Y_test = train_test_split(dataSet, prec, test_size = 0.1, random_state = 9)"
      ],
      "execution_count": 0,
      "outputs": []
    },
    {
      "cell_type": "code",
      "metadata": {
        "id": "q9vTWZ9PCH4H",
        "colab_type": "code",
        "outputId": "488f628a-7197-4e7c-d8f8-7c678798d476",
        "colab": {
          "base_uri": "https://localhost:8080/",
          "height": 72
        }
      },
      "source": [
        "#Efetuando uma transformação robusta, trabalhando com os dados entre os percentis 10 e 90\n",
        "mms = MinMaxScaler(feature_range=(-1, 1))\n",
        "X_train = mms.fit_transform(X_train)\n",
        "X_test = mms.transform(X_test)"
      ],
      "execution_count": 41,
      "outputs": [
        {
          "output_type": "stream",
          "text": [
            "/usr/local/lib/python3.6/dist-packages/sklearn/preprocessing/data.py:334: DataConversionWarning: Data with input dtype float32, float64 were all converted to float64 by MinMaxScaler.\n",
            "  return self.partial_fit(X, y)\n"
          ],
          "name": "stderr"
        }
      ]
    },
    {
      "cell_type": "code",
      "metadata": {
        "id": "GgM6EySIB4-I",
        "colab_type": "code",
        "colab": {}
      },
      "source": [
        "#Definindo uma função para criar a MLP\n",
        "def trainMLP(optimizer='adam', init='random_uniform', units = 11, camadas = 2):    \n",
        "  #Criando o modelo\n",
        "  mlp = Sequential()\n",
        "  #Adicionando a camada de entrada\n",
        "  mlp.add(Dense(activation = 'tanh', input_dim = 11, units = units, kernel_initializer = init, bias_initializer='zeros'))\n",
        "  #Adicionando as camadas escondidas\n",
        "  for i in range(camadas):\n",
        "    mlp.add(Dense(activation = 'tanh', units = units, kernel_initializer = init, bias_initializer='zeros'))\n",
        "  #Adicionando a camada de saída\n",
        "  mlp.add(Dense(units = 1, kernel_initializer=init, bias_initializer='zeros'))    \n",
        "  # Compilando o modelo\n",
        "  mlp.compile(loss='mean_squared_error', optimizer = optimizer, metrics= ['mae', 'msle'])\n",
        "  return mlp"
      ],
      "execution_count": 0,
      "outputs": []
    },
    {
      "cell_type": "code",
      "metadata": {
        "colab_type": "code",
        "id": "eqVxoZwYVAaJ",
        "colab": {}
      },
      "source": [
        "#Modelo de classificação do Keras\n",
        "estimator = KerasRegressor(build_fn=trainMLP, epochs = 200, verbose = 2)"
      ],
      "execution_count": 0,
      "outputs": []
    },
    {
      "cell_type": "code",
      "metadata": {
        "colab_type": "code",
        "id": "wGupNX3XU_kO",
        "colab": {}
      },
      "source": [
        "#Criando o objeto para Cross Validation\n",
        "kfold = KFold(n_splits=5, shuffle=True, random_state=7)"
      ],
      "execution_count": 0,
      "outputs": []
    },
    {
      "cell_type": "code",
      "metadata": {
        "id": "MQlUXb3SE7O-",
        "colab_type": "code",
        "colab": {}
      },
      "source": [
        "#Parâmetros para o Grid Search\n",
        "parameters = {'batch_size': [20],             \n",
        "              'camadas': [2],\n",
        "              'units': [11]}"
      ],
      "execution_count": 0,
      "outputs": []
    },
    {
      "cell_type": "code",
      "metadata": {
        "id": "uyU0TuUjOacd",
        "colab_type": "code",
        "colab": {}
      },
      "source": [
        "#Modelagem para buscar os melhores parâmetros\n",
        "grid_search = GridSearchCV(estimator = estimator, param_grid = parameters, n_jobs = -1,\n",
        "                     scoring = \"neg_mean_absolute_error\", verbose=1000, cv = kfold, return_train_score = True)"
      ],
      "execution_count": 0,
      "outputs": []
    },
    {
      "cell_type": "code",
      "metadata": {
        "id": "M0yrJYODR7kb",
        "colab_type": "code",
        "outputId": "6476eca6-d015-43ee-a194-85cef9abf68d",
        "colab": {
          "base_uri": "https://localhost:8080/",
          "height": 7730
        }
      },
      "source": [
        "#Busca pelos melhores parâmetros\n",
        "grid_result = grid_search.fit(X_train, Y_train)"
      ],
      "execution_count": 50,
      "outputs": [
        {
          "output_type": "stream",
          "text": [
            "Fitting 5 folds for each of 1 candidates, totalling 5 fits\n",
            "[Parallel(n_jobs=-1)]: Using backend LokyBackend with 2 concurrent workers.\n",
            "Pickling array (shape=(10698, 11), dtype=float64).\n",
            "Pickling array (shape=(10698,), dtype=int64).\n",
            "Pickling array (shape=(10698,), dtype=float64).\n",
            "Pickling array (shape=(10698,), dtype=int64).\n",
            "Pickling array (shape=(8558,), dtype=int64).\n",
            "Pickling array (shape=(2140,), dtype=int64).\n",
            "Pickling array (shape=(10698, 11), dtype=float64).\n",
            "Pickling array (shape=(10698,), dtype=int64).\n",
            "Pickling array (shape=(10698,), dtype=float64).\n",
            "Pickling array (shape=(10698,), dtype=int64).\n",
            "Pickling array (shape=(8558,), dtype=int64).\n",
            "Pickling array (shape=(2140,), dtype=int64).\n",
            "Pickling array (shape=(10698, 11), dtype=float64).\n",
            "Pickling array (shape=(10698,), dtype=int64).\n",
            "Pickling array (shape=(10698,), dtype=float64).\n",
            "Pickling array (shape=(10698,), dtype=int64).\n",
            "Pickling array (shape=(8558,), dtype=int64).\n",
            "Pickling array (shape=(2140,), dtype=int64).\n",
            "[Parallel(n_jobs=-1)]: Done   1 tasks      | elapsed:  2.2min\n",
            "Pickling array (shape=(10698, 11), dtype=float64).\n",
            "Pickling array (shape=(10698,), dtype=int64).\n",
            "Pickling array (shape=(10698,), dtype=float64).\n",
            "Pickling array (shape=(10698,), dtype=int64).\n",
            "Pickling array (shape=(8559,), dtype=int64).\n",
            "Pickling array (shape=(2139,), dtype=int64).\n",
            "[Parallel(n_jobs=-1)]: Done   2 tasks      | elapsed:  2.2min\n",
            "Pickling array (shape=(10698, 11), dtype=float64).\n",
            "Pickling array (shape=(10698,), dtype=int64).\n",
            "Pickling array (shape=(10698,), dtype=float64).\n",
            "Pickling array (shape=(10698,), dtype=int64).\n",
            "Pickling array (shape=(8559,), dtype=int64).\n",
            "Pickling array (shape=(2139,), dtype=int64).\n",
            "[Parallel(n_jobs=-1)]: Done   3 out of   5 | elapsed:  4.3min remaining:  2.9min\n",
            "[Parallel(n_jobs=-1)]: Done   5 out of   5 | elapsed:  5.7min remaining:    0.0s\n",
            "[Parallel(n_jobs=-1)]: Done   5 out of   5 | elapsed:  5.7min finished\n",
            "WARNING:tensorflow:From /usr/local/lib/python3.6/dist-packages/tensorflow/python/framework/op_def_library.py:263: colocate_with (from tensorflow.python.framework.ops) is deprecated and will be removed in a future version.\n",
            "Instructions for updating:\n",
            "Colocations handled automatically by placer.\n",
            "WARNING:tensorflow:From /usr/local/lib/python3.6/dist-packages/tensorflow/python/ops/math_ops.py:3066: to_int32 (from tensorflow.python.ops.math_ops) is deprecated and will be removed in a future version.\n",
            "Instructions for updating:\n",
            "Use tf.cast instead.\n",
            "Epoch 1/200\n",
            " - 1s - loss: 165.4374 - mean_absolute_error: 4.8572 - mean_squared_logarithmic_error: 1.2487\n",
            "Epoch 2/200\n",
            " - 1s - loss: 148.4389 - mean_absolute_error: 4.9783 - mean_squared_logarithmic_error: 1.1122\n",
            "Epoch 3/200\n",
            " - 1s - loss: 141.0229 - mean_absolute_error: 5.0538 - mean_squared_logarithmic_error: 1.1149\n",
            "Epoch 4/200\n",
            " - 1s - loss: 135.8097 - mean_absolute_error: 5.0394 - mean_squared_logarithmic_error: 1.0941\n",
            "Epoch 5/200\n",
            " - 1s - loss: 131.4043 - mean_absolute_error: 4.9836 - mean_squared_logarithmic_error: 1.0735\n",
            "Epoch 6/200\n",
            " - 1s - loss: 127.9227 - mean_absolute_error: 4.8912 - mean_squared_logarithmic_error: 1.0459\n",
            "Epoch 7/200\n",
            " - 1s - loss: 125.2508 - mean_absolute_error: 4.8450 - mean_squared_logarithmic_error: 1.0346\n",
            "Epoch 8/200\n",
            " - 1s - loss: 123.0031 - mean_absolute_error: 4.8103 - mean_squared_logarithmic_error: 1.0231\n",
            "Epoch 9/200\n",
            " - 1s - loss: 120.9945 - mean_absolute_error: 4.7322 - mean_squared_logarithmic_error: 1.0032\n",
            "Epoch 10/200\n",
            " - 1s - loss: 118.6784 - mean_absolute_error: 4.6397 - mean_squared_logarithmic_error: 0.9724\n",
            "Epoch 11/200\n",
            " - 1s - loss: 116.7479 - mean_absolute_error: 4.5361 - mean_squared_logarithmic_error: 0.9441\n",
            "Epoch 12/200\n",
            " - 1s - loss: 114.8931 - mean_absolute_error: 4.4333 - mean_squared_logarithmic_error: 0.9148\n",
            "Epoch 13/200\n",
            " - 1s - loss: 113.3349 - mean_absolute_error: 4.3394 - mean_squared_logarithmic_error: 0.8840\n",
            "Epoch 14/200\n",
            " - 1s - loss: 112.3128 - mean_absolute_error: 4.3037 - mean_squared_logarithmic_error: 0.8771\n",
            "Epoch 15/200\n",
            " - 1s - loss: 111.5079 - mean_absolute_error: 4.2621 - mean_squared_logarithmic_error: 0.8586\n",
            "Epoch 16/200\n",
            " - 1s - loss: 110.7348 - mean_absolute_error: 4.2120 - mean_squared_logarithmic_error: 0.8365\n",
            "Epoch 17/200\n",
            " - 1s - loss: 110.1291 - mean_absolute_error: 4.2374 - mean_squared_logarithmic_error: 0.8510\n",
            "Epoch 18/200\n",
            " - 1s - loss: 109.8725 - mean_absolute_error: 4.2235 - mean_squared_logarithmic_error: 0.8413\n",
            "Epoch 19/200\n",
            " - 1s - loss: 108.9527 - mean_absolute_error: 4.2070 - mean_squared_logarithmic_error: 0.8388\n",
            "Epoch 20/200\n",
            " - 1s - loss: 108.7392 - mean_absolute_error: 4.2270 - mean_squared_logarithmic_error: 0.8422\n",
            "Epoch 21/200\n",
            " - 1s - loss: 108.6375 - mean_absolute_error: 4.2413 - mean_squared_logarithmic_error: 0.8507\n",
            "Epoch 22/200\n",
            " - 1s - loss: 108.7165 - mean_absolute_error: 4.2338 - mean_squared_logarithmic_error: 0.8409\n",
            "Epoch 23/200\n",
            " - 1s - loss: 107.9952 - mean_absolute_error: 4.2122 - mean_squared_logarithmic_error: 0.8413\n",
            "Epoch 24/200\n",
            " - 1s - loss: 107.8953 - mean_absolute_error: 4.2131 - mean_squared_logarithmic_error: 0.8353\n",
            "Epoch 25/200\n",
            " - 1s - loss: 107.1880 - mean_absolute_error: 4.1896 - mean_squared_logarithmic_error: 0.8275\n",
            "Epoch 26/200\n",
            " - 1s - loss: 107.4171 - mean_absolute_error: 4.2134 - mean_squared_logarithmic_error: 0.8411\n",
            "Epoch 27/200\n",
            " - 1s - loss: 107.3421 - mean_absolute_error: 4.1928 - mean_squared_logarithmic_error: 0.8309\n",
            "Epoch 28/200\n",
            " - 1s - loss: 107.3759 - mean_absolute_error: 4.2079 - mean_squared_logarithmic_error: 0.8358\n",
            "Epoch 29/200\n",
            " - 1s - loss: 107.1454 - mean_absolute_error: 4.2017 - mean_squared_logarithmic_error: 0.8363\n",
            "Epoch 30/200\n",
            " - 1s - loss: 106.9939 - mean_absolute_error: 4.1911 - mean_squared_logarithmic_error: 0.8318\n",
            "Epoch 31/200\n",
            " - 1s - loss: 107.2174 - mean_absolute_error: 4.1944 - mean_squared_logarithmic_error: 0.8303\n",
            "Epoch 32/200\n",
            " - 1s - loss: 106.3228 - mean_absolute_error: 4.1716 - mean_squared_logarithmic_error: 0.8265\n",
            "Epoch 33/200\n",
            " - 1s - loss: 106.9220 - mean_absolute_error: 4.1827 - mean_squared_logarithmic_error: 0.8296\n",
            "Epoch 34/200\n",
            " - 1s - loss: 106.5487 - mean_absolute_error: 4.1675 - mean_squared_logarithmic_error: 0.8207\n",
            "Epoch 35/200\n",
            " - 1s - loss: 105.9945 - mean_absolute_error: 4.1576 - mean_squared_logarithmic_error: 0.8183\n",
            "Epoch 36/200\n",
            " - 1s - loss: 106.4886 - mean_absolute_error: 4.1817 - mean_squared_logarithmic_error: 0.8350\n",
            "Epoch 37/200\n",
            " - 1s - loss: 105.9039 - mean_absolute_error: 4.1368 - mean_squared_logarithmic_error: 0.8062\n",
            "Epoch 38/200\n",
            " - 1s - loss: 105.9407 - mean_absolute_error: 4.1492 - mean_squared_logarithmic_error: 0.8161\n",
            "Epoch 39/200\n",
            " - 1s - loss: 105.9800 - mean_absolute_error: 4.1697 - mean_squared_logarithmic_error: 0.8267\n",
            "Epoch 40/200\n",
            " - 1s - loss: 106.1150 - mean_absolute_error: 4.1900 - mean_squared_logarithmic_error: 0.8386\n",
            "Epoch 41/200\n",
            " - 1s - loss: 105.8667 - mean_absolute_error: 4.1626 - mean_squared_logarithmic_error: 0.8271\n",
            "Epoch 42/200\n",
            " - 1s - loss: 105.9005 - mean_absolute_error: 4.1565 - mean_squared_logarithmic_error: 0.8145\n",
            "Epoch 43/200\n",
            " - 1s - loss: 106.0332 - mean_absolute_error: 4.1556 - mean_squared_logarithmic_error: 0.8154\n",
            "Epoch 44/200\n",
            " - 1s - loss: 105.9315 - mean_absolute_error: 4.1498 - mean_squared_logarithmic_error: 0.8070\n",
            "Epoch 45/200\n",
            " - 1s - loss: 105.6730 - mean_absolute_error: 4.1438 - mean_squared_logarithmic_error: 0.8174\n",
            "Epoch 46/200\n",
            " - 1s - loss: 105.2171 - mean_absolute_error: 4.1344 - mean_squared_logarithmic_error: 0.8112\n",
            "Epoch 47/200\n",
            " - 1s - loss: 105.5088 - mean_absolute_error: 4.1674 - mean_squared_logarithmic_error: 0.8103\n",
            "Epoch 48/200\n",
            " - 1s - loss: 105.5137 - mean_absolute_error: 4.1473 - mean_squared_logarithmic_error: 0.8133\n",
            "Epoch 49/200\n",
            " - 1s - loss: 105.2351 - mean_absolute_error: 4.1708 - mean_squared_logarithmic_error: 0.8204\n",
            "Epoch 50/200\n",
            " - 1s - loss: 105.2344 - mean_absolute_error: 4.1454 - mean_squared_logarithmic_error: 0.8142\n",
            "Epoch 51/200\n",
            " - 1s - loss: 105.1185 - mean_absolute_error: 4.1483 - mean_squared_logarithmic_error: 0.8163\n",
            "Epoch 52/200\n",
            " - 1s - loss: 104.9977 - mean_absolute_error: 4.1378 - mean_squared_logarithmic_error: 0.8065\n",
            "Epoch 53/200\n",
            " - 1s - loss: 104.8934 - mean_absolute_error: 4.1408 - mean_squared_logarithmic_error: 0.8129\n",
            "Epoch 54/200\n",
            " - 1s - loss: 105.0240 - mean_absolute_error: 4.1486 - mean_squared_logarithmic_error: 0.8189\n",
            "Epoch 55/200\n",
            " - 1s - loss: 105.1531 - mean_absolute_error: 4.1564 - mean_squared_logarithmic_error: 0.8172\n",
            "Epoch 56/200\n",
            " - 1s - loss: 105.0388 - mean_absolute_error: 4.1487 - mean_squared_logarithmic_error: 0.8137\n",
            "Epoch 57/200\n",
            " - 1s - loss: 105.1461 - mean_absolute_error: 4.1401 - mean_squared_logarithmic_error: 0.8099\n",
            "Epoch 58/200\n",
            " - 1s - loss: 104.5333 - mean_absolute_error: 4.1394 - mean_squared_logarithmic_error: 0.8103\n",
            "Epoch 59/200\n",
            " - 1s - loss: 104.9484 - mean_absolute_error: 4.1289 - mean_squared_logarithmic_error: 0.8085\n",
            "Epoch 60/200\n",
            " - 1s - loss: 104.4690 - mean_absolute_error: 4.1221 - mean_squared_logarithmic_error: 0.8004\n",
            "Epoch 61/200\n",
            " - 1s - loss: 104.7773 - mean_absolute_error: 4.1382 - mean_squared_logarithmic_error: 0.8122\n",
            "Epoch 62/200\n",
            " - 1s - loss: 104.6103 - mean_absolute_error: 4.1367 - mean_squared_logarithmic_error: 0.8092\n",
            "Epoch 63/200\n",
            " - 1s - loss: 104.1680 - mean_absolute_error: 4.1328 - mean_squared_logarithmic_error: 0.8087\n",
            "Epoch 64/200\n",
            " - 1s - loss: 104.3562 - mean_absolute_error: 4.1449 - mean_squared_logarithmic_error: 0.8157\n",
            "Epoch 65/200\n",
            " - 1s - loss: 104.4248 - mean_absolute_error: 4.1367 - mean_squared_logarithmic_error: 0.8119\n",
            "Epoch 66/200\n",
            " - 1s - loss: 104.1246 - mean_absolute_error: 4.1260 - mean_squared_logarithmic_error: 0.8080\n",
            "Epoch 67/200\n",
            " - 1s - loss: 103.5513 - mean_absolute_error: 4.1219 - mean_squared_logarithmic_error: 0.8033\n",
            "Epoch 68/200\n",
            " - 1s - loss: 104.1831 - mean_absolute_error: 4.1644 - mean_squared_logarithmic_error: 0.8212\n",
            "Epoch 69/200\n",
            " - 1s - loss: 103.9500 - mean_absolute_error: 4.1324 - mean_squared_logarithmic_error: 0.8064\n",
            "Epoch 70/200\n",
            " - 1s - loss: 104.0973 - mean_absolute_error: 4.1470 - mean_squared_logarithmic_error: 0.8071\n",
            "Epoch 71/200\n",
            " - 1s - loss: 104.1280 - mean_absolute_error: 4.1344 - mean_squared_logarithmic_error: 0.8090\n",
            "Epoch 72/200\n",
            " - 1s - loss: 103.7349 - mean_absolute_error: 4.1176 - mean_squared_logarithmic_error: 0.8003\n",
            "Epoch 73/200\n",
            " - 1s - loss: 103.8672 - mean_absolute_error: 4.1432 - mean_squared_logarithmic_error: 0.8147\n",
            "Epoch 74/200\n",
            " - 1s - loss: 103.8950 - mean_absolute_error: 4.1329 - mean_squared_logarithmic_error: 0.8124\n",
            "Epoch 75/200\n",
            " - 1s - loss: 103.5611 - mean_absolute_error: 4.1078 - mean_squared_logarithmic_error: 0.8005\n",
            "Epoch 76/200\n",
            " - 1s - loss: 103.5330 - mean_absolute_error: 4.1180 - mean_squared_logarithmic_error: 0.8048\n",
            "Epoch 77/200\n",
            " - 1s - loss: 104.1039 - mean_absolute_error: 4.1265 - mean_squared_logarithmic_error: 0.8007\n",
            "Epoch 78/200\n",
            " - 1s - loss: 103.6570 - mean_absolute_error: 4.1374 - mean_squared_logarithmic_error: 0.8124\n",
            "Epoch 79/200\n",
            " - 1s - loss: 103.5142 - mean_absolute_error: 4.1387 - mean_squared_logarithmic_error: 0.8082\n",
            "Epoch 80/200\n",
            " - 1s - loss: 103.3259 - mean_absolute_error: 4.1157 - mean_squared_logarithmic_error: 0.8000\n",
            "Epoch 81/200\n",
            " - 1s - loss: 103.7211 - mean_absolute_error: 4.1326 - mean_squared_logarithmic_error: 0.8044\n",
            "Epoch 82/200\n",
            " - 1s - loss: 102.8150 - mean_absolute_error: 4.1417 - mean_squared_logarithmic_error: 0.8111\n",
            "Epoch 83/200\n",
            " - 1s - loss: 103.3918 - mean_absolute_error: 4.1311 - mean_squared_logarithmic_error: 0.8082\n",
            "Epoch 84/200\n",
            " - 1s - loss: 103.5766 - mean_absolute_error: 4.1365 - mean_squared_logarithmic_error: 0.8057\n",
            "Epoch 85/200\n",
            " - 1s - loss: 103.2755 - mean_absolute_error: 4.1197 - mean_squared_logarithmic_error: 0.8052\n",
            "Epoch 86/200\n",
            " - 1s - loss: 103.6727 - mean_absolute_error: 4.1199 - mean_squared_logarithmic_error: 0.7984\n",
            "Epoch 87/200\n",
            " - 1s - loss: 103.7897 - mean_absolute_error: 4.1183 - mean_squared_logarithmic_error: 0.8075\n",
            "Epoch 88/200\n",
            " - 1s - loss: 102.8994 - mean_absolute_error: 4.1182 - mean_squared_logarithmic_error: 0.7972\n",
            "Epoch 89/200\n",
            " - 1s - loss: 103.4633 - mean_absolute_error: 4.1337 - mean_squared_logarithmic_error: 0.8045\n",
            "Epoch 90/200\n",
            " - 1s - loss: 102.9589 - mean_absolute_error: 4.1191 - mean_squared_logarithmic_error: 0.8023\n",
            "Epoch 91/200\n",
            " - 1s - loss: 103.3472 - mean_absolute_error: 4.1161 - mean_squared_logarithmic_error: 0.8021\n",
            "Epoch 92/200\n",
            " - 1s - loss: 102.8529 - mean_absolute_error: 4.1165 - mean_squared_logarithmic_error: 0.7997\n",
            "Epoch 93/200\n",
            " - 1s - loss: 102.6252 - mean_absolute_error: 4.1065 - mean_squared_logarithmic_error: 0.7926\n",
            "Epoch 94/200\n",
            " - 1s - loss: 103.2674 - mean_absolute_error: 4.1353 - mean_squared_logarithmic_error: 0.8068\n",
            "Epoch 95/200\n",
            " - 1s - loss: 103.2311 - mean_absolute_error: 4.1149 - mean_squared_logarithmic_error: 0.7991\n",
            "Epoch 96/200\n",
            " - 1s - loss: 102.5893 - mean_absolute_error: 4.1068 - mean_squared_logarithmic_error: 0.7984\n",
            "Epoch 97/200\n",
            " - 1s - loss: 102.8004 - mean_absolute_error: 4.1023 - mean_squared_logarithmic_error: 0.7949\n",
            "Epoch 98/200\n",
            " - 1s - loss: 103.1094 - mean_absolute_error: 4.0994 - mean_squared_logarithmic_error: 0.7879\n",
            "Epoch 99/200\n",
            " - 1s - loss: 102.5191 - mean_absolute_error: 4.0926 - mean_squared_logarithmic_error: 0.7847\n",
            "Epoch 100/200\n",
            " - 1s - loss: 102.5324 - mean_absolute_error: 4.1220 - mean_squared_logarithmic_error: 0.8005\n",
            "Epoch 101/200\n",
            " - 1s - loss: 102.3465 - mean_absolute_error: 4.0988 - mean_squared_logarithmic_error: 0.7900\n",
            "Epoch 102/200\n",
            " - 1s - loss: 101.8092 - mean_absolute_error: 4.1025 - mean_squared_logarithmic_error: 0.8002\n",
            "Epoch 103/200\n",
            " - 1s - loss: 102.4808 - mean_absolute_error: 4.1051 - mean_squared_logarithmic_error: 0.7934\n",
            "Epoch 104/200\n",
            " - 1s - loss: 102.7514 - mean_absolute_error: 4.1094 - mean_squared_logarithmic_error: 0.7961\n",
            "Epoch 105/200\n",
            " - 1s - loss: 102.2040 - mean_absolute_error: 4.1120 - mean_squared_logarithmic_error: 0.7928\n",
            "Epoch 106/200\n",
            " - 1s - loss: 102.4551 - mean_absolute_error: 4.1093 - mean_squared_logarithmic_error: 0.7940\n",
            "Epoch 107/200\n",
            " - 1s - loss: 102.5385 - mean_absolute_error: 4.1108 - mean_squared_logarithmic_error: 0.7897\n",
            "Epoch 108/200\n",
            " - 1s - loss: 101.8829 - mean_absolute_error: 4.1046 - mean_squared_logarithmic_error: 0.7975\n",
            "Epoch 109/200\n",
            " - 1s - loss: 101.6830 - mean_absolute_error: 4.0854 - mean_squared_logarithmic_error: 0.7891\n",
            "Epoch 110/200\n",
            " - 1s - loss: 102.3081 - mean_absolute_error: 4.1008 - mean_squared_logarithmic_error: 0.7861\n",
            "Epoch 111/200\n",
            " - 1s - loss: 102.0099 - mean_absolute_error: 4.0947 - mean_squared_logarithmic_error: 0.7914\n",
            "Epoch 112/200\n",
            " - 1s - loss: 102.7808 - mean_absolute_error: 4.1259 - mean_squared_logarithmic_error: 0.8014\n",
            "Epoch 113/200\n",
            " - 1s - loss: 101.7189 - mean_absolute_error: 4.0840 - mean_squared_logarithmic_error: 0.7856\n",
            "Epoch 114/200\n",
            " - 1s - loss: 101.6035 - mean_absolute_error: 4.1268 - mean_squared_logarithmic_error: 0.8033\n",
            "Epoch 115/200\n",
            " - 1s - loss: 101.7840 - mean_absolute_error: 4.0821 - mean_squared_logarithmic_error: 0.7880\n",
            "Epoch 116/200\n",
            " - 1s - loss: 101.8979 - mean_absolute_error: 4.0799 - mean_squared_logarithmic_error: 0.7821\n",
            "Epoch 117/200\n",
            " - 1s - loss: 102.1820 - mean_absolute_error: 4.1073 - mean_squared_logarithmic_error: 0.7948\n",
            "Epoch 118/200\n",
            " - 1s - loss: 101.6536 - mean_absolute_error: 4.0801 - mean_squared_logarithmic_error: 0.7813\n",
            "Epoch 119/200\n",
            " - 1s - loss: 101.6994 - mean_absolute_error: 4.0821 - mean_squared_logarithmic_error: 0.7850\n",
            "Epoch 120/200\n",
            " - 1s - loss: 101.6072 - mean_absolute_error: 4.0749 - mean_squared_logarithmic_error: 0.7784\n",
            "Epoch 121/200\n",
            " - 0s - loss: 101.7627 - mean_absolute_error: 4.1041 - mean_squared_logarithmic_error: 0.7892\n",
            "Epoch 122/200\n",
            " - 1s - loss: 102.1776 - mean_absolute_error: 4.1187 - mean_squared_logarithmic_error: 0.7908\n",
            "Epoch 123/200\n",
            " - 1s - loss: 101.2657 - mean_absolute_error: 4.0874 - mean_squared_logarithmic_error: 0.7855\n",
            "Epoch 124/200\n",
            " - 1s - loss: 101.2646 - mean_absolute_error: 4.0884 - mean_squared_logarithmic_error: 0.7849\n",
            "Epoch 125/200\n",
            " - 1s - loss: 101.5683 - mean_absolute_error: 4.0920 - mean_squared_logarithmic_error: 0.7861\n",
            "Epoch 126/200\n",
            " - 1s - loss: 101.2896 - mean_absolute_error: 4.1036 - mean_squared_logarithmic_error: 0.7927\n",
            "Epoch 127/200\n",
            " - 1s - loss: 101.2126 - mean_absolute_error: 4.0918 - mean_squared_logarithmic_error: 0.7860\n",
            "Epoch 128/200\n",
            " - 1s - loss: 100.8059 - mean_absolute_error: 4.0705 - mean_squared_logarithmic_error: 0.7797\n",
            "Epoch 129/200\n",
            " - 1s - loss: 100.7283 - mean_absolute_error: 4.0837 - mean_squared_logarithmic_error: 0.7901\n",
            "Epoch 130/200\n",
            " - 1s - loss: 101.0160 - mean_absolute_error: 4.0757 - mean_squared_logarithmic_error: 0.7821\n",
            "Epoch 131/200\n",
            " - 1s - loss: 101.1615 - mean_absolute_error: 4.0554 - mean_squared_logarithmic_error: 0.7750\n",
            "Epoch 132/200\n",
            " - 1s - loss: 100.9959 - mean_absolute_error: 4.0958 - mean_squared_logarithmic_error: 0.7900\n",
            "Epoch 133/200\n",
            " - 1s - loss: 100.9818 - mean_absolute_error: 4.0611 - mean_squared_logarithmic_error: 0.7795\n",
            "Epoch 134/200\n",
            " - 1s - loss: 101.2138 - mean_absolute_error: 4.1086 - mean_squared_logarithmic_error: 0.7926\n",
            "Epoch 135/200\n",
            " - 1s - loss: 100.6162 - mean_absolute_error: 4.0618 - mean_squared_logarithmic_error: 0.7827\n",
            "Epoch 136/200\n",
            " - 1s - loss: 101.0134 - mean_absolute_error: 4.0911 - mean_squared_logarithmic_error: 0.7837\n",
            "Epoch 137/200\n",
            " - 1s - loss: 100.7051 - mean_absolute_error: 4.0773 - mean_squared_logarithmic_error: 0.7826\n",
            "Epoch 138/200\n",
            " - 1s - loss: 100.9693 - mean_absolute_error: 4.0800 - mean_squared_logarithmic_error: 0.7822\n",
            "Epoch 139/200\n",
            " - 1s - loss: 100.7149 - mean_absolute_error: 4.0830 - mean_squared_logarithmic_error: 0.7851\n",
            "Epoch 140/200\n",
            " - 1s - loss: 101.2863 - mean_absolute_error: 4.0808 - mean_squared_logarithmic_error: 0.7795\n",
            "Epoch 141/200\n",
            " - 1s - loss: 101.0868 - mean_absolute_error: 4.0740 - mean_squared_logarithmic_error: 0.7812\n",
            "Epoch 142/200\n",
            " - 1s - loss: 100.5942 - mean_absolute_error: 4.0738 - mean_squared_logarithmic_error: 0.7808\n",
            "Epoch 143/200\n",
            " - 1s - loss: 100.9739 - mean_absolute_error: 4.0691 - mean_squared_logarithmic_error: 0.7810\n",
            "Epoch 144/200\n",
            " - 1s - loss: 101.2820 - mean_absolute_error: 4.0963 - mean_squared_logarithmic_error: 0.7916\n",
            "Epoch 145/200\n",
            " - 1s - loss: 100.6827 - mean_absolute_error: 4.0533 - mean_squared_logarithmic_error: 0.7705\n",
            "Epoch 146/200\n",
            " - 1s - loss: 100.8268 - mean_absolute_error: 4.0752 - mean_squared_logarithmic_error: 0.7794\n",
            "Epoch 147/200\n",
            " - 1s - loss: 100.3191 - mean_absolute_error: 4.0621 - mean_squared_logarithmic_error: 0.7837\n",
            "Epoch 148/200\n",
            " - 1s - loss: 99.8853 - mean_absolute_error: 4.0535 - mean_squared_logarithmic_error: 0.7730\n",
            "Epoch 149/200\n",
            " - 1s - loss: 100.3995 - mean_absolute_error: 4.0585 - mean_squared_logarithmic_error: 0.7802\n",
            "Epoch 150/200\n",
            " - 1s - loss: 101.0342 - mean_absolute_error: 4.0725 - mean_squared_logarithmic_error: 0.7765\n",
            "Epoch 151/200\n",
            " - 1s - loss: 100.2445 - mean_absolute_error: 4.0542 - mean_squared_logarithmic_error: 0.7722\n",
            "Epoch 152/200\n",
            " - 1s - loss: 100.4623 - mean_absolute_error: 4.0838 - mean_squared_logarithmic_error: 0.7865\n",
            "Epoch 153/200\n",
            " - 1s - loss: 100.4135 - mean_absolute_error: 4.0477 - mean_squared_logarithmic_error: 0.7640\n",
            "Epoch 154/200\n",
            " - 1s - loss: 101.0683 - mean_absolute_error: 4.1278 - mean_squared_logarithmic_error: 0.8060\n",
            "Epoch 155/200\n",
            " - 1s - loss: 99.9055 - mean_absolute_error: 4.0362 - mean_squared_logarithmic_error: 0.7712\n",
            "Epoch 156/200\n",
            " - 1s - loss: 100.2869 - mean_absolute_error: 4.0659 - mean_squared_logarithmic_error: 0.7773\n",
            "Epoch 157/200\n",
            " - 1s - loss: 100.6202 - mean_absolute_error: 4.0895 - mean_squared_logarithmic_error: 0.7823\n",
            "Epoch 158/200\n",
            " - 1s - loss: 100.5874 - mean_absolute_error: 4.0828 - mean_squared_logarithmic_error: 0.7833\n",
            "Epoch 159/200\n",
            " - 1s - loss: 99.7341 - mean_absolute_error: 4.0522 - mean_squared_logarithmic_error: 0.7816\n",
            "Epoch 160/200\n",
            " - 1s - loss: 100.0921 - mean_absolute_error: 4.0283 - mean_squared_logarithmic_error: 0.7621\n",
            "Epoch 161/200\n",
            " - 1s - loss: 100.6329 - mean_absolute_error: 4.0764 - mean_squared_logarithmic_error: 0.7872\n",
            "Epoch 162/200\n",
            " - 1s - loss: 100.1385 - mean_absolute_error: 4.0576 - mean_squared_logarithmic_error: 0.7746\n",
            "Epoch 163/200\n",
            " - 1s - loss: 98.9587 - mean_absolute_error: 4.0096 - mean_squared_logarithmic_error: 0.7652\n",
            "Epoch 164/200\n",
            " - 1s - loss: 99.8887 - mean_absolute_error: 4.0843 - mean_squared_logarithmic_error: 0.7910\n",
            "Epoch 165/200\n",
            " - 1s - loss: 100.9458 - mean_absolute_error: 4.0418 - mean_squared_logarithmic_error: 0.7702\n",
            "Epoch 166/200\n",
            " - 1s - loss: 99.6898 - mean_absolute_error: 4.0639 - mean_squared_logarithmic_error: 0.7784\n",
            "Epoch 167/200\n",
            " - 1s - loss: 100.0859 - mean_absolute_error: 4.0396 - mean_squared_logarithmic_error: 0.7663\n",
            "Epoch 168/200\n",
            " - 1s - loss: 99.8732 - mean_absolute_error: 4.0407 - mean_squared_logarithmic_error: 0.7735\n",
            "Epoch 169/200\n",
            " - 1s - loss: 99.9601 - mean_absolute_error: 4.0822 - mean_squared_logarithmic_error: 0.7842\n",
            "Epoch 170/200\n",
            " - 1s - loss: 100.3904 - mean_absolute_error: 4.0519 - mean_squared_logarithmic_error: 0.7699\n",
            "Epoch 171/200\n",
            " - 1s - loss: 99.8926 - mean_absolute_error: 4.0749 - mean_squared_logarithmic_error: 0.7856\n",
            "Epoch 172/200\n",
            " - 1s - loss: 100.0560 - mean_absolute_error: 4.0417 - mean_squared_logarithmic_error: 0.7706\n",
            "Epoch 173/200\n",
            " - 1s - loss: 99.7714 - mean_absolute_error: 4.0649 - mean_squared_logarithmic_error: 0.7793\n",
            "Epoch 174/200\n",
            " - 1s - loss: 99.5071 - mean_absolute_error: 4.0326 - mean_squared_logarithmic_error: 0.7676\n",
            "Epoch 175/200\n",
            " - 1s - loss: 98.7205 - mean_absolute_error: 4.0227 - mean_squared_logarithmic_error: 0.7675\n",
            "Epoch 176/200\n",
            " - 1s - loss: 99.1169 - mean_absolute_error: 4.0646 - mean_squared_logarithmic_error: 0.7855\n",
            "Epoch 177/200\n",
            " - 1s - loss: 100.3979 - mean_absolute_error: 4.0482 - mean_squared_logarithmic_error: 0.7692\n",
            "Epoch 178/200\n",
            " - 1s - loss: 99.4567 - mean_absolute_error: 4.0502 - mean_squared_logarithmic_error: 0.7755\n",
            "Epoch 179/200\n",
            " - 1s - loss: 99.1375 - mean_absolute_error: 4.0324 - mean_squared_logarithmic_error: 0.7713\n",
            "Epoch 180/200\n",
            " - 0s - loss: 99.2650 - mean_absolute_error: 4.0395 - mean_squared_logarithmic_error: 0.7697\n",
            "Epoch 181/200\n",
            " - 1s - loss: 100.0099 - mean_absolute_error: 4.0419 - mean_squared_logarithmic_error: 0.7681\n",
            "Epoch 182/200\n",
            " - 0s - loss: 99.0827 - mean_absolute_error: 4.0338 - mean_squared_logarithmic_error: 0.7745\n",
            "Epoch 183/200\n",
            " - 0s - loss: 99.3381 - mean_absolute_error: 4.0504 - mean_squared_logarithmic_error: 0.7820\n",
            "Epoch 184/200\n",
            " - 1s - loss: 99.5909 - mean_absolute_error: 4.0384 - mean_squared_logarithmic_error: 0.7654\n",
            "Epoch 185/200\n",
            " - 1s - loss: 99.1626 - mean_absolute_error: 4.0430 - mean_squared_logarithmic_error: 0.7708\n",
            "Epoch 186/200\n",
            " - 0s - loss: 99.3988 - mean_absolute_error: 4.0574 - mean_squared_logarithmic_error: 0.7754\n",
            "Epoch 187/200\n",
            " - 1s - loss: 99.4084 - mean_absolute_error: 4.0273 - mean_squared_logarithmic_error: 0.7693\n",
            "Epoch 188/200\n",
            " - 0s - loss: 98.6145 - mean_absolute_error: 4.0326 - mean_squared_logarithmic_error: 0.7721\n",
            "Epoch 189/200\n",
            " - 1s - loss: 98.7121 - mean_absolute_error: 4.0338 - mean_squared_logarithmic_error: 0.7773\n",
            "Epoch 190/200\n",
            " - 1s - loss: 99.2732 - mean_absolute_error: 4.0254 - mean_squared_logarithmic_error: 0.7608\n",
            "Epoch 191/200\n",
            " - 0s - loss: 100.1628 - mean_absolute_error: 4.0565 - mean_squared_logarithmic_error: 0.7739\n",
            "Epoch 192/200\n",
            " - 1s - loss: 99.0268 - mean_absolute_error: 4.0377 - mean_squared_logarithmic_error: 0.7693\n",
            "Epoch 193/200\n",
            " - 1s - loss: 98.5941 - mean_absolute_error: 4.0208 - mean_squared_logarithmic_error: 0.7733\n",
            "Epoch 194/200\n",
            " - 0s - loss: 99.2192 - mean_absolute_error: 4.0478 - mean_squared_logarithmic_error: 0.7762\n",
            "Epoch 195/200\n",
            " - 0s - loss: 99.0075 - mean_absolute_error: 4.0197 - mean_squared_logarithmic_error: 0.7643\n",
            "Epoch 196/200\n",
            " - 0s - loss: 99.8822 - mean_absolute_error: 4.0631 - mean_squared_logarithmic_error: 0.7755\n",
            "Epoch 197/200\n",
            " - 1s - loss: 99.0585 - mean_absolute_error: 4.0415 - mean_squared_logarithmic_error: 0.7665\n",
            "Epoch 198/200\n",
            " - 1s - loss: 99.2781 - mean_absolute_error: 4.0354 - mean_squared_logarithmic_error: 0.7669\n",
            "Epoch 199/200\n",
            " - 1s - loss: 99.2370 - mean_absolute_error: 4.0343 - mean_squared_logarithmic_error: 0.7770\n",
            "Epoch 200/200\n",
            " - 1s - loss: 98.7541 - mean_absolute_error: 4.0252 - mean_squared_logarithmic_error: 0.7636\n"
          ],
          "name": "stdout"
        }
      ]
    },
    {
      "cell_type": "code",
      "metadata": {
        "id": "niuNkZazQT5L",
        "colab_type": "code",
        "outputId": "8cb7da9c-730c-4ed4-8eca-63d7a2dd95aa",
        "colab": {
          "base_uri": "https://localhost:8080/",
          "height": 69
        }
      },
      "source": [
        "#Exibição dos melhores resultados\n",
        "print(\"Melhor resultado: %f, usando %s\" % (grid_result.best_score_, grid_result.best_params_))\n",
        "means = grid_result.cv_results_['mean_test_score']\n",
        "stds = grid_result.cv_results_['std_test_score']\n",
        "params = grid_result.cv_results_['params']\n",
        "print(\"Resultados (Desvio padrão) {Parâmetros}\")\n",
        "for mean, stdev, param in zip(means, stds, params):\n",
        "\tprint(\"%f (%f) %r\" % (mean, stdev, param))"
      ],
      "execution_count": 51,
      "outputs": [
        {
          "output_type": "stream",
          "text": [
            "Melhor resultado: -4.245224, usando {'batch_size': 20, 'camadas': 2, 'units': 11}\n",
            "Resultados (Desvio padrão) {Parâmetros}\n",
            "-4.245224 (0.069043) {'batch_size': 20, 'camadas': 2, 'units': 11}\n"
          ],
          "name": "stdout"
        }
      ]
    },
    {
      "cell_type": "code",
      "metadata": {
        "id": "0QSQ5olWu4Lx",
        "colab_type": "code",
        "outputId": "b2dac666-4ed5-4a17-886c-2c6d1bbe0623",
        "colab": {
          "base_uri": "https://localhost:8080/",
          "height": 286
        }
      },
      "source": [
        "#Gráfico de distribuição da previsão para o conjunto de teste\n",
        "plt.scatter(list(range(len(grid_search.predict(X_test)))), grid_search.predict(X_test))"
      ],
      "execution_count": 52,
      "outputs": [
        {
          "output_type": "execute_result",
          "data": {
            "text/plain": [
              "<matplotlib.collections.PathCollection at 0x7f57fc08c0b8>"
            ]
          },
          "metadata": {
            "tags": []
          },
          "execution_count": 52
        },
        {
          "output_type": "display_data",
          "data": {
            "image/png": "[encoded data removed]",
            "text/plain": [
              "<Figure size 432x288 with 1 Axes>"
            ]
          },
          "metadata": {
            "tags": []
          }
        }
      ]
    },
    {
      "cell_type": "code",
      "metadata": {
        "id": "wrhi2JjnvLSR",
        "colab_type": "code",
        "outputId": "93cfe500-e130-4094-9b0b-17782f9fd094",
        "colab": {
          "base_uri": "https://localhost:8080/",
          "height": 286
        }
      },
      "source": [
        "#Gráfico de distribuição das variáveis de teste reais\n",
        "plt.scatter(list(range(len(Y_test))), Y_test)"
      ],
      "execution_count": 53,
      "outputs": [
        {
          "output_type": "execute_result",
          "data": {
            "text/plain": [
              "<matplotlib.collections.PathCollection at 0x7f57fa0071d0>"
            ]
          },
          "metadata": {
            "tags": []
          },
          "execution_count": 53
        },
        {
          "output_type": "display_data",
          "data": {
            "image/png": "[encoded data removed]",
            "text/plain": [
              "<Figure size 432x288 with 1 Axes>"
            ]
          },
          "metadata": {
            "tags": []
          }
        }
      ]
    },
    {
      "cell_type": "code",
      "metadata": {
        "id": "qd6jAdoA7qI2",
        "colab_type": "code",
        "outputId": "344e13e6-4e59-4068-9aae-3bb319b0ebac",
        "colab": {
          "base_uri": "https://localhost:8080/",
          "height": 286
        }
      },
      "source": [
        "#Gráfico de previsão para o conjunto de treino\n",
        "plt.scatter(grid_search.predict(X_train), Y_train)"
      ],
      "execution_count": 54,
      "outputs": [
        {
          "output_type": "execute_result",
          "data": {
            "text/plain": [
              "<matplotlib.collections.PathCollection at 0x7f57f9f5a358>"
            ]
          },
          "metadata": {
            "tags": []
          },
          "execution_count": 54
        },
        {
          "output_type": "display_data",
          "data": {
            "image/png": "[encoded data removed]",
            "text/plain": [
              "<Figure size 432x288 with 1 Axes>"
            ]
          },
          "metadata": {
            "tags": []
          }
        }
      ]
    },
    {
      "cell_type": "code",
      "metadata": {
        "id": "ikJ6SCU-798i",
        "colab_type": "code",
        "outputId": "eed011fa-779a-4e62-8d97-64e930e1180d",
        "colab": {
          "base_uri": "https://localhost:8080/",
          "height": 286
        }
      },
      "source": [
        "#Gráfico de previsão para o conjunto de treino normalizado\n",
        "plt.scatter(grid_search.predict(X_train) / max(grid_search.predict(X_train)), Y_train / max(Y_train))"
      ],
      "execution_count": 56,
      "outputs": [
        {
          "output_type": "execute_result",
          "data": {
            "text/plain": [
              "<matplotlib.collections.PathCollection at 0x7f57f8c89898>"
            ]
          },
          "metadata": {
            "tags": []
          },
          "execution_count": 56
        },
        {
          "output_type": "display_data",
          "data": {
            "image/png": "[encoded data removed]",
            "text/plain": [
              "<Figure size 432x288 with 1 Axes>"
            ]
          },
          "metadata": {
            "tags": []
          }
        }
      ]
    },
    {
      "cell_type": "code",
      "metadata": {
        "id": "odMh7NI5A413",
        "colab_type": "code",
        "outputId": "a1c54eb0-d126-4bde-912a-f93b77c37a7c",
        "colab": {
          "base_uri": "https://localhost:8080/",
          "height": 52
        }
      },
      "source": [
        "#Mostrando uma matriz de correlação das variáveis com a melhor modelagem\n",
        "print(np.corrcoef(Y_train, grid_search.predict(X_train)))"
      ],
      "execution_count": 57,
      "outputs": [
        {
          "output_type": "stream",
          "text": [
            "[[1.         0.64260831]\n",
            " [0.64260831 1.        ]]\n"
          ],
          "name": "stdout"
        }
      ]
    },
    {
      "cell_type": "code",
      "metadata": {
        "id": "VVyAlBsY5fLe",
        "colab_type": "code",
        "colab": {}
      },
      "source": [
        "#Previsão com base no resultado da Grid Search\n",
        "Y_pred = grid_search.predict(X_test)"
      ],
      "execution_count": 0,
      "outputs": []
    },
    {
      "cell_type": "code",
      "metadata": {
        "id": "skEMxj6QtVVO",
        "colab_type": "code",
        "outputId": "325cc644-1806-430b-91d4-0a95a5e1a917",
        "colab": {
          "base_uri": "https://localhost:8080/",
          "height": 286
        }
      },
      "source": [
        "#Gráfico que mostra a relação entre a chuva real e a prevista\n",
        "plt.scatter(Y_test, Y_pred)"
      ],
      "execution_count": 59,
      "outputs": [
        {
          "output_type": "execute_result",
          "data": {
            "text/plain": [
              "<matplotlib.collections.PathCollection at 0x7f57f8be7358>"
            ]
          },
          "metadata": {
            "tags": []
          },
          "execution_count": 59
        },
        {
          "output_type": "display_data",
          "data": {
            "image/png": "[encoded data removed]",
            "text/plain": [
              "<Figure size 432x288 with 1 Axes>"
            ]
          },
          "metadata": {
            "tags": []
          }
        }
      ]
    },
    {
      "cell_type": "code",
      "metadata": {
        "id": "_u6GdTGCDe4C",
        "colab_type": "code",
        "outputId": "6b37fbff-658b-4d34-d897-e55b02f2592f",
        "colab": {
          "base_uri": "https://localhost:8080/",
          "height": 286
        }
      },
      "source": [
        "#Gráfico normalizado que mostra a relação entre a chuva real e a prevista\n",
        "plt.scatter(Y_test / max(Y_test), Y_pred / max(Y_pred))"
      ],
      "execution_count": 60,
      "outputs": [
        {
          "output_type": "execute_result",
          "data": {
            "text/plain": [
              "<matplotlib.collections.PathCollection at 0x7f57f8bb7b00>"
            ]
          },
          "metadata": {
            "tags": []
          },
          "execution_count": 60
        },
        {
          "output_type": "display_data",
          "data": {
            "image/png": "[encoded data removed]",
            "text/plain": [
              "<Figure size 432x288 with 1 Axes>"
            ]
          },
          "metadata": {
            "tags": []
          }
        }
      ]
    },
    {
      "cell_type": "code",
      "metadata": {
        "id": "zIMiGtzT6LDK",
        "colab_type": "code",
        "outputId": "63d970bf-f097-4fdf-8078-945dc4400c9c",
        "colab": {
          "base_uri": "https://localhost:8080/",
          "height": 52
        }
      },
      "source": [
        "#Mostrando uma matriz de correlação das variáveis com a melhor modelagem\n",
        "print(np.corrcoef(Y_test, grid_search.predict(X_test)))"
      ],
      "execution_count": 61,
      "outputs": [
        {
          "output_type": "stream",
          "text": [
            "[[1.         0.61296635]\n",
            " [0.61296635 1.        ]]\n"
          ],
          "name": "stdout"
        }
      ]
    },
    {
      "cell_type": "code",
      "metadata": {
        "id": "h-5aF3iGAN22",
        "colab_type": "code",
        "outputId": "4c12a6ad-c466-4129-a8c7-19e3e82b4012",
        "colab": {
          "base_uri": "https://localhost:8080/",
          "height": 34
        }
      },
      "source": [
        "#Erro absoluto médio entre a chuva prevista e a real\n",
        "print(mean_absolute_error(Y_test, Y_pred))"
      ],
      "execution_count": 62,
      "outputs": [
        {
          "output_type": "stream",
          "text": [
            "4.192556924274531\n"
          ],
          "name": "stdout"
        }
      ]
    },
    {
      "cell_type": "code",
      "metadata": {
        "id": "JgaodvwAvrrB",
        "colab_type": "code",
        "outputId": "5bb6d838-b88c-4cda-e33c-6c04d46360df",
        "colab": {
          "base_uri": "https://localhost:8080/",
          "height": 34
        }
      },
      "source": [
        "#Erro quadrático médio entre a chuva prevista e a real\n",
        "print(mean_squared_error(Y_test, Y_pred))"
      ],
      "execution_count": 64,
      "outputs": [
        {
          "output_type": "stream",
          "text": [
            "130.20464030346864\n"
          ],
          "name": "stdout"
        }
      ]
    }
  ]
}