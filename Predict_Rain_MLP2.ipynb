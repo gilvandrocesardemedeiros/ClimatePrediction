{
  "nbformat": 4,
  "nbformat_minor": 0,
  "metadata": {
    "colab": {
      "name": "Copy of Predict_Rain_MLP.ipynb",
      "version": "0.3.2",
      "provenance": [],
      "collapsed_sections": [],
      "include_colab_link": true
    },
    "language_info": {
      "codemirror_mode": {
        "name": "ipython",
        "version": 3
      },
      "file_extension": ".py",
      "mimetype": "text/x-python",
      "name": "python",
      "nbconvert_exporter": "python",
      "pygments_lexer": "ipython3",
      "version": "3.6.8"
    },
    "kernelspec": {
      "display_name": "Python 3",
      "language": "python",
      "name": "python3"
    }
  },
  "cells": [
    {
      "cell_type": "markdown",
      "metadata": {
        "id": "view-in-github",
        "colab_type": "text"
      },
      "source": [
        "<a href=\"https://colab.research.google.com/github/gilvandrocesardemedeiros/ClimatePrediction/blob/master/Predict_Rain_MLP2.ipynb\" target=\"_parent\"><img src=\"https://colab.research.google.com/assets/colab-badge.svg\" alt=\"Open In Colab\"/></a>"
      ]
    },
    {
      "cell_type": "code",
      "metadata": {
        "id": "27ZehESHNz63",
        "colab_type": "code",
        "outputId": "7c9eafa4-0188-43bd-cde9-099e82dc404a",
        "colab": {
          "base_uri": "https://localhost:8080/",
          "height": 34
        }
      },
      "source": [
        "#Importando bibliotecas\n",
        "import pandas as pd\n",
        "import numpy as np\n",
        "from datetime import datetime\n",
        "from keras.models import Sequential\n",
        "from keras.layers import Dense\n",
        "from keras.wrappers.scikit_learn import KerasRegressor\n",
        "from keras.utils import np_utils\n",
        "from sklearn.metrics import mean_absolute_error\n",
        "from sklearn.metrics import mean_squared_error\n",
        "from sklearn.model_selection import KFold\n",
        "from sklearn.model_selection import GridSearchCV\n",
        "from sklearn.model_selection import train_test_split\n",
        "from sklearn.preprocessing import MinMaxScaler\n",
        "from sklearn.preprocessing import LabelEncoder\n",
        "import matplotlib.pyplot as plt"
      ],
      "execution_count": 0,
      "outputs": [
        {
          "output_type": "stream",
          "text": [
            "Using TensorFlow backend.\n"
          ],
          "name": "stderr"
        }
      ]
    },
    {
      "cell_type": "code",
      "metadata": {
        "id": "_30s_sAnNz7Z",
        "colab_type": "code",
        "colab": {}
      },
      "source": [
        "#Nomes para as colunas\n",
        "columns = [\"Estacao\",\"Data\",\"Hora\",\"Prec\",\"TempMax\",\"TempMin\",\"Insolacao\",\"EvapoPiche\",\"TempCompMedia\",\n",
        "           \"UmidRelatMedia\", \"VelocVento\", \"Missing\"]\n",
        "\n",
        "#Tipos de dados em cada coluna\n",
        "types = {\"Hora\":np.uint16,\"Prec\":np.float64,\"TempMax\":np.float64,\"TempMin\":np.float64,\"Insolacao\":np.float64,\n",
        "         \"EvapoPiche\":np.float64,\"TempCompMedia\":np.float64,\"UmidRelatMedia\":np.float64,\"VelocVento\":np.float64}\n",
        "\n",
        "#Leitura do arquivo csv\n",
        "dataSet = pd.read_csv(\"https://github.com/gilvandrocesardemedeiros/ClimatePrediction/raw/master/Dados_INMET/Diarios/INMET-Dados_Diarios_Natal_1968-2018.csv\",\n",
        "                      sep=';',skiprows=48, nrows = 27003, usecols = columns[1:11], names=columns, dtype = types)"
      ],
      "execution_count": 0,
      "outputs": []
    },
    {
      "cell_type": "code",
      "metadata": {
        "id": "j6wsU7SJNz7t",
        "colab_type": "code",
        "colab": {}
      },
      "source": [
        "#Transformando data em variável do tipo datetime\n",
        "dataSet[\"Data\"] = pd.to_datetime(dataSet[\"Data\"], format = \"%d/%m/%Y\")"
      ],
      "execution_count": 0,
      "outputs": []
    },
    {
      "cell_type": "code",
      "metadata": {
        "id": "4Q7RdptNNz8A",
        "colab_type": "code",
        "outputId": "28a2a48e-22f8-45f6-9bc3-883efd4cd9f5",
        "colab": {
          "base_uri": "https://localhost:8080/",
          "height": 206
        }
      },
      "source": [
        "#Verificando dados\n",
        "dataSet.head()"
      ],
      "execution_count": 0,
      "outputs": [
        {
          "output_type": "execute_result",
          "data": {
            "text/html": [
              "<div>\n",
              "<style scoped>\n",
              "    .dataframe tbody tr th:only-of-type {\n",
              "        vertical-align: middle;\n",
              "    }\n",
              "\n",
              "    .dataframe tbody tr th {\n",
              "        vertical-align: top;\n",
              "    }\n",
              "\n",
              "    .dataframe thead th {\n",
              "        text-align: right;\n",
              "    }\n",
              "</style>\n",
              "<table border=\"1\" class=\"dataframe\">\n",
              "  <thead>\n",
              "    <tr style=\"text-align: right;\">\n",
              "      <th></th>\n",
              "      <th>Data</th>\n",
              "      <th>Hora</th>\n",
              "      <th>Prec</th>\n",
              "      <th>TempMax</th>\n",
              "      <th>TempMin</th>\n",
              "      <th>Insolacao</th>\n",
              "      <th>EvapoPiche</th>\n",
              "      <th>TempCompMedia</th>\n",
              "      <th>UmidRelatMedia</th>\n",
              "      <th>VelocVento</th>\n",
              "    </tr>\n",
              "  </thead>\n",
              "  <tbody>\n",
              "    <tr>\n",
              "      <th>0</th>\n",
              "      <td>1968-01-01</td>\n",
              "      <td>0</td>\n",
              "      <td>NaN</td>\n",
              "      <td>30.6</td>\n",
              "      <td>NaN</td>\n",
              "      <td>11.1</td>\n",
              "      <td>4.4</td>\n",
              "      <td>25.14</td>\n",
              "      <td>73.50</td>\n",
              "      <td>2.666667</td>\n",
              "    </tr>\n",
              "    <tr>\n",
              "      <th>1</th>\n",
              "      <td>1968-01-01</td>\n",
              "      <td>1200</td>\n",
              "      <td>0.0</td>\n",
              "      <td>NaN</td>\n",
              "      <td>21.4</td>\n",
              "      <td>NaN</td>\n",
              "      <td>NaN</td>\n",
              "      <td>NaN</td>\n",
              "      <td>NaN</td>\n",
              "      <td>NaN</td>\n",
              "    </tr>\n",
              "    <tr>\n",
              "      <th>2</th>\n",
              "      <td>1968-01-02</td>\n",
              "      <td>0</td>\n",
              "      <td>NaN</td>\n",
              "      <td>31.0</td>\n",
              "      <td>NaN</td>\n",
              "      <td>11.9</td>\n",
              "      <td>6.5</td>\n",
              "      <td>24.92</td>\n",
              "      <td>74.75</td>\n",
              "      <td>1.666667</td>\n",
              "    </tr>\n",
              "    <tr>\n",
              "      <th>3</th>\n",
              "      <td>1968-01-02</td>\n",
              "      <td>1200</td>\n",
              "      <td>0.0</td>\n",
              "      <td>NaN</td>\n",
              "      <td>19.6</td>\n",
              "      <td>NaN</td>\n",
              "      <td>NaN</td>\n",
              "      <td>NaN</td>\n",
              "      <td>NaN</td>\n",
              "      <td>NaN</td>\n",
              "    </tr>\n",
              "    <tr>\n",
              "      <th>4</th>\n",
              "      <td>1968-01-03</td>\n",
              "      <td>0</td>\n",
              "      <td>NaN</td>\n",
              "      <td>31.6</td>\n",
              "      <td>NaN</td>\n",
              "      <td>11.3</td>\n",
              "      <td>5.0</td>\n",
              "      <td>24.90</td>\n",
              "      <td>77.25</td>\n",
              "      <td>2.333333</td>\n",
              "    </tr>\n",
              "  </tbody>\n",
              "</table>\n",
              "</div>"
            ],
            "text/plain": [
              "        Data  Hora  Prec  TempMax  TempMin  Insolacao  EvapoPiche  \\\n",
              "0 1968-01-01     0   NaN     30.6      NaN       11.1         4.4   \n",
              "1 1968-01-01  1200   0.0      NaN     21.4        NaN         NaN   \n",
              "2 1968-01-02     0   NaN     31.0      NaN       11.9         6.5   \n",
              "3 1968-01-02  1200   0.0      NaN     19.6        NaN         NaN   \n",
              "4 1968-01-03     0   NaN     31.6      NaN       11.3         5.0   \n",
              "\n",
              "   TempCompMedia  UmidRelatMedia  VelocVento  \n",
              "0          25.14           73.50    2.666667  \n",
              "1            NaN             NaN         NaN  \n",
              "2          24.92           74.75    1.666667  \n",
              "3            NaN             NaN         NaN  \n",
              "4          24.90           77.25    2.333333  "
            ]
          },
          "metadata": {
            "tags": []
          },
          "execution_count": 4
        }
      ]
    },
    {
      "cell_type": "code",
      "metadata": {
        "id": "1GBPk-0mNz8Q",
        "colab_type": "code",
        "outputId": "4757cc11-4eb3-44f4-e5fe-881512676e94",
        "colab": {
          "base_uri": "https://localhost:8080/",
          "height": 208
        }
      },
      "source": [
        "#Verificando o tipo dos dados\n",
        "dataSet.dtypes"
      ],
      "execution_count": 0,
      "outputs": [
        {
          "output_type": "execute_result",
          "data": {
            "text/plain": [
              "Data              datetime64[ns]\n",
              "Hora                      uint16\n",
              "Prec                     float64\n",
              "TempMax                  float64\n",
              "TempMin                  float64\n",
              "Insolacao                float64\n",
              "EvapoPiche               float64\n",
              "TempCompMedia            float64\n",
              "UmidRelatMedia           float64\n",
              "VelocVento               float64\n",
              "dtype: object"
            ]
          },
          "metadata": {
            "tags": []
          },
          "execution_count": 5
        }
      ]
    },
    {
      "cell_type": "code",
      "metadata": {
        "id": "Bljp6tdBNz8e",
        "colab_type": "code",
        "colab": {}
      },
      "source": [
        "#Separando os dados em dois dataframes, um para as 00:00 h e outro para as 12:00 h\n",
        "dataSet00, dataSet12 = dataSet[dataSet[\"Hora\"] == 0], dataSet[dataSet[\"Hora\"] == 1200]"
      ],
      "execution_count": 0,
      "outputs": []
    },
    {
      "cell_type": "code",
      "metadata": {
        "id": "2bh8K6NANz8r",
        "colab_type": "code",
        "outputId": "7006841a-b94c-4074-8881-26ed07915668",
        "colab": {
          "base_uri": "https://localhost:8080/",
          "height": 206
        }
      },
      "source": [
        "#Verificando dataframe para os dados disponibilizados às 00:00 h\n",
        "dataSet00.head()"
      ],
      "execution_count": 0,
      "outputs": [
        {
          "output_type": "execute_result",
          "data": {
            "text/html": [
              "<div>\n",
              "<style scoped>\n",
              "    .dataframe tbody tr th:only-of-type {\n",
              "        vertical-align: middle;\n",
              "    }\n",
              "\n",
              "    .dataframe tbody tr th {\n",
              "        vertical-align: top;\n",
              "    }\n",
              "\n",
              "    .dataframe thead th {\n",
              "        text-align: right;\n",
              "    }\n",
              "</style>\n",
              "<table border=\"1\" class=\"dataframe\">\n",
              "  <thead>\n",
              "    <tr style=\"text-align: right;\">\n",
              "      <th></th>\n",
              "      <th>Data</th>\n",
              "      <th>Hora</th>\n",
              "      <th>Prec</th>\n",
              "      <th>TempMax</th>\n",
              "      <th>TempMin</th>\n",
              "      <th>Insolacao</th>\n",
              "      <th>EvapoPiche</th>\n",
              "      <th>TempCompMedia</th>\n",
              "      <th>UmidRelatMedia</th>\n",
              "      <th>VelocVento</th>\n",
              "    </tr>\n",
              "  </thead>\n",
              "  <tbody>\n",
              "    <tr>\n",
              "      <th>0</th>\n",
              "      <td>1968-01-01</td>\n",
              "      <td>0</td>\n",
              "      <td>NaN</td>\n",
              "      <td>30.6</td>\n",
              "      <td>NaN</td>\n",
              "      <td>11.1</td>\n",
              "      <td>4.4</td>\n",
              "      <td>25.14</td>\n",
              "      <td>73.50</td>\n",
              "      <td>2.666667</td>\n",
              "    </tr>\n",
              "    <tr>\n",
              "      <th>2</th>\n",
              "      <td>1968-01-02</td>\n",
              "      <td>0</td>\n",
              "      <td>NaN</td>\n",
              "      <td>31.0</td>\n",
              "      <td>NaN</td>\n",
              "      <td>11.9</td>\n",
              "      <td>6.5</td>\n",
              "      <td>24.92</td>\n",
              "      <td>74.75</td>\n",
              "      <td>1.666667</td>\n",
              "    </tr>\n",
              "    <tr>\n",
              "      <th>4</th>\n",
              "      <td>1968-01-03</td>\n",
              "      <td>0</td>\n",
              "      <td>NaN</td>\n",
              "      <td>31.6</td>\n",
              "      <td>NaN</td>\n",
              "      <td>11.3</td>\n",
              "      <td>5.0</td>\n",
              "      <td>24.90</td>\n",
              "      <td>77.25</td>\n",
              "      <td>2.333333</td>\n",
              "    </tr>\n",
              "    <tr>\n",
              "      <th>6</th>\n",
              "      <td>1968-01-04</td>\n",
              "      <td>0</td>\n",
              "      <td>NaN</td>\n",
              "      <td>31.2</td>\n",
              "      <td>NaN</td>\n",
              "      <td>10.3</td>\n",
              "      <td>4.0</td>\n",
              "      <td>24.82</td>\n",
              "      <td>80.75</td>\n",
              "      <td>3.666667</td>\n",
              "    </tr>\n",
              "    <tr>\n",
              "      <th>8</th>\n",
              "      <td>1968-01-05</td>\n",
              "      <td>0</td>\n",
              "      <td>NaN</td>\n",
              "      <td>30.8</td>\n",
              "      <td>NaN</td>\n",
              "      <td>11.0</td>\n",
              "      <td>4.2</td>\n",
              "      <td>24.78</td>\n",
              "      <td>76.00</td>\n",
              "      <td>4.000000</td>\n",
              "    </tr>\n",
              "  </tbody>\n",
              "</table>\n",
              "</div>"
            ],
            "text/plain": [
              "        Data  Hora  Prec  TempMax  TempMin  Insolacao  EvapoPiche  \\\n",
              "0 1968-01-01     0   NaN     30.6      NaN       11.1         4.4   \n",
              "2 1968-01-02     0   NaN     31.0      NaN       11.9         6.5   \n",
              "4 1968-01-03     0   NaN     31.6      NaN       11.3         5.0   \n",
              "6 1968-01-04     0   NaN     31.2      NaN       10.3         4.0   \n",
              "8 1968-01-05     0   NaN     30.8      NaN       11.0         4.2   \n",
              "\n",
              "   TempCompMedia  UmidRelatMedia  VelocVento  \n",
              "0          25.14           73.50    2.666667  \n",
              "2          24.92           74.75    1.666667  \n",
              "4          24.90           77.25    2.333333  \n",
              "6          24.82           80.75    3.666667  \n",
              "8          24.78           76.00    4.000000  "
            ]
          },
          "metadata": {
            "tags": []
          },
          "execution_count": 7
        }
      ]
    },
    {
      "cell_type": "code",
      "metadata": {
        "id": "edBEOHdPNz9B",
        "colab_type": "code",
        "outputId": "8ee8cd8f-a531-469c-931c-af85b988e025",
        "colab": {
          "base_uri": "https://localhost:8080/",
          "height": 206
        }
      },
      "source": [
        "#Verificando dataframe para os dados disponibilizados às 12:00 h\n",
        "dataSet12.head()"
      ],
      "execution_count": 0,
      "outputs": [
        {
          "output_type": "execute_result",
          "data": {
            "text/html": [
              "<div>\n",
              "<style scoped>\n",
              "    .dataframe tbody tr th:only-of-type {\n",
              "        vertical-align: middle;\n",
              "    }\n",
              "\n",
              "    .dataframe tbody tr th {\n",
              "        vertical-align: top;\n",
              "    }\n",
              "\n",
              "    .dataframe thead th {\n",
              "        text-align: right;\n",
              "    }\n",
              "</style>\n",
              "<table border=\"1\" class=\"dataframe\">\n",
              "  <thead>\n",
              "    <tr style=\"text-align: right;\">\n",
              "      <th></th>\n",
              "      <th>Data</th>\n",
              "      <th>Hora</th>\n",
              "      <th>Prec</th>\n",
              "      <th>TempMax</th>\n",
              "      <th>TempMin</th>\n",
              "      <th>Insolacao</th>\n",
              "      <th>EvapoPiche</th>\n",
              "      <th>TempCompMedia</th>\n",
              "      <th>UmidRelatMedia</th>\n",
              "      <th>VelocVento</th>\n",
              "    </tr>\n",
              "  </thead>\n",
              "  <tbody>\n",
              "    <tr>\n",
              "      <th>1</th>\n",
              "      <td>1968-01-01</td>\n",
              "      <td>1200</td>\n",
              "      <td>0.0</td>\n",
              "      <td>NaN</td>\n",
              "      <td>21.4</td>\n",
              "      <td>NaN</td>\n",
              "      <td>NaN</td>\n",
              "      <td>NaN</td>\n",
              "      <td>NaN</td>\n",
              "      <td>NaN</td>\n",
              "    </tr>\n",
              "    <tr>\n",
              "      <th>3</th>\n",
              "      <td>1968-01-02</td>\n",
              "      <td>1200</td>\n",
              "      <td>0.0</td>\n",
              "      <td>NaN</td>\n",
              "      <td>19.6</td>\n",
              "      <td>NaN</td>\n",
              "      <td>NaN</td>\n",
              "      <td>NaN</td>\n",
              "      <td>NaN</td>\n",
              "      <td>NaN</td>\n",
              "    </tr>\n",
              "    <tr>\n",
              "      <th>5</th>\n",
              "      <td>1968-01-03</td>\n",
              "      <td>1200</td>\n",
              "      <td>0.0</td>\n",
              "      <td>NaN</td>\n",
              "      <td>18.5</td>\n",
              "      <td>NaN</td>\n",
              "      <td>NaN</td>\n",
              "      <td>NaN</td>\n",
              "      <td>NaN</td>\n",
              "      <td>NaN</td>\n",
              "    </tr>\n",
              "    <tr>\n",
              "      <th>7</th>\n",
              "      <td>1968-01-04</td>\n",
              "      <td>1200</td>\n",
              "      <td>0.0</td>\n",
              "      <td>NaN</td>\n",
              "      <td>20.7</td>\n",
              "      <td>NaN</td>\n",
              "      <td>NaN</td>\n",
              "      <td>NaN</td>\n",
              "      <td>NaN</td>\n",
              "      <td>NaN</td>\n",
              "    </tr>\n",
              "    <tr>\n",
              "      <th>9</th>\n",
              "      <td>1968-01-05</td>\n",
              "      <td>1200</td>\n",
              "      <td>0.0</td>\n",
              "      <td>NaN</td>\n",
              "      <td>19.9</td>\n",
              "      <td>NaN</td>\n",
              "      <td>NaN</td>\n",
              "      <td>NaN</td>\n",
              "      <td>NaN</td>\n",
              "      <td>NaN</td>\n",
              "    </tr>\n",
              "  </tbody>\n",
              "</table>\n",
              "</div>"
            ],
            "text/plain": [
              "        Data  Hora  Prec  TempMax  TempMin  Insolacao  EvapoPiche  \\\n",
              "1 1968-01-01  1200   0.0      NaN     21.4        NaN         NaN   \n",
              "3 1968-01-02  1200   0.0      NaN     19.6        NaN         NaN   \n",
              "5 1968-01-03  1200   0.0      NaN     18.5        NaN         NaN   \n",
              "7 1968-01-04  1200   0.0      NaN     20.7        NaN         NaN   \n",
              "9 1968-01-05  1200   0.0      NaN     19.9        NaN         NaN   \n",
              "\n",
              "   TempCompMedia  UmidRelatMedia  VelocVento  \n",
              "1            NaN             NaN         NaN  \n",
              "3            NaN             NaN         NaN  \n",
              "5            NaN             NaN         NaN  \n",
              "7            NaN             NaN         NaN  \n",
              "9            NaN             NaN         NaN  "
            ]
          },
          "metadata": {
            "tags": []
          },
          "execution_count": 8
        }
      ]
    },
    {
      "cell_type": "code",
      "metadata": {
        "id": "OUqiIBkLNz9S",
        "colab_type": "code",
        "colab": {}
      },
      "source": [
        "#Transformando a data no índice de cada dataframe\n",
        "dataSet00 = dataSet00.set_index(\"Data\")\n",
        "dataSet12 = dataSet12.set_index(\"Data\")"
      ],
      "execution_count": 0,
      "outputs": []
    },
    {
      "cell_type": "code",
      "metadata": {
        "id": "CSC3Qof0Nz9j",
        "colab_type": "code",
        "colab": {}
      },
      "source": [
        "#Descartando a coluna \"Hora\"\n",
        "dataSet00, dataSet12 = dataSet00.drop(columns = \"Hora\"), dataSet12.drop(columns = \"Hora\")"
      ],
      "execution_count": 0,
      "outputs": []
    },
    {
      "cell_type": "code",
      "metadata": {
        "id": "EOtr9pK5Nz99",
        "colab_type": "code",
        "outputId": "17745f27-79fd-4897-c192-451609972263",
        "colab": {
          "base_uri": "https://localhost:8080/",
          "height": 156
        }
      },
      "source": [
        "#Juntando os dados em um mesmo dataframe (no caso, o dataSet00)\n",
        "for i in dataSet00.index:\n",
        "    try:\n",
        "        dataSet00[\"Prec\"].loc[i] = dataSet12[\"Prec\"].loc[i]\n",
        "        dataSet00[\"TempMin\"].loc[i] = dataSet12[\"TempMin\"].loc[i]\n",
        "    except:\n",
        "        print(\"Data \" + str(i.day) + \"/\" + str(i.month) + \"/\" + str(i.year) + \" Não encontrada!\")"
      ],
      "execution_count": 0,
      "outputs": [
        {
          "output_type": "stream",
          "text": [
            "Data 5/7/1986 Não encontrada!\n",
            "Data 20/7/1986 Não encontrada!\n",
            "Data 3/6/1989 Não encontrada!\n",
            "Data 12/6/1989 Não encontrada!\n",
            "Data 4/12/1992 Não encontrada!\n",
            "Data 26/5/2018 Não encontrada!\n",
            "Data 1/8/2018 Não encontrada!\n",
            "Data 27/10/2018 Não encontrada!\n"
          ],
          "name": "stdout"
        }
      ]
    },
    {
      "cell_type": "code",
      "metadata": {
        "id": "ZkvEVq8aNz-M",
        "colab_type": "code",
        "outputId": "508be09b-e102-47cd-ac9b-ccbd57559564",
        "colab": {
          "base_uri": "https://localhost:8080/",
          "height": 34
        }
      },
      "source": [
        "#Atribuindo à variável dataSet o DataFrame atualizado\n",
        "dataSet = dataSet00\n",
        "#Verificando dimensões do DataFrame\n",
        "print(dataSet.shape)"
      ],
      "execution_count": 0,
      "outputs": [
        {
          "output_type": "stream",
          "text": [
            "(13502, 8)\n"
          ],
          "name": "stdout"
        }
      ]
    },
    {
      "cell_type": "code",
      "metadata": {
        "id": "jBsDkedfcZ_h",
        "colab_type": "code",
        "colab": {}
      },
      "source": [
        "#Transformando a coluna Data de volta em uma coluna de informações do dataSet\n",
        "dataSet = dataSet.reset_index()"
      ],
      "execution_count": 0,
      "outputs": []
    },
    {
      "cell_type": "code",
      "metadata": {
        "id": "XGeOl_FCqgyK",
        "colab_type": "code",
        "outputId": "f30f64de-5601-4b54-9682-ed06a9432dbd",
        "colab": {
          "base_uri": "https://localhost:8080/",
          "height": 34
        }
      },
      "source": [
        "#Eliminando da base de dados dias com variáveis faltantes\n",
        "dataSet = dataSet.dropna()\n",
        "#Exibindo novas dimensões da base de dados\n",
        "print(dataSet.shape)"
      ],
      "execution_count": 0,
      "outputs": [
        {
          "output_type": "stream",
          "text": [
            "(11911, 9)\n"
          ],
          "name": "stdout"
        }
      ]
    },
    {
      "cell_type": "markdown",
      "metadata": {
        "id": "4YfK3SJ0dQAW",
        "colab_type": "text"
      },
      "source": [
        "# Considerando os seguintes intervalos: \n",
        "- Outono: 20 de março a 21 de junho (fechado em 20/03 e aberto em 21/06)\n",
        "- Inverno: 21 de junho a 22 de setembro (fechado em 21/06 e aberto em 22/09)\n",
        "- Primavera: de 22 de setembro a 21 de dezembro (fechado em 22/09 e aberto em 21/12)\n",
        "- Verão: de 21 de dezembro a 20 de março (fechado em 21/12 e aberto em 20/03)"
      ]
    },
    {
      "cell_type": "code",
      "metadata": {
        "id": "dtSvce66c8zF",
        "colab_type": "code",
        "colab": {}
      },
      "source": [
        "#Função que retorna a estação do ano para uma determinada data, para ser adicionada à base de dados\n",
        "def season(data):\n",
        "    if (data.month > 3 and data.month < 6) or (data.month == 3 and data.day >= 20) or (data.month == 6 and data.day < 21):\n",
        "        return \"Out\"\n",
        "    if (data.month > 6 and data.month < 9) or (data.month == 6 and data.day >= 21) or (data.month == 9 and data.day < 22):\n",
        "        return \"Inv\"\n",
        "    if (data.month > 9 and data.month < 12) or (data.month == 9 and data.day >= 22) or (data.month == 12 and data.day < 21):\n",
        "        return \"Pri\"\n",
        "    else:\n",
        "        return \"Ver\""
      ],
      "execution_count": 0,
      "outputs": []
    },
    {
      "cell_type": "code",
      "metadata": {
        "id": "FTRevEZ9AUSe",
        "colab_type": "code",
        "colab": {}
      },
      "source": [
        "#Identificando a estação do ano na base de dados e guardando a informação referente ao ano de cada dado\n",
        "estacao = []\n",
        "for i in dataSet.index:\n",
        "    estacao.insert(i, season(dataSet.loc[i, \"Data\"]))"
      ],
      "execution_count": 0,
      "outputs": []
    },
    {
      "cell_type": "code",
      "metadata": {
        "id": "Ut_YTEMKd3Jv",
        "colab_type": "code",
        "outputId": "3f7d609f-cb27-41a0-ab9e-dfa075450ed6",
        "colab": {
          "base_uri": "https://localhost:8080/",
          "height": 86
        }
      },
      "source": [
        "#Contando quantos dados existem para cada estação\n",
        "print(\"Outono: \" + str(estacao.count(\"Out\")))\n",
        "print(\"Inverno: \" + str(estacao.count(\"Inv\")))\n",
        "print(\"Primavera: \" + str(estacao.count(\"Pri\")))\n",
        "print(\"Verão: \" + str(estacao.count(\"Ver\")))"
      ],
      "execution_count": 0,
      "outputs": [
        {
          "output_type": "stream",
          "text": [
            "Outono: 3048\n",
            "Inverno: 2988\n",
            "Primavera: 2946\n",
            "Verão: 2929\n"
          ],
          "name": "stdout"
        }
      ]
    },
    {
      "cell_type": "code",
      "metadata": {
        "id": "UbW5mMKJcojI",
        "colab_type": "code",
        "outputId": "7171b24a-fa0b-45f4-8545-4baf18d6b84c",
        "colab": {
          "base_uri": "https://localhost:8080/",
          "height": 206
        }
      },
      "source": [
        "#Eliminando a coluna \"Data\" e visualizando dados\n",
        "dataSet = dataSet.drop(columns=\"Data\")\n",
        "dataSet.head()"
      ],
      "execution_count": 0,
      "outputs": [
        {
          "output_type": "execute_result",
          "data": {
            "text/html": [
              "<div>\n",
              "<style scoped>\n",
              "    .dataframe tbody tr th:only-of-type {\n",
              "        vertical-align: middle;\n",
              "    }\n",
              "\n",
              "    .dataframe tbody tr th {\n",
              "        vertical-align: top;\n",
              "    }\n",
              "\n",
              "    .dataframe thead th {\n",
              "        text-align: right;\n",
              "    }\n",
              "</style>\n",
              "<table border=\"1\" class=\"dataframe\">\n",
              "  <thead>\n",
              "    <tr style=\"text-align: right;\">\n",
              "      <th></th>\n",
              "      <th>Prec</th>\n",
              "      <th>TempMax</th>\n",
              "      <th>TempMin</th>\n",
              "      <th>Insolacao</th>\n",
              "      <th>EvapoPiche</th>\n",
              "      <th>TempCompMedia</th>\n",
              "      <th>UmidRelatMedia</th>\n",
              "      <th>VelocVento</th>\n",
              "    </tr>\n",
              "  </thead>\n",
              "  <tbody>\n",
              "    <tr>\n",
              "      <th>0</th>\n",
              "      <td>0.0</td>\n",
              "      <td>30.6</td>\n",
              "      <td>21.4</td>\n",
              "      <td>11.1</td>\n",
              "      <td>4.4</td>\n",
              "      <td>25.14</td>\n",
              "      <td>73.50</td>\n",
              "      <td>2.666667</td>\n",
              "    </tr>\n",
              "    <tr>\n",
              "      <th>1</th>\n",
              "      <td>0.0</td>\n",
              "      <td>31.0</td>\n",
              "      <td>19.6</td>\n",
              "      <td>11.9</td>\n",
              "      <td>6.5</td>\n",
              "      <td>24.92</td>\n",
              "      <td>74.75</td>\n",
              "      <td>1.666667</td>\n",
              "    </tr>\n",
              "    <tr>\n",
              "      <th>2</th>\n",
              "      <td>0.0</td>\n",
              "      <td>31.6</td>\n",
              "      <td>18.5</td>\n",
              "      <td>11.3</td>\n",
              "      <td>5.0</td>\n",
              "      <td>24.90</td>\n",
              "      <td>77.25</td>\n",
              "      <td>2.333333</td>\n",
              "    </tr>\n",
              "    <tr>\n",
              "      <th>3</th>\n",
              "      <td>0.0</td>\n",
              "      <td>31.2</td>\n",
              "      <td>20.7</td>\n",
              "      <td>10.3</td>\n",
              "      <td>4.0</td>\n",
              "      <td>24.82</td>\n",
              "      <td>80.75</td>\n",
              "      <td>3.666667</td>\n",
              "    </tr>\n",
              "    <tr>\n",
              "      <th>4</th>\n",
              "      <td>0.0</td>\n",
              "      <td>30.8</td>\n",
              "      <td>19.9</td>\n",
              "      <td>11.0</td>\n",
              "      <td>4.2</td>\n",
              "      <td>24.78</td>\n",
              "      <td>76.00</td>\n",
              "      <td>4.000000</td>\n",
              "    </tr>\n",
              "  </tbody>\n",
              "</table>\n",
              "</div>"
            ],
            "text/plain": [
              "   Prec  TempMax  TempMin  Insolacao  EvapoPiche  TempCompMedia  \\\n",
              "0   0.0     30.6     21.4       11.1         4.4          25.14   \n",
              "1   0.0     31.0     19.6       11.9         6.5          24.92   \n",
              "2   0.0     31.6     18.5       11.3         5.0          24.90   \n",
              "3   0.0     31.2     20.7       10.3         4.0          24.82   \n",
              "4   0.0     30.8     19.9       11.0         4.2          24.78   \n",
              "\n",
              "   UmidRelatMedia  VelocVento  \n",
              "0           73.50    2.666667  \n",
              "1           74.75    1.666667  \n",
              "2           77.25    2.333333  \n",
              "3           80.75    3.666667  \n",
              "4           76.00    4.000000  "
            ]
          },
          "metadata": {
            "tags": []
          },
          "execution_count": 18
        }
      ]
    },
    {
      "cell_type": "code",
      "metadata": {
        "id": "oPXso2gaeUoN",
        "colab_type": "code",
        "colab": {}
      },
      "source": [
        "#Decodificando as estações em uma matriz (one hot encoding - dummy variables)\n",
        "encoder = LabelEncoder()\n",
        "encoder.fit(estacao)\n",
        "encodedSeason = encoder.transform(estacao)\n",
        "dummySeason = np_utils.to_categorical(encodedSeason)"
      ],
      "execution_count": 0,
      "outputs": []
    },
    {
      "cell_type": "code",
      "metadata": {
        "id": "z3c5JCUHqBna",
        "colab_type": "code",
        "outputId": "581eef50-1f4c-4593-e4df-721fb123933f",
        "colab": {
          "base_uri": "https://localhost:8080/",
          "height": 104
        }
      },
      "source": [
        "#Identificar como aconteceu a transformação\n",
        "auxSeason = encoder.transform([\"Inv\",\"Out\",\"Pri\",\"Ver\"])\n",
        "auxDummy = np_utils.to_categorical(auxSeason)\n",
        "print(\"[Inv,Out,Pri,Ver]\")\n",
        "print(auxDummy)"
      ],
      "execution_count": 0,
      "outputs": [
        {
          "output_type": "stream",
          "text": [
            "[Inv,Out,Pri,Ver]\n",
            "[[1. 0. 0. 0.]\n",
            " [0. 1. 0. 0.]\n",
            " [0. 0. 1. 0.]\n",
            " [0. 0. 0. 1.]]\n"
          ],
          "name": "stdout"
        }
      ]
    },
    {
      "cell_type": "code",
      "metadata": {
        "id": "cWsOQWadAsGG",
        "colab_type": "code",
        "colab": {}
      },
      "source": [
        "#Separando a variável que será prevista, precipitação, da base de dados\n",
        "prec = dataSet[\"Prec\"]\n",
        "dataSet = dataSet.drop(columns = \"Prec\")"
      ],
      "execution_count": 0,
      "outputs": []
    },
    {
      "cell_type": "code",
      "metadata": {
        "id": "yEz1zDeWDvBs",
        "colab_type": "code",
        "colab": {}
      },
      "source": [
        "#Adicionando ao dataSet as informações de estação climática\n",
        "dataSet[\"Inv\"] = dummySeason[:,0]\n",
        "dataSet[\"Out\"] = dummySeason[:,1]\n",
        "dataSet[\"Pri\"] = dummySeason[:,2]\n",
        "dataSet[\"Ver\"] = dummySeason[:,3]"
      ],
      "execution_count": 0,
      "outputs": []
    },
    {
      "cell_type": "code",
      "metadata": {
        "id": "Y2eHNMUbET06",
        "colab_type": "code",
        "outputId": "29f7efba-8912-4ac8-8ac0-1835b71f1732",
        "colab": {
          "base_uri": "https://localhost:8080/",
          "height": 206
        }
      },
      "source": [
        "#Visualizando dados\n",
        "dataSet.head()"
      ],
      "execution_count": 0,
      "outputs": [
        {
          "output_type": "execute_result",
          "data": {
            "text/html": [
              "<div>\n",
              "<style scoped>\n",
              "    .dataframe tbody tr th:only-of-type {\n",
              "        vertical-align: middle;\n",
              "    }\n",
              "\n",
              "    .dataframe tbody tr th {\n",
              "        vertical-align: top;\n",
              "    }\n",
              "\n",
              "    .dataframe thead th {\n",
              "        text-align: right;\n",
              "    }\n",
              "</style>\n",
              "<table border=\"1\" class=\"dataframe\">\n",
              "  <thead>\n",
              "    <tr style=\"text-align: right;\">\n",
              "      <th></th>\n",
              "      <th>TempMax</th>\n",
              "      <th>TempMin</th>\n",
              "      <th>Insolacao</th>\n",
              "      <th>EvapoPiche</th>\n",
              "      <th>TempCompMedia</th>\n",
              "      <th>UmidRelatMedia</th>\n",
              "      <th>VelocVento</th>\n",
              "      <th>Inv</th>\n",
              "      <th>Out</th>\n",
              "      <th>Pri</th>\n",
              "      <th>Ver</th>\n",
              "    </tr>\n",
              "  </thead>\n",
              "  <tbody>\n",
              "    <tr>\n",
              "      <th>0</th>\n",
              "      <td>30.6</td>\n",
              "      <td>21.4</td>\n",
              "      <td>11.1</td>\n",
              "      <td>4.4</td>\n",
              "      <td>25.14</td>\n",
              "      <td>73.50</td>\n",
              "      <td>2.666667</td>\n",
              "      <td>0.0</td>\n",
              "      <td>0.0</td>\n",
              "      <td>0.0</td>\n",
              "      <td>1.0</td>\n",
              "    </tr>\n",
              "    <tr>\n",
              "      <th>1</th>\n",
              "      <td>31.0</td>\n",
              "      <td>19.6</td>\n",
              "      <td>11.9</td>\n",
              "      <td>6.5</td>\n",
              "      <td>24.92</td>\n",
              "      <td>74.75</td>\n",
              "      <td>1.666667</td>\n",
              "      <td>0.0</td>\n",
              "      <td>0.0</td>\n",
              "      <td>0.0</td>\n",
              "      <td>1.0</td>\n",
              "    </tr>\n",
              "    <tr>\n",
              "      <th>2</th>\n",
              "      <td>31.6</td>\n",
              "      <td>18.5</td>\n",
              "      <td>11.3</td>\n",
              "      <td>5.0</td>\n",
              "      <td>24.90</td>\n",
              "      <td>77.25</td>\n",
              "      <td>2.333333</td>\n",
              "      <td>0.0</td>\n",
              "      <td>0.0</td>\n",
              "      <td>0.0</td>\n",
              "      <td>1.0</td>\n",
              "    </tr>\n",
              "    <tr>\n",
              "      <th>3</th>\n",
              "      <td>31.2</td>\n",
              "      <td>20.7</td>\n",
              "      <td>10.3</td>\n",
              "      <td>4.0</td>\n",
              "      <td>24.82</td>\n",
              "      <td>80.75</td>\n",
              "      <td>3.666667</td>\n",
              "      <td>0.0</td>\n",
              "      <td>0.0</td>\n",
              "      <td>0.0</td>\n",
              "      <td>1.0</td>\n",
              "    </tr>\n",
              "    <tr>\n",
              "      <th>4</th>\n",
              "      <td>30.8</td>\n",
              "      <td>19.9</td>\n",
              "      <td>11.0</td>\n",
              "      <td>4.2</td>\n",
              "      <td>24.78</td>\n",
              "      <td>76.00</td>\n",
              "      <td>4.000000</td>\n",
              "      <td>0.0</td>\n",
              "      <td>0.0</td>\n",
              "      <td>0.0</td>\n",
              "      <td>1.0</td>\n",
              "    </tr>\n",
              "  </tbody>\n",
              "</table>\n",
              "</div>"
            ],
            "text/plain": [
              "   TempMax  TempMin  Insolacao  EvapoPiche  TempCompMedia  UmidRelatMedia  \\\n",
              "0     30.6     21.4       11.1         4.4          25.14           73.50   \n",
              "1     31.0     19.6       11.9         6.5          24.92           74.75   \n",
              "2     31.6     18.5       11.3         5.0          24.90           77.25   \n",
              "3     31.2     20.7       10.3         4.0          24.82           80.75   \n",
              "4     30.8     19.9       11.0         4.2          24.78           76.00   \n",
              "\n",
              "   VelocVento  Inv  Out  Pri  Ver  \n",
              "0    2.666667  0.0  0.0  0.0  1.0  \n",
              "1    1.666667  0.0  0.0  0.0  1.0  \n",
              "2    2.333333  0.0  0.0  0.0  1.0  \n",
              "3    3.666667  0.0  0.0  0.0  1.0  \n",
              "4    4.000000  0.0  0.0  0.0  1.0  "
            ]
          },
          "metadata": {
            "tags": []
          },
          "execution_count": 23
        }
      ]
    },
    {
      "cell_type": "code",
      "metadata": {
        "id": "e6AWMiNF2XgU",
        "colab_type": "code",
        "colab": {}
      },
      "source": [
        "#Separando conjunto de treino e teste\n",
        "X_train, X_test, Y_train, Y_test = train_test_split(dataSet, prec, test_size = 0.1, random_state = 9)"
      ],
      "execution_count": 0,
      "outputs": []
    },
    {
      "cell_type": "code",
      "metadata": {
        "id": "q9vTWZ9PCH4H",
        "colab_type": "code",
        "outputId": "edd39eec-1355-4358-c8d6-6a9a410d3220",
        "colab": {
          "base_uri": "https://localhost:8080/",
          "height": 72
        }
      },
      "source": [
        "#Efetuando uma transformação robusta, trabalhando com os dados entre os percentis 10 e 90\n",
        "mms = MinMaxScaler(feature_range=(-1, 1))\n",
        "X_train = mms.fit_transform(X_train)\n",
        "X_test = mms.transform(X_test)"
      ],
      "execution_count": 0,
      "outputs": [
        {
          "output_type": "stream",
          "text": [
            "/usr/local/lib/python3.6/dist-packages/sklearn/preprocessing/data.py:334: DataConversionWarning: Data with input dtype float32, float64 were all converted to float64 by MinMaxScaler.\n",
            "  return self.partial_fit(X, y)\n"
          ],
          "name": "stderr"
        }
      ]
    },
    {
      "cell_type": "code",
      "metadata": {
        "id": "GgM6EySIB4-I",
        "colab_type": "code",
        "colab": {}
      },
      "source": [
        "#Definindo uma função para criar a MLP\n",
        "def trainMLP(optimizer='adam', init='random_uniform', units = 11, camadas = 2):    \n",
        "  #Criando o modelo\n",
        "  mlp = Sequential()\n",
        "  #Adicionando a camada de entrada\n",
        "  mlp.add(Dense(activation = 'tanh', input_dim = 11, units = units, kernel_initializer = init, bias_initializer='zeros'))\n",
        "  #Adicionando as camadas escondidas\n",
        "  for i in range(camadas):\n",
        "    mlp.add(Dense(activation = 'tanh', units = units, kernel_initializer = init, bias_initializer='zeros'))\n",
        "  #Adicionando a camada de saída\n",
        "  mlp.add(Dense(units = 1, kernel_initializer=init, bias_initializer='zeros'))    \n",
        "  # Compilando o modelo\n",
        "  mlp.compile(loss='mean_squared_error', optimizer = optimizer, metrics= ['mae', 'msle'])\n",
        "  return mlp"
      ],
      "execution_count": 0,
      "outputs": []
    },
    {
      "cell_type": "code",
      "metadata": {
        "colab_type": "code",
        "id": "eqVxoZwYVAaJ",
        "colab": {}
      },
      "source": [
        "#Modelo de classificação do Keras\n",
        "estimator = KerasRegressor(build_fn=trainMLP, epochs = 200, verbose = 2)"
      ],
      "execution_count": 0,
      "outputs": []
    },
    {
      "cell_type": "code",
      "metadata": {
        "colab_type": "code",
        "id": "wGupNX3XU_kO",
        "colab": {}
      },
      "source": [
        "#Criando o objeto para Cross Validation\n",
        "kfold = KFold(n_splits=5, shuffle=True, random_state=7)"
      ],
      "execution_count": 0,
      "outputs": []
    },
    {
      "cell_type": "code",
      "metadata": {
        "id": "MQlUXb3SE7O-",
        "colab_type": "code",
        "colab": {}
      },
      "source": [
        "#Parâmetros para o Grid Search\n",
        "parameters = {'batch_size': [20,30],             \n",
        "              'camadas': [2],\n",
        "              'units': [11,15]}"
      ],
      "execution_count": 0,
      "outputs": []
    },
    {
      "cell_type": "code",
      "metadata": {
        "id": "uyU0TuUjOacd",
        "colab_type": "code",
        "colab": {}
      },
      "source": [
        "#Modelagem para buscar os melhores parâmetros\n",
        "grid_search = GridSearchCV(estimator = estimator, param_grid = parameters, n_jobs = -1,\n",
        "                     scoring = \"neg_mean_absolute_error\", verbose=50, cv = kfold, return_train_score = True)"
      ],
      "execution_count": 0,
      "outputs": []
    },
    {
      "cell_type": "code",
      "metadata": {
        "id": "M0yrJYODR7kb",
        "colab_type": "code",
        "outputId": "c2e80e96-2cfa-4996-c512-895881fb2707",
        "colab": {
          "base_uri": "https://localhost:8080/",
          "height": 7470
        }
      },
      "source": [
        "#Busca pelos melhores parâmetros\n",
        "grid_result = grid_search.fit(X_train, Y_train)"
      ],
      "execution_count": 0,
      "outputs": [
        {
          "output_type": "stream",
          "text": [
            "Fitting 5 folds for each of 4 candidates, totalling 20 fits\n",
            "[Parallel(n_jobs=-1)]: Using backend LokyBackend with 2 concurrent workers.\n",
            "[Parallel(n_jobs=-1)]: Done   1 tasks      | elapsed:  2.1min\n",
            "[Parallel(n_jobs=-1)]: Done   2 tasks      | elapsed:  2.1min\n",
            "[Parallel(n_jobs=-1)]: Done   3 tasks      | elapsed:  4.2min\n",
            "[Parallel(n_jobs=-1)]: Done   4 tasks      | elapsed:  4.2min\n",
            "[Parallel(n_jobs=-1)]: Done   5 tasks      | elapsed:  6.3min\n",
            "[Parallel(n_jobs=-1)]: Done   6 tasks      | elapsed:  6.4min\n",
            "[Parallel(n_jobs=-1)]: Done   7 tasks      | elapsed:  8.5min\n",
            "[Parallel(n_jobs=-1)]: Done   8 tasks      | elapsed:  8.6min\n",
            "[Parallel(n_jobs=-1)]: Done   9 tasks      | elapsed: 10.8min\n",
            "[Parallel(n_jobs=-1)]: Done  10 tasks      | elapsed: 10.8min\n",
            "[Parallel(n_jobs=-1)]: Done  11 tasks      | elapsed: 12.3min\n",
            "[Parallel(n_jobs=-1)]: Done  12 tasks      | elapsed: 12.3min\n",
            "[Parallel(n_jobs=-1)]: Done  13 tasks      | elapsed: 13.8min\n",
            "[Parallel(n_jobs=-1)]: Done  14 tasks      | elapsed: 13.9min\n",
            "[Parallel(n_jobs=-1)]: Done  15 tasks      | elapsed: 15.4min\n",
            "[Parallel(n_jobs=-1)]: Done  16 tasks      | elapsed: 15.5min\n",
            "[Parallel(n_jobs=-1)]: Done  17 tasks      | elapsed: 17.0min\n",
            "[Parallel(n_jobs=-1)]: Done  18 out of  20 | elapsed: 17.1min remaining:  1.9min\n",
            "[Parallel(n_jobs=-1)]: Done  20 out of  20 | elapsed: 18.7min remaining:    0.0s\n",
            "[Parallel(n_jobs=-1)]: Done  20 out of  20 | elapsed: 18.7min finished\n",
            "WARNING:tensorflow:From /usr/local/lib/python3.6/dist-packages/tensorflow/python/framework/op_def_library.py:263: colocate_with (from tensorflow.python.framework.ops) is deprecated and will be removed in a future version.\n",
            "Instructions for updating:\n",
            "Colocations handled automatically by placer.\n",
            "WARNING:tensorflow:From /usr/local/lib/python3.6/dist-packages/tensorflow/python/ops/math_ops.py:3066: to_int32 (from tensorflow.python.ops.math_ops) is deprecated and will be removed in a future version.\n",
            "Instructions for updating:\n",
            "Use tf.cast instead.\n",
            "Epoch 1/200\n",
            " - 1s - loss: 159.2153 - mean_absolute_error: 4.7736 - mean_squared_logarithmic_error: 1.2475\n",
            "Epoch 2/200\n",
            " - 1s - loss: 143.0561 - mean_absolute_error: 4.9176 - mean_squared_logarithmic_error: 1.1256\n",
            "Epoch 3/200\n",
            " - 1s - loss: 135.8099 - mean_absolute_error: 4.9853 - mean_squared_logarithmic_error: 1.1180\n",
            "Epoch 4/200\n",
            " - 1s - loss: 131.2580 - mean_absolute_error: 5.0047 - mean_squared_logarithmic_error: 1.1090\n",
            "Epoch 5/200\n",
            " - 1s - loss: 127.9296 - mean_absolute_error: 5.0339 - mean_squared_logarithmic_error: 1.1071\n",
            "Epoch 6/200\n",
            " - 1s - loss: 123.8709 - mean_absolute_error: 4.8679 - mean_squared_logarithmic_error: 1.0556\n",
            "Epoch 7/200\n",
            " - 1s - loss: 119.7128 - mean_absolute_error: 4.6232 - mean_squared_logarithmic_error: 0.9851\n",
            "Epoch 8/200\n",
            " - 1s - loss: 116.4386 - mean_absolute_error: 4.4980 - mean_squared_logarithmic_error: 0.9506\n",
            "Epoch 9/200\n",
            " - 1s - loss: 113.5497 - mean_absolute_error: 4.3710 - mean_squared_logarithmic_error: 0.9035\n",
            "Epoch 10/200\n",
            " - 1s - loss: 111.6900 - mean_absolute_error: 4.2910 - mean_squared_logarithmic_error: 0.8882\n",
            "Epoch 11/200\n",
            " - 1s - loss: 109.7541 - mean_absolute_error: 4.2114 - mean_squared_logarithmic_error: 0.8579\n",
            "Epoch 12/200\n",
            " - 0s - loss: 108.6561 - mean_absolute_error: 4.1680 - mean_squared_logarithmic_error: 0.8383\n",
            "Epoch 13/200\n",
            " - 0s - loss: 107.4146 - mean_absolute_error: 4.1572 - mean_squared_logarithmic_error: 0.8410\n",
            "Epoch 14/200\n",
            " - 0s - loss: 106.6587 - mean_absolute_error: 4.1362 - mean_squared_logarithmic_error: 0.8255\n",
            "Epoch 15/200\n",
            " - 0s - loss: 106.0702 - mean_absolute_error: 4.1609 - mean_squared_logarithmic_error: 0.8367\n",
            "Epoch 16/200\n",
            " - 0s - loss: 105.4729 - mean_absolute_error: 4.1412 - mean_squared_logarithmic_error: 0.8334\n",
            "Epoch 17/200\n",
            " - 0s - loss: 105.2751 - mean_absolute_error: 4.1549 - mean_squared_logarithmic_error: 0.8467\n",
            "Epoch 18/200\n",
            " - 0s - loss: 104.8380 - mean_absolute_error: 4.1480 - mean_squared_logarithmic_error: 0.8341\n",
            "Epoch 19/200\n",
            " - 0s - loss: 104.3208 - mean_absolute_error: 4.1316 - mean_squared_logarithmic_error: 0.8294\n",
            "Epoch 20/200\n",
            " - 0s - loss: 104.0010 - mean_absolute_error: 4.1405 - mean_squared_logarithmic_error: 0.8353\n",
            "Epoch 21/200\n",
            " - 0s - loss: 103.5819 - mean_absolute_error: 4.1188 - mean_squared_logarithmic_error: 0.8247\n",
            "Epoch 22/200\n",
            " - 0s - loss: 103.7235 - mean_absolute_error: 4.1290 - mean_squared_logarithmic_error: 0.8302\n",
            "Epoch 23/200\n",
            " - 1s - loss: 103.0831 - mean_absolute_error: 4.1239 - mean_squared_logarithmic_error: 0.8233\n",
            "Epoch 24/200\n",
            " - 0s - loss: 103.6763 - mean_absolute_error: 4.1415 - mean_squared_logarithmic_error: 0.8393\n",
            "Epoch 25/200\n",
            " - 1s - loss: 102.6228 - mean_absolute_error: 4.1345 - mean_squared_logarithmic_error: 0.8327\n",
            "Epoch 26/200\n",
            " - 0s - loss: 103.5790 - mean_absolute_error: 4.1397 - mean_squared_logarithmic_error: 0.8325\n",
            "Epoch 27/200\n",
            " - 1s - loss: 102.8508 - mean_absolute_error: 4.1354 - mean_squared_logarithmic_error: 0.8320\n",
            "Epoch 28/200\n",
            " - 0s - loss: 103.3211 - mean_absolute_error: 4.1411 - mean_squared_logarithmic_error: 0.8354\n",
            "Epoch 29/200\n",
            " - 0s - loss: 102.5199 - mean_absolute_error: 4.1464 - mean_squared_logarithmic_error: 0.8351\n",
            "Epoch 30/200\n",
            " - 0s - loss: 102.4182 - mean_absolute_error: 4.1408 - mean_squared_logarithmic_error: 0.8366\n",
            "Epoch 31/200\n",
            " - 0s - loss: 102.3120 - mean_absolute_error: 4.0999 - mean_squared_logarithmic_error: 0.8181\n",
            "Epoch 32/200\n",
            " - 0s - loss: 102.0026 - mean_absolute_error: 4.1352 - mean_squared_logarithmic_error: 0.8374\n",
            "Epoch 33/200\n",
            " - 0s - loss: 101.8593 - mean_absolute_error: 4.1144 - mean_squared_logarithmic_error: 0.8243\n",
            "Epoch 34/200\n",
            " - 1s - loss: 101.9582 - mean_absolute_error: 4.1118 - mean_squared_logarithmic_error: 0.8295\n",
            "Epoch 35/200\n",
            " - 0s - loss: 101.8416 - mean_absolute_error: 4.1259 - mean_squared_logarithmic_error: 0.8307\n",
            "Epoch 36/200\n",
            " - 0s - loss: 101.9707 - mean_absolute_error: 4.1059 - mean_squared_logarithmic_error: 0.8187\n",
            "Epoch 37/200\n",
            " - 0s - loss: 101.8964 - mean_absolute_error: 4.1342 - mean_squared_logarithmic_error: 0.8342\n",
            "Epoch 38/200\n",
            " - 0s - loss: 101.5823 - mean_absolute_error: 4.1106 - mean_squared_logarithmic_error: 0.8222\n",
            "Epoch 39/200\n",
            " - 0s - loss: 101.2246 - mean_absolute_error: 4.1214 - mean_squared_logarithmic_error: 0.8273\n",
            "Epoch 40/200\n",
            " - 0s - loss: 101.4377 - mean_absolute_error: 4.1153 - mean_squared_logarithmic_error: 0.8254\n",
            "Epoch 41/200\n",
            " - 0s - loss: 101.5586 - mean_absolute_error: 4.1104 - mean_squared_logarithmic_error: 0.8207\n",
            "Epoch 42/200\n",
            " - 0s - loss: 101.5305 - mean_absolute_error: 4.1234 - mean_squared_logarithmic_error: 0.8302\n",
            "Epoch 43/200\n",
            " - 0s - loss: 101.1135 - mean_absolute_error: 4.0946 - mean_squared_logarithmic_error: 0.8114\n",
            "Epoch 44/200\n",
            " - 0s - loss: 101.1265 - mean_absolute_error: 4.0944 - mean_squared_logarithmic_error: 0.8186\n",
            "Epoch 45/200\n",
            " - 0s - loss: 100.8408 - mean_absolute_error: 4.1060 - mean_squared_logarithmic_error: 0.8202\n",
            "Epoch 46/200\n",
            " - 0s - loss: 100.6039 - mean_absolute_error: 4.0883 - mean_squared_logarithmic_error: 0.8114\n",
            "Epoch 47/200\n",
            " - 0s - loss: 100.2801 - mean_absolute_error: 4.1051 - mean_squared_logarithmic_error: 0.8287\n",
            "Epoch 48/200\n",
            " - 0s - loss: 100.9407 - mean_absolute_error: 4.1254 - mean_squared_logarithmic_error: 0.8272\n",
            "Epoch 49/200\n",
            " - 0s - loss: 100.5890 - mean_absolute_error: 4.0838 - mean_squared_logarithmic_error: 0.8113\n",
            "Epoch 50/200\n",
            " - 0s - loss: 100.4719 - mean_absolute_error: 4.1127 - mean_squared_logarithmic_error: 0.8216\n",
            "Epoch 51/200\n",
            " - 0s - loss: 100.8872 - mean_absolute_error: 4.1031 - mean_squared_logarithmic_error: 0.8191\n",
            "Epoch 52/200\n",
            " - 0s - loss: 100.7378 - mean_absolute_error: 4.1052 - mean_squared_logarithmic_error: 0.8210\n",
            "Epoch 53/200\n",
            " - 0s - loss: 100.3505 - mean_absolute_error: 4.0786 - mean_squared_logarithmic_error: 0.8140\n",
            "Epoch 54/200\n",
            " - 0s - loss: 100.2013 - mean_absolute_error: 4.0760 - mean_squared_logarithmic_error: 0.8092\n",
            "Epoch 55/200\n",
            " - 0s - loss: 100.0857 - mean_absolute_error: 4.1150 - mean_squared_logarithmic_error: 0.8191\n",
            "Epoch 56/200\n",
            " - 0s - loss: 100.2063 - mean_absolute_error: 4.0860 - mean_squared_logarithmic_error: 0.8127\n",
            "Epoch 57/200\n",
            " - 0s - loss: 100.4841 - mean_absolute_error: 4.0923 - mean_squared_logarithmic_error: 0.8128\n",
            "Epoch 58/200\n",
            " - 0s - loss: 99.9824 - mean_absolute_error: 4.0994 - mean_squared_logarithmic_error: 0.8195\n",
            "Epoch 59/200\n",
            " - 0s - loss: 100.3629 - mean_absolute_error: 4.0901 - mean_squared_logarithmic_error: 0.8058\n",
            "Epoch 60/200\n",
            " - 0s - loss: 99.8896 - mean_absolute_error: 4.0942 - mean_squared_logarithmic_error: 0.8216\n",
            "Epoch 61/200\n",
            " - 0s - loss: 100.2421 - mean_absolute_error: 4.0819 - mean_squared_logarithmic_error: 0.8097\n",
            "Epoch 62/200\n",
            " - 0s - loss: 99.8023 - mean_absolute_error: 4.0784 - mean_squared_logarithmic_error: 0.8119\n",
            "Epoch 63/200\n",
            " - 0s - loss: 100.2546 - mean_absolute_error: 4.1077 - mean_squared_logarithmic_error: 0.8179\n",
            "Epoch 64/200\n",
            " - 0s - loss: 100.0819 - mean_absolute_error: 4.0925 - mean_squared_logarithmic_error: 0.8127\n",
            "Epoch 65/200\n",
            " - 0s - loss: 99.6413 - mean_absolute_error: 4.0768 - mean_squared_logarithmic_error: 0.8128\n",
            "Epoch 66/200\n",
            " - 0s - loss: 98.9783 - mean_absolute_error: 4.0604 - mean_squared_logarithmic_error: 0.8015\n",
            "Epoch 67/200\n",
            " - 0s - loss: 99.7861 - mean_absolute_error: 4.0972 - mean_squared_logarithmic_error: 0.8189\n",
            "Epoch 68/200\n",
            " - 0s - loss: 99.7560 - mean_absolute_error: 4.0734 - mean_squared_logarithmic_error: 0.8013\n",
            "Epoch 69/200\n",
            " - 0s - loss: 99.5188 - mean_absolute_error: 4.0666 - mean_squared_logarithmic_error: 0.8001\n",
            "Epoch 70/200\n",
            " - 0s - loss: 99.3904 - mean_absolute_error: 4.0669 - mean_squared_logarithmic_error: 0.8061\n",
            "Epoch 71/200\n",
            " - 0s - loss: 99.1903 - mean_absolute_error: 4.0799 - mean_squared_logarithmic_error: 0.8059\n",
            "Epoch 72/200\n",
            " - 0s - loss: 99.0397 - mean_absolute_error: 4.0794 - mean_squared_logarithmic_error: 0.8105\n",
            "Epoch 73/200\n",
            " - 0s - loss: 99.3589 - mean_absolute_error: 4.0827 - mean_squared_logarithmic_error: 0.8082\n",
            "Epoch 74/200\n",
            " - 0s - loss: 99.5943 - mean_absolute_error: 4.0783 - mean_squared_logarithmic_error: 0.8054\n",
            "Epoch 75/200\n",
            " - 0s - loss: 99.0276 - mean_absolute_error: 4.0644 - mean_squared_logarithmic_error: 0.7976\n",
            "Epoch 76/200\n",
            " - 0s - loss: 99.0390 - mean_absolute_error: 4.0776 - mean_squared_logarithmic_error: 0.8082\n",
            "Epoch 77/200\n",
            " - 0s - loss: 99.6016 - mean_absolute_error: 4.0525 - mean_squared_logarithmic_error: 0.7945\n",
            "Epoch 78/200\n",
            " - 0s - loss: 99.2803 - mean_absolute_error: 4.0743 - mean_squared_logarithmic_error: 0.8061\n",
            "Epoch 79/200\n",
            " - 0s - loss: 99.0887 - mean_absolute_error: 4.0684 - mean_squared_logarithmic_error: 0.8007\n",
            "Epoch 80/200\n",
            " - 0s - loss: 98.8184 - mean_absolute_error: 4.0642 - mean_squared_logarithmic_error: 0.8002\n",
            "Epoch 81/200\n",
            " - 0s - loss: 98.9048 - mean_absolute_error: 4.0414 - mean_squared_logarithmic_error: 0.7886\n",
            "Epoch 82/200\n",
            " - 0s - loss: 99.0007 - mean_absolute_error: 4.0501 - mean_squared_logarithmic_error: 0.7944\n",
            "Epoch 83/200\n",
            " - 0s - loss: 98.9211 - mean_absolute_error: 4.0653 - mean_squared_logarithmic_error: 0.7978\n",
            "Epoch 84/200\n",
            " - 0s - loss: 98.8001 - mean_absolute_error: 4.0675 - mean_squared_logarithmic_error: 0.7979\n",
            "Epoch 85/200\n",
            " - 0s - loss: 98.8490 - mean_absolute_error: 4.0411 - mean_squared_logarithmic_error: 0.7945\n",
            "Epoch 86/200\n",
            " - 0s - loss: 98.8369 - mean_absolute_error: 4.0662 - mean_squared_logarithmic_error: 0.7953\n",
            "Epoch 87/200\n",
            " - 0s - loss: 98.6809 - mean_absolute_error: 4.0598 - mean_squared_logarithmic_error: 0.8037\n",
            "Epoch 88/200\n",
            " - 0s - loss: 98.8854 - mean_absolute_error: 4.0602 - mean_squared_logarithmic_error: 0.7997\n",
            "Epoch 89/200\n",
            " - 0s - loss: 98.6443 - mean_absolute_error: 4.0603 - mean_squared_logarithmic_error: 0.7914\n",
            "Epoch 90/200\n",
            " - 0s - loss: 98.6156 - mean_absolute_error: 4.0644 - mean_squared_logarithmic_error: 0.7970\n",
            "Epoch 91/200\n",
            " - 0s - loss: 98.7874 - mean_absolute_error: 4.0547 - mean_squared_logarithmic_error: 0.7912\n",
            "Epoch 92/200\n",
            " - 0s - loss: 98.1843 - mean_absolute_error: 4.0293 - mean_squared_logarithmic_error: 0.7834\n",
            "Epoch 93/200\n",
            " - 0s - loss: 98.6454 - mean_absolute_error: 4.0730 - mean_squared_logarithmic_error: 0.7972\n",
            "Epoch 94/200\n",
            " - 0s - loss: 98.2556 - mean_absolute_error: 4.0479 - mean_squared_logarithmic_error: 0.7962\n",
            "Epoch 95/200\n",
            " - 0s - loss: 97.9656 - mean_absolute_error: 4.0549 - mean_squared_logarithmic_error: 0.7981\n",
            "Epoch 96/200\n",
            " - 0s - loss: 98.4571 - mean_absolute_error: 4.0336 - mean_squared_logarithmic_error: 0.7885\n",
            "Epoch 97/200\n",
            " - 0s - loss: 98.4610 - mean_absolute_error: 4.0554 - mean_squared_logarithmic_error: 0.7952\n",
            "Epoch 98/200\n",
            " - 0s - loss: 98.3746 - mean_absolute_error: 4.0542 - mean_squared_logarithmic_error: 0.7958\n",
            "Epoch 99/200\n",
            " - 0s - loss: 97.9860 - mean_absolute_error: 4.0422 - mean_squared_logarithmic_error: 0.7892\n",
            "Epoch 100/200\n",
            " - 0s - loss: 98.4188 - mean_absolute_error: 4.0582 - mean_squared_logarithmic_error: 0.7913\n",
            "Epoch 101/200\n",
            " - 0s - loss: 98.3437 - mean_absolute_error: 4.0248 - mean_squared_logarithmic_error: 0.7833\n",
            "Epoch 102/200\n",
            " - 0s - loss: 98.4666 - mean_absolute_error: 4.0848 - mean_squared_logarithmic_error: 0.8052\n",
            "Epoch 103/200\n",
            " - 0s - loss: 98.2021 - mean_absolute_error: 4.0291 - mean_squared_logarithmic_error: 0.7852\n",
            "Epoch 104/200\n",
            " - 0s - loss: 98.2198 - mean_absolute_error: 4.0580 - mean_squared_logarithmic_error: 0.7973\n",
            "Epoch 105/200\n",
            " - 0s - loss: 97.7055 - mean_absolute_error: 4.0223 - mean_squared_logarithmic_error: 0.7765\n",
            "Epoch 106/200\n",
            " - 0s - loss: 98.1545 - mean_absolute_error: 4.0496 - mean_squared_logarithmic_error: 0.7897\n",
            "Epoch 107/200\n",
            " - 0s - loss: 97.9395 - mean_absolute_error: 4.0440 - mean_squared_logarithmic_error: 0.7915\n",
            "Epoch 108/200\n",
            " - 0s - loss: 98.0960 - mean_absolute_error: 4.0559 - mean_squared_logarithmic_error: 0.7935\n",
            "Epoch 109/200\n",
            " - 0s - loss: 97.9203 - mean_absolute_error: 4.0504 - mean_squared_logarithmic_error: 0.7898\n",
            "Epoch 110/200\n",
            " - 0s - loss: 97.4346 - mean_absolute_error: 4.0210 - mean_squared_logarithmic_error: 0.7833\n",
            "Epoch 111/200\n",
            " - 0s - loss: 97.8897 - mean_absolute_error: 4.0452 - mean_squared_logarithmic_error: 0.7847\n",
            "Epoch 112/200\n",
            " - 0s - loss: 97.9112 - mean_absolute_error: 4.0294 - mean_squared_logarithmic_error: 0.7827\n",
            "Epoch 113/200\n",
            " - 0s - loss: 97.3498 - mean_absolute_error: 4.0275 - mean_squared_logarithmic_error: 0.7857\n",
            "Epoch 114/200\n",
            " - 0s - loss: 97.7896 - mean_absolute_error: 4.0184 - mean_squared_logarithmic_error: 0.7798\n",
            "Epoch 115/200\n",
            " - 0s - loss: 98.0612 - mean_absolute_error: 4.0414 - mean_squared_logarithmic_error: 0.7856\n",
            "Epoch 116/200\n",
            " - 0s - loss: 97.0295 - mean_absolute_error: 4.0175 - mean_squared_logarithmic_error: 0.7795\n",
            "Epoch 117/200\n",
            " - 0s - loss: 97.5580 - mean_absolute_error: 4.0521 - mean_squared_logarithmic_error: 0.7977\n",
            "Epoch 118/200\n",
            " - 0s - loss: 97.2832 - mean_absolute_error: 4.0336 - mean_squared_logarithmic_error: 0.7826\n",
            "Epoch 119/200\n",
            " - 0s - loss: 97.4407 - mean_absolute_error: 4.0215 - mean_squared_logarithmic_error: 0.7807\n",
            "Epoch 120/200\n",
            " - 0s - loss: 96.7293 - mean_absolute_error: 3.9914 - mean_squared_logarithmic_error: 0.7749\n",
            "Epoch 121/200\n",
            " - 0s - loss: 97.3459 - mean_absolute_error: 4.0304 - mean_squared_logarithmic_error: 0.7850\n",
            "Epoch 122/200\n",
            " - 0s - loss: 96.9226 - mean_absolute_error: 4.0366 - mean_squared_logarithmic_error: 0.7939\n",
            "Epoch 123/200\n",
            " - 0s - loss: 97.4148 - mean_absolute_error: 3.9998 - mean_squared_logarithmic_error: 0.7709\n",
            "Epoch 124/200\n",
            " - 0s - loss: 97.1766 - mean_absolute_error: 4.0450 - mean_squared_logarithmic_error: 0.7874\n",
            "Epoch 125/200\n",
            " - 0s - loss: 97.1166 - mean_absolute_error: 4.0278 - mean_squared_logarithmic_error: 0.7848\n",
            "Epoch 126/200\n",
            " - 0s - loss: 96.9321 - mean_absolute_error: 3.9989 - mean_squared_logarithmic_error: 0.7718\n",
            "Epoch 127/200\n",
            " - 0s - loss: 97.0533 - mean_absolute_error: 4.0189 - mean_squared_logarithmic_error: 0.7771\n",
            "Epoch 128/200\n",
            " - 0s - loss: 97.0930 - mean_absolute_error: 4.0073 - mean_squared_logarithmic_error: 0.7783\n",
            "Epoch 129/200\n",
            " - 0s - loss: 97.2262 - mean_absolute_error: 4.0232 - mean_squared_logarithmic_error: 0.7740\n",
            "Epoch 130/200\n",
            " - 0s - loss: 97.0460 - mean_absolute_error: 4.0373 - mean_squared_logarithmic_error: 0.7885\n",
            "Epoch 131/200\n",
            " - 0s - loss: 97.1247 - mean_absolute_error: 3.9795 - mean_squared_logarithmic_error: 0.7665\n",
            "Epoch 132/200\n",
            " - 0s - loss: 96.5872 - mean_absolute_error: 4.0192 - mean_squared_logarithmic_error: 0.7845\n",
            "Epoch 133/200\n",
            " - 0s - loss: 96.5118 - mean_absolute_error: 4.0139 - mean_squared_logarithmic_error: 0.7758\n",
            "Epoch 134/200\n",
            " - 0s - loss: 96.9291 - mean_absolute_error: 4.0149 - mean_squared_logarithmic_error: 0.7767\n",
            "Epoch 135/200\n",
            " - 0s - loss: 96.6123 - mean_absolute_error: 4.0086 - mean_squared_logarithmic_error: 0.7801\n",
            "Epoch 136/200\n",
            " - 0s - loss: 96.4944 - mean_absolute_error: 4.0331 - mean_squared_logarithmic_error: 0.7909\n",
            "Epoch 137/200\n",
            " - 0s - loss: 96.1326 - mean_absolute_error: 3.9914 - mean_squared_logarithmic_error: 0.7798\n",
            "Epoch 138/200\n",
            " - 0s - loss: 96.5969 - mean_absolute_error: 3.9889 - mean_squared_logarithmic_error: 0.7670\n",
            "Epoch 139/200\n",
            " - 0s - loss: 96.8966 - mean_absolute_error: 4.0020 - mean_squared_logarithmic_error: 0.7719\n",
            "Epoch 140/200\n",
            " - 0s - loss: 96.6917 - mean_absolute_error: 4.0011 - mean_squared_logarithmic_error: 0.7709\n",
            "Epoch 141/200\n",
            " - 0s - loss: 96.8838 - mean_absolute_error: 4.0386 - mean_squared_logarithmic_error: 0.7819\n",
            "Epoch 142/200\n",
            " - 0s - loss: 96.5880 - mean_absolute_error: 4.0111 - mean_squared_logarithmic_error: 0.7800\n",
            "Epoch 143/200\n",
            " - 0s - loss: 96.1104 - mean_absolute_error: 4.0087 - mean_squared_logarithmic_error: 0.7795\n",
            "Epoch 144/200\n",
            " - 0s - loss: 95.5205 - mean_absolute_error: 3.9851 - mean_squared_logarithmic_error: 0.7696\n",
            "Epoch 145/200\n",
            " - 0s - loss: 96.2037 - mean_absolute_error: 4.0101 - mean_squared_logarithmic_error: 0.7772\n",
            "Epoch 146/200\n",
            " - 0s - loss: 96.2978 - mean_absolute_error: 4.0069 - mean_squared_logarithmic_error: 0.7741\n",
            "Epoch 147/200\n",
            " - 0s - loss: 97.5164 - mean_absolute_error: 4.0482 - mean_squared_logarithmic_error: 0.7888\n",
            "Epoch 148/200\n",
            " - 0s - loss: 96.5025 - mean_absolute_error: 4.0182 - mean_squared_logarithmic_error: 0.7755\n",
            "Epoch 149/200\n",
            " - 0s - loss: 95.8389 - mean_absolute_error: 3.9938 - mean_squared_logarithmic_error: 0.7705\n",
            "Epoch 150/200\n",
            " - 0s - loss: 95.5789 - mean_absolute_error: 3.9921 - mean_squared_logarithmic_error: 0.7746\n",
            "Epoch 151/200\n",
            " - 0s - loss: 96.0565 - mean_absolute_error: 4.0277 - mean_squared_logarithmic_error: 0.7827\n",
            "Epoch 152/200\n",
            " - 0s - loss: 96.0447 - mean_absolute_error: 3.9829 - mean_squared_logarithmic_error: 0.7653\n",
            "Epoch 153/200\n",
            " - 0s - loss: 96.3382 - mean_absolute_error: 4.0216 - mean_squared_logarithmic_error: 0.7811\n",
            "Epoch 154/200\n",
            " - 0s - loss: 96.0354 - mean_absolute_error: 4.0082 - mean_squared_logarithmic_error: 0.7755\n",
            "Epoch 155/200\n",
            " - 0s - loss: 95.5988 - mean_absolute_error: 4.0062 - mean_squared_logarithmic_error: 0.7754\n",
            "Epoch 156/200\n",
            " - 0s - loss: 95.8687 - mean_absolute_error: 3.9709 - mean_squared_logarithmic_error: 0.7701\n",
            "Epoch 157/200\n",
            " - 0s - loss: 95.1541 - mean_absolute_error: 3.9988 - mean_squared_logarithmic_error: 0.7752\n",
            "Epoch 158/200\n",
            " - 1s - loss: 96.1869 - mean_absolute_error: 3.9904 - mean_squared_logarithmic_error: 0.7673\n",
            "Epoch 159/200\n",
            " - 0s - loss: 95.6891 - mean_absolute_error: 3.9807 - mean_squared_logarithmic_error: 0.7709\n",
            "Epoch 160/200\n",
            " - 0s - loss: 95.4338 - mean_absolute_error: 3.9928 - mean_squared_logarithmic_error: 0.7747\n",
            "Epoch 161/200\n",
            " - 0s - loss: 95.7467 - mean_absolute_error: 4.0148 - mean_squared_logarithmic_error: 0.7828\n",
            "Epoch 162/200\n",
            " - 0s - loss: 95.8307 - mean_absolute_error: 3.9899 - mean_squared_logarithmic_error: 0.7660\n",
            "Epoch 163/200\n",
            " - 0s - loss: 96.0734 - mean_absolute_error: 4.0240 - mean_squared_logarithmic_error: 0.7819\n",
            "Epoch 164/200\n",
            " - 0s - loss: 95.7130 - mean_absolute_error: 3.9941 - mean_squared_logarithmic_error: 0.7692\n",
            "Epoch 165/200\n",
            " - 0s - loss: 95.2382 - mean_absolute_error: 3.9888 - mean_squared_logarithmic_error: 0.7699\n",
            "Epoch 166/200\n",
            " - 0s - loss: 94.8923 - mean_absolute_error: 3.9919 - mean_squared_logarithmic_error: 0.7796\n",
            "Epoch 167/200\n",
            " - 0s - loss: 95.4621 - mean_absolute_error: 3.9934 - mean_squared_logarithmic_error: 0.7671\n",
            "Epoch 168/200\n",
            " - 0s - loss: 95.2371 - mean_absolute_error: 4.0044 - mean_squared_logarithmic_error: 0.7737\n",
            "Epoch 169/200\n",
            " - 0s - loss: 95.3639 - mean_absolute_error: 3.9899 - mean_squared_logarithmic_error: 0.7726\n",
            "Epoch 170/200\n",
            " - 1s - loss: 95.3568 - mean_absolute_error: 3.9866 - mean_squared_logarithmic_error: 0.7714\n",
            "Epoch 171/200\n",
            " - 1s - loss: 95.4422 - mean_absolute_error: 3.9854 - mean_squared_logarithmic_error: 0.7610\n",
            "Epoch 172/200\n",
            " - 0s - loss: 94.5421 - mean_absolute_error: 3.9949 - mean_squared_logarithmic_error: 0.7814\n",
            "Epoch 173/200\n",
            " - 0s - loss: 95.7725 - mean_absolute_error: 4.0088 - mean_squared_logarithmic_error: 0.7812\n",
            "Epoch 174/200\n",
            " - 0s - loss: 95.2921 - mean_absolute_error: 3.9941 - mean_squared_logarithmic_error: 0.7700\n",
            "Epoch 175/200\n",
            " - 0s - loss: 95.0300 - mean_absolute_error: 3.9705 - mean_squared_logarithmic_error: 0.7616\n",
            "Epoch 176/200\n",
            " - 0s - loss: 95.6162 - mean_absolute_error: 4.0223 - mean_squared_logarithmic_error: 0.7835\n",
            "Epoch 177/200\n",
            " - 0s - loss: 94.4296 - mean_absolute_error: 3.9805 - mean_squared_logarithmic_error: 0.7690\n",
            "Epoch 178/200\n",
            " - 0s - loss: 95.0434 - mean_absolute_error: 3.9751 - mean_squared_logarithmic_error: 0.7654\n",
            "Epoch 179/200\n",
            " - 0s - loss: 94.7955 - mean_absolute_error: 3.9894 - mean_squared_logarithmic_error: 0.7750\n",
            "Epoch 180/200\n",
            " - 0s - loss: 95.7341 - mean_absolute_error: 3.9862 - mean_squared_logarithmic_error: 0.7670\n",
            "Epoch 181/200\n",
            " - 0s - loss: 94.7945 - mean_absolute_error: 3.9958 - mean_squared_logarithmic_error: 0.7745\n",
            "Epoch 182/200\n",
            " - 1s - loss: 94.6697 - mean_absolute_error: 3.9846 - mean_squared_logarithmic_error: 0.7732\n",
            "Epoch 183/200\n",
            " - 0s - loss: 95.2169 - mean_absolute_error: 3.9854 - mean_squared_logarithmic_error: 0.7697\n",
            "Epoch 184/200\n",
            " - 0s - loss: 94.6193 - mean_absolute_error: 3.9995 - mean_squared_logarithmic_error: 0.7772\n",
            "Epoch 185/200\n",
            " - 0s - loss: 94.7027 - mean_absolute_error: 3.9611 - mean_squared_logarithmic_error: 0.7667\n",
            "Epoch 186/200\n",
            " - 0s - loss: 94.1887 - mean_absolute_error: 3.9746 - mean_squared_logarithmic_error: 0.7723\n",
            "Epoch 187/200\n",
            " - 0s - loss: 94.6434 - mean_absolute_error: 3.9794 - mean_squared_logarithmic_error: 0.7754\n",
            "Epoch 188/200\n",
            " - 0s - loss: 94.2864 - mean_absolute_error: 3.9715 - mean_squared_logarithmic_error: 0.7681\n",
            "Epoch 189/200\n",
            " - 0s - loss: 94.6016 - mean_absolute_error: 3.9590 - mean_squared_logarithmic_error: 0.7632\n",
            "Epoch 190/200\n",
            " - 0s - loss: 95.0949 - mean_absolute_error: 4.0099 - mean_squared_logarithmic_error: 0.7811\n",
            "Epoch 191/200\n",
            " - 0s - loss: 94.3742 - mean_absolute_error: 3.9744 - mean_squared_logarithmic_error: 0.7627\n",
            "Epoch 192/200\n",
            " - 0s - loss: 94.5750 - mean_absolute_error: 3.9832 - mean_squared_logarithmic_error: 0.7758\n",
            "Epoch 193/200\n",
            " - 0s - loss: 94.7098 - mean_absolute_error: 3.9894 - mean_squared_logarithmic_error: 0.7700\n",
            "Epoch 194/200\n",
            " - 0s - loss: 94.3136 - mean_absolute_error: 3.9922 - mean_squared_logarithmic_error: 0.7753\n",
            "Epoch 195/200\n",
            " - 0s - loss: 94.8591 - mean_absolute_error: 3.9884 - mean_squared_logarithmic_error: 0.7716\n",
            "Epoch 196/200\n",
            " - 0s - loss: 94.6520 - mean_absolute_error: 3.9836 - mean_squared_logarithmic_error: 0.7771\n",
            "Epoch 197/200\n",
            " - 0s - loss: 95.1882 - mean_absolute_error: 4.0001 - mean_squared_logarithmic_error: 0.7649\n",
            "Epoch 198/200\n",
            " - 0s - loss: 93.9844 - mean_absolute_error: 3.9856 - mean_squared_logarithmic_error: 0.7724\n",
            "Epoch 199/200\n",
            " - 0s - loss: 93.9879 - mean_absolute_error: 3.9785 - mean_squared_logarithmic_error: 0.7728\n",
            "Epoch 200/200\n",
            " - 0s - loss: 93.8284 - mean_absolute_error: 3.9686 - mean_squared_logarithmic_error: 0.7741\n"
          ],
          "name": "stdout"
        }
      ]
    },
    {
      "cell_type": "code",
      "metadata": {
        "id": "niuNkZazQT5L",
        "colab_type": "code",
        "outputId": "751de10c-ab11-4d53-b66b-22169a8e5fe0",
        "colab": {
          "base_uri": "https://localhost:8080/",
          "height": 121
        }
      },
      "source": [
        "#Exibição dos melhores resultados\n",
        "print(\"Melhor resultado: %f, usando %s\" % (grid_result.best_score_, grid_result.best_params_))\n",
        "means = grid_result.cv_results_['mean_test_score']\n",
        "stds = grid_result.cv_results_['std_test_score']\n",
        "params = grid_result.cv_results_['params']\n",
        "print(\"Resultados (Desvio padrão) {Parâmetros}\")\n",
        "for mean, stdev, param in zip(means, stds, params):\n",
        "\tprint(\"%f (%f) %r\" % (mean, stdev, param))"
      ],
      "execution_count": 0,
      "outputs": [
        {
          "output_type": "stream",
          "text": [
            "Melhor resultado: -4.001008, usando {'batch_size': 20, 'camadas': 2, 'units': 11}\n",
            "Resultados (Desvio padrão) {Parâmetros}\n",
            "-4.001008 (0.153919) {'batch_size': 20, 'camadas': 2, 'units': 11}\n",
            "-4.117252 (0.172824) {'batch_size': 20, 'camadas': 2, 'units': 15}\n",
            "-4.188511 (0.168735) {'batch_size': 30, 'camadas': 2, 'units': 11}\n",
            "-4.150350 (0.183767) {'batch_size': 30, 'camadas': 2, 'units': 15}\n"
          ],
          "name": "stdout"
        }
      ]
    },
    {
      "cell_type": "code",
      "metadata": {
        "id": "0QSQ5olWu4Lx",
        "colab_type": "code",
        "outputId": "978dfcfb-5e32-487b-9a69-497495157037",
        "colab": {
          "base_uri": "https://localhost:8080/",
          "height": 286
        }
      },
      "source": [
        "#Gráfico de distribuição da previsão para o conjunto de teste\n",
        "plt.scatter(list(range(len(grid_search.predict(X_test)))), grid_search.predict(X_test))"
      ],
      "execution_count": 0,
      "outputs": [
        {
          "output_type": "execute_result",
          "data": {
            "text/plain": [
              "<matplotlib.collections.PathCollection at 0x7f5ff3fa5860>"
            ]
          },
          "metadata": {
            "tags": []
          },
          "execution_count": 35
        },
        {
          "output_type": "display_data",
          "data": {
            "image/png": "[encoded data removed]",
            "text/plain": [
              "<Figure size 432x288 with 1 Axes>"
            ]
          },
          "metadata": {
            "tags": []
          }
        }
      ]
    },
    {
      "cell_type": "code",
      "metadata": {
        "id": "wrhi2JjnvLSR",
        "colab_type": "code",
        "outputId": "772073c0-efb2-4244-d2cb-25c2e30f71bf",
        "colab": {
          "base_uri": "https://localhost:8080/",
          "height": 286
        }
      },
      "source": [
        "#Gráfico de distribuição das variáveis de teste reais\n",
        "plt.scatter(list(range(len(Y_test))), Y_test)"
      ],
      "execution_count": 0,
      "outputs": [
        {
          "output_type": "execute_result",
          "data": {
            "text/plain": [
              "<matplotlib.collections.PathCollection at 0x7f5ff3f4e9b0>"
            ]
          },
          "metadata": {
            "tags": []
          },
          "execution_count": 36
        },
        {
          "output_type": "display_data",
          "data": {
            "image/png": "[encoded data removed]",
            "text/plain": [
              "<Figure size 432x288 with 1 Axes>"
            ]
          },
          "metadata": {
            "tags": []
          }
        }
      ]
    },
    {
      "cell_type": "code",
      "metadata": {
        "id": "qd6jAdoA7qI2",
        "colab_type": "code",
        "outputId": "e87f1bc1-ba7b-4718-ee4a-5356bbd70c4a",
        "colab": {
          "base_uri": "https://localhost:8080/",
          "height": 286
        }
      },
      "source": [
        "#Gráfico de previsão para o conjunto de treino\n",
        "plt.scatter(grid_search.predict(X_train), Y_train)"
      ],
      "execution_count": 0,
      "outputs": [
        {
          "output_type": "execute_result",
          "data": {
            "text/plain": [
              "<matplotlib.collections.PathCollection at 0x7f5ff3f2ab00>"
            ]
          },
          "metadata": {
            "tags": []
          },
          "execution_count": 37
        },
        {
          "output_type": "display_data",
          "data": {
            "image/png": "[encoded data removed]",
            "text/plain": [
              "<Figure size 432x288 with 1 Axes>"
            ]
          },
          "metadata": {
            "tags": []
          }
        }
      ]
    },
    {
      "cell_type": "code",
      "metadata": {
        "id": "ikJ6SCU-798i",
        "colab_type": "code",
        "outputId": "da1ad648-66f0-4bf4-dc16-badd83f5ae35",
        "colab": {
          "base_uri": "https://localhost:8080/",
          "height": 286
        }
      },
      "source": [
        "#Gráfico de previsão para o conjunto de treino normalizado\n",
        "plt.scatter(grid_search.predict(X_train) / max(grid_search.predict(X_train)), Y_train / max(Y_train))"
      ],
      "execution_count": 0,
      "outputs": [
        {
          "output_type": "execute_result",
          "data": {
            "text/plain": [
              "<matplotlib.collections.PathCollection at 0x7f5ff2bf6eb8>"
            ]
          },
          "metadata": {
            "tags": []
          },
          "execution_count": 38
        },
        {
          "output_type": "display_data",
          "data": {
            "image/png": "[encoded data removed]",
            "text/plain": [
              "<Figure size 432x288 with 1 Axes>"
            ]
          },
          "metadata": {
            "tags": []
          }
        }
      ]
    },
    {
      "cell_type": "code",
      "metadata": {
        "id": "odMh7NI5A413",
        "colab_type": "code",
        "outputId": "cec63eea-ccfa-4301-9c99-ee3fc9cd1bc7",
        "colab": {
          "base_uri": "https://localhost:8080/",
          "height": 52
        }
      },
      "source": [
        "#Mostrando uma matriz de correlação das variáveis com a melhor modelagem\n",
        "print(np.corrcoef(Y_train, grid_search.predict(X_train)))"
      ],
      "execution_count": 0,
      "outputs": [
        {
          "output_type": "stream",
          "text": [
            "[[1.         0.64660564]\n",
            " [0.64660564 1.        ]]\n"
          ],
          "name": "stdout"
        }
      ]
    },
    {
      "cell_type": "code",
      "metadata": {
        "id": "VVyAlBsY5fLe",
        "colab_type": "code",
        "colab": {}
      },
      "source": [
        "#Previsão com base no resultado da Grid Search\n",
        "Y_pred = grid_search.predict(X_test)"
      ],
      "execution_count": 0,
      "outputs": []
    },
    {
      "cell_type": "code",
      "metadata": {
        "id": "skEMxj6QtVVO",
        "colab_type": "code",
        "outputId": "a4564c78-041a-4802-d328-d436c71c3278",
        "colab": {
          "base_uri": "https://localhost:8080/",
          "height": 286
        }
      },
      "source": [
        "#Gráfico que mostra a relação entre a chuva real e a prevista\n",
        "plt.scatter(Y_test, Y_pred)"
      ],
      "execution_count": 0,
      "outputs": [
        {
          "output_type": "execute_result",
          "data": {
            "text/plain": [
              "<matplotlib.collections.PathCollection at 0x7f5ff2bd6978>"
            ]
          },
          "metadata": {
            "tags": []
          },
          "execution_count": 41
        },
        {
          "output_type": "display_data",
          "data": {
            "image/png": "[encoded data removed]",
            "text/plain": [
              "<Figure size 432x288 with 1 Axes>"
            ]
          },
          "metadata": {
            "tags": []
          }
        }
      ]
    },
    {
      "cell_type": "code",
      "metadata": {
        "id": "_u6GdTGCDe4C",
        "colab_type": "code",
        "outputId": "d66a8cfa-9659-47a8-dacf-ae6d6f281a01",
        "colab": {
          "base_uri": "https://localhost:8080/",
          "height": 286
        }
      },
      "source": [
        "#Gráfico normalizado que mostra a relação entre a chuva real e a prevista\n",
        "plt.scatter(Y_test / max(Y_test), Y_pred / max(Y_pred))"
      ],
      "execution_count": 0,
      "outputs": [
        {
          "output_type": "execute_result",
          "data": {
            "text/plain": [
              "<matplotlib.collections.PathCollection at 0x7f5ff2b33860>"
            ]
          },
          "metadata": {
            "tags": []
          },
          "execution_count": 42
        },
        {
          "output_type": "display_data",
          "data": {
            "image/png": "[encoded data removed]",
            "text/plain": [
              "<Figure size 432x288 with 1 Axes>"
            ]
          },
          "metadata": {
            "tags": []
          }
        }
      ]
    },
    {
      "cell_type": "code",
      "metadata": {
        "id": "zIMiGtzT6LDK",
        "colab_type": "code",
        "outputId": "e5e64542-3779-40ae-b9a2-f51ab9b146eb",
        "colab": {
          "base_uri": "https://localhost:8080/",
          "height": 52
        }
      },
      "source": [
        "#Mostrando uma matriz de correlação das variáveis com a melhor modelagem\n",
        "print(np.corrcoef(Y_test, grid_search.predict(X_test)))"
      ],
      "execution_count": 0,
      "outputs": [
        {
          "output_type": "stream",
          "text": [
            "[[1.         0.58718983]\n",
            " [0.58718983 1.        ]]\n"
          ],
          "name": "stdout"
        }
      ]
    },
    {
      "cell_type": "code",
      "metadata": {
        "id": "h-5aF3iGAN22",
        "colab_type": "code",
        "outputId": "f410b158-dbba-4e4f-eb92-1797f669a1c8",
        "colab": {
          "base_uri": "https://localhost:8080/",
          "height": 34
        }
      },
      "source": [
        "#Erro absoluto médio entre a chuva prevista e a real\n",
        "print(mean_absolute_error(Y_test, Y_pred))"
      ],
      "execution_count": 0,
      "outputs": [
        {
          "output_type": "stream",
          "text": [
            "4.401213127174634\n"
          ],
          "name": "stdout"
        }
      ]
    },
    {
      "cell_type": "code",
      "metadata": {
        "id": "JgaodvwAvrrB",
        "colab_type": "code",
        "outputId": "411dd8e0-5eed-4531-94c8-34b605b8aa8e",
        "colab": {
          "base_uri": "https://localhost:8080/",
          "height": 34
        }
      },
      "source": [
        "#Erro quadrático médio entre a chuva prevista e a real\n",
        "print(mean_squared_error(Y_test, Y_pred))"
      ],
      "execution_count": 0,
      "outputs": [
        {
          "output_type": "stream",
          "text": [
            "172.64972720443023\n"
          ],
          "name": "stdout"
        }
      ]
    }
  ]
}