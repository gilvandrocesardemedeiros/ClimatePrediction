{
  "nbformat": 4,
  "nbformat_minor": 0,
  "metadata": {
    "colab": {
      "name": "Copy of Predict_Rain_MLP.ipynb",
      "version": "0.3.2",
      "provenance": [],
      "collapsed_sections": [],
      "include_colab_link": true
    },
    "language_info": {
      "codemirror_mode": {
        "name": "ipython",
        "version": 3
      },
      "file_extension": ".py",
      "mimetype": "text/x-python",
      "name": "python",
      "nbconvert_exporter": "python",
      "pygments_lexer": "ipython3",
      "version": "3.6.8"
    },
    "kernelspec": {
      "display_name": "Python 3",
      "language": "python",
      "name": "python3"
    }
  },
  "cells": [
    {
      "cell_type": "markdown",
      "metadata": {
        "id": "view-in-github",
        "colab_type": "text"
      },
      "source": [
        "<a href=\"https://colab.research.google.com/github/gilvandrocesardemedeiros/ClimatePrediction/blob/master/Predict_Rain_MLP2.ipynb\" target=\"_parent\"><img src=\"https://colab.research.google.com/assets/colab-badge.svg\" alt=\"Open In Colab\"/></a>"
      ]
    },
    {
      "metadata": {
        "id": "27ZehESHNz63",
        "colab_type": "code",
        "colab": {}
      },
      "cell_type": "code",
      "source": [
        "#Importando bibliotecas\n",
        "import pandas as pd\n",
        "import numpy as np\n",
        "from datetime import datetime\n",
        "from keras.models import Sequential\n",
        "from keras.layers import Dense\n",
        "from keras.wrappers.scikit_learn import KerasRegressor\n",
        "from keras.utils import np_utils\n",
        "from sklearn.metrics import mean_absolute_error\n",
        "from sklearn.metrics import mean_squared_error\n",
        "from sklearn.model_selection import KFold\n",
        "from sklearn.model_selection import GridSearchCV\n",
        "from sklearn.model_selection import train_test_split\n",
        "from sklearn.preprocessing import RobustScaler\n",
        "from sklearn.preprocessing import LabelEncoder\n",
        "from sklearn.model_selection import train_test_split\n",
        "import matplotlib.pyplot as plt"
      ],
      "execution_count": 0,
      "outputs": []
    },
    {
      "metadata": {
        "id": "_30s_sAnNz7Z",
        "colab_type": "code",
        "colab": {}
      },
      "cell_type": "code",
      "source": [
        "#Nomes para as colunas\n",
        "columns = [\"Estacao\",\"Data\",\"Hora\",\"Prec\",\"TempMax\",\"TempMin\",\"Insolacao\",\"EvapoPiche\",\"TempCompMedia\",\n",
        "           \"UmidRelatMedia\", \"VelocVento\", \"Missing\"]\n",
        "\n",
        "#Tipos de dados em cada coluna\n",
        "types = {\"Hora\":np.uint16,\"Prec\":np.float64,\"TempMax\":np.float64,\"TempMin\":np.float64,\"Insolacao\":np.float64,\n",
        "         \"EvapoPiche\":np.float64,\"TempCompMedia\":np.float64,\"UmidRelatMedia\":np.float64,\"VelocVento\":np.float64}\n",
        "\n",
        "#Leitura do arquivo csv\n",
        "dataSet = pd.read_csv(\"https://github.com/gilvandrocesardemedeiros/ClimatePrediction/raw/master/Dados_INMET/Diarios/INMET-Dados_Diarios_Natal_1968-2018.csv\",\n",
        "                      sep=';',skiprows=48, nrows = 27003, usecols = columns[1:11], names=columns, dtype = types)"
      ],
      "execution_count": 0,
      "outputs": []
    },
    {
      "metadata": {
        "id": "j6wsU7SJNz7t",
        "colab_type": "code",
        "colab": {}
      },
      "cell_type": "code",
      "source": [
        "#Transformando data em variável do tipo datetime\n",
        "dataSet[\"Data\"] = pd.to_datetime(dataSet[\"Data\"], format = \"%d/%m/%Y\")"
      ],
      "execution_count": 0,
      "outputs": []
    },
    {
      "metadata": {
        "id": "4Q7RdptNNz8A",
        "colab_type": "code",
        "outputId": "85e6bdd9-ebc7-4185-b348-46612b9b1c27",
        "colab": {
          "base_uri": "https://localhost:8080/",
          "height": 206
        }
      },
      "cell_type": "code",
      "source": [
        "#Verificando dados\n",
        "dataSet.head()"
      ],
      "execution_count": 47,
      "outputs": [
        {
          "output_type": "execute_result",
          "data": {
            "text/html": [
              "<div>\n",
              "<style scoped>\n",
              "    .dataframe tbody tr th:only-of-type {\n",
              "        vertical-align: middle;\n",
              "    }\n",
              "\n",
              "    .dataframe tbody tr th {\n",
              "        vertical-align: top;\n",
              "    }\n",
              "\n",
              "    .dataframe thead th {\n",
              "        text-align: right;\n",
              "    }\n",
              "</style>\n",
              "<table border=\"1\" class=\"dataframe\">\n",
              "  <thead>\n",
              "    <tr style=\"text-align: right;\">\n",
              "      <th></th>\n",
              "      <th>Data</th>\n",
              "      <th>Hora</th>\n",
              "      <th>Prec</th>\n",
              "      <th>TempMax</th>\n",
              "      <th>TempMin</th>\n",
              "      <th>Insolacao</th>\n",
              "      <th>EvapoPiche</th>\n",
              "      <th>TempCompMedia</th>\n",
              "      <th>UmidRelatMedia</th>\n",
              "      <th>VelocVento</th>\n",
              "    </tr>\n",
              "  </thead>\n",
              "  <tbody>\n",
              "    <tr>\n",
              "      <th>0</th>\n",
              "      <td>1968-01-01</td>\n",
              "      <td>0</td>\n",
              "      <td>NaN</td>\n",
              "      <td>30.6</td>\n",
              "      <td>NaN</td>\n",
              "      <td>11.1</td>\n",
              "      <td>4.4</td>\n",
              "      <td>25.14</td>\n",
              "      <td>73.50</td>\n",
              "      <td>2.666667</td>\n",
              "    </tr>\n",
              "    <tr>\n",
              "      <th>1</th>\n",
              "      <td>1968-01-01</td>\n",
              "      <td>1200</td>\n",
              "      <td>0.0</td>\n",
              "      <td>NaN</td>\n",
              "      <td>21.4</td>\n",
              "      <td>NaN</td>\n",
              "      <td>NaN</td>\n",
              "      <td>NaN</td>\n",
              "      <td>NaN</td>\n",
              "      <td>NaN</td>\n",
              "    </tr>\n",
              "    <tr>\n",
              "      <th>2</th>\n",
              "      <td>1968-01-02</td>\n",
              "      <td>0</td>\n",
              "      <td>NaN</td>\n",
              "      <td>31.0</td>\n",
              "      <td>NaN</td>\n",
              "      <td>11.9</td>\n",
              "      <td>6.5</td>\n",
              "      <td>24.92</td>\n",
              "      <td>74.75</td>\n",
              "      <td>1.666667</td>\n",
              "    </tr>\n",
              "    <tr>\n",
              "      <th>3</th>\n",
              "      <td>1968-01-02</td>\n",
              "      <td>1200</td>\n",
              "      <td>0.0</td>\n",
              "      <td>NaN</td>\n",
              "      <td>19.6</td>\n",
              "      <td>NaN</td>\n",
              "      <td>NaN</td>\n",
              "      <td>NaN</td>\n",
              "      <td>NaN</td>\n",
              "      <td>NaN</td>\n",
              "    </tr>\n",
              "    <tr>\n",
              "      <th>4</th>\n",
              "      <td>1968-01-03</td>\n",
              "      <td>0</td>\n",
              "      <td>NaN</td>\n",
              "      <td>31.6</td>\n",
              "      <td>NaN</td>\n",
              "      <td>11.3</td>\n",
              "      <td>5.0</td>\n",
              "      <td>24.90</td>\n",
              "      <td>77.25</td>\n",
              "      <td>2.333333</td>\n",
              "    </tr>\n",
              "  </tbody>\n",
              "</table>\n",
              "</div>"
            ],
            "text/plain": [
              "        Data  Hora  Prec  TempMax  TempMin  Insolacao  EvapoPiche  \\\n",
              "0 1968-01-01     0   NaN     30.6      NaN       11.1         4.4   \n",
              "1 1968-01-01  1200   0.0      NaN     21.4        NaN         NaN   \n",
              "2 1968-01-02     0   NaN     31.0      NaN       11.9         6.5   \n",
              "3 1968-01-02  1200   0.0      NaN     19.6        NaN         NaN   \n",
              "4 1968-01-03     0   NaN     31.6      NaN       11.3         5.0   \n",
              "\n",
              "   TempCompMedia  UmidRelatMedia  VelocVento  \n",
              "0          25.14           73.50    2.666667  \n",
              "1            NaN             NaN         NaN  \n",
              "2          24.92           74.75    1.666667  \n",
              "3            NaN             NaN         NaN  \n",
              "4          24.90           77.25    2.333333  "
            ]
          },
          "metadata": {
            "tags": []
          },
          "execution_count": 47
        }
      ]
    },
    {
      "metadata": {
        "id": "1GBPk-0mNz8Q",
        "colab_type": "code",
        "outputId": "28e96170-9cb4-459c-fe40-75b76ba45275",
        "colab": {
          "base_uri": "https://localhost:8080/",
          "height": 208
        }
      },
      "cell_type": "code",
      "source": [
        "#Verificando o tipo dos dados\n",
        "dataSet.dtypes"
      ],
      "execution_count": 48,
      "outputs": [
        {
          "output_type": "execute_result",
          "data": {
            "text/plain": [
              "Data              datetime64[ns]\n",
              "Hora                      uint16\n",
              "Prec                     float64\n",
              "TempMax                  float64\n",
              "TempMin                  float64\n",
              "Insolacao                float64\n",
              "EvapoPiche               float64\n",
              "TempCompMedia            float64\n",
              "UmidRelatMedia           float64\n",
              "VelocVento               float64\n",
              "dtype: object"
            ]
          },
          "metadata": {
            "tags": []
          },
          "execution_count": 48
        }
      ]
    },
    {
      "metadata": {
        "id": "Bljp6tdBNz8e",
        "colab_type": "code",
        "colab": {}
      },
      "cell_type": "code",
      "source": [
        "#Separando os dados em dois dataframes, um para as 00:00 h e outro para as 12:00 h\n",
        "dataSet00, dataSet12 = dataSet[dataSet[\"Hora\"] == 0], dataSet[dataSet[\"Hora\"] == 1200]"
      ],
      "execution_count": 0,
      "outputs": []
    },
    {
      "metadata": {
        "id": "2bh8K6NANz8r",
        "colab_type": "code",
        "outputId": "c65b8307-53cc-4aa1-c72a-0090d32985d6",
        "colab": {
          "base_uri": "https://localhost:8080/",
          "height": 206
        }
      },
      "cell_type": "code",
      "source": [
        "#Verificando dataframe para os dados disponibilizados às 00:00 h\n",
        "dataSet00.head()"
      ],
      "execution_count": 50,
      "outputs": [
        {
          "output_type": "execute_result",
          "data": {
            "text/html": [
              "<div>\n",
              "<style scoped>\n",
              "    .dataframe tbody tr th:only-of-type {\n",
              "        vertical-align: middle;\n",
              "    }\n",
              "\n",
              "    .dataframe tbody tr th {\n",
              "        vertical-align: top;\n",
              "    }\n",
              "\n",
              "    .dataframe thead th {\n",
              "        text-align: right;\n",
              "    }\n",
              "</style>\n",
              "<table border=\"1\" class=\"dataframe\">\n",
              "  <thead>\n",
              "    <tr style=\"text-align: right;\">\n",
              "      <th></th>\n",
              "      <th>Data</th>\n",
              "      <th>Hora</th>\n",
              "      <th>Prec</th>\n",
              "      <th>TempMax</th>\n",
              "      <th>TempMin</th>\n",
              "      <th>Insolacao</th>\n",
              "      <th>EvapoPiche</th>\n",
              "      <th>TempCompMedia</th>\n",
              "      <th>UmidRelatMedia</th>\n",
              "      <th>VelocVento</th>\n",
              "    </tr>\n",
              "  </thead>\n",
              "  <tbody>\n",
              "    <tr>\n",
              "      <th>0</th>\n",
              "      <td>1968-01-01</td>\n",
              "      <td>0</td>\n",
              "      <td>NaN</td>\n",
              "      <td>30.6</td>\n",
              "      <td>NaN</td>\n",
              "      <td>11.1</td>\n",
              "      <td>4.4</td>\n",
              "      <td>25.14</td>\n",
              "      <td>73.50</td>\n",
              "      <td>2.666667</td>\n",
              "    </tr>\n",
              "    <tr>\n",
              "      <th>2</th>\n",
              "      <td>1968-01-02</td>\n",
              "      <td>0</td>\n",
              "      <td>NaN</td>\n",
              "      <td>31.0</td>\n",
              "      <td>NaN</td>\n",
              "      <td>11.9</td>\n",
              "      <td>6.5</td>\n",
              "      <td>24.92</td>\n",
              "      <td>74.75</td>\n",
              "      <td>1.666667</td>\n",
              "    </tr>\n",
              "    <tr>\n",
              "      <th>4</th>\n",
              "      <td>1968-01-03</td>\n",
              "      <td>0</td>\n",
              "      <td>NaN</td>\n",
              "      <td>31.6</td>\n",
              "      <td>NaN</td>\n",
              "      <td>11.3</td>\n",
              "      <td>5.0</td>\n",
              "      <td>24.90</td>\n",
              "      <td>77.25</td>\n",
              "      <td>2.333333</td>\n",
              "    </tr>\n",
              "    <tr>\n",
              "      <th>6</th>\n",
              "      <td>1968-01-04</td>\n",
              "      <td>0</td>\n",
              "      <td>NaN</td>\n",
              "      <td>31.2</td>\n",
              "      <td>NaN</td>\n",
              "      <td>10.3</td>\n",
              "      <td>4.0</td>\n",
              "      <td>24.82</td>\n",
              "      <td>80.75</td>\n",
              "      <td>3.666667</td>\n",
              "    </tr>\n",
              "    <tr>\n",
              "      <th>8</th>\n",
              "      <td>1968-01-05</td>\n",
              "      <td>0</td>\n",
              "      <td>NaN</td>\n",
              "      <td>30.8</td>\n",
              "      <td>NaN</td>\n",
              "      <td>11.0</td>\n",
              "      <td>4.2</td>\n",
              "      <td>24.78</td>\n",
              "      <td>76.00</td>\n",
              "      <td>4.000000</td>\n",
              "    </tr>\n",
              "  </tbody>\n",
              "</table>\n",
              "</div>"
            ],
            "text/plain": [
              "        Data  Hora  Prec  TempMax  TempMin  Insolacao  EvapoPiche  \\\n",
              "0 1968-01-01     0   NaN     30.6      NaN       11.1         4.4   \n",
              "2 1968-01-02     0   NaN     31.0      NaN       11.9         6.5   \n",
              "4 1968-01-03     0   NaN     31.6      NaN       11.3         5.0   \n",
              "6 1968-01-04     0   NaN     31.2      NaN       10.3         4.0   \n",
              "8 1968-01-05     0   NaN     30.8      NaN       11.0         4.2   \n",
              "\n",
              "   TempCompMedia  UmidRelatMedia  VelocVento  \n",
              "0          25.14           73.50    2.666667  \n",
              "2          24.92           74.75    1.666667  \n",
              "4          24.90           77.25    2.333333  \n",
              "6          24.82           80.75    3.666667  \n",
              "8          24.78           76.00    4.000000  "
            ]
          },
          "metadata": {
            "tags": []
          },
          "execution_count": 50
        }
      ]
    },
    {
      "metadata": {
        "id": "edBEOHdPNz9B",
        "colab_type": "code",
        "outputId": "6465316c-3b37-4984-b92b-aa0b9226f6a9",
        "colab": {
          "base_uri": "https://localhost:8080/",
          "height": 206
        }
      },
      "cell_type": "code",
      "source": [
        "#Verificando dataframe para os dados disponibilizados às 12:00 h\n",
        "dataSet12.head()"
      ],
      "execution_count": 51,
      "outputs": [
        {
          "output_type": "execute_result",
          "data": {
            "text/html": [
              "<div>\n",
              "<style scoped>\n",
              "    .dataframe tbody tr th:only-of-type {\n",
              "        vertical-align: middle;\n",
              "    }\n",
              "\n",
              "    .dataframe tbody tr th {\n",
              "        vertical-align: top;\n",
              "    }\n",
              "\n",
              "    .dataframe thead th {\n",
              "        text-align: right;\n",
              "    }\n",
              "</style>\n",
              "<table border=\"1\" class=\"dataframe\">\n",
              "  <thead>\n",
              "    <tr style=\"text-align: right;\">\n",
              "      <th></th>\n",
              "      <th>Data</th>\n",
              "      <th>Hora</th>\n",
              "      <th>Prec</th>\n",
              "      <th>TempMax</th>\n",
              "      <th>TempMin</th>\n",
              "      <th>Insolacao</th>\n",
              "      <th>EvapoPiche</th>\n",
              "      <th>TempCompMedia</th>\n",
              "      <th>UmidRelatMedia</th>\n",
              "      <th>VelocVento</th>\n",
              "    </tr>\n",
              "  </thead>\n",
              "  <tbody>\n",
              "    <tr>\n",
              "      <th>1</th>\n",
              "      <td>1968-01-01</td>\n",
              "      <td>1200</td>\n",
              "      <td>0.0</td>\n",
              "      <td>NaN</td>\n",
              "      <td>21.4</td>\n",
              "      <td>NaN</td>\n",
              "      <td>NaN</td>\n",
              "      <td>NaN</td>\n",
              "      <td>NaN</td>\n",
              "      <td>NaN</td>\n",
              "    </tr>\n",
              "    <tr>\n",
              "      <th>3</th>\n",
              "      <td>1968-01-02</td>\n",
              "      <td>1200</td>\n",
              "      <td>0.0</td>\n",
              "      <td>NaN</td>\n",
              "      <td>19.6</td>\n",
              "      <td>NaN</td>\n",
              "      <td>NaN</td>\n",
              "      <td>NaN</td>\n",
              "      <td>NaN</td>\n",
              "      <td>NaN</td>\n",
              "    </tr>\n",
              "    <tr>\n",
              "      <th>5</th>\n",
              "      <td>1968-01-03</td>\n",
              "      <td>1200</td>\n",
              "      <td>0.0</td>\n",
              "      <td>NaN</td>\n",
              "      <td>18.5</td>\n",
              "      <td>NaN</td>\n",
              "      <td>NaN</td>\n",
              "      <td>NaN</td>\n",
              "      <td>NaN</td>\n",
              "      <td>NaN</td>\n",
              "    </tr>\n",
              "    <tr>\n",
              "      <th>7</th>\n",
              "      <td>1968-01-04</td>\n",
              "      <td>1200</td>\n",
              "      <td>0.0</td>\n",
              "      <td>NaN</td>\n",
              "      <td>20.7</td>\n",
              "      <td>NaN</td>\n",
              "      <td>NaN</td>\n",
              "      <td>NaN</td>\n",
              "      <td>NaN</td>\n",
              "      <td>NaN</td>\n",
              "    </tr>\n",
              "    <tr>\n",
              "      <th>9</th>\n",
              "      <td>1968-01-05</td>\n",
              "      <td>1200</td>\n",
              "      <td>0.0</td>\n",
              "      <td>NaN</td>\n",
              "      <td>19.9</td>\n",
              "      <td>NaN</td>\n",
              "      <td>NaN</td>\n",
              "      <td>NaN</td>\n",
              "      <td>NaN</td>\n",
              "      <td>NaN</td>\n",
              "    </tr>\n",
              "  </tbody>\n",
              "</table>\n",
              "</div>"
            ],
            "text/plain": [
              "        Data  Hora  Prec  TempMax  TempMin  Insolacao  EvapoPiche  \\\n",
              "1 1968-01-01  1200   0.0      NaN     21.4        NaN         NaN   \n",
              "3 1968-01-02  1200   0.0      NaN     19.6        NaN         NaN   \n",
              "5 1968-01-03  1200   0.0      NaN     18.5        NaN         NaN   \n",
              "7 1968-01-04  1200   0.0      NaN     20.7        NaN         NaN   \n",
              "9 1968-01-05  1200   0.0      NaN     19.9        NaN         NaN   \n",
              "\n",
              "   TempCompMedia  UmidRelatMedia  VelocVento  \n",
              "1            NaN             NaN         NaN  \n",
              "3            NaN             NaN         NaN  \n",
              "5            NaN             NaN         NaN  \n",
              "7            NaN             NaN         NaN  \n",
              "9            NaN             NaN         NaN  "
            ]
          },
          "metadata": {
            "tags": []
          },
          "execution_count": 51
        }
      ]
    },
    {
      "metadata": {
        "id": "OUqiIBkLNz9S",
        "colab_type": "code",
        "colab": {}
      },
      "cell_type": "code",
      "source": [
        "#Transformando a data no índice de cada dataframe\n",
        "dataSet00 = dataSet00.set_index(\"Data\")\n",
        "dataSet12 = dataSet12.set_index(\"Data\")"
      ],
      "execution_count": 0,
      "outputs": []
    },
    {
      "metadata": {
        "id": "CSC3Qof0Nz9j",
        "colab_type": "code",
        "colab": {}
      },
      "cell_type": "code",
      "source": [
        "#Descartando a coluna \"Hora\"\n",
        "dataSet00, dataSet12 = dataSet00.drop(columns = \"Hora\"), dataSet12.drop(columns = \"Hora\")"
      ],
      "execution_count": 0,
      "outputs": []
    },
    {
      "metadata": {
        "id": "EOtr9pK5Nz99",
        "colab_type": "code",
        "outputId": "d8c4ead3-0d61-4943-ae1e-d6542ea26fce",
        "colab": {
          "base_uri": "https://localhost:8080/",
          "height": 156
        }
      },
      "cell_type": "code",
      "source": [
        "#Juntando os dados em um mesmo dataframe (no caso, o dataSet00)\n",
        "for i in dataSet00.index:\n",
        "    try:\n",
        "        dataSet00[\"Prec\"].loc[i] = dataSet12[\"Prec\"].loc[i]\n",
        "        dataSet00[\"TempMin\"].loc[i] = dataSet12[\"TempMin\"].loc[i]\n",
        "    except:\n",
        "        print(\"Data \" + str(i.day) + \"/\" + str(i.month) + \"/\" + str(i.year) + \" Não encontrada!\")"
      ],
      "execution_count": 54,
      "outputs": [
        {
          "output_type": "stream",
          "text": [
            "Data 5/7/1986 Não encontrada!\n",
            "Data 20/7/1986 Não encontrada!\n",
            "Data 3/6/1989 Não encontrada!\n",
            "Data 12/6/1989 Não encontrada!\n",
            "Data 4/12/1992 Não encontrada!\n",
            "Data 26/5/2018 Não encontrada!\n",
            "Data 1/8/2018 Não encontrada!\n",
            "Data 27/10/2018 Não encontrada!\n"
          ],
          "name": "stdout"
        }
      ]
    },
    {
      "metadata": {
        "id": "ZkvEVq8aNz-M",
        "colab_type": "code",
        "outputId": "cbbe6927-8eb1-42cc-a5a5-8d3cc638050a",
        "colab": {
          "base_uri": "https://localhost:8080/",
          "height": 34
        }
      },
      "cell_type": "code",
      "source": [
        "#Atribuindo à variável dataSet o DataFrame atualizado\n",
        "dataSet = dataSet00\n",
        "#Verificando dimensões do DataFrame\n",
        "print(dataSet.shape)"
      ],
      "execution_count": 55,
      "outputs": [
        {
          "output_type": "stream",
          "text": [
            "(13502, 8)\n"
          ],
          "name": "stdout"
        }
      ]
    },
    {
      "metadata": {
        "id": "jBsDkedfcZ_h",
        "colab_type": "code",
        "colab": {}
      },
      "cell_type": "code",
      "source": [
        "#Transformando a coluna Data de volta em uma coluna de informações do dataSet\n",
        "dataSet = dataSet.reset_index()"
      ],
      "execution_count": 0,
      "outputs": []
    },
    {
      "metadata": {
        "id": "XGeOl_FCqgyK",
        "colab_type": "code",
        "outputId": "0db5f989-6d49-491f-a6a8-c3be80aa574a",
        "colab": {
          "base_uri": "https://localhost:8080/",
          "height": 34
        }
      },
      "cell_type": "code",
      "source": [
        "#Eliminando da base de dados dias com variáveis faltantes\n",
        "dataSet = dataSet.dropna()\n",
        "#Exibindo novas dimensões da base de dados\n",
        "print(dataSet.shape)"
      ],
      "execution_count": 42,
      "outputs": [
        {
          "output_type": "stream",
          "text": [
            "(11911, 11)\n"
          ],
          "name": "stdout"
        }
      ]
    },
    {
      "metadata": {
        "id": "rNg8Y7C3al4K",
        "colab_type": "code",
        "colab": {}
      },
      "cell_type": "code",
      "source": [
        "'''#Função para substituir outliers na chuva\n",
        "def remove_outlier(dataSet):\n",
        "  #Eliminando os dias em que não choveu nada, para não baixar muito o boxplot dos dados\n",
        "  dataSet = dataSet[dataSet[\"Prec\"] > 0.0]\n",
        "  q1 = dataSet[variavel].quantile(0.25)\n",
        "  q3 = dataSet[variavel].quantile(0.75)\n",
        "  aiqr = q3 - q1 #Amplitude interquartil\n",
        "  limMax = q3 + 3 * aiqr\n",
        "  cont = 0\n",
        "  for i in dataSet[variavel].values:\n",
        "    if i > limMax:\n",
        "      cont += 1\n",
        "  print(cont)\n",
        "#  dataSetOut = dataSet[dataSet[variavel] > limMin]\n",
        "#  dataSetOut = dataSetOut[dataSet[variavel] < limMax]\n",
        "#  print(str(dataSetOut.shape) + variavel)\n",
        "  \n",
        "#  return dataSetOut\n",
        "'''"
      ],
      "execution_count": 0,
      "outputs": []
    },
    {
      "metadata": {
        "id": "4YfK3SJ0dQAW",
        "colab_type": "text"
      },
      "cell_type": "markdown",
      "source": [
        "# Considerando os seguintes intervalos: \n",
        "- Outono: 20 de março a 21 de junho (fechado em 20/03 e aberto em 21/06)\n",
        "- Inverno: 21 de junho a 22 de setembro (fechado em 21/06 e aberto em 22/09)\n",
        "- Primavera: de 22 de setembro a 21 de dezembro (fechado em 22/09 e aberto em 21/12)\n",
        "- Verão: de 21 de dezembro a 20 de março (fechado em 21/12 e aberto em 20/03)"
      ]
    },
    {
      "metadata": {
        "id": "dtSvce66c8zF",
        "colab_type": "code",
        "colab": {}
      },
      "cell_type": "code",
      "source": [
        "#Função que retorna a estação do ano para uma determinada data, para ser adicionada à base de dados\n",
        "def season(data):\n",
        "    if (data.month > 3 and data.month < 6) or (data.month == 3 and data.day >= 20) or (data.month == 6 and data.day < 21):\n",
        "        return \"Out\"\n",
        "    if (data.month > 6 and data.month < 9) or (data.month == 6 and data.day >= 21) or (data.month == 9 and data.day < 22):\n",
        "        return \"Inv\"\n",
        "    if (data.month > 9 and data.month < 12) or (data.month == 9 and data.day >= 22) or (data.month == 12 and data.day < 21):\n",
        "        return \"Pri\"\n",
        "    else:\n",
        "        return \"Ver\""
      ],
      "execution_count": 0,
      "outputs": []
    },
    {
      "metadata": {
        "id": "FTRevEZ9AUSe",
        "colab_type": "code",
        "colab": {}
      },
      "cell_type": "code",
      "source": [
        "#Identificando a estação do ano na base de dados e guardando a informação referente ao ano de cada dado\n",
        "estacao = []\n",
        "for i in dataSet.index:\n",
        "    estacao.insert(i, season(dataSet.loc[i, \"Data\"]))"
      ],
      "execution_count": 0,
      "outputs": []
    },
    {
      "metadata": {
        "id": "Ut_YTEMKd3Jv",
        "colab_type": "code",
        "colab": {}
      },
      "cell_type": "code",
      "source": [
        "#Contando quantos dados existem para cada estação\n",
        "print(\"Outono: \" + str(estacao.count(\"Out\")))\n",
        "print(\"Inverno: \" + str(estacao.count(\"Inv\")))\n",
        "print(\"Primavera: \" + str(estacao.count(\"Pri\")))\n",
        "print(\"Verão: \" + str(estacao.count(\"Ver\")))"
      ],
      "execution_count": 0,
      "outputs": []
    },
    {
      "metadata": {
        "id": "UbW5mMKJcojI",
        "colab_type": "code",
        "colab": {}
      },
      "cell_type": "code",
      "source": [
        "#Eliminando a coluna \"Data\" e visualizando dados\n",
        "dataSet = dataSet.drop(columns=\"Data\")\n",
        "dataSet.head()"
      ],
      "execution_count": 0,
      "outputs": []
    },
    {
      "metadata": {
        "id": "oPXso2gaeUoN",
        "colab_type": "code",
        "colab": {}
      },
      "cell_type": "code",
      "source": [
        "#Decodificando as estações em uma matriz (one hot encoding - dummy variables)\n",
        "encoder = LabelEncoder()\n",
        "encoder.fit(estacao)\n",
        "encodedSeason = encoder.transform(estacao)\n",
        "dummySeason = np_utils.to_categorical(encodedSeason)"
      ],
      "execution_count": 0,
      "outputs": []
    },
    {
      "metadata": {
        "id": "z3c5JCUHqBna",
        "colab_type": "code",
        "colab": {}
      },
      "cell_type": "code",
      "source": [
        "#Identificar como aconteceu a transformação\n",
        "auxSeason = encoder.transform([\"Inv\",\"Out\",\"Pri\",\"Ver\"])\n",
        "auxDummy = np_utils.to_categorical(auxSeason)\n",
        "print(\"[Inv,Out,Pri,Ver]\")\n",
        "print(auxDummy)"
      ],
      "execution_count": 0,
      "outputs": []
    },
    {
      "metadata": {
        "id": "Oh9F5nNrXbNg",
        "colab_type": "code",
        "colab": {}
      },
      "cell_type": "code",
      "source": [
        ""
      ],
      "execution_count": 0,
      "outputs": []
    },
    {
      "metadata": {
        "id": "9z3OuiRRafWl",
        "colab_type": "code",
        "colab": {}
      },
      "cell_type": "code",
      "source": [
        ""
      ],
      "execution_count": 0,
      "outputs": []
    },
    {
      "metadata": {
        "id": "cWsOQWadAsGG",
        "colab_type": "code",
        "colab": {}
      },
      "cell_type": "code",
      "source": [
        "#Separando a variável que será prevista, precipitação, da base de dados\n",
        "prec = dataSet[\"Prec\"]\n",
        "dataSet = dataSet.drop(columns = \"Prec\")"
      ],
      "execution_count": 0,
      "outputs": []
    },
    {
      "metadata": {
        "id": "yEz1zDeWDvBs",
        "colab_type": "code",
        "colab": {}
      },
      "cell_type": "code",
      "source": [
        "#Adicionando ao dataSet as informações de estação climática\n",
        "dataSet[\"Inv\"] = dummySeason[:,0]\n",
        "dataSet[\"Out\"] = dummySeason[:,1]\n",
        "dataSet[\"Pri\"] = dummySeason[:,2]\n",
        "dataSet[\"Ver\"] = dummySeason[:,3]"
      ],
      "execution_count": 0,
      "outputs": []
    },
    {
      "metadata": {
        "id": "Y2eHNMUbET06",
        "colab_type": "code",
        "colab": {}
      },
      "cell_type": "code",
      "source": [
        "#Visualizando dados\n",
        "dataSet.head()"
      ],
      "execution_count": 0,
      "outputs": []
    },
    {
      "metadata": {
        "id": "e6AWMiNF2XgU",
        "colab_type": "code",
        "colab": {}
      },
      "cell_type": "code",
      "source": [
        "#Separando conjunto de treino e teste\n",
        "X_train, X_test, Y_train, Y_test = train_test_split(dataSet, prec, test_size = 0.1, random_state = 5)"
      ],
      "execution_count": 0,
      "outputs": []
    },
    {
      "metadata": {
        "id": "q9vTWZ9PCH4H",
        "colab_type": "code",
        "colab": {}
      },
      "cell_type": "code",
      "source": [
        "#Efetuando uma transformação robusta, trabalhando com os dados entre os percentis 10 e 90\n",
        "rs = RobustScaler(quantile_range = (10.0,90.0))\n",
        "X_train = rs.fit_transform(X_train)\n",
        "X_test = rs.transform(X_test)"
      ],
      "execution_count": 0,
      "outputs": []
    },
    {
      "metadata": {
        "id": "GgM6EySIB4-I",
        "colab_type": "code",
        "colab": {}
      },
      "cell_type": "code",
      "source": [
        "#Definindo uma função para criar a MLP\n",
        "def trainMLP(optimizer='rmsprop', init='normal', units = 11, camadas = 2):    \n",
        "  #Criando o modelo\n",
        "  mlp = Sequential()\n",
        "  #Adicionando a camada de entrada\n",
        "  mlp.add(Dense(activation = 'tanh', input_dim = 11, units = units, kernel_initializer = init))\n",
        "  #Adicionando as camadas escondidas\n",
        "  for i in range(camadas):\n",
        "    mlp.add(Dense(activation = 'tanh', units = units, kernel_initializer = init))\n",
        "  #Adicionando a camada de saída\n",
        "  mlp.add(Dense(units = 1, kernel_initializer=init))    \n",
        "  # Compilando o modelo\n",
        "  mlp.compile(loss='mean_squared_error',optimizer = optimizer, metrics= ['mae', 'msle'])\n",
        "  return mlp"
      ],
      "execution_count": 0,
      "outputs": []
    },
    {
      "metadata": {
        "colab_type": "code",
        "id": "eqVxoZwYVAaJ",
        "colab": {}
      },
      "cell_type": "code",
      "source": [
        "#Modelo de classificação do Keras\n",
        "estimator = KerasRegressor(build_fn=trainMLP, epochs = 200, verbose = 1)"
      ],
      "execution_count": 0,
      "outputs": []
    },
    {
      "metadata": {
        "colab_type": "code",
        "id": "wGupNX3XU_kO",
        "colab": {}
      },
      "cell_type": "code",
      "source": [
        "#Criando o objeto para Cross Validation\n",
        "kfold = KFold(n_splits=5, shuffle=True, random_state=7)"
      ],
      "execution_count": 0,
      "outputs": []
    },
    {
      "metadata": {
        "id": "MQlUXb3SE7O-",
        "colab_type": "code",
        "colab": {}
      },
      "cell_type": "code",
      "source": [
        "#Parâmetros para o Grid Search\n",
        "parameters = {'batch_size': [20,30],             \n",
        "              'camadas': [2],\n",
        "              'units': [11,15]}"
      ],
      "execution_count": 0,
      "outputs": []
    },
    {
      "metadata": {
        "id": "uyU0TuUjOacd",
        "colab_type": "code",
        "colab": {}
      },
      "cell_type": "code",
      "source": [
        "#Modelagem para buscar os melhores parâmetros\n",
        "grid_search = GridSearchCV(estimator = estimator, param_grid = parameters, n_jobs = -1,\n",
        "                     scoring = \"neg_mean_squared_error\", verbose=2, cv = kfold, return_train_score = True)"
      ],
      "execution_count": 0,
      "outputs": []
    },
    {
      "metadata": {
        "id": "M0yrJYODR7kb",
        "colab_type": "code",
        "colab": {}
      },
      "cell_type": "code",
      "source": [
        "#Busca pelos melhores parâmetros\n",
        "grid_result = grid_search.fit(X_train, Y_train)"
      ],
      "execution_count": 0,
      "outputs": []
    },
    {
      "metadata": {
        "id": "niuNkZazQT5L",
        "colab_type": "code",
        "colab": {}
      },
      "cell_type": "code",
      "source": [
        "#Exibição dos melhores resultados\n",
        "print(\"Melhor resultado: %f, usando %s\" % (grid_result.best_score_, grid_result.best_params_))\n",
        "means = grid_result.cv_results_['mean_test_score']\n",
        "stds = grid_result.cv_results_['std_test_score']\n",
        "params = grid_result.cv_results_['params']\n",
        "print(\"Resultados (Desvio padrão) {Parâmetros}\")\n",
        "for mean, stdev, param in zip(means, stds, params):\n",
        "\tprint(\"%f (%f) %r\" % (mean, stdev, param))"
      ],
      "execution_count": 0,
      "outputs": []
    },
    {
      "metadata": {
        "id": "qd6jAdoA7qI2",
        "colab_type": "code",
        "colab": {}
      },
      "cell_type": "code",
      "source": [
        "#Gráfico de previsão para o conjunto de treino\n",
        "plt.scatter(grid_search.predict(X_train), Y_train)"
      ],
      "execution_count": 0,
      "outputs": []
    },
    {
      "metadata": {
        "id": "ikJ6SCU-798i",
        "colab_type": "code",
        "colab": {}
      },
      "cell_type": "code",
      "source": [
        "#Gráfico de previsão para o conjunto de treino normalizado\n",
        "plt.scatter(grid_search.predict(X_train) / max(grid_search.predict(X_train)), Y_train / max(Y_train))"
      ],
      "execution_count": 0,
      "outputs": []
    },
    {
      "metadata": {
        "id": "odMh7NI5A413",
        "colab_type": "code",
        "colab": {}
      },
      "cell_type": "code",
      "source": [
        "#Mostrando uma matriz de correlação das variáveis com a melhor modelagem\n",
        "print(np.corrcoef(Y_train, grid_search.predict(X_train)))"
      ],
      "execution_count": 0,
      "outputs": []
    },
    {
      "metadata": {
        "id": "VVyAlBsY5fLe",
        "colab_type": "code",
        "colab": {}
      },
      "cell_type": "code",
      "source": [
        "#Previsão com base no resultado da Grid Search\n",
        "Y_pred = grid_search.predict(X_test)"
      ],
      "execution_count": 0,
      "outputs": []
    },
    {
      "metadata": {
        "id": "skEMxj6QtVVO",
        "colab_type": "code",
        "colab": {}
      },
      "cell_type": "code",
      "source": [
        "#Gráfico que mostra a relação entre a chuva real e a prevista\n",
        "plt.scatter(Y_test, Y_pred)"
      ],
      "execution_count": 0,
      "outputs": []
    },
    {
      "metadata": {
        "id": "_u6GdTGCDe4C",
        "colab_type": "code",
        "colab": {}
      },
      "cell_type": "code",
      "source": [
        "#Gráfico normalizado que mostra a relação entre a chuva real e a prevista\n",
        "plt.scatter(Y_test / max(Y_test), Y_pred / max(Y_pred))"
      ],
      "execution_count": 0,
      "outputs": []
    },
    {
      "metadata": {
        "id": "zIMiGtzT6LDK",
        "colab_type": "code",
        "colab": {}
      },
      "cell_type": "code",
      "source": [
        "#Mostrando uma matriz de correlação das variáveis com a melhor modelagem\n",
        "print(np.corrcoef(Y_test, grid_search.predict(X_test)))"
      ],
      "execution_count": 0,
      "outputs": []
    },
    {
      "metadata": {
        "id": "h-5aF3iGAN22",
        "colab_type": "code",
        "colab": {}
      },
      "cell_type": "code",
      "source": [
        "#Erro absoluto médio entre a chuva prevista e a real\n",
        "print(mean_squared_error(Y_test, Y_pred))"
      ],
      "execution_count": 0,
      "outputs": []
    }
  ]
}