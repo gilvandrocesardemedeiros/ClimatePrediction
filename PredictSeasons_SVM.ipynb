{
  "nbformat": 4,
  "nbformat_minor": 0,
  "metadata": {
    "colab": {
      "name": "PredictSeasons-SVM.ipynb",
      "version": "0.3.2",
      "provenance": [],
      "collapsed_sections": [],
      "include_colab_link": true
    },
    "kernelspec": {
      "display_name": "Python 3",
      "language": "python",
      "name": "python3"
    }
  },
  "cells": [
    {
      "cell_type": "markdown",
      "metadata": {
        "id": "view-in-github",
        "colab_type": "text"
      },
      "source": [
        "<a href=\"https://colab.research.google.com/github/gilvandrocesardemedeiros/ClimatePrediction/blob/master/PredictSeasons_SVM.ipynb\" target=\"_parent\"><img src=\"https://colab.research.google.com/assets/colab-badge.svg\" alt=\"Open In Colab\"/></a>"
      ]
    },
    {
      "metadata": {
        "id": "RFr-P2pZY1XZ",
        "colab_type": "code",
        "colab": {}
      },
      "cell_type": "code",
      "source": [
        "import numpy as np\n",
        "import pandas as pd\n",
        "from datetime import datetime\n",
        "from sklearn.svm import SVC\n",
        "from sklearn.model_selection import cross_val_score\n",
        "from sklearn.preprocessing import StandardScaler\n",
        "import matplotlib.pyplot as plt"
      ],
      "execution_count": 0,
      "outputs": []
    },
    {
      "metadata": {
        "id": "RrtubTTdY1X5",
        "colab_type": "code",
        "colab": {}
      },
      "cell_type": "code",
      "source": [
        "#Nomes para as colunas\n",
        "columns = [\"Estacao\",\"Data\",\"Hora\",\"Prec\",\"TempMax\",\"TempMin\",\"Insolacao\",\"EvapoPiche\",\"TempCompMedia\",\n",
        "           \"UmidRelatMedia\", \"VelocVento\", \"Missing\"]\n",
        "\n",
        "#Tipos de dados em cada coluna\n",
        "types = {\"Hora\":np.uint16,\"Prec\":np.float64,\"TempMax\":np.float64,\"TempMin\":np.float64,\"Insolacao\":np.float64,\n",
        "         \"EvapoPiche\":np.float64,\"TempCompMedia\":np.float64,\"UmidRelatMedia\":np.float64,\"VelocVento\":np.float64}\n",
        "\n",
        "#Leitura do arquivo csv\n",
        "dataSet = pd.read_csv(\"https://github.com/gilvandrocesardemedeiros/ClimatePrediction/raw/master/Dados_INMET/Diarios/INMET-Dados_Diarios_Natal_1968-2018.csv\",\n",
        "                      sep=';',skiprows=48, nrows = 27003, usecols = columns[1:11], names=columns, dtype = types)"
      ],
      "execution_count": 0,
      "outputs": []
    },
    {
      "metadata": {
        "id": "GxsUtCSXY1YH",
        "colab_type": "code",
        "colab": {}
      },
      "cell_type": "code",
      "source": [
        "#Transformando data em variável do tipo datetime\n",
        "dataSet[\"Data\"] = pd.to_datetime(dataSet[\"Data\"], format = \"%d/%m/%Y\")"
      ],
      "execution_count": 0,
      "outputs": []
    },
    {
      "metadata": {
        "id": "zpz_3U99Y1YX",
        "colab_type": "code",
        "outputId": "12a78225-38a1-42b1-c8df-48b952f5ab2a",
        "colab": {
          "base_uri": "https://localhost:8080/",
          "height": 206
        }
      },
      "cell_type": "code",
      "source": [
        "#Verificando dados\n",
        "dataSet.head()"
      ],
      "execution_count": 4,
      "outputs": [
        {
          "output_type": "execute_result",
          "data": {
            "text/html": [
              "<div>\n",
              "<style scoped>\n",
              "    .dataframe tbody tr th:only-of-type {\n",
              "        vertical-align: middle;\n",
              "    }\n",
              "\n",
              "    .dataframe tbody tr th {\n",
              "        vertical-align: top;\n",
              "    }\n",
              "\n",
              "    .dataframe thead th {\n",
              "        text-align: right;\n",
              "    }\n",
              "</style>\n",
              "<table border=\"1\" class=\"dataframe\">\n",
              "  <thead>\n",
              "    <tr style=\"text-align: right;\">\n",
              "      <th></th>\n",
              "      <th>Data</th>\n",
              "      <th>Hora</th>\n",
              "      <th>Prec</th>\n",
              "      <th>TempMax</th>\n",
              "      <th>TempMin</th>\n",
              "      <th>Insolacao</th>\n",
              "      <th>EvapoPiche</th>\n",
              "      <th>TempCompMedia</th>\n",
              "      <th>UmidRelatMedia</th>\n",
              "      <th>VelocVento</th>\n",
              "    </tr>\n",
              "  </thead>\n",
              "  <tbody>\n",
              "    <tr>\n",
              "      <th>0</th>\n",
              "      <td>1968-01-01</td>\n",
              "      <td>0</td>\n",
              "      <td>NaN</td>\n",
              "      <td>30.6</td>\n",
              "      <td>NaN</td>\n",
              "      <td>11.1</td>\n",
              "      <td>4.4</td>\n",
              "      <td>25.14</td>\n",
              "      <td>73.50</td>\n",
              "      <td>2.666667</td>\n",
              "    </tr>\n",
              "    <tr>\n",
              "      <th>1</th>\n",
              "      <td>1968-01-01</td>\n",
              "      <td>1200</td>\n",
              "      <td>0.0</td>\n",
              "      <td>NaN</td>\n",
              "      <td>21.4</td>\n",
              "      <td>NaN</td>\n",
              "      <td>NaN</td>\n",
              "      <td>NaN</td>\n",
              "      <td>NaN</td>\n",
              "      <td>NaN</td>\n",
              "    </tr>\n",
              "    <tr>\n",
              "      <th>2</th>\n",
              "      <td>1968-01-02</td>\n",
              "      <td>0</td>\n",
              "      <td>NaN</td>\n",
              "      <td>31.0</td>\n",
              "      <td>NaN</td>\n",
              "      <td>11.9</td>\n",
              "      <td>6.5</td>\n",
              "      <td>24.92</td>\n",
              "      <td>74.75</td>\n",
              "      <td>1.666667</td>\n",
              "    </tr>\n",
              "    <tr>\n",
              "      <th>3</th>\n",
              "      <td>1968-01-02</td>\n",
              "      <td>1200</td>\n",
              "      <td>0.0</td>\n",
              "      <td>NaN</td>\n",
              "      <td>19.6</td>\n",
              "      <td>NaN</td>\n",
              "      <td>NaN</td>\n",
              "      <td>NaN</td>\n",
              "      <td>NaN</td>\n",
              "      <td>NaN</td>\n",
              "    </tr>\n",
              "    <tr>\n",
              "      <th>4</th>\n",
              "      <td>1968-01-03</td>\n",
              "      <td>0</td>\n",
              "      <td>NaN</td>\n",
              "      <td>31.6</td>\n",
              "      <td>NaN</td>\n",
              "      <td>11.3</td>\n",
              "      <td>5.0</td>\n",
              "      <td>24.90</td>\n",
              "      <td>77.25</td>\n",
              "      <td>2.333333</td>\n",
              "    </tr>\n",
              "  </tbody>\n",
              "</table>\n",
              "</div>"
            ],
            "text/plain": [
              "        Data  Hora  Prec  TempMax  TempMin  Insolacao  EvapoPiche  \\\n",
              "0 1968-01-01     0   NaN     30.6      NaN       11.1         4.4   \n",
              "1 1968-01-01  1200   0.0      NaN     21.4        NaN         NaN   \n",
              "2 1968-01-02     0   NaN     31.0      NaN       11.9         6.5   \n",
              "3 1968-01-02  1200   0.0      NaN     19.6        NaN         NaN   \n",
              "4 1968-01-03     0   NaN     31.6      NaN       11.3         5.0   \n",
              "\n",
              "   TempCompMedia  UmidRelatMedia  VelocVento  \n",
              "0          25.14           73.50    2.666667  \n",
              "1            NaN             NaN         NaN  \n",
              "2          24.92           74.75    1.666667  \n",
              "3            NaN             NaN         NaN  \n",
              "4          24.90           77.25    2.333333  "
            ]
          },
          "metadata": {
            "tags": []
          },
          "execution_count": 4
        }
      ]
    },
    {
      "metadata": {
        "id": "70lMVvSCY1Yi",
        "colab_type": "code",
        "outputId": "22f95830-7d3d-40ab-cd4f-465196daa870",
        "colab": {
          "base_uri": "https://localhost:8080/",
          "height": 208
        }
      },
      "cell_type": "code",
      "source": [
        "#Verificando o tipo dos dados\n",
        "dataSet.dtypes"
      ],
      "execution_count": 5,
      "outputs": [
        {
          "output_type": "execute_result",
          "data": {
            "text/plain": [
              "Data              datetime64[ns]\n",
              "Hora                      uint16\n",
              "Prec                     float64\n",
              "TempMax                  float64\n",
              "TempMin                  float64\n",
              "Insolacao                float64\n",
              "EvapoPiche               float64\n",
              "TempCompMedia            float64\n",
              "UmidRelatMedia           float64\n",
              "VelocVento               float64\n",
              "dtype: object"
            ]
          },
          "metadata": {
            "tags": []
          },
          "execution_count": 5
        }
      ]
    },
    {
      "metadata": {
        "id": "1L0ixg6rY1Ys",
        "colab_type": "code",
        "colab": {}
      },
      "cell_type": "code",
      "source": [
        "#Separando os dados em dois dataframes, um para as 00:00 h e outro para as 12:00 h\n",
        "dataSet00, dataSet12 = dataSet[dataSet[\"Hora\"] == 0], dataSet[dataSet[\"Hora\"] == 1200]"
      ],
      "execution_count": 0,
      "outputs": []
    },
    {
      "metadata": {
        "id": "gza7uVhHY1Y2",
        "colab_type": "code",
        "outputId": "843170be-c913-4c41-e961-93a61af0e4af",
        "colab": {
          "base_uri": "https://localhost:8080/",
          "height": 206
        }
      },
      "cell_type": "code",
      "source": [
        "#Verificando dataframe para os dados disponibilizados às 00:00 h\n",
        "dataSet00.head()"
      ],
      "execution_count": 7,
      "outputs": [
        {
          "output_type": "execute_result",
          "data": {
            "text/html": [
              "<div>\n",
              "<style scoped>\n",
              "    .dataframe tbody tr th:only-of-type {\n",
              "        vertical-align: middle;\n",
              "    }\n",
              "\n",
              "    .dataframe tbody tr th {\n",
              "        vertical-align: top;\n",
              "    }\n",
              "\n",
              "    .dataframe thead th {\n",
              "        text-align: right;\n",
              "    }\n",
              "</style>\n",
              "<table border=\"1\" class=\"dataframe\">\n",
              "  <thead>\n",
              "    <tr style=\"text-align: right;\">\n",
              "      <th></th>\n",
              "      <th>Data</th>\n",
              "      <th>Hora</th>\n",
              "      <th>Prec</th>\n",
              "      <th>TempMax</th>\n",
              "      <th>TempMin</th>\n",
              "      <th>Insolacao</th>\n",
              "      <th>EvapoPiche</th>\n",
              "      <th>TempCompMedia</th>\n",
              "      <th>UmidRelatMedia</th>\n",
              "      <th>VelocVento</th>\n",
              "    </tr>\n",
              "  </thead>\n",
              "  <tbody>\n",
              "    <tr>\n",
              "      <th>0</th>\n",
              "      <td>1968-01-01</td>\n",
              "      <td>0</td>\n",
              "      <td>NaN</td>\n",
              "      <td>30.6</td>\n",
              "      <td>NaN</td>\n",
              "      <td>11.1</td>\n",
              "      <td>4.4</td>\n",
              "      <td>25.14</td>\n",
              "      <td>73.50</td>\n",
              "      <td>2.666667</td>\n",
              "    </tr>\n",
              "    <tr>\n",
              "      <th>2</th>\n",
              "      <td>1968-01-02</td>\n",
              "      <td>0</td>\n",
              "      <td>NaN</td>\n",
              "      <td>31.0</td>\n",
              "      <td>NaN</td>\n",
              "      <td>11.9</td>\n",
              "      <td>6.5</td>\n",
              "      <td>24.92</td>\n",
              "      <td>74.75</td>\n",
              "      <td>1.666667</td>\n",
              "    </tr>\n",
              "    <tr>\n",
              "      <th>4</th>\n",
              "      <td>1968-01-03</td>\n",
              "      <td>0</td>\n",
              "      <td>NaN</td>\n",
              "      <td>31.6</td>\n",
              "      <td>NaN</td>\n",
              "      <td>11.3</td>\n",
              "      <td>5.0</td>\n",
              "      <td>24.90</td>\n",
              "      <td>77.25</td>\n",
              "      <td>2.333333</td>\n",
              "    </tr>\n",
              "    <tr>\n",
              "      <th>6</th>\n",
              "      <td>1968-01-04</td>\n",
              "      <td>0</td>\n",
              "      <td>NaN</td>\n",
              "      <td>31.2</td>\n",
              "      <td>NaN</td>\n",
              "      <td>10.3</td>\n",
              "      <td>4.0</td>\n",
              "      <td>24.82</td>\n",
              "      <td>80.75</td>\n",
              "      <td>3.666667</td>\n",
              "    </tr>\n",
              "    <tr>\n",
              "      <th>8</th>\n",
              "      <td>1968-01-05</td>\n",
              "      <td>0</td>\n",
              "      <td>NaN</td>\n",
              "      <td>30.8</td>\n",
              "      <td>NaN</td>\n",
              "      <td>11.0</td>\n",
              "      <td>4.2</td>\n",
              "      <td>24.78</td>\n",
              "      <td>76.00</td>\n",
              "      <td>4.000000</td>\n",
              "    </tr>\n",
              "  </tbody>\n",
              "</table>\n",
              "</div>"
            ],
            "text/plain": [
              "        Data  Hora  Prec  TempMax  TempMin  Insolacao  EvapoPiche  \\\n",
              "0 1968-01-01     0   NaN     30.6      NaN       11.1         4.4   \n",
              "2 1968-01-02     0   NaN     31.0      NaN       11.9         6.5   \n",
              "4 1968-01-03     0   NaN     31.6      NaN       11.3         5.0   \n",
              "6 1968-01-04     0   NaN     31.2      NaN       10.3         4.0   \n",
              "8 1968-01-05     0   NaN     30.8      NaN       11.0         4.2   \n",
              "\n",
              "   TempCompMedia  UmidRelatMedia  VelocVento  \n",
              "0          25.14           73.50    2.666667  \n",
              "2          24.92           74.75    1.666667  \n",
              "4          24.90           77.25    2.333333  \n",
              "6          24.82           80.75    3.666667  \n",
              "8          24.78           76.00    4.000000  "
            ]
          },
          "metadata": {
            "tags": []
          },
          "execution_count": 7
        }
      ]
    },
    {
      "metadata": {
        "id": "gnACR-XaY1ZG",
        "colab_type": "code",
        "outputId": "26ae9889-099e-42c0-9da0-4fa88c1eb2e1",
        "colab": {
          "base_uri": "https://localhost:8080/",
          "height": 206
        }
      },
      "cell_type": "code",
      "source": [
        "#Verificando dataframe para os dados disponibilizados às 12:00 h\n",
        "dataSet12.head()"
      ],
      "execution_count": 8,
      "outputs": [
        {
          "output_type": "execute_result",
          "data": {
            "text/html": [
              "<div>\n",
              "<style scoped>\n",
              "    .dataframe tbody tr th:only-of-type {\n",
              "        vertical-align: middle;\n",
              "    }\n",
              "\n",
              "    .dataframe tbody tr th {\n",
              "        vertical-align: top;\n",
              "    }\n",
              "\n",
              "    .dataframe thead th {\n",
              "        text-align: right;\n",
              "    }\n",
              "</style>\n",
              "<table border=\"1\" class=\"dataframe\">\n",
              "  <thead>\n",
              "    <tr style=\"text-align: right;\">\n",
              "      <th></th>\n",
              "      <th>Data</th>\n",
              "      <th>Hora</th>\n",
              "      <th>Prec</th>\n",
              "      <th>TempMax</th>\n",
              "      <th>TempMin</th>\n",
              "      <th>Insolacao</th>\n",
              "      <th>EvapoPiche</th>\n",
              "      <th>TempCompMedia</th>\n",
              "      <th>UmidRelatMedia</th>\n",
              "      <th>VelocVento</th>\n",
              "    </tr>\n",
              "  </thead>\n",
              "  <tbody>\n",
              "    <tr>\n",
              "      <th>1</th>\n",
              "      <td>1968-01-01</td>\n",
              "      <td>1200</td>\n",
              "      <td>0.0</td>\n",
              "      <td>NaN</td>\n",
              "      <td>21.4</td>\n",
              "      <td>NaN</td>\n",
              "      <td>NaN</td>\n",
              "      <td>NaN</td>\n",
              "      <td>NaN</td>\n",
              "      <td>NaN</td>\n",
              "    </tr>\n",
              "    <tr>\n",
              "      <th>3</th>\n",
              "      <td>1968-01-02</td>\n",
              "      <td>1200</td>\n",
              "      <td>0.0</td>\n",
              "      <td>NaN</td>\n",
              "      <td>19.6</td>\n",
              "      <td>NaN</td>\n",
              "      <td>NaN</td>\n",
              "      <td>NaN</td>\n",
              "      <td>NaN</td>\n",
              "      <td>NaN</td>\n",
              "    </tr>\n",
              "    <tr>\n",
              "      <th>5</th>\n",
              "      <td>1968-01-03</td>\n",
              "      <td>1200</td>\n",
              "      <td>0.0</td>\n",
              "      <td>NaN</td>\n",
              "      <td>18.5</td>\n",
              "      <td>NaN</td>\n",
              "      <td>NaN</td>\n",
              "      <td>NaN</td>\n",
              "      <td>NaN</td>\n",
              "      <td>NaN</td>\n",
              "    </tr>\n",
              "    <tr>\n",
              "      <th>7</th>\n",
              "      <td>1968-01-04</td>\n",
              "      <td>1200</td>\n",
              "      <td>0.0</td>\n",
              "      <td>NaN</td>\n",
              "      <td>20.7</td>\n",
              "      <td>NaN</td>\n",
              "      <td>NaN</td>\n",
              "      <td>NaN</td>\n",
              "      <td>NaN</td>\n",
              "      <td>NaN</td>\n",
              "    </tr>\n",
              "    <tr>\n",
              "      <th>9</th>\n",
              "      <td>1968-01-05</td>\n",
              "      <td>1200</td>\n",
              "      <td>0.0</td>\n",
              "      <td>NaN</td>\n",
              "      <td>19.9</td>\n",
              "      <td>NaN</td>\n",
              "      <td>NaN</td>\n",
              "      <td>NaN</td>\n",
              "      <td>NaN</td>\n",
              "      <td>NaN</td>\n",
              "    </tr>\n",
              "  </tbody>\n",
              "</table>\n",
              "</div>"
            ],
            "text/plain": [
              "        Data  Hora  Prec  TempMax  TempMin  Insolacao  EvapoPiche  \\\n",
              "1 1968-01-01  1200   0.0      NaN     21.4        NaN         NaN   \n",
              "3 1968-01-02  1200   0.0      NaN     19.6        NaN         NaN   \n",
              "5 1968-01-03  1200   0.0      NaN     18.5        NaN         NaN   \n",
              "7 1968-01-04  1200   0.0      NaN     20.7        NaN         NaN   \n",
              "9 1968-01-05  1200   0.0      NaN     19.9        NaN         NaN   \n",
              "\n",
              "   TempCompMedia  UmidRelatMedia  VelocVento  \n",
              "1            NaN             NaN         NaN  \n",
              "3            NaN             NaN         NaN  \n",
              "5            NaN             NaN         NaN  \n",
              "7            NaN             NaN         NaN  \n",
              "9            NaN             NaN         NaN  "
            ]
          },
          "metadata": {
            "tags": []
          },
          "execution_count": 8
        }
      ]
    },
    {
      "metadata": {
        "id": "WuqNlnwnY1ZY",
        "colab_type": "code",
        "colab": {}
      },
      "cell_type": "code",
      "source": [
        "#Transformando a data no índice de cada dataframe\n",
        "dataSet00 = dataSet00.set_index(\"Data\")\n",
        "dataSet12 = dataSet12.set_index(\"Data\")"
      ],
      "execution_count": 0,
      "outputs": []
    },
    {
      "metadata": {
        "id": "szoGcFW-Y1Zu",
        "colab_type": "code",
        "colab": {}
      },
      "cell_type": "code",
      "source": [
        "#Descartando a coluna \"Hora\"\n",
        "dataSet00, dataSet12 = dataSet00.drop(columns = \"Hora\"), dataSet12.drop(columns = \"Hora\")"
      ],
      "execution_count": 0,
      "outputs": []
    },
    {
      "metadata": {
        "id": "XX-MMwLTY1aK",
        "colab_type": "code",
        "outputId": "2b36770c-6c48-4876-a476-566cc757d06a",
        "colab": {
          "base_uri": "https://localhost:8080/",
          "height": 156
        }
      },
      "cell_type": "code",
      "source": [
        "#Juntando os dados em um mesmo dataframe (no caso, o dataSet00)\n",
        "for i in dataSet00.index:\n",
        "    try:\n",
        "        dataSet00[\"Prec\"].loc[i] = dataSet12[\"Prec\"].loc[i]\n",
        "        dataSet00[\"TempMin\"].loc[i] = dataSet12[\"TempMin\"].loc[i]\n",
        "    except:\n",
        "        print(\"Data \" + str(i.day) + \"/\" + str(i.month) + \"/\" + str(i.year) + \" Não encontrada!\")"
      ],
      "execution_count": 11,
      "outputs": [
        {
          "output_type": "stream",
          "text": [
            "Data 5/7/1986 Não encontrada!\n",
            "Data 20/7/1986 Não encontrada!\n",
            "Data 3/6/1989 Não encontrada!\n",
            "Data 12/6/1989 Não encontrada!\n",
            "Data 4/12/1992 Não encontrada!\n",
            "Data 26/5/2018 Não encontrada!\n",
            "Data 1/8/2018 Não encontrada!\n",
            "Data 27/10/2018 Não encontrada!\n"
          ],
          "name": "stdout"
        }
      ]
    },
    {
      "metadata": {
        "id": "qfiNz5X6Y1aZ",
        "colab_type": "code",
        "outputId": "1cb1047b-e5c4-4cdd-af71-e3509ca552c2",
        "colab": {
          "base_uri": "https://localhost:8080/",
          "height": 34
        }
      },
      "cell_type": "code",
      "source": [
        "#Atribuindo à variável dataSet o DataFrame atualizado\n",
        "dataSet = dataSet00\n",
        "#Verificando dimensões do DataFrame\n",
        "print(dataSet.shape)"
      ],
      "execution_count": 12,
      "outputs": [
        {
          "output_type": "stream",
          "text": [
            "(13502, 8)\n"
          ],
          "name": "stdout"
        }
      ]
    },
    {
      "metadata": {
        "id": "d6Lhvcw0Y1aj",
        "colab_type": "code",
        "colab": {}
      },
      "cell_type": "code",
      "source": [
        "#Eliminando dias que estejam faltando variáveis\n",
        "dataSet = dataSet.dropna()"
      ],
      "execution_count": 0,
      "outputs": []
    },
    {
      "metadata": {
        "id": "jYp8zBtAY1ax",
        "colab_type": "code",
        "outputId": "029259e4-15e4-4230-a546-c5c8a8bec972",
        "colab": {
          "base_uri": "https://localhost:8080/",
          "height": 34
        }
      },
      "cell_type": "code",
      "source": [
        "#Verificando dimensões do DataFrame após excluir linhas com problema\n",
        "print(dataSet.shape)"
      ],
      "execution_count": 14,
      "outputs": [
        {
          "output_type": "stream",
          "text": [
            "(11911, 8)\n"
          ],
          "name": "stdout"
        }
      ]
    },
    {
      "metadata": {
        "id": "TaMmZScqY1a6",
        "colab_type": "code",
        "colab": {}
      },
      "cell_type": "code",
      "source": [
        "#Transformando a coluna Data de volta em uma coluna de informações do dataSet\n",
        "dataSet = dataSet.reset_index()"
      ],
      "execution_count": 0,
      "outputs": []
    },
    {
      "metadata": {
        "id": "FQ4sH9w0Y1bG",
        "colab_type": "text"
      },
      "cell_type": "markdown",
      "source": [
        "# Considerando os seguintes intervalos: \n",
        "- Outono: 20 de março a 21 de junho (fechado em 20/03 e aberto em 21/06)\n",
        "- Inverno: 21 de junho a 22 de setembro (fechado em 21/06 e aberto em 22/09)\n",
        "- Primavera: de 22 de setembro a 21 de dezembro (fechado em 22/09 e aberto em 21/12)\n",
        "- Verão: de 21 de dezembro a 20 de março (fechado em 21/12 e aberto em 20/03)"
      ]
    },
    {
      "metadata": {
        "id": "xFJuFJ70Y1bN",
        "colab_type": "code",
        "colab": {}
      },
      "cell_type": "code",
      "source": [
        "#Função que retorna a estação do ano para uma determinada data\n",
        "def season(data):\n",
        "    if (data.month > 3 and data.month < 6) or (data.month == 3 and data.day >= 20) or (data.month == 6 and data.day < 21):\n",
        "        return \"Out\"\n",
        "    if (data.month > 6 and data.month < 9) or (data.month == 6 and data.day >= 21) or (data.month == 9 and data.day < 22):\n",
        "        return \"Inv\"\n",
        "    if (data.month > 9 and data.month < 12) or (data.month == 9 and data.day >= 22) or (data.month == 12 and data.day < 21):\n",
        "        return \"Pri\"\n",
        "    else:\n",
        "        return \"Ver\""
      ],
      "execution_count": 0,
      "outputs": []
    },
    {
      "metadata": {
        "id": "3C4dHM4fY1ba",
        "colab_type": "code",
        "colab": {}
      },
      "cell_type": "code",
      "source": [
        "#Identificando a estação do ano na base de dados e guardando a informação referente ao ano de cada dado\n",
        "estacao, ano = [], []\n",
        "for i in dataSet.index:\n",
        "    estacao.insert(i, season(dataSet.loc[i, \"Data\"]))\n",
        "    ano.insert(i, dataSet.loc[i,\"Data\"].year)"
      ],
      "execution_count": 0,
      "outputs": []
    },
    {
      "metadata": {
        "id": "tk_LId6PY1bx",
        "colab_type": "code",
        "outputId": "8352bf32-24cf-4bbf-d175-b2b2866785a6",
        "colab": {
          "base_uri": "https://localhost:8080/",
          "height": 86
        }
      },
      "cell_type": "code",
      "source": [
        "#Contando quantos dados existem para cada estação\n",
        "print(\"Outono: \" + str(estacao.count(\"Out\")))\n",
        "print(\"Inverno: \" + str(estacao.count(\"Inv\")))\n",
        "print(\"Primavera: \" + str(estacao.count(\"Pri\")))\n",
        "print(\"Verão: \" + str(estacao.count(\"Ver\")))"
      ],
      "execution_count": 18,
      "outputs": [
        {
          "output_type": "stream",
          "text": [
            "Outono: 3048\n",
            "Inverno: 2988\n",
            "Primavera: 2946\n",
            "Verão: 2929\n"
          ],
          "name": "stdout"
        }
      ]
    },
    {
      "metadata": {
        "id": "Fonim3bXY1cH",
        "colab_type": "code",
        "colab": {}
      },
      "cell_type": "code",
      "source": [
        "#Adicionando a estação do ano e o ano na base de dados\n",
        "dataSet[\"Season\"] = estacao\n",
        "dataSet[\"Ano\"] = ano"
      ],
      "execution_count": 0,
      "outputs": []
    },
    {
      "metadata": {
        "id": "afSm0pJBY1cU",
        "colab_type": "code",
        "outputId": "cf278bfe-8aa3-41fd-a865-dbb0a8eda005",
        "colab": {
          "base_uri": "https://localhost:8080/",
          "height": 206
        }
      },
      "cell_type": "code",
      "source": [
        "#Eliminando a coluna \"Data\" e visualizando dados\n",
        "dataSet = dataSet.drop(columns=\"Data\")\n",
        "dataSet.head()"
      ],
      "execution_count": 20,
      "outputs": [
        {
          "output_type": "execute_result",
          "data": {
            "text/html": [
              "<div>\n",
              "<style scoped>\n",
              "    .dataframe tbody tr th:only-of-type {\n",
              "        vertical-align: middle;\n",
              "    }\n",
              "\n",
              "    .dataframe tbody tr th {\n",
              "        vertical-align: top;\n",
              "    }\n",
              "\n",
              "    .dataframe thead th {\n",
              "        text-align: right;\n",
              "    }\n",
              "</style>\n",
              "<table border=\"1\" class=\"dataframe\">\n",
              "  <thead>\n",
              "    <tr style=\"text-align: right;\">\n",
              "      <th></th>\n",
              "      <th>Prec</th>\n",
              "      <th>TempMax</th>\n",
              "      <th>TempMin</th>\n",
              "      <th>Insolacao</th>\n",
              "      <th>EvapoPiche</th>\n",
              "      <th>TempCompMedia</th>\n",
              "      <th>UmidRelatMedia</th>\n",
              "      <th>VelocVento</th>\n",
              "      <th>Season</th>\n",
              "      <th>Ano</th>\n",
              "    </tr>\n",
              "  </thead>\n",
              "  <tbody>\n",
              "    <tr>\n",
              "      <th>0</th>\n",
              "      <td>0.0</td>\n",
              "      <td>30.6</td>\n",
              "      <td>21.4</td>\n",
              "      <td>11.1</td>\n",
              "      <td>4.4</td>\n",
              "      <td>25.14</td>\n",
              "      <td>73.50</td>\n",
              "      <td>2.666667</td>\n",
              "      <td>Ver</td>\n",
              "      <td>1968</td>\n",
              "    </tr>\n",
              "    <tr>\n",
              "      <th>1</th>\n",
              "      <td>0.0</td>\n",
              "      <td>31.0</td>\n",
              "      <td>19.6</td>\n",
              "      <td>11.9</td>\n",
              "      <td>6.5</td>\n",
              "      <td>24.92</td>\n",
              "      <td>74.75</td>\n",
              "      <td>1.666667</td>\n",
              "      <td>Ver</td>\n",
              "      <td>1968</td>\n",
              "    </tr>\n",
              "    <tr>\n",
              "      <th>2</th>\n",
              "      <td>0.0</td>\n",
              "      <td>31.6</td>\n",
              "      <td>18.5</td>\n",
              "      <td>11.3</td>\n",
              "      <td>5.0</td>\n",
              "      <td>24.90</td>\n",
              "      <td>77.25</td>\n",
              "      <td>2.333333</td>\n",
              "      <td>Ver</td>\n",
              "      <td>1968</td>\n",
              "    </tr>\n",
              "    <tr>\n",
              "      <th>3</th>\n",
              "      <td>0.0</td>\n",
              "      <td>31.2</td>\n",
              "      <td>20.7</td>\n",
              "      <td>10.3</td>\n",
              "      <td>4.0</td>\n",
              "      <td>24.82</td>\n",
              "      <td>80.75</td>\n",
              "      <td>3.666667</td>\n",
              "      <td>Ver</td>\n",
              "      <td>1968</td>\n",
              "    </tr>\n",
              "    <tr>\n",
              "      <th>4</th>\n",
              "      <td>0.0</td>\n",
              "      <td>30.8</td>\n",
              "      <td>19.9</td>\n",
              "      <td>11.0</td>\n",
              "      <td>4.2</td>\n",
              "      <td>24.78</td>\n",
              "      <td>76.00</td>\n",
              "      <td>4.000000</td>\n",
              "      <td>Ver</td>\n",
              "      <td>1968</td>\n",
              "    </tr>\n",
              "  </tbody>\n",
              "</table>\n",
              "</div>"
            ],
            "text/plain": [
              "   Prec  TempMax  TempMin  Insolacao  EvapoPiche  TempCompMedia  \\\n",
              "0   0.0     30.6     21.4       11.1         4.4          25.14   \n",
              "1   0.0     31.0     19.6       11.9         6.5          24.92   \n",
              "2   0.0     31.6     18.5       11.3         5.0          24.90   \n",
              "3   0.0     31.2     20.7       10.3         4.0          24.82   \n",
              "4   0.0     30.8     19.9       11.0         4.2          24.78   \n",
              "\n",
              "   UmidRelatMedia  VelocVento Season   Ano  \n",
              "0           73.50    2.666667    Ver  1968  \n",
              "1           74.75    1.666667    Ver  1968  \n",
              "2           77.25    2.333333    Ver  1968  \n",
              "3           80.75    3.666667    Ver  1968  \n",
              "4           76.00    4.000000    Ver  1968  "
            ]
          },
          "metadata": {
            "tags": []
          },
          "execution_count": 20
        }
      ]
    },
    {
      "metadata": {
        "id": "fZ5NRaAxY1ce",
        "colab_type": "code",
        "colab": {}
      },
      "cell_type": "code",
      "source": [
        "#Separando a variável que será prevista (Y) em função das demais variáveis (X) e convertendo-os em um ndarray\n",
        "X = dataSet.drop(columns = \"Season\").values\n",
        "Y = dataSet[\"Season\"].values"
      ],
      "execution_count": 0,
      "outputs": []
    },
    {
      "metadata": {
        "id": "Jzduxq61Y1dR",
        "colab_type": "code",
        "colab": {}
      },
      "cell_type": "code",
      "source": [
        "#Efetuando uma transformação simples nos dados\n",
        "sc = StandardScaler()\n",
        "X = sc.fit_transform(X)"
      ],
      "execution_count": 0,
      "outputs": []
    },
    {
      "metadata": {
        "id": "6iWPDUvhc1gQ",
        "colab_type": "code",
        "colab": {}
      },
      "cell_type": "code",
      "source": [
        "#Definindo uma função para fazer o Cross Validation com a SVM\n",
        "def trainSVM(X, Y, paramC, paramG):\n",
        "  clf = SVC(C = paramC, kernel = 'rbf', random_state = 7, gamma = paramG)\n",
        "  score = cross_val_score(clf, X, Y, cv=5)\n",
        "  return score"
      ],
      "execution_count": 0,
      "outputs": []
    },
    {
      "metadata": {
        "id": "uJG7Xtwxe7uU",
        "colab_type": "code",
        "colab": {
          "base_uri": "https://localhost:8080/",
          "height": 34
        },
        "outputId": "1356676a-0cec-487a-ae3f-ce1afe506476"
      },
      "cell_type": "code",
      "source": [
        "#Este processo faz parte da busca pelos melhores parametros C e Gamma para a SVM.\n",
        "#Declaracao de variaveis para ajudar na escolha dos parametros que retornem o melhor numero de acertos\n",
        "C_range = np.logspace(start = -5, stop = 5, num = 5)\n",
        "gamma_range = np.logspace(start = -5, stop = 5, num = 5)\n",
        "acertos_maior = 0\n",
        "acerto_local = 0\n",
        "C_maior = C_range[0]\n",
        "gamma_maior = gamma_range[0]\n",
        "contador_passo = 0\n",
        "print(\"O numero de iteracoes necessarias sera de: \" + str(len(C_range)*len(gamma_range)))"
      ],
      "execution_count": 24,
      "outputs": [
        {
          "output_type": "stream",
          "text": [
            "O numero de iteracoes necessarias sera de: 25\n"
          ],
          "name": "stdout"
        }
      ]
    },
    {
      "metadata": {
        "id": "84NKlGVtfUy7",
        "colab_type": "code",
        "colab": {
          "base_uri": "https://localhost:8080/",
          "height": 503
        },
        "outputId": "0dabc4d7-dc30-41c7-e330-764f0a1b6546"
      },
      "cell_type": "code",
      "source": [
        "#Treinando o algoritmo exaustivamente com os parâmetros criados\n",
        "for i in C_range:\n",
        "  for j in gamma_range:\n",
        "    contador_passo += 1\n",
        "    print(\"passo: \" + str(contador_passo))\n",
        "    #Treinando o algoritmo\n",
        "    score = trainSVM(X, Y, i, j)\n",
        "    #Numero de acertos locais\n",
        "    acerto_local = score.mean()\n",
        "    if acerto_local > acertos_maior:\n",
        "      acertos_maior = acerto_local\n",
        "      C_maior = i\n",
        "      gamma_maior = j\n",
        "      print(acertos_maior)"
      ],
      "execution_count": 25,
      "outputs": [
        {
          "output_type": "stream",
          "text": [
            "passo: 1\n",
            "0.25589788706207356\n",
            "passo: 2\n",
            "passo: 3\n",
            "passo: 4\n",
            "passo: 5\n",
            "passo: 6\n",
            "passo: 7\n",
            "passo: 8\n",
            "passo: 9\n",
            "passo: 10\n",
            "passo: 11\n",
            "passo: 12\n",
            "0.6351387754684475\n",
            "passo: 13\n",
            "passo: 14\n",
            "passo: 15\n",
            "passo: 16\n",
            "passo: 17\n",
            "0.6590680459295148\n",
            "passo: 18\n",
            "passo: 19\n",
            "passo: 20\n",
            "passo: 21\n",
            "passo: 22\n",
            "passo: 23\n",
            "passo: 24\n",
            "passo: 25\n"
          ],
          "name": "stdout"
        }
      ]
    },
    {
      "metadata": {
        "id": "zTKtgaLOla2W",
        "colab_type": "code",
        "colab": {
          "base_uri": "https://localhost:8080/",
          "height": 52
        },
        "outputId": "01b10c93-948a-4e99-b741-c587d2ebee85"
      },
      "cell_type": "code",
      "source": [
        "#Mostrando os resultados obtidos:\n",
        "print(\"A maior taxa de acerto foi de: \" + str(acertos_maior))\n",
        "print(\"Com o parametro C = \" + str(C_maior) + \", e com o parâmetro Gamma = \" + str(gamma_maior))"
      ],
      "execution_count": 26,
      "outputs": [
        {
          "output_type": "stream",
          "text": [
            "A maior taxa de acerto foi de: 0.6590680459295148\n",
            "Com o parametro C = 316.22776601683796, e com o parâmetro Gamma = 0.0031622776601683794\n"
          ],
          "name": "stdout"
        }
      ]
    }
  ]
}