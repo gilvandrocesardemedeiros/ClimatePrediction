{
 "cells": [
  {
   "cell_type": "code",
   "execution_count": 1,
   "metadata": {
    "colab": {},
    "colab_type": "code",
    "id": "RFr-P2pZY1XZ"
   },
   "outputs": [
    {
     "name": "stderr",
     "output_type": "stream",
     "text": [
      "Using Theano backend.\n"
     ]
    }
   ],
   "source": [
    "#Importando bibliotecas\n",
    "import numpy as np\n",
    "import pandas as pd\n",
    "from datetime import datetime\n",
    "from keras.models import Sequential\n",
    "from keras.layers import Dense\n",
    "from keras.wrappers.scikit_learn import KerasClassifier\n",
    "from keras.utils import np_utils\n",
    "from sklearn.model_selection import cross_val_score\n",
    "from sklearn.model_selection import KFold\n",
    "from sklearn.preprocessing import RobustScaler\n",
    "from sklearn.preprocessing import MinMaxScaler\n",
    "from sklearn.preprocessing import LabelEncoder"
   ]
  },
  {
   "cell_type": "code",
   "execution_count": 2,
   "metadata": {
    "colab": {},
    "colab_type": "code",
    "id": "RrtubTTdY1X5"
   },
   "outputs": [],
   "source": [
    "#Nomes para as colunas\n",
    "columns = [\"Estacao\",\"Data\",\"Hora\",\"Prec\",\"TempMax\",\"TempMin\",\"Insolacao\",\"EvapoPiche\",\"TempCompMedia\",\n",
    "           \"UmidRelatMedia\", \"VelocVento\", \"Missing\"]\n",
    "\n",
    "#Tipos de dados em cada coluna\n",
    "types = {\"Hora\":np.uint16,\"Prec\":np.float64,\"TempMax\":np.float64,\"TempMin\":np.float64,\"Insolacao\":np.float64,\n",
    "         \"EvapoPiche\":np.float64,\"TempCompMedia\":np.float64,\"UmidRelatMedia\":np.float64,\"VelocVento\":np.float64}\n",
    "\n",
    "#Leitura do arquivo csv\n",
    "dataSet = pd.read_csv(\"https://github.com/gilvandrocesardemedeiros/ClimatePrediction/raw/master/Dados_INMET/Diarios/INMET-Dados_Diarios_Natal_1968-2018.csv\",\n",
    "                      sep=';',skiprows=48, nrows = 27003, usecols = columns[1:11], names=columns, dtype = types)"
   ]
  },
  {
   "cell_type": "code",
   "execution_count": 3,
   "metadata": {
    "colab": {},
    "colab_type": "code",
    "id": "GxsUtCSXY1YH"
   },
   "outputs": [],
   "source": [
    "#Transformando data em variável do tipo datetime\n",
    "dataSet[\"Data\"] = pd.to_datetime(dataSet[\"Data\"], format = \"%d/%m/%Y\")"
   ]
  },
  {
   "cell_type": "code",
   "execution_count": 4,
   "metadata": {
    "colab": {
     "base_uri": "https://localhost:8080/",
     "height": 206
    },
    "colab_type": "code",
    "id": "zpz_3U99Y1YX",
    "outputId": "e93db96c-287f-4d6e-a0e8-b4980e410a37"
   },
   "outputs": [
    {
     "data": {
      "text/html": [
       "<div>\n",
       "<style scoped>\n",
       "    .dataframe tbody tr th:only-of-type {\n",
       "        vertical-align: middle;\n",
       "    }\n",
       "\n",
       "    .dataframe tbody tr th {\n",
       "        vertical-align: top;\n",
       "    }\n",
       "\n",
       "    .dataframe thead th {\n",
       "        text-align: right;\n",
       "    }\n",
       "</style>\n",
       "<table border=\"1\" class=\"dataframe\">\n",
       "  <thead>\n",
       "    <tr style=\"text-align: right;\">\n",
       "      <th></th>\n",
       "      <th>Data</th>\n",
       "      <th>Hora</th>\n",
       "      <th>Prec</th>\n",
       "      <th>TempMax</th>\n",
       "      <th>TempMin</th>\n",
       "      <th>Insolacao</th>\n",
       "      <th>EvapoPiche</th>\n",
       "      <th>TempCompMedia</th>\n",
       "      <th>UmidRelatMedia</th>\n",
       "      <th>VelocVento</th>\n",
       "    </tr>\n",
       "  </thead>\n",
       "  <tbody>\n",
       "    <tr>\n",
       "      <th>0</th>\n",
       "      <td>1968-01-01</td>\n",
       "      <td>0</td>\n",
       "      <td>NaN</td>\n",
       "      <td>30.6</td>\n",
       "      <td>NaN</td>\n",
       "      <td>11.1</td>\n",
       "      <td>4.4</td>\n",
       "      <td>25.14</td>\n",
       "      <td>73.50</td>\n",
       "      <td>2.666667</td>\n",
       "    </tr>\n",
       "    <tr>\n",
       "      <th>1</th>\n",
       "      <td>1968-01-01</td>\n",
       "      <td>1200</td>\n",
       "      <td>0.0</td>\n",
       "      <td>NaN</td>\n",
       "      <td>21.4</td>\n",
       "      <td>NaN</td>\n",
       "      <td>NaN</td>\n",
       "      <td>NaN</td>\n",
       "      <td>NaN</td>\n",
       "      <td>NaN</td>\n",
       "    </tr>\n",
       "    <tr>\n",
       "      <th>2</th>\n",
       "      <td>1968-01-02</td>\n",
       "      <td>0</td>\n",
       "      <td>NaN</td>\n",
       "      <td>31.0</td>\n",
       "      <td>NaN</td>\n",
       "      <td>11.9</td>\n",
       "      <td>6.5</td>\n",
       "      <td>24.92</td>\n",
       "      <td>74.75</td>\n",
       "      <td>1.666667</td>\n",
       "    </tr>\n",
       "    <tr>\n",
       "      <th>3</th>\n",
       "      <td>1968-01-02</td>\n",
       "      <td>1200</td>\n",
       "      <td>0.0</td>\n",
       "      <td>NaN</td>\n",
       "      <td>19.6</td>\n",
       "      <td>NaN</td>\n",
       "      <td>NaN</td>\n",
       "      <td>NaN</td>\n",
       "      <td>NaN</td>\n",
       "      <td>NaN</td>\n",
       "    </tr>\n",
       "    <tr>\n",
       "      <th>4</th>\n",
       "      <td>1968-01-03</td>\n",
       "      <td>0</td>\n",
       "      <td>NaN</td>\n",
       "      <td>31.6</td>\n",
       "      <td>NaN</td>\n",
       "      <td>11.3</td>\n",
       "      <td>5.0</td>\n",
       "      <td>24.90</td>\n",
       "      <td>77.25</td>\n",
       "      <td>2.333333</td>\n",
       "    </tr>\n",
       "  </tbody>\n",
       "</table>\n",
       "</div>"
      ],
      "text/plain": [
       "        Data  Hora  Prec  TempMax  TempMin  Insolacao  EvapoPiche  \\\n",
       "0 1968-01-01     0   NaN     30.6      NaN       11.1         4.4   \n",
       "1 1968-01-01  1200   0.0      NaN     21.4        NaN         NaN   \n",
       "2 1968-01-02     0   NaN     31.0      NaN       11.9         6.5   \n",
       "3 1968-01-02  1200   0.0      NaN     19.6        NaN         NaN   \n",
       "4 1968-01-03     0   NaN     31.6      NaN       11.3         5.0   \n",
       "\n",
       "   TempCompMedia  UmidRelatMedia  VelocVento  \n",
       "0          25.14           73.50    2.666667  \n",
       "1            NaN             NaN         NaN  \n",
       "2          24.92           74.75    1.666667  \n",
       "3            NaN             NaN         NaN  \n",
       "4          24.90           77.25    2.333333  "
      ]
     },
     "execution_count": 4,
     "metadata": {},
     "output_type": "execute_result"
    }
   ],
   "source": [
    "#Verificando dados\n",
    "dataSet.head()"
   ]
  },
  {
   "cell_type": "code",
   "execution_count": 5,
   "metadata": {
    "colab": {
     "base_uri": "https://localhost:8080/",
     "height": 208
    },
    "colab_type": "code",
    "id": "70lMVvSCY1Yi",
    "outputId": "8fea36a6-2924-45b8-b51e-043b2c123ec2"
   },
   "outputs": [
    {
     "data": {
      "text/plain": [
       "Data              datetime64[ns]\n",
       "Hora                      uint16\n",
       "Prec                     float64\n",
       "TempMax                  float64\n",
       "TempMin                  float64\n",
       "Insolacao                float64\n",
       "EvapoPiche               float64\n",
       "TempCompMedia            float64\n",
       "UmidRelatMedia           float64\n",
       "VelocVento               float64\n",
       "dtype: object"
      ]
     },
     "execution_count": 5,
     "metadata": {},
     "output_type": "execute_result"
    }
   ],
   "source": [
    "#Verificando o tipo dos dados\n",
    "dataSet.dtypes"
   ]
  },
  {
   "cell_type": "code",
   "execution_count": 6,
   "metadata": {
    "colab": {},
    "colab_type": "code",
    "id": "1L0ixg6rY1Ys"
   },
   "outputs": [],
   "source": [
    "#Separando os dados em dois dataframes, um para as 00:00 h e outro para as 12:00 h\n",
    "dataSet00, dataSet12 = dataSet[dataSet[\"Hora\"] == 0], dataSet[dataSet[\"Hora\"] == 1200]"
   ]
  },
  {
   "cell_type": "code",
   "execution_count": 7,
   "metadata": {
    "colab": {
     "base_uri": "https://localhost:8080/",
     "height": 206
    },
    "colab_type": "code",
    "id": "gza7uVhHY1Y2",
    "outputId": "b526c031-152d-4d28-fcb4-4d7c1059a94f"
   },
   "outputs": [
    {
     "data": {
      "text/html": [
       "<div>\n",
       "<style scoped>\n",
       "    .dataframe tbody tr th:only-of-type {\n",
       "        vertical-align: middle;\n",
       "    }\n",
       "\n",
       "    .dataframe tbody tr th {\n",
       "        vertical-align: top;\n",
       "    }\n",
       "\n",
       "    .dataframe thead th {\n",
       "        text-align: right;\n",
       "    }\n",
       "</style>\n",
       "<table border=\"1\" class=\"dataframe\">\n",
       "  <thead>\n",
       "    <tr style=\"text-align: right;\">\n",
       "      <th></th>\n",
       "      <th>Data</th>\n",
       "      <th>Hora</th>\n",
       "      <th>Prec</th>\n",
       "      <th>TempMax</th>\n",
       "      <th>TempMin</th>\n",
       "      <th>Insolacao</th>\n",
       "      <th>EvapoPiche</th>\n",
       "      <th>TempCompMedia</th>\n",
       "      <th>UmidRelatMedia</th>\n",
       "      <th>VelocVento</th>\n",
       "    </tr>\n",
       "  </thead>\n",
       "  <tbody>\n",
       "    <tr>\n",
       "      <th>0</th>\n",
       "      <td>1968-01-01</td>\n",
       "      <td>0</td>\n",
       "      <td>NaN</td>\n",
       "      <td>30.6</td>\n",
       "      <td>NaN</td>\n",
       "      <td>11.1</td>\n",
       "      <td>4.4</td>\n",
       "      <td>25.14</td>\n",
       "      <td>73.50</td>\n",
       "      <td>2.666667</td>\n",
       "    </tr>\n",
       "    <tr>\n",
       "      <th>2</th>\n",
       "      <td>1968-01-02</td>\n",
       "      <td>0</td>\n",
       "      <td>NaN</td>\n",
       "      <td>31.0</td>\n",
       "      <td>NaN</td>\n",
       "      <td>11.9</td>\n",
       "      <td>6.5</td>\n",
       "      <td>24.92</td>\n",
       "      <td>74.75</td>\n",
       "      <td>1.666667</td>\n",
       "    </tr>\n",
       "    <tr>\n",
       "      <th>4</th>\n",
       "      <td>1968-01-03</td>\n",
       "      <td>0</td>\n",
       "      <td>NaN</td>\n",
       "      <td>31.6</td>\n",
       "      <td>NaN</td>\n",
       "      <td>11.3</td>\n",
       "      <td>5.0</td>\n",
       "      <td>24.90</td>\n",
       "      <td>77.25</td>\n",
       "      <td>2.333333</td>\n",
       "    </tr>\n",
       "    <tr>\n",
       "      <th>6</th>\n",
       "      <td>1968-01-04</td>\n",
       "      <td>0</td>\n",
       "      <td>NaN</td>\n",
       "      <td>31.2</td>\n",
       "      <td>NaN</td>\n",
       "      <td>10.3</td>\n",
       "      <td>4.0</td>\n",
       "      <td>24.82</td>\n",
       "      <td>80.75</td>\n",
       "      <td>3.666667</td>\n",
       "    </tr>\n",
       "    <tr>\n",
       "      <th>8</th>\n",
       "      <td>1968-01-05</td>\n",
       "      <td>0</td>\n",
       "      <td>NaN</td>\n",
       "      <td>30.8</td>\n",
       "      <td>NaN</td>\n",
       "      <td>11.0</td>\n",
       "      <td>4.2</td>\n",
       "      <td>24.78</td>\n",
       "      <td>76.00</td>\n",
       "      <td>4.000000</td>\n",
       "    </tr>\n",
       "  </tbody>\n",
       "</table>\n",
       "</div>"
      ],
      "text/plain": [
       "        Data  Hora  Prec  TempMax  TempMin  Insolacao  EvapoPiche  \\\n",
       "0 1968-01-01     0   NaN     30.6      NaN       11.1         4.4   \n",
       "2 1968-01-02     0   NaN     31.0      NaN       11.9         6.5   \n",
       "4 1968-01-03     0   NaN     31.6      NaN       11.3         5.0   \n",
       "6 1968-01-04     0   NaN     31.2      NaN       10.3         4.0   \n",
       "8 1968-01-05     0   NaN     30.8      NaN       11.0         4.2   \n",
       "\n",
       "   TempCompMedia  UmidRelatMedia  VelocVento  \n",
       "0          25.14           73.50    2.666667  \n",
       "2          24.92           74.75    1.666667  \n",
       "4          24.90           77.25    2.333333  \n",
       "6          24.82           80.75    3.666667  \n",
       "8          24.78           76.00    4.000000  "
      ]
     },
     "execution_count": 7,
     "metadata": {},
     "output_type": "execute_result"
    }
   ],
   "source": [
    "#Verificando dataframe para os dados disponibilizados às 00:00 h\n",
    "dataSet00.head()"
   ]
  },
  {
   "cell_type": "code",
   "execution_count": 8,
   "metadata": {
    "colab": {
     "base_uri": "https://localhost:8080/",
     "height": 206
    },
    "colab_type": "code",
    "id": "gnACR-XaY1ZG",
    "outputId": "37143040-7768-4b45-bf95-94b45355033f"
   },
   "outputs": [
    {
     "data": {
      "text/html": [
       "<div>\n",
       "<style scoped>\n",
       "    .dataframe tbody tr th:only-of-type {\n",
       "        vertical-align: middle;\n",
       "    }\n",
       "\n",
       "    .dataframe tbody tr th {\n",
       "        vertical-align: top;\n",
       "    }\n",
       "\n",
       "    .dataframe thead th {\n",
       "        text-align: right;\n",
       "    }\n",
       "</style>\n",
       "<table border=\"1\" class=\"dataframe\">\n",
       "  <thead>\n",
       "    <tr style=\"text-align: right;\">\n",
       "      <th></th>\n",
       "      <th>Data</th>\n",
       "      <th>Hora</th>\n",
       "      <th>Prec</th>\n",
       "      <th>TempMax</th>\n",
       "      <th>TempMin</th>\n",
       "      <th>Insolacao</th>\n",
       "      <th>EvapoPiche</th>\n",
       "      <th>TempCompMedia</th>\n",
       "      <th>UmidRelatMedia</th>\n",
       "      <th>VelocVento</th>\n",
       "    </tr>\n",
       "  </thead>\n",
       "  <tbody>\n",
       "    <tr>\n",
       "      <th>1</th>\n",
       "      <td>1968-01-01</td>\n",
       "      <td>1200</td>\n",
       "      <td>0.0</td>\n",
       "      <td>NaN</td>\n",
       "      <td>21.4</td>\n",
       "      <td>NaN</td>\n",
       "      <td>NaN</td>\n",
       "      <td>NaN</td>\n",
       "      <td>NaN</td>\n",
       "      <td>NaN</td>\n",
       "    </tr>\n",
       "    <tr>\n",
       "      <th>3</th>\n",
       "      <td>1968-01-02</td>\n",
       "      <td>1200</td>\n",
       "      <td>0.0</td>\n",
       "      <td>NaN</td>\n",
       "      <td>19.6</td>\n",
       "      <td>NaN</td>\n",
       "      <td>NaN</td>\n",
       "      <td>NaN</td>\n",
       "      <td>NaN</td>\n",
       "      <td>NaN</td>\n",
       "    </tr>\n",
       "    <tr>\n",
       "      <th>5</th>\n",
       "      <td>1968-01-03</td>\n",
       "      <td>1200</td>\n",
       "      <td>0.0</td>\n",
       "      <td>NaN</td>\n",
       "      <td>18.5</td>\n",
       "      <td>NaN</td>\n",
       "      <td>NaN</td>\n",
       "      <td>NaN</td>\n",
       "      <td>NaN</td>\n",
       "      <td>NaN</td>\n",
       "    </tr>\n",
       "    <tr>\n",
       "      <th>7</th>\n",
       "      <td>1968-01-04</td>\n",
       "      <td>1200</td>\n",
       "      <td>0.0</td>\n",
       "      <td>NaN</td>\n",
       "      <td>20.7</td>\n",
       "      <td>NaN</td>\n",
       "      <td>NaN</td>\n",
       "      <td>NaN</td>\n",
       "      <td>NaN</td>\n",
       "      <td>NaN</td>\n",
       "    </tr>\n",
       "    <tr>\n",
       "      <th>9</th>\n",
       "      <td>1968-01-05</td>\n",
       "      <td>1200</td>\n",
       "      <td>0.0</td>\n",
       "      <td>NaN</td>\n",
       "      <td>19.9</td>\n",
       "      <td>NaN</td>\n",
       "      <td>NaN</td>\n",
       "      <td>NaN</td>\n",
       "      <td>NaN</td>\n",
       "      <td>NaN</td>\n",
       "    </tr>\n",
       "  </tbody>\n",
       "</table>\n",
       "</div>"
      ],
      "text/plain": [
       "        Data  Hora  Prec  TempMax  TempMin  Insolacao  EvapoPiche  \\\n",
       "1 1968-01-01  1200   0.0      NaN     21.4        NaN         NaN   \n",
       "3 1968-01-02  1200   0.0      NaN     19.6        NaN         NaN   \n",
       "5 1968-01-03  1200   0.0      NaN     18.5        NaN         NaN   \n",
       "7 1968-01-04  1200   0.0      NaN     20.7        NaN         NaN   \n",
       "9 1968-01-05  1200   0.0      NaN     19.9        NaN         NaN   \n",
       "\n",
       "   TempCompMedia  UmidRelatMedia  VelocVento  \n",
       "1            NaN             NaN         NaN  \n",
       "3            NaN             NaN         NaN  \n",
       "5            NaN             NaN         NaN  \n",
       "7            NaN             NaN         NaN  \n",
       "9            NaN             NaN         NaN  "
      ]
     },
     "execution_count": 8,
     "metadata": {},
     "output_type": "execute_result"
    }
   ],
   "source": [
    "#Verificando dataframe para os dados disponibilizados às 12:00 h\n",
    "dataSet12.head()"
   ]
  },
  {
   "cell_type": "code",
   "execution_count": 9,
   "metadata": {
    "colab": {},
    "colab_type": "code",
    "id": "WuqNlnwnY1ZY"
   },
   "outputs": [],
   "source": [
    "#Transformando a data no índice de cada dataframe\n",
    "dataSet00 = dataSet00.set_index(\"Data\")\n",
    "dataSet12 = dataSet12.set_index(\"Data\")"
   ]
  },
  {
   "cell_type": "code",
   "execution_count": 10,
   "metadata": {
    "colab": {},
    "colab_type": "code",
    "id": "szoGcFW-Y1Zu"
   },
   "outputs": [],
   "source": [
    "#Descartando a coluna \"Hora\"\n",
    "dataSet00, dataSet12 = dataSet00.drop(columns = \"Hora\"), dataSet12.drop(columns = \"Hora\")"
   ]
  },
  {
   "cell_type": "code",
   "execution_count": 11,
   "metadata": {
    "colab": {
     "base_uri": "https://localhost:8080/",
     "height": 156
    },
    "colab_type": "code",
    "id": "XX-MMwLTY1aK",
    "outputId": "2b7fea05-dc0a-4249-f1ae-ca6ae7e3671b"
   },
   "outputs": [
    {
     "name": "stdout",
     "output_type": "stream",
     "text": [
      "Data 5/7/1986 Não encontrada!\n",
      "Data 20/7/1986 Não encontrada!\n",
      "Data 3/6/1989 Não encontrada!\n",
      "Data 12/6/1989 Não encontrada!\n",
      "Data 4/12/1992 Não encontrada!\n",
      "Data 26/5/2018 Não encontrada!\n",
      "Data 1/8/2018 Não encontrada!\n",
      "Data 27/10/2018 Não encontrada!\n"
     ]
    }
   ],
   "source": [
    "#Juntando os dados em um mesmo dataframe (no caso, o dataSet00)\n",
    "for i in dataSet00.index:\n",
    "    try:\n",
    "        dataSet00[\"Prec\"].loc[i] = dataSet12[\"Prec\"].loc[i]\n",
    "        dataSet00[\"TempMin\"].loc[i] = dataSet12[\"TempMin\"].loc[i]\n",
    "    except:\n",
    "        print(\"Data \" + str(i.day) + \"/\" + str(i.month) + \"/\" + str(i.year) + \" Não encontrada!\")"
   ]
  },
  {
   "cell_type": "code",
   "execution_count": 12,
   "metadata": {
    "colab": {
     "base_uri": "https://localhost:8080/",
     "height": 34
    },
    "colab_type": "code",
    "id": "qfiNz5X6Y1aZ",
    "outputId": "828d948a-d462-4f44-a5be-ae253588458b"
   },
   "outputs": [
    {
     "name": "stdout",
     "output_type": "stream",
     "text": [
      "(13502, 8)\n"
     ]
    }
   ],
   "source": [
    "#Atribuindo à variável dataSet o DataFrame atualizado\n",
    "dataSet = dataSet00\n",
    "#Verificando dimensões do DataFrame\n",
    "print(dataSet.shape)"
   ]
  },
  {
   "cell_type": "code",
   "execution_count": 13,
   "metadata": {
    "colab": {},
    "colab_type": "code",
    "id": "d6Lhvcw0Y1aj"
   },
   "outputs": [],
   "source": [
    "#Eliminando dias que estejam faltando variáveis\n",
    "dataSet = dataSet.dropna()"
   ]
  },
  {
   "cell_type": "code",
   "execution_count": 14,
   "metadata": {
    "colab": {
     "base_uri": "https://localhost:8080/",
     "height": 34
    },
    "colab_type": "code",
    "id": "jYp8zBtAY1ax",
    "outputId": "e3d8caa1-d30d-4690-97eb-fd6fccb626ea"
   },
   "outputs": [
    {
     "name": "stdout",
     "output_type": "stream",
     "text": [
      "(11911, 8)\n"
     ]
    }
   ],
   "source": [
    "#Verificando dimensões do DataFrame após excluir linhas com problema\n",
    "print(dataSet.shape)"
   ]
  },
  {
   "cell_type": "code",
   "execution_count": 15,
   "metadata": {
    "colab": {},
    "colab_type": "code",
    "id": "TaMmZScqY1a6"
   },
   "outputs": [],
   "source": [
    "#Transformando a coluna Data de volta em uma coluna de informações do dataSet\n",
    "dataSet = dataSet.reset_index()"
   ]
  },
  {
   "cell_type": "markdown",
   "metadata": {
    "colab_type": "text",
    "id": "FQ4sH9w0Y1bG"
   },
   "source": [
    "# Considerando os seguintes intervalos: \n",
    "- Outono: 20 de março a 21 de junho (fechado em 20/03 e aberto em 21/06)\n",
    "- Inverno: 21 de junho a 22 de setembro (fechado em 21/06 e aberto em 22/09)\n",
    "- Primavera: de 22 de setembro a 21 de dezembro (fechado em 22/09 e aberto em 21/12)\n",
    "- Verão: de 21 de dezembro a 20 de março (fechado em 21/12 e aberto em 20/03)"
   ]
  },
  {
   "cell_type": "code",
   "execution_count": 16,
   "metadata": {
    "colab": {},
    "colab_type": "code",
    "id": "xFJuFJ70Y1bN"
   },
   "outputs": [],
   "source": [
    "#Função que retorna a estação do ano para uma determinada data\n",
    "def season(data):\n",
    "    if (data.month > 3 and data.month < 6) or (data.month == 3 and data.day >= 20) or (data.month == 6 and data.day < 21):\n",
    "        return \"Out\"\n",
    "    if (data.month > 6 and data.month < 9) or (data.month == 6 and data.day >= 21) or (data.month == 9 and data.day < 22):\n",
    "        return \"Inv\"\n",
    "    if (data.month > 9 and data.month < 12) or (data.month == 9 and data.day >= 22) or (data.month == 12 and data.day < 21):\n",
    "        return \"Pri\"\n",
    "    else:\n",
    "        return \"Ver\""
   ]
  },
  {
   "cell_type": "code",
   "execution_count": 17,
   "metadata": {
    "colab": {},
    "colab_type": "code",
    "id": "3C4dHM4fY1ba"
   },
   "outputs": [],
   "source": [
    "#Identificando a estação do ano na base de dados e guardando a informação referente ao ano de cada dado\n",
    "estacao, ano = [], []\n",
    "for i in dataSet.index:\n",
    "    estacao.insert(i, season(dataSet.loc[i, \"Data\"]))\n",
    "    ano.insert(i, dataSet.loc[i,\"Data\"].year)"
   ]
  },
  {
   "cell_type": "code",
   "execution_count": 18,
   "metadata": {
    "colab": {
     "base_uri": "https://localhost:8080/",
     "height": 86
    },
    "colab_type": "code",
    "id": "tk_LId6PY1bx",
    "outputId": "549eb4b8-6ad1-48c9-c895-021a773b9a46"
   },
   "outputs": [
    {
     "name": "stdout",
     "output_type": "stream",
     "text": [
      "Outono: 3048\n",
      "Inverno: 2988\n",
      "Primavera: 2946\n",
      "Verão: 2929\n"
     ]
    }
   ],
   "source": [
    "#Contando quantos dados existem para cada estação\n",
    "print(\"Outono: \" + str(estacao.count(\"Out\")))\n",
    "print(\"Inverno: \" + str(estacao.count(\"Inv\")))\n",
    "print(\"Primavera: \" + str(estacao.count(\"Pri\")))\n",
    "print(\"Verão: \" + str(estacao.count(\"Ver\")))"
   ]
  },
  {
   "cell_type": "code",
   "execution_count": 19,
   "metadata": {
    "colab": {},
    "colab_type": "code",
    "id": "Fonim3bXY1cH"
   },
   "outputs": [],
   "source": [
    "#Adicionando a estação do ano na base de dados\n",
    "dataSet[\"Season\"] = estacao"
   ]
  },
  {
   "cell_type": "code",
   "execution_count": 20,
   "metadata": {},
   "outputs": [],
   "source": [
    "#Efetuando uma transformação simples nos dados referentes ao ano\n",
    "ano = np.array(ano).astype(np.float64)\n",
    "minMax = MinMaxScaler()\n",
    "ano = minMax.fit_transform(ano.reshape(-1,1))"
   ]
  },
  {
   "cell_type": "code",
   "execution_count": 21,
   "metadata": {
    "colab": {
     "base_uri": "https://localhost:8080/",
     "height": 206
    },
    "colab_type": "code",
    "id": "afSm0pJBY1cU",
    "outputId": "7c950221-8223-4b6c-a582-ed36cf27b0cf"
   },
   "outputs": [
    {
     "data": {
      "text/html": [
       "<div>\n",
       "<style scoped>\n",
       "    .dataframe tbody tr th:only-of-type {\n",
       "        vertical-align: middle;\n",
       "    }\n",
       "\n",
       "    .dataframe tbody tr th {\n",
       "        vertical-align: top;\n",
       "    }\n",
       "\n",
       "    .dataframe thead th {\n",
       "        text-align: right;\n",
       "    }\n",
       "</style>\n",
       "<table border=\"1\" class=\"dataframe\">\n",
       "  <thead>\n",
       "    <tr style=\"text-align: right;\">\n",
       "      <th></th>\n",
       "      <th>Prec</th>\n",
       "      <th>TempMax</th>\n",
       "      <th>TempMin</th>\n",
       "      <th>Insolacao</th>\n",
       "      <th>EvapoPiche</th>\n",
       "      <th>TempCompMedia</th>\n",
       "      <th>UmidRelatMedia</th>\n",
       "      <th>VelocVento</th>\n",
       "      <th>Season</th>\n",
       "    </tr>\n",
       "  </thead>\n",
       "  <tbody>\n",
       "    <tr>\n",
       "      <th>0</th>\n",
       "      <td>0.0</td>\n",
       "      <td>30.6</td>\n",
       "      <td>21.4</td>\n",
       "      <td>11.1</td>\n",
       "      <td>4.4</td>\n",
       "      <td>25.14</td>\n",
       "      <td>73.50</td>\n",
       "      <td>2.666667</td>\n",
       "      <td>Ver</td>\n",
       "    </tr>\n",
       "    <tr>\n",
       "      <th>1</th>\n",
       "      <td>0.0</td>\n",
       "      <td>31.0</td>\n",
       "      <td>19.6</td>\n",
       "      <td>11.9</td>\n",
       "      <td>6.5</td>\n",
       "      <td>24.92</td>\n",
       "      <td>74.75</td>\n",
       "      <td>1.666667</td>\n",
       "      <td>Ver</td>\n",
       "    </tr>\n",
       "    <tr>\n",
       "      <th>2</th>\n",
       "      <td>0.0</td>\n",
       "      <td>31.6</td>\n",
       "      <td>18.5</td>\n",
       "      <td>11.3</td>\n",
       "      <td>5.0</td>\n",
       "      <td>24.90</td>\n",
       "      <td>77.25</td>\n",
       "      <td>2.333333</td>\n",
       "      <td>Ver</td>\n",
       "    </tr>\n",
       "    <tr>\n",
       "      <th>3</th>\n",
       "      <td>0.0</td>\n",
       "      <td>31.2</td>\n",
       "      <td>20.7</td>\n",
       "      <td>10.3</td>\n",
       "      <td>4.0</td>\n",
       "      <td>24.82</td>\n",
       "      <td>80.75</td>\n",
       "      <td>3.666667</td>\n",
       "      <td>Ver</td>\n",
       "    </tr>\n",
       "    <tr>\n",
       "      <th>4</th>\n",
       "      <td>0.0</td>\n",
       "      <td>30.8</td>\n",
       "      <td>19.9</td>\n",
       "      <td>11.0</td>\n",
       "      <td>4.2</td>\n",
       "      <td>24.78</td>\n",
       "      <td>76.00</td>\n",
       "      <td>4.000000</td>\n",
       "      <td>Ver</td>\n",
       "    </tr>\n",
       "  </tbody>\n",
       "</table>\n",
       "</div>"
      ],
      "text/plain": [
       "   Prec  TempMax  TempMin  Insolacao  EvapoPiche  TempCompMedia  \\\n",
       "0   0.0     30.6     21.4       11.1         4.4          25.14   \n",
       "1   0.0     31.0     19.6       11.9         6.5          24.92   \n",
       "2   0.0     31.6     18.5       11.3         5.0          24.90   \n",
       "3   0.0     31.2     20.7       10.3         4.0          24.82   \n",
       "4   0.0     30.8     19.9       11.0         4.2          24.78   \n",
       "\n",
       "   UmidRelatMedia  VelocVento Season  \n",
       "0           73.50    2.666667    Ver  \n",
       "1           74.75    1.666667    Ver  \n",
       "2           77.25    2.333333    Ver  \n",
       "3           80.75    3.666667    Ver  \n",
       "4           76.00    4.000000    Ver  "
      ]
     },
     "execution_count": 21,
     "metadata": {},
     "output_type": "execute_result"
    }
   ],
   "source": [
    "#Eliminando a coluna \"Data\" e visualizando dados\n",
    "dataSet = dataSet.drop(columns=\"Data\")\n",
    "dataSet.head()"
   ]
  },
  {
   "cell_type": "code",
   "execution_count": 22,
   "metadata": {
    "colab": {},
    "colab_type": "code",
    "id": "fZ5NRaAxY1ce"
   },
   "outputs": [],
   "source": [
    "#Separando a variável que será prevista (Y) em função das demais variáveis (X) e convertendo-os em um ndarray\n",
    "X = dataSet.drop(columns = \"Season\").values\n",
    "Y = dataSet[\"Season\"].values"
   ]
  },
  {
   "cell_type": "code",
   "execution_count": 23,
   "metadata": {
    "colab": {},
    "colab_type": "code",
    "id": "Jzduxq61Y1dR"
   },
   "outputs": [],
   "source": [
    "#Efetuando uma transformação robusta nos dados - menor sensibilidade aos outliers\n",
    "sc = RobustScaler(quantile_range = (10.0,90.0))\n",
    "X = sc.fit_transform(X)"
   ]
  },
  {
   "cell_type": "code",
   "execution_count": 24,
   "metadata": {},
   "outputs": [],
   "source": [
    "#Adicionando a coluna de informações referentes ao ano na base de dados X\n",
    "X = np.append(X, ano, axis=1)"
   ]
  },
  {
   "cell_type": "code",
   "execution_count": 25,
   "metadata": {},
   "outputs": [],
   "source": [
    "#Decodificando as estações em uma matriz (one hot encoding - dummy variables)\n",
    "encoder = LabelEncoder()\n",
    "encoder.fit(Y)\n",
    "encoded_Y = encoder.transform(Y)\n",
    "dummy_Y = np_utils.to_categorical(encoded_Y)"
   ]
  },
  {
   "cell_type": "code",
   "execution_count": 26,
   "metadata": {},
   "outputs": [
    {
     "data": {
      "text/plain": [
       "array([[0., 0., 0., 1.],\n",
       "       [0., 0., 0., 1.],\n",
       "       [0., 0., 0., 1.],\n",
       "       [0., 0., 0., 1.],\n",
       "       [0., 0., 0., 1.],\n",
       "       [0., 0., 0., 1.],\n",
       "       [0., 0., 0., 1.],\n",
       "       [0., 1., 0., 0.],\n",
       "       [0., 1., 0., 0.],\n",
       "       [0., 1., 0., 0.]], dtype=float32)"
      ]
     },
     "execution_count": 26,
     "metadata": {},
     "output_type": "execute_result"
    }
   ],
   "source": [
    "#Amostra da matriz de estações (cada coluna representa uma classe: verão, outono, inverno e primavera)\n",
    "dummy_Y[70:80,:]"
   ]
  },
  {
   "cell_type": "code",
   "execution_count": 27,
   "metadata": {},
   "outputs": [
    {
     "name": "stdout",
     "output_type": "stream",
     "text": [
      "(11911, 9)\n"
     ]
    }
   ],
   "source": [
    "#Dimensões da matriz de dados\n",
    "print(X.shape)"
   ]
  },
  {
   "cell_type": "code",
   "execution_count": 28,
   "metadata": {
    "colab": {},
    "colab_type": "code",
    "id": "6iWPDUvhc1gQ"
   },
   "outputs": [],
   "source": [
    "#Definindo uma função para fazer o Cross Validation com a MLP\n",
    "def trainMLP():\n",
    "    #Criando o modelo\n",
    "    mlp = Sequential()\n",
    "    #Adicionando a camada de entrada\n",
    "    mlp.add(Dense(activation = 'tanh', input_dim = 9, units = 18, kernel_initializer = 'normal'))\n",
    "    #Adicionando a segunda camada\n",
    "    mlp.add(Dense(activation = 'tanh', units = 9, kernel_initializer = 'normal'))\n",
    "    #Adicionando a camada de saída\n",
    "    mlp.add(Dense(activation = 'softmax', units = 4, kernel_initializer='normal'))\n",
    "    # Compilando o modelo\n",
    "    mlp.compile(loss='categorical_crossentropy', optimizer='adam', metrics=['mse','mae'])\n",
    "    return mlp"
   ]
  },
  {
   "cell_type": "code",
   "execution_count": 29,
   "metadata": {
    "colab": {
     "base_uri": "https://localhost:8080/",
     "height": 34
    },
    "colab_type": "code",
    "id": "uJG7Xtwxe7uU",
    "outputId": "292c474d-0e47-4e81-eb92-9c2db72076be"
   },
   "outputs": [],
   "source": [
    "#Modelo de classificação do Keras\n",
    "estimator = KerasClassifier(build_fn=trainMLP, epochs=200, batch_size=5, verbose=1)"
   ]
  },
  {
   "cell_type": "code",
   "execution_count": 30,
   "metadata": {
    "colab": {
     "base_uri": "https://localhost:8080/",
     "height": 868
    },
    "colab_type": "code",
    "id": "84NKlGVtfUy7",
    "outputId": "1b8681e7-a19f-46d6-a693-ae4ad02cf810"
   },
   "outputs": [],
   "source": [
    "#Treinando a MLP com Cross Validation\n",
    "kfold = KFold(n_splits=10, shuffle=True, random_state=7)"
   ]
  },
  {
   "cell_type": "code",
   "execution_count": 31,
   "metadata": {},
   "outputs": [
    {
     "name": "stderr",
     "output_type": "stream",
     "text": [
      "WARNING (theano.gof.compilelock): Overriding existing lock by dead process '29950' (I am process '30201')\n"
     ]
    },
    {
     "name": "stdout",
     "output_type": "stream",
     "text": [
      "Epoch 1/200\n",
      "10719/10719 [==============================] - 2s 151us/step - loss: 0.8775 - mean_squared_error: 0.1244 - mean_absolute_error: 0.2562\n",
      "Epoch 2/200\n",
      "10719/10719 [==============================] - 2s 140us/step - loss: 0.7691 - mean_squared_error: 0.1108 - mean_absolute_error: 0.2227\n",
      "Epoch 3/200\n",
      "10719/10719 [==============================] - 2s 142us/step - loss: 0.7512 - mean_squared_error: 0.1084 - mean_absolute_error: 0.2181\n",
      "Epoch 4/200\n",
      "10719/10719 [==============================] - 2s 142us/step - loss: 0.7419 - mean_squared_error: 0.1072 - mean_absolute_error: 0.2142\n",
      "Epoch 5/200\n",
      "10719/10719 [==============================] - 2s 151us/step - loss: 0.7362 - mean_squared_error: 0.1066 - mean_absolute_error: 0.2132\n",
      "Epoch 6/200\n",
      "10719/10719 [==============================] - 2s 149us/step - loss: 0.7302 - mean_squared_error: 0.1059 - mean_absolute_error: 0.2111\n",
      "Epoch 7/200\n",
      "10719/10719 [==============================] - 2s 144us/step - loss: 0.7236 - mean_squared_error: 0.1051 - mean_absolute_error: 0.2095\n",
      "Epoch 8/200\n",
      "10719/10719 [==============================] - 2s 149us/step - loss: 0.7169 - mean_squared_error: 0.1041 - mean_absolute_error: 0.2080\n",
      "Epoch 9/200\n",
      "10719/10719 [==============================] - 2s 159us/step - loss: 0.7135 - mean_squared_error: 0.1039 - mean_absolute_error: 0.2068\n",
      "Epoch 10/200\n",
      "10719/10719 [==============================] - 2s 161us/step - loss: 0.7101 - mean_squared_error: 0.1035 - mean_absolute_error: 0.2057\n",
      "Epoch 11/200\n",
      "10719/10719 [==============================] - 2s 157us/step - loss: 0.7092 - mean_squared_error: 0.1035 - mean_absolute_error: 0.2062\n",
      "Epoch 12/200\n",
      "10719/10719 [==============================] - 2s 154us/step - loss: 0.7081 - mean_squared_error: 0.1032 - mean_absolute_error: 0.20500s - loss: 0.7038 - mean_squared_error: 0.1028\n",
      "Epoch 13/200\n",
      "10719/10719 [==============================] - 2s 153us/step - loss: 0.7071 - mean_squared_error: 0.1033 - mean_absolute_error: 0.2051\n",
      "Epoch 14/200\n",
      "10719/10719 [==============================] - 2s 145us/step - loss: 0.7039 - mean_squared_error: 0.1027 - mean_absolute_error: 0.2049\n",
      "Epoch 15/200\n",
      "10719/10719 [==============================] - 2s 143us/step - loss: 0.7040 - mean_squared_error: 0.1028 - mean_absolute_error: 0.2041\n",
      "Epoch 16/200\n",
      "10719/10719 [==============================] - 2s 151us/step - loss: 0.7027 - mean_squared_error: 0.1028 - mean_absolute_error: 0.2044\n",
      "Epoch 17/200\n",
      "10719/10719 [==============================] - 2s 154us/step - loss: 0.7015 - mean_squared_error: 0.1026 - mean_absolute_error: 0.2044\n",
      "Epoch 18/200\n",
      "10719/10719 [==============================] - 2s 184us/step - loss: 0.6988 - mean_squared_error: 0.1022 - mean_absolute_error: 0.2031\n",
      "Epoch 19/200\n",
      "10719/10719 [==============================] - 2s 154us/step - loss: 0.6979 - mean_squared_error: 0.1020 - mean_absolute_error: 0.2030\n",
      "Epoch 20/200\n",
      "10719/10719 [==============================] - 2s 149us/step - loss: 0.6968 - mean_squared_error: 0.1020 - mean_absolute_error: 0.2039\n",
      "Epoch 21/200\n",
      "10719/10719 [==============================] - 2s 154us/step - loss: 0.6949 - mean_squared_error: 0.1018 - mean_absolute_error: 0.2025\n",
      "Epoch 22/200\n",
      "10719/10719 [==============================] - 2s 143us/step - loss: 0.6943 - mean_squared_error: 0.1017 - mean_absolute_error: 0.2030\n",
      "Epoch 23/200\n",
      "10719/10719 [==============================] - 2s 145us/step - loss: 0.6929 - mean_squared_error: 0.1016 - mean_absolute_error: 0.2026\n",
      "Epoch 24/200\n",
      "10719/10719 [==============================] - 2s 146us/step - loss: 0.6916 - mean_squared_error: 0.1014 - mean_absolute_error: 0.2020\n",
      "Epoch 25/200\n",
      "10719/10719 [==============================] - 2s 153us/step - loss: 0.6900 - mean_squared_error: 0.1012 - mean_absolute_error: 0.2019\n",
      "Epoch 26/200\n",
      "10719/10719 [==============================] - 2s 151us/step - loss: 0.6886 - mean_squared_error: 0.1011 - mean_absolute_error: 0.2013\n",
      "Epoch 27/200\n",
      "10719/10719 [==============================] - 2s 154us/step - loss: 0.6876 - mean_squared_error: 0.1010 - mean_absolute_error: 0.20141s - loss: 0.6873 - mean_squar\n",
      "Epoch 28/200\n",
      "10719/10719 [==============================] - 2s 165us/step - loss: 0.6855 - mean_squared_error: 0.1006 - mean_absolute_error: 0.2006\n",
      "Epoch 29/200\n",
      "10719/10719 [==============================] - 2s 171us/step - loss: 0.6850 - mean_squared_error: 0.1006 - mean_absolute_error: 0.2001\n",
      "Epoch 30/200\n",
      "10719/10719 [==============================] - 2s 159us/step - loss: 0.6835 - mean_squared_error: 0.1005 - mean_absolute_error: 0.2004\n",
      "Epoch 31/200\n",
      "10719/10719 [==============================] - 2s 160us/step - loss: 0.6817 - mean_squared_error: 0.1002 - mean_absolute_error: 0.1996\n",
      "Epoch 32/200\n",
      "10719/10719 [==============================] - 2s 154us/step - loss: 0.6835 - mean_squared_error: 0.1005 - mean_absolute_error: 0.1997\n",
      "Epoch 33/200\n",
      "10719/10719 [==============================] - 2s 148us/step - loss: 0.6802 - mean_squared_error: 0.1000 - mean_absolute_error: 0.1995\n",
      "Epoch 34/200\n",
      "10719/10719 [==============================] - 2s 148us/step - loss: 0.6803 - mean_squared_error: 0.1001 - mean_absolute_error: 0.1991\n",
      "Epoch 35/200\n",
      "10719/10719 [==============================] - 2s 141us/step - loss: 0.6773 - mean_squared_error: 0.0995 - mean_absolute_error: 0.1985\n",
      "Epoch 36/200\n",
      "10719/10719 [==============================] - 2s 146us/step - loss: 0.6783 - mean_squared_error: 0.0998 - mean_absolute_error: 0.1992\n",
      "Epoch 37/200\n",
      "10719/10719 [==============================] - 2s 151us/step - loss: 0.6761 - mean_squared_error: 0.0995 - mean_absolute_error: 0.1976\n",
      "Epoch 38/200\n",
      "10719/10719 [==============================] - 2s 177us/step - loss: 0.6766 - mean_squared_error: 0.0997 - mean_absolute_error: 0.1986\n",
      "Epoch 39/200\n",
      "10719/10719 [==============================] - 2s 152us/step - loss: 0.6749 - mean_squared_error: 0.0993 - mean_absolute_error: 0.1983\n",
      "Epoch 40/200\n",
      "10719/10719 [==============================] - 2s 169us/step - loss: 0.6744 - mean_squared_error: 0.0995 - mean_absolute_error: 0.1975\n",
      "Epoch 41/200\n",
      "10719/10719 [==============================] - 2s 152us/step - loss: 0.6734 - mean_squared_error: 0.0992 - mean_absolute_error: 0.1984\n",
      "Epoch 42/200\n",
      "10719/10719 [==============================] - 2s 153us/step - loss: 0.6728 - mean_squared_error: 0.0991 - mean_absolute_error: 0.1972\n",
      "Epoch 43/200\n",
      "10719/10719 [==============================] - 2s 161us/step - loss: 0.6718 - mean_squared_error: 0.0990 - mean_absolute_error: 0.1972\n",
      "Epoch 44/200\n",
      "10719/10719 [==============================] - 2s 152us/step - loss: 0.6722 - mean_squared_error: 0.0990 - mean_absolute_error: 0.1972\n",
      "Epoch 45/200\n",
      "10719/10719 [==============================] - 2s 158us/step - loss: 0.6707 - mean_squared_error: 0.0989 - mean_absolute_error: 0.1975\n",
      "Epoch 46/200\n",
      "10719/10719 [==============================] - 2s 146us/step - loss: 0.6704 - mean_squared_error: 0.0988 - mean_absolute_error: 0.1971\n",
      "Epoch 47/200\n",
      "10719/10719 [==============================] - 2s 149us/step - loss: 0.6688 - mean_squared_error: 0.0986 - mean_absolute_error: 0.1970\n",
      "Epoch 48/200\n",
      "10719/10719 [==============================] - 1s 139us/step - loss: 0.6695 - mean_squared_error: 0.0988 - mean_absolute_error: 0.19600s - loss: 0.6683 - mean_squared_error: 0.0983\n",
      "Epoch 49/200\n",
      "10719/10719 [==============================] - 1s 135us/step - loss: 0.6681 - mean_squared_error: 0.0987 - mean_absolute_error: 0.19631s - loss: 0.6534 - mean_squ\n",
      "Epoch 50/200\n",
      "10719/10719 [==============================] - 1s 140us/step - loss: 0.6668 - mean_squared_error: 0.0984 - mean_absolute_error: 0.1963\n",
      "Epoch 51/200\n",
      "10719/10719 [==============================] - 1s 139us/step - loss: 0.6668 - mean_squared_error: 0.0985 - mean_absolute_error: 0.1958\n",
      "Epoch 52/200\n",
      "10719/10719 [==============================] - 2s 140us/step - loss: 0.6656 - mean_squared_error: 0.0981 - mean_absolute_error: 0.1952\n",
      "Epoch 53/200\n",
      "10719/10719 [==============================] - 1s 137us/step - loss: 0.6648 - mean_squared_error: 0.0982 - mean_absolute_error: 0.1956\n",
      "Epoch 54/200\n"
     ]
    },
    {
     "name": "stdout",
     "output_type": "stream",
     "text": [
      "10719/10719 [==============================] - 2s 140us/step - loss: 0.6641 - mean_squared_error: 0.0981 - mean_absolute_error: 0.19560s - loss: 0.6659 - mean_squared_error: 0.0984 - mean_absolute_error: \n",
      "Epoch 55/200\n",
      "10719/10719 [==============================] - 2s 144us/step - loss: 0.6638 - mean_squared_error: 0.0981 - mean_absolute_error: 0.1953\n",
      "Epoch 56/200\n",
      "10719/10719 [==============================] - 2s 147us/step - loss: 0.6625 - mean_squared_error: 0.0978 - mean_absolute_error: 0.19520s - loss: 0.6674 - mean_squared_error: 0.0982 - mea - ETA: 0s - loss: 0.6664 - mean_squared_error: 0.0984 - mean_absolute_error\n",
      "Epoch 57/200\n",
      "10719/10719 [==============================] - 1s 137us/step - loss: 0.6618 - mean_squared_error: 0.0979 - mean_absolute_error: 0.1945\n",
      "Epoch 58/200\n",
      "10719/10719 [==============================] - 2s 157us/step - loss: 0.6619 - mean_squared_error: 0.0978 - mean_absolute_error: 0.1942\n",
      "Epoch 59/200\n",
      "10719/10719 [==============================] - 2s 140us/step - loss: 0.6615 - mean_squared_error: 0.0978 - mean_absolute_error: 0.1947\n",
      "Epoch 60/200\n",
      "10719/10719 [==============================] - 1s 136us/step - loss: 0.6602 - mean_squared_error: 0.0976 - mean_absolute_error: 0.1942\n",
      "Epoch 61/200\n",
      "10719/10719 [==============================] - 1s 138us/step - loss: 0.6598 - mean_squared_error: 0.0976 - mean_absolute_error: 0.1941\n",
      "Epoch 62/200\n",
      "10719/10719 [==============================] - 2s 140us/step - loss: 0.6599 - mean_squared_error: 0.0977 - mean_absolute_error: 0.1947\n",
      "Epoch 63/200\n",
      "10719/10719 [==============================] - 2s 145us/step - loss: 0.6585 - mean_squared_error: 0.0975 - mean_absolute_error: 0.1937\n",
      "Epoch 64/200\n",
      "10719/10719 [==============================] - 2s 142us/step - loss: 0.6588 - mean_squared_error: 0.0975 - mean_absolute_error: 0.1935\n",
      "Epoch 65/200\n",
      "10719/10719 [==============================] - 2s 143us/step - loss: 0.6577 - mean_squared_error: 0.0973 - mean_absolute_error: 0.1937\n",
      "Epoch 66/200\n",
      "10719/10719 [==============================] - 2s 148us/step - loss: 0.6566 - mean_squared_error: 0.0971 - mean_absolute_error: 0.1934\n",
      "Epoch 67/200\n",
      "10719/10719 [==============================] - 2s 141us/step - loss: 0.6571 - mean_squared_error: 0.0971 - mean_absolute_error: 0.1932\n",
      "Epoch 68/200\n",
      "10719/10719 [==============================] - 2s 164us/step - loss: 0.6566 - mean_squared_error: 0.0971 - mean_absolute_error: 0.19261s - loss: 0.6394 - mean_squ\n",
      "Epoch 69/200\n",
      "10719/10719 [==============================] - 2s 140us/step - loss: 0.6549 - mean_squared_error: 0.0969 - mean_absolute_error: 0.1934\n",
      "Epoch 70/200\n",
      "10719/10719 [==============================] - 2s 141us/step - loss: 0.6557 - mean_squared_error: 0.0971 - mean_absolute_error: 0.1926\n",
      "Epoch 71/200\n",
      "10719/10719 [==============================] - 1s 136us/step - loss: 0.6545 - mean_squared_error: 0.0967 - mean_absolute_error: 0.1923\n",
      "Epoch 72/200\n",
      "10719/10719 [==============================] - 1s 137us/step - loss: 0.6546 - mean_squared_error: 0.0969 - mean_absolute_error: 0.1926\n",
      "Epoch 73/200\n",
      "10719/10719 [==============================] - 1s 136us/step - loss: 0.6544 - mean_squared_error: 0.0970 - mean_absolute_error: 0.1923\n",
      "Epoch 74/200\n",
      "10719/10719 [==============================] - 2s 144us/step - loss: 0.6528 - mean_squared_error: 0.0967 - mean_absolute_error: 0.1926\n",
      "Epoch 75/200\n",
      "10719/10719 [==============================] - 1s 138us/step - loss: 0.6521 - mean_squared_error: 0.0965 - mean_absolute_error: 0.1915\n",
      "Epoch 76/200\n",
      "10719/10719 [==============================] - 1s 138us/step - loss: 0.6535 - mean_squared_error: 0.0968 - mean_absolute_error: 0.1923\n",
      "Epoch 77/200\n",
      "10719/10719 [==============================] - 2s 142us/step - loss: 0.6515 - mean_squared_error: 0.0964 - mean_absolute_error: 0.1916\n",
      "Epoch 78/200\n",
      "10719/10719 [==============================] - 2s 143us/step - loss: 0.6506 - mean_squared_error: 0.0964 - mean_absolute_error: 0.1915\n",
      "Epoch 79/200\n",
      "10719/10719 [==============================] - 2s 162us/step - loss: 0.6513 - mean_squared_error: 0.0965 - mean_absolute_error: 0.1915\n",
      "Epoch 80/200\n",
      "10719/10719 [==============================] - 2s 147us/step - loss: 0.6508 - mean_squared_error: 0.0964 - mean_absolute_error: 0.1918\n",
      "Epoch 81/200\n",
      "10719/10719 [==============================] - 2s 142us/step - loss: 0.6505 - mean_squared_error: 0.0963 - mean_absolute_error: 0.1915\n",
      "Epoch 82/200\n",
      "10719/10719 [==============================] - 2s 147us/step - loss: 0.6502 - mean_squared_error: 0.0963 - mean_absolute_error: 0.1910\n",
      "Epoch 83/200\n",
      "10719/10719 [==============================] - 2s 150us/step - loss: 0.6501 - mean_squared_error: 0.0963 - mean_absolute_error: 0.1907\n",
      "Epoch 84/200\n",
      "10719/10719 [==============================] - 2s 145us/step - loss: 0.6501 - mean_squared_error: 0.0962 - mean_absolute_error: 0.1917\n",
      "Epoch 85/200\n",
      "10719/10719 [==============================] - 2s 150us/step - loss: 0.6510 - mean_squared_error: 0.0965 - mean_absolute_error: 0.1912\n",
      "Epoch 86/200\n",
      "10719/10719 [==============================] - 2s 141us/step - loss: 0.6500 - mean_squared_error: 0.0963 - mean_absolute_error: 0.1914\n",
      "Epoch 87/200\n",
      "10719/10719 [==============================] - 2s 144us/step - loss: 0.6475 - mean_squared_error: 0.0959 - mean_absolute_error: 0.1906\n",
      "Epoch 88/200\n",
      "10719/10719 [==============================] - 2s 145us/step - loss: 0.6481 - mean_squared_error: 0.0961 - mean_absolute_error: 0.1906\n",
      "Epoch 89/200\n",
      "10719/10719 [==============================] - 2s 156us/step - loss: 0.6483 - mean_squared_error: 0.0960 - mean_absolute_error: 0.1911\n",
      "Epoch 90/200\n",
      "10719/10719 [==============================] - 1s 139us/step - loss: 0.6488 - mean_squared_error: 0.0961 - mean_absolute_error: 0.1906\n",
      "Epoch 91/200\n",
      "10719/10719 [==============================] - 2s 142us/step - loss: 0.6480 - mean_squared_error: 0.0960 - mean_absolute_error: 0.1904\n",
      "Epoch 92/200\n",
      "10719/10719 [==============================] - 2s 169us/step - loss: 0.6475 - mean_squared_error: 0.0960 - mean_absolute_error: 0.1904\n",
      "Epoch 93/200\n",
      "10719/10719 [==============================] - 2s 159us/step - loss: 0.6463 - mean_squared_error: 0.0959 - mean_absolute_error: 0.1903\n",
      "Epoch 94/200\n",
      "10719/10719 [==============================] - 2s 147us/step - loss: 0.6470 - mean_squared_error: 0.0960 - mean_absolute_error: 0.1905\n",
      "Epoch 95/200\n",
      "10719/10719 [==============================] - 2s 153us/step - loss: 0.6449 - mean_squared_error: 0.0955 - mean_absolute_error: 0.1900\n",
      "Epoch 96/200\n",
      "10719/10719 [==============================] - 2s 151us/step - loss: 0.6457 - mean_squared_error: 0.0958 - mean_absolute_error: 0.1902\n",
      "Epoch 97/200\n",
      "10719/10719 [==============================] - 2s 155us/step - loss: 0.6452 - mean_squared_error: 0.0957 - mean_absolute_error: 0.1901\n",
      "Epoch 98/200\n",
      "10719/10719 [==============================] - 2s 150us/step - loss: 0.6445 - mean_squared_error: 0.0956 - mean_absolute_error: 0.1892\n",
      "Epoch 99/200\n",
      "10719/10719 [==============================] - 2s 177us/step - loss: 0.6443 - mean_squared_error: 0.0953 - mean_absolute_error: 0.18950s - loss: 0.6391 - mean_squared_error: 0.0944 - mea\n",
      "Epoch 100/200\n",
      "10719/10719 [==============================] - 2s 157us/step - loss: 0.6443 - mean_squared_error: 0.0955 - mean_absolute_error: 0.1899\n",
      "Epoch 101/200\n",
      "10719/10719 [==============================] - 2s 151us/step - loss: 0.6446 - mean_squared_error: 0.0957 - mean_absolute_error: 0.1896\n",
      "Epoch 102/200\n",
      "10719/10719 [==============================] - 2s 158us/step - loss: 0.6446 - mean_squared_error: 0.0956 - mean_absolute_error: 0.1892\n",
      "Epoch 103/200\n",
      "10719/10719 [==============================] - 2s 152us/step - loss: 0.6424 - mean_squared_error: 0.0952 - mean_absolute_error: 0.1897\n",
      "Epoch 104/200\n",
      "10719/10719 [==============================] - 2s 152us/step - loss: 0.6430 - mean_squared_error: 0.0954 - mean_absolute_error: 0.1892\n",
      "Epoch 105/200\n",
      "10719/10719 [==============================] - 2s 157us/step - loss: 0.6431 - mean_squared_error: 0.0953 - mean_absolute_error: 0.1892\n",
      "Epoch 106/200\n",
      "10719/10719 [==============================] - 2s 165us/step - loss: 0.6425 - mean_squared_error: 0.0954 - mean_absolute_error: 0.1890\n",
      "Epoch 107/200\n"
     ]
    },
    {
     "name": "stdout",
     "output_type": "stream",
     "text": [
      "10719/10719 [==============================] - 2s 159us/step - loss: 0.6422 - mean_squared_error: 0.0953 - mean_absolute_error: 0.18910s - loss: 0.6389 - mean_squared_error: 0.0951 - mean_abso\n",
      "Epoch 108/200\n",
      "10719/10719 [==============================] - 2s 174us/step - loss: 0.6421 - mean_squared_error: 0.0953 - mean_absolute_error: 0.1892\n",
      "Epoch 109/200\n",
      "10719/10719 [==============================] - 1s 140us/step - loss: 0.6414 - mean_squared_error: 0.0951 - mean_absolute_error: 0.1887\n",
      "Epoch 110/200\n",
      "10719/10719 [==============================] - 2s 150us/step - loss: 0.6400 - mean_squared_error: 0.0950 - mean_absolute_error: 0.1890\n",
      "Epoch 111/200\n",
      "10719/10719 [==============================] - 2s 140us/step - loss: 0.6411 - mean_squared_error: 0.0951 - mean_absolute_error: 0.1890\n",
      "Epoch 112/200\n",
      "10719/10719 [==============================] - 2s 142us/step - loss: 0.6418 - mean_squared_error: 0.0951 - mean_absolute_error: 0.1884\n",
      "Epoch 113/200\n",
      "10719/10719 [==============================] - 2s 151us/step - loss: 0.6395 - mean_squared_error: 0.0949 - mean_absolute_error: 0.1880\n",
      "Epoch 114/200\n",
      "10719/10719 [==============================] - 2s 144us/step - loss: 0.6414 - mean_squared_error: 0.0951 - mean_absolute_error: 0.1887\n",
      "Epoch 115/200\n",
      "10719/10719 [==============================] - 2s 142us/step - loss: 0.6405 - mean_squared_error: 0.0950 - mean_absolute_error: 0.1892\n",
      "Epoch 116/200\n",
      "10719/10719 [==============================] - 2s 148us/step - loss: 0.6403 - mean_squared_error: 0.0951 - mean_absolute_error: 0.1879\n",
      "Epoch 117/200\n",
      "10719/10719 [==============================] - 2s 153us/step - loss: 0.6392 - mean_squared_error: 0.0948 - mean_absolute_error: 0.1879\n",
      "Epoch 118/200\n",
      "10719/10719 [==============================] - 2s 162us/step - loss: 0.6388 - mean_squared_error: 0.0951 - mean_absolute_error: 0.1884\n",
      "Epoch 119/200\n",
      "10719/10719 [==============================] - 2s 158us/step - loss: 0.6395 - mean_squared_error: 0.0950 - mean_absolute_error: 0.1885\n",
      "Epoch 120/200\n",
      "10719/10719 [==============================] - 2s 150us/step - loss: 0.6380 - mean_squared_error: 0.0947 - mean_absolute_error: 0.1881\n",
      "Epoch 121/200\n",
      "10719/10719 [==============================] - 2s 147us/step - loss: 0.6389 - mean_squared_error: 0.0947 - mean_absolute_error: 0.1875\n",
      "Epoch 122/200\n",
      "10719/10719 [==============================] - 2s 152us/step - loss: 0.6386 - mean_squared_error: 0.0948 - mean_absolute_error: 0.1881\n",
      "Epoch 123/200\n",
      "10719/10719 [==============================] - 2s 144us/step - loss: 0.6389 - mean_squared_error: 0.0948 - mean_absolute_error: 0.1877\n",
      "Epoch 124/200\n",
      "10719/10719 [==============================] - 2s 152us/step - loss: 0.6385 - mean_squared_error: 0.0948 - mean_absolute_error: 0.1885\n",
      "Epoch 125/200\n",
      "10719/10719 [==============================] - 2s 149us/step - loss: 0.6367 - mean_squared_error: 0.0946 - mean_absolute_error: 0.1877\n",
      "Epoch 126/200\n",
      "10719/10719 [==============================] - 2s 158us/step - loss: 0.6377 - mean_squared_error: 0.0948 - mean_absolute_error: 0.1877\n",
      "Epoch 127/200\n",
      "10719/10719 [==============================] - 2s 172us/step - loss: 0.6375 - mean_squared_error: 0.0947 - mean_absolute_error: 0.1876\n",
      "Epoch 128/200\n",
      "10719/10719 [==============================] - 2s 144us/step - loss: 0.6356 - mean_squared_error: 0.0944 - mean_absolute_error: 0.1873\n",
      "Epoch 129/200\n",
      "10719/10719 [==============================] - 1s 139us/step - loss: 0.6370 - mean_squared_error: 0.0947 - mean_absolute_error: 0.1877\n",
      "Epoch 130/200\n",
      "10719/10719 [==============================] - 1s 130us/step - loss: 0.6372 - mean_squared_error: 0.0948 - mean_absolute_error: 0.1877\n",
      "Epoch 131/200\n",
      "10719/10719 [==============================] - 1s 130us/step - loss: 0.6359 - mean_squared_error: 0.0946 - mean_absolute_error: 0.1875\n",
      "Epoch 132/200\n",
      "10719/10719 [==============================] - 1s 124us/step - loss: 0.6358 - mean_squared_error: 0.0944 - mean_absolute_error: 0.1875\n",
      "Epoch 133/200\n",
      "10719/10719 [==============================] - 1s 132us/step - loss: 0.6358 - mean_squared_error: 0.0943 - mean_absolute_error: 0.1873\n",
      "Epoch 134/200\n",
      "10719/10719 [==============================] - 1s 133us/step - loss: 0.6362 - mean_squared_error: 0.0944 - mean_absolute_error: 0.1872\n",
      "Epoch 135/200\n",
      "10719/10719 [==============================] - 2s 142us/step - loss: 0.6361 - mean_squared_error: 0.0945 - mean_absolute_error: 0.1873\n",
      "Epoch 136/200\n",
      "10719/10719 [==============================] - 2s 150us/step - loss: 0.6350 - mean_squared_error: 0.0944 - mean_absolute_error: 0.1874\n",
      "Epoch 137/200\n",
      "10719/10719 [==============================] - 1s 134us/step - loss: 0.6346 - mean_squared_error: 0.0942 - mean_absolute_error: 0.1871\n",
      "Epoch 138/200\n",
      "10719/10719 [==============================] - 1s 130us/step - loss: 0.6356 - mean_squared_error: 0.0944 - mean_absolute_error: 0.1869\n",
      "Epoch 139/200\n",
      "10719/10719 [==============================] - 2s 146us/step - loss: 0.6346 - mean_squared_error: 0.0943 - mean_absolute_error: 0.1871\n",
      "Epoch 140/200\n",
      "10719/10719 [==============================] - 1s 137us/step - loss: 0.6346 - mean_squared_error: 0.0942 - mean_absolute_error: 0.1868\n",
      "Epoch 141/200\n",
      "10719/10719 [==============================] - 1s 135us/step - loss: 0.6342 - mean_squared_error: 0.0943 - mean_absolute_error: 0.1865\n",
      "Epoch 142/200\n",
      "10719/10719 [==============================] - 2s 142us/step - loss: 0.6347 - mean_squared_error: 0.0943 - mean_absolute_error: 0.1869\n",
      "Epoch 143/200\n",
      "10719/10719 [==============================] - 1s 139us/step - loss: 0.6341 - mean_squared_error: 0.0941 - mean_absolute_error: 0.1872\n",
      "Epoch 144/200\n",
      "10719/10719 [==============================] - 2s 145us/step - loss: 0.6334 - mean_squared_error: 0.0939 - mean_absolute_error: 0.1863\n",
      "Epoch 145/200\n",
      "10719/10719 [==============================] - 2s 162us/step - loss: 0.6341 - mean_squared_error: 0.0942 - mean_absolute_error: 0.1867\n",
      "Epoch 146/200\n",
      "10719/10719 [==============================] - 2s 142us/step - loss: 0.6330 - mean_squared_error: 0.0941 - mean_absolute_error: 0.1862\n",
      "Epoch 147/200\n",
      "10719/10719 [==============================] - 1s 130us/step - loss: 0.6345 - mean_squared_error: 0.0942 - mean_absolute_error: 0.1872\n",
      "Epoch 148/200\n",
      "10719/10719 [==============================] - 1s 137us/step - loss: 0.6330 - mean_squared_error: 0.0941 - mean_absolute_error: 0.1868\n",
      "Epoch 149/200\n",
      "10719/10719 [==============================] - 1s 135us/step - loss: 0.6333 - mean_squared_error: 0.0942 - mean_absolute_error: 0.1864\n",
      "Epoch 150/200\n",
      "10719/10719 [==============================] - 1s 131us/step - loss: 0.6334 - mean_squared_error: 0.0941 - mean_absolute_error: 0.1868\n",
      "Epoch 151/200\n",
      "10719/10719 [==============================] - 1s 132us/step - loss: 0.6331 - mean_squared_error: 0.0940 - mean_absolute_error: 0.18610s - loss: 0.6284 - mean_squared_error: 0.0933 - mea\n",
      "Epoch 152/200\n",
      "10719/10719 [==============================] - 1s 139us/step - loss: 0.6327 - mean_squared_error: 0.0941 - mean_absolute_error: 0.1865\n",
      "Epoch 153/200\n",
      "10719/10719 [==============================] - 1s 133us/step - loss: 0.6326 - mean_squared_error: 0.0940 - mean_absolute_error: 0.1867\n",
      "Epoch 154/200\n",
      "10719/10719 [==============================] - 1s 130us/step - loss: 0.6327 - mean_squared_error: 0.0941 - mean_absolute_error: 0.1866\n",
      "Epoch 155/200\n",
      "10719/10719 [==============================] - 2s 143us/step - loss: 0.6327 - mean_squared_error: 0.0940 - mean_absolute_error: 0.1864\n",
      "Epoch 156/200\n",
      "10719/10719 [==============================] - 2s 158us/step - loss: 0.6318 - mean_squared_error: 0.0939 - mean_absolute_error: 0.1858\n",
      "Epoch 157/200\n",
      "10719/10719 [==============================] - 2s 168us/step - loss: 0.6326 - mean_squared_error: 0.0939 - mean_absolute_error: 0.1862\n",
      "Epoch 158/200\n",
      "10719/10719 [==============================] - 2s 168us/step - loss: 0.6308 - mean_squared_error: 0.0937 - mean_absolute_error: 0.1855\n",
      "Epoch 159/200\n",
      "10719/10719 [==============================] - 2s 170us/step - loss: 0.6326 - mean_squared_error: 0.0942 - mean_absolute_error: 0.1868\n",
      "Epoch 160/200\n",
      "10719/10719 [==============================] - 2s 171us/step - loss: 0.6310 - mean_squared_error: 0.0937 - mean_absolute_error: 0.1858\n",
      "Epoch 161/200\n"
     ]
    },
    {
     "name": "stdout",
     "output_type": "stream",
     "text": [
      "10719/10719 [==============================] - 2s 141us/step - loss: 0.6318 - mean_squared_error: 0.0939 - mean_absolute_error: 0.1858\n",
      "Epoch 162/200\n",
      "10719/10719 [==============================] - 2s 149us/step - loss: 0.6314 - mean_squared_error: 0.0939 - mean_absolute_error: 0.1866\n",
      "Epoch 163/200\n",
      "10719/10719 [==============================] - 2s 141us/step - loss: 0.6303 - mean_squared_error: 0.0938 - mean_absolute_error: 0.1859\n",
      "Epoch 164/200\n",
      "10719/10719 [==============================] - 2s 147us/step - loss: 0.6303 - mean_squared_error: 0.0938 - mean_absolute_error: 0.1857\n",
      "Epoch 165/200\n",
      "10719/10719 [==============================] - 2s 144us/step - loss: 0.6310 - mean_squared_error: 0.0938 - mean_absolute_error: 0.1859\n",
      "Epoch 166/200\n",
      "10719/10719 [==============================] - 2s 143us/step - loss: 0.6304 - mean_squared_error: 0.0938 - mean_absolute_error: 0.1859\n",
      "Epoch 167/200\n",
      "10719/10719 [==============================] - 2s 149us/step - loss: 0.6290 - mean_squared_error: 0.0935 - mean_absolute_error: 0.1851\n",
      "Epoch 168/200\n",
      "10719/10719 [==============================] - 2s 145us/step - loss: 0.6298 - mean_squared_error: 0.0937 - mean_absolute_error: 0.1858\n",
      "Epoch 169/200\n",
      "10719/10719 [==============================] - 2s 143us/step - loss: 0.6285 - mean_squared_error: 0.0936 - mean_absolute_error: 0.1853\n",
      "Epoch 170/200\n",
      "10719/10719 [==============================] - 2s 153us/step - loss: 0.6297 - mean_squared_error: 0.0937 - mean_absolute_error: 0.1851\n",
      "Epoch 171/200\n",
      "10719/10719 [==============================] - 2s 150us/step - loss: 0.6291 - mean_squared_error: 0.0937 - mean_absolute_error: 0.1859\n",
      "Epoch 172/200\n",
      "10719/10719 [==============================] - 2s 150us/step - loss: 0.6282 - mean_squared_error: 0.0935 - mean_absolute_error: 0.1852\n",
      "Epoch 173/200\n",
      "10719/10719 [==============================] - 2s 147us/step - loss: 0.6289 - mean_squared_error: 0.0936 - mean_absolute_error: 0.1856\n",
      "Epoch 174/200\n",
      "10719/10719 [==============================] - 2s 145us/step - loss: 0.6290 - mean_squared_error: 0.0935 - mean_absolute_error: 0.1854\n",
      "Epoch 175/200\n",
      "10719/10719 [==============================] - 2s 148us/step - loss: 0.6297 - mean_squared_error: 0.0936 - mean_absolute_error: 0.1854\n",
      "Epoch 176/200\n",
      "10719/10719 [==============================] - 2s 151us/step - loss: 0.6296 - mean_squared_error: 0.0937 - mean_absolute_error: 0.1854\n",
      "Epoch 177/200\n",
      "10719/10719 [==============================] - 2s 150us/step - loss: 0.6293 - mean_squared_error: 0.0936 - mean_absolute_error: 0.1855\n",
      "Epoch 178/200\n",
      "10719/10719 [==============================] - 2s 146us/step - loss: 0.6282 - mean_squared_error: 0.0935 - mean_absolute_error: 0.1853\n",
      "Epoch 179/200\n",
      "10719/10719 [==============================] - 2s 147us/step - loss: 0.6276 - mean_squared_error: 0.0934 - mean_absolute_error: 0.1853\n",
      "Epoch 180/200\n",
      "10719/10719 [==============================] - 2s 165us/step - loss: 0.6277 - mean_squared_error: 0.0934 - mean_absolute_error: 0.18521s - loss: 0.6334 - mean_squared_err\n",
      "Epoch 181/200\n",
      "10719/10719 [==============================] - 2s 146us/step - loss: 0.6285 - mean_squared_error: 0.0935 - mean_absolute_error: 0.1850\n",
      "Epoch 182/200\n",
      "10719/10719 [==============================] - 2s 149us/step - loss: 0.6287 - mean_squared_error: 0.0934 - mean_absolute_error: 0.1853\n",
      "Epoch 183/200\n",
      "10719/10719 [==============================] - 2s 152us/step - loss: 0.6272 - mean_squared_error: 0.0932 - mean_absolute_error: 0.1848\n",
      "Epoch 184/200\n",
      "10719/10719 [==============================] - 2s 152us/step - loss: 0.6280 - mean_squared_error: 0.0933 - mean_absolute_error: 0.1850\n",
      "Epoch 185/200\n",
      "10719/10719 [==============================] - 2s 158us/step - loss: 0.6279 - mean_squared_error: 0.0934 - mean_absolute_error: 0.1847\n",
      "Epoch 186/200\n",
      "10719/10719 [==============================] - 2s 157us/step - loss: 0.6274 - mean_squared_error: 0.0933 - mean_absolute_error: 0.1849\n",
      "Epoch 187/200\n",
      "10719/10719 [==============================] - 2s 149us/step - loss: 0.6280 - mean_squared_error: 0.0935 - mean_absolute_error: 0.1853\n",
      "Epoch 188/200\n",
      "10719/10719 [==============================] - 2s 162us/step - loss: 0.6273 - mean_squared_error: 0.0933 - mean_absolute_error: 0.1849\n",
      "Epoch 189/200\n",
      "10719/10719 [==============================] - 2s 169us/step - loss: 0.6270 - mean_squared_error: 0.0932 - mean_absolute_error: 0.1847\n",
      "Epoch 190/200\n",
      "10719/10719 [==============================] - 2s 161us/step - loss: 0.6270 - mean_squared_error: 0.0933 - mean_absolute_error: 0.1850\n",
      "Epoch 191/200\n",
      "10719/10719 [==============================] - 2s 159us/step - loss: 0.6272 - mean_squared_error: 0.0933 - mean_absolute_error: 0.1849\n",
      "Epoch 192/200\n",
      "10719/10719 [==============================] - 2s 161us/step - loss: 0.6261 - mean_squared_error: 0.0930 - mean_absolute_error: 0.1846\n",
      "Epoch 193/200\n",
      "10719/10719 [==============================] - 2s 160us/step - loss: 0.6277 - mean_squared_error: 0.0933 - mean_absolute_error: 0.1846\n",
      "Epoch 194/200\n",
      "10719/10719 [==============================] - 2s 158us/step - loss: 0.6265 - mean_squared_error: 0.0933 - mean_absolute_error: 0.1846\n",
      "Epoch 195/200\n",
      "10719/10719 [==============================] - 2s 159us/step - loss: 0.6271 - mean_squared_error: 0.0932 - mean_absolute_error: 0.18440s - loss: 0.6268 - mean_squared_error: 0.0932 - mean_absolute_error: \n",
      "Epoch 196/200\n",
      "10719/10719 [==============================] - 2s 156us/step - loss: 0.6260 - mean_squared_error: 0.0931 - mean_absolute_error: 0.1849\n",
      "Epoch 197/200\n",
      "10719/10719 [==============================] - 2s 156us/step - loss: 0.6263 - mean_squared_error: 0.0932 - mean_absolute_error: 0.1846\n",
      "Epoch 198/200\n",
      "10719/10719 [==============================] - 2s 159us/step - loss: 0.6265 - mean_squared_error: 0.0931 - mean_absolute_error: 0.1843\n",
      "Epoch 199/200\n",
      "10719/10719 [==============================] - 2s 181us/step - loss: 0.6259 - mean_squared_error: 0.0932 - mean_absolute_error: 0.1841\n",
      "Epoch 200/200\n",
      "10719/10719 [==============================] - 2s 156us/step - loss: 0.6260 - mean_squared_error: 0.0931 - mean_absolute_error: 0.1849\n",
      "1192/1192 [==============================] - 0s 42us/step\n"
     ]
    },
    {
     "ename": "ValueError",
     "evalue": "The model is not configured to compute accuracy. You should pass `metrics=[\"accuracy\"]` to the `model.compile()` method.",
     "output_type": "error",
     "traceback": [
      "\u001b[0;31m---------------------------------------------------------------------------\u001b[0m",
      "\u001b[0;31mValueError\u001b[0m                                Traceback (most recent call last)",
      "\u001b[0;32m<ipython-input-31-d61b1a8c2c5b>\u001b[0m in \u001b[0;36m<module>\u001b[0;34m\u001b[0m\n\u001b[0;32m----> 1\u001b[0;31m \u001b[0mresults\u001b[0m \u001b[0;34m=\u001b[0m \u001b[0mcross_val_score\u001b[0m\u001b[0;34m(\u001b[0m\u001b[0mestimator\u001b[0m\u001b[0;34m,\u001b[0m \u001b[0mX\u001b[0m\u001b[0;34m,\u001b[0m \u001b[0mdummy_Y\u001b[0m\u001b[0;34m,\u001b[0m \u001b[0mcv\u001b[0m\u001b[0;34m=\u001b[0m\u001b[0;36m10\u001b[0m\u001b[0;34m)\u001b[0m\u001b[0;34m\u001b[0m\u001b[0;34m\u001b[0m\u001b[0m\n\u001b[0m",
      "\u001b[0;32m~/anaconda3/lib/python3.6/site-packages/sklearn/model_selection/_validation.py\u001b[0m in \u001b[0;36mcross_val_score\u001b[0;34m(estimator, X, y, groups, scoring, cv, n_jobs, verbose, fit_params, pre_dispatch, error_score)\u001b[0m\n\u001b[1;32m    400\u001b[0m                                 \u001b[0mfit_params\u001b[0m\u001b[0;34m=\u001b[0m\u001b[0mfit_params\u001b[0m\u001b[0;34m,\u001b[0m\u001b[0;34m\u001b[0m\u001b[0;34m\u001b[0m\u001b[0m\n\u001b[1;32m    401\u001b[0m                                 \u001b[0mpre_dispatch\u001b[0m\u001b[0;34m=\u001b[0m\u001b[0mpre_dispatch\u001b[0m\u001b[0;34m,\u001b[0m\u001b[0;34m\u001b[0m\u001b[0;34m\u001b[0m\u001b[0m\n\u001b[0;32m--> 402\u001b[0;31m                                 error_score=error_score)\n\u001b[0m\u001b[1;32m    403\u001b[0m     \u001b[0;32mreturn\u001b[0m \u001b[0mcv_results\u001b[0m\u001b[0;34m[\u001b[0m\u001b[0;34m'test_score'\u001b[0m\u001b[0;34m]\u001b[0m\u001b[0;34m\u001b[0m\u001b[0;34m\u001b[0m\u001b[0m\n\u001b[1;32m    404\u001b[0m \u001b[0;34m\u001b[0m\u001b[0m\n",
      "\u001b[0;32m~/anaconda3/lib/python3.6/site-packages/sklearn/model_selection/_validation.py\u001b[0m in \u001b[0;36mcross_validate\u001b[0;34m(estimator, X, y, groups, scoring, cv, n_jobs, verbose, fit_params, pre_dispatch, return_train_score, return_estimator, error_score)\u001b[0m\n\u001b[1;32m    238\u001b[0m             \u001b[0mreturn_times\u001b[0m\u001b[0;34m=\u001b[0m\u001b[0;32mTrue\u001b[0m\u001b[0;34m,\u001b[0m \u001b[0mreturn_estimator\u001b[0m\u001b[0;34m=\u001b[0m\u001b[0mreturn_estimator\u001b[0m\u001b[0;34m,\u001b[0m\u001b[0;34m\u001b[0m\u001b[0;34m\u001b[0m\u001b[0m\n\u001b[1;32m    239\u001b[0m             error_score=error_score)\n\u001b[0;32m--> 240\u001b[0;31m         for train, test in cv.split(X, y, groups))\n\u001b[0m\u001b[1;32m    241\u001b[0m \u001b[0;34m\u001b[0m\u001b[0m\n\u001b[1;32m    242\u001b[0m     \u001b[0mzipped_scores\u001b[0m \u001b[0;34m=\u001b[0m \u001b[0mlist\u001b[0m\u001b[0;34m(\u001b[0m\u001b[0mzip\u001b[0m\u001b[0;34m(\u001b[0m\u001b[0;34m*\u001b[0m\u001b[0mscores\u001b[0m\u001b[0;34m)\u001b[0m\u001b[0;34m)\u001b[0m\u001b[0;34m\u001b[0m\u001b[0;34m\u001b[0m\u001b[0m\n",
      "\u001b[0;32m~/anaconda3/lib/python3.6/site-packages/sklearn/externals/joblib/parallel.py\u001b[0m in \u001b[0;36m__call__\u001b[0;34m(self, iterable)\u001b[0m\n\u001b[1;32m    915\u001b[0m             \u001b[0;31m# remaining jobs.\u001b[0m\u001b[0;34m\u001b[0m\u001b[0;34m\u001b[0m\u001b[0;34m\u001b[0m\u001b[0m\n\u001b[1;32m    916\u001b[0m             \u001b[0mself\u001b[0m\u001b[0;34m.\u001b[0m\u001b[0m_iterating\u001b[0m \u001b[0;34m=\u001b[0m \u001b[0;32mFalse\u001b[0m\u001b[0;34m\u001b[0m\u001b[0;34m\u001b[0m\u001b[0m\n\u001b[0;32m--> 917\u001b[0;31m             \u001b[0;32mif\u001b[0m \u001b[0mself\u001b[0m\u001b[0;34m.\u001b[0m\u001b[0mdispatch_one_batch\u001b[0m\u001b[0;34m(\u001b[0m\u001b[0miterator\u001b[0m\u001b[0;34m)\u001b[0m\u001b[0;34m:\u001b[0m\u001b[0;34m\u001b[0m\u001b[0;34m\u001b[0m\u001b[0m\n\u001b[0m\u001b[1;32m    918\u001b[0m                 \u001b[0mself\u001b[0m\u001b[0;34m.\u001b[0m\u001b[0m_iterating\u001b[0m \u001b[0;34m=\u001b[0m \u001b[0mself\u001b[0m\u001b[0;34m.\u001b[0m\u001b[0m_original_iterator\u001b[0m \u001b[0;32mis\u001b[0m \u001b[0;32mnot\u001b[0m \u001b[0;32mNone\u001b[0m\u001b[0;34m\u001b[0m\u001b[0;34m\u001b[0m\u001b[0m\n\u001b[1;32m    919\u001b[0m \u001b[0;34m\u001b[0m\u001b[0m\n",
      "\u001b[0;32m~/anaconda3/lib/python3.6/site-packages/sklearn/externals/joblib/parallel.py\u001b[0m in \u001b[0;36mdispatch_one_batch\u001b[0;34m(self, iterator)\u001b[0m\n\u001b[1;32m    757\u001b[0m                 \u001b[0;32mreturn\u001b[0m \u001b[0;32mFalse\u001b[0m\u001b[0;34m\u001b[0m\u001b[0;34m\u001b[0m\u001b[0m\n\u001b[1;32m    758\u001b[0m             \u001b[0;32melse\u001b[0m\u001b[0;34m:\u001b[0m\u001b[0;34m\u001b[0m\u001b[0;34m\u001b[0m\u001b[0m\n\u001b[0;32m--> 759\u001b[0;31m                 \u001b[0mself\u001b[0m\u001b[0;34m.\u001b[0m\u001b[0m_dispatch\u001b[0m\u001b[0;34m(\u001b[0m\u001b[0mtasks\u001b[0m\u001b[0;34m)\u001b[0m\u001b[0;34m\u001b[0m\u001b[0;34m\u001b[0m\u001b[0m\n\u001b[0m\u001b[1;32m    760\u001b[0m                 \u001b[0;32mreturn\u001b[0m \u001b[0;32mTrue\u001b[0m\u001b[0;34m\u001b[0m\u001b[0;34m\u001b[0m\u001b[0m\n\u001b[1;32m    761\u001b[0m \u001b[0;34m\u001b[0m\u001b[0m\n",
      "\u001b[0;32m~/anaconda3/lib/python3.6/site-packages/sklearn/externals/joblib/parallel.py\u001b[0m in \u001b[0;36m_dispatch\u001b[0;34m(self, batch)\u001b[0m\n\u001b[1;32m    714\u001b[0m         \u001b[0;32mwith\u001b[0m \u001b[0mself\u001b[0m\u001b[0;34m.\u001b[0m\u001b[0m_lock\u001b[0m\u001b[0;34m:\u001b[0m\u001b[0;34m\u001b[0m\u001b[0;34m\u001b[0m\u001b[0m\n\u001b[1;32m    715\u001b[0m             \u001b[0mjob_idx\u001b[0m \u001b[0;34m=\u001b[0m \u001b[0mlen\u001b[0m\u001b[0;34m(\u001b[0m\u001b[0mself\u001b[0m\u001b[0;34m.\u001b[0m\u001b[0m_jobs\u001b[0m\u001b[0;34m)\u001b[0m\u001b[0;34m\u001b[0m\u001b[0;34m\u001b[0m\u001b[0m\n\u001b[0;32m--> 716\u001b[0;31m             \u001b[0mjob\u001b[0m \u001b[0;34m=\u001b[0m \u001b[0mself\u001b[0m\u001b[0;34m.\u001b[0m\u001b[0m_backend\u001b[0m\u001b[0;34m.\u001b[0m\u001b[0mapply_async\u001b[0m\u001b[0;34m(\u001b[0m\u001b[0mbatch\u001b[0m\u001b[0;34m,\u001b[0m \u001b[0mcallback\u001b[0m\u001b[0;34m=\u001b[0m\u001b[0mcb\u001b[0m\u001b[0;34m)\u001b[0m\u001b[0;34m\u001b[0m\u001b[0;34m\u001b[0m\u001b[0m\n\u001b[0m\u001b[1;32m    717\u001b[0m             \u001b[0;31m# A job can complete so quickly than its callback is\u001b[0m\u001b[0;34m\u001b[0m\u001b[0;34m\u001b[0m\u001b[0;34m\u001b[0m\u001b[0m\n\u001b[1;32m    718\u001b[0m             \u001b[0;31m# called before we get here, causing self._jobs to\u001b[0m\u001b[0;34m\u001b[0m\u001b[0;34m\u001b[0m\u001b[0;34m\u001b[0m\u001b[0m\n",
      "\u001b[0;32m~/anaconda3/lib/python3.6/site-packages/sklearn/externals/joblib/_parallel_backends.py\u001b[0m in \u001b[0;36mapply_async\u001b[0;34m(self, func, callback)\u001b[0m\n\u001b[1;32m    180\u001b[0m     \u001b[0;32mdef\u001b[0m \u001b[0mapply_async\u001b[0m\u001b[0;34m(\u001b[0m\u001b[0mself\u001b[0m\u001b[0;34m,\u001b[0m \u001b[0mfunc\u001b[0m\u001b[0;34m,\u001b[0m \u001b[0mcallback\u001b[0m\u001b[0;34m=\u001b[0m\u001b[0;32mNone\u001b[0m\u001b[0;34m)\u001b[0m\u001b[0;34m:\u001b[0m\u001b[0;34m\u001b[0m\u001b[0;34m\u001b[0m\u001b[0m\n\u001b[1;32m    181\u001b[0m         \u001b[0;34m\"\"\"Schedule a func to be run\"\"\"\u001b[0m\u001b[0;34m\u001b[0m\u001b[0;34m\u001b[0m\u001b[0m\n\u001b[0;32m--> 182\u001b[0;31m         \u001b[0mresult\u001b[0m \u001b[0;34m=\u001b[0m \u001b[0mImmediateResult\u001b[0m\u001b[0;34m(\u001b[0m\u001b[0mfunc\u001b[0m\u001b[0;34m)\u001b[0m\u001b[0;34m\u001b[0m\u001b[0;34m\u001b[0m\u001b[0m\n\u001b[0m\u001b[1;32m    183\u001b[0m         \u001b[0;32mif\u001b[0m \u001b[0mcallback\u001b[0m\u001b[0;34m:\u001b[0m\u001b[0;34m\u001b[0m\u001b[0;34m\u001b[0m\u001b[0m\n\u001b[1;32m    184\u001b[0m             \u001b[0mcallback\u001b[0m\u001b[0;34m(\u001b[0m\u001b[0mresult\u001b[0m\u001b[0;34m)\u001b[0m\u001b[0;34m\u001b[0m\u001b[0;34m\u001b[0m\u001b[0m\n",
      "\u001b[0;32m~/anaconda3/lib/python3.6/site-packages/sklearn/externals/joblib/_parallel_backends.py\u001b[0m in \u001b[0;36m__init__\u001b[0;34m(self, batch)\u001b[0m\n\u001b[1;32m    547\u001b[0m         \u001b[0;31m# Don't delay the application, to avoid keeping the input\u001b[0m\u001b[0;34m\u001b[0m\u001b[0;34m\u001b[0m\u001b[0;34m\u001b[0m\u001b[0m\n\u001b[1;32m    548\u001b[0m         \u001b[0;31m# arguments in memory\u001b[0m\u001b[0;34m\u001b[0m\u001b[0;34m\u001b[0m\u001b[0;34m\u001b[0m\u001b[0m\n\u001b[0;32m--> 549\u001b[0;31m         \u001b[0mself\u001b[0m\u001b[0;34m.\u001b[0m\u001b[0mresults\u001b[0m \u001b[0;34m=\u001b[0m \u001b[0mbatch\u001b[0m\u001b[0;34m(\u001b[0m\u001b[0;34m)\u001b[0m\u001b[0;34m\u001b[0m\u001b[0;34m\u001b[0m\u001b[0m\n\u001b[0m\u001b[1;32m    550\u001b[0m \u001b[0;34m\u001b[0m\u001b[0m\n\u001b[1;32m    551\u001b[0m     \u001b[0;32mdef\u001b[0m \u001b[0mget\u001b[0m\u001b[0;34m(\u001b[0m\u001b[0mself\u001b[0m\u001b[0;34m)\u001b[0m\u001b[0;34m:\u001b[0m\u001b[0;34m\u001b[0m\u001b[0;34m\u001b[0m\u001b[0m\n",
      "\u001b[0;32m~/anaconda3/lib/python3.6/site-packages/sklearn/externals/joblib/parallel.py\u001b[0m in \u001b[0;36m__call__\u001b[0;34m(self)\u001b[0m\n\u001b[1;32m    223\u001b[0m         \u001b[0;32mwith\u001b[0m \u001b[0mparallel_backend\u001b[0m\u001b[0;34m(\u001b[0m\u001b[0mself\u001b[0m\u001b[0;34m.\u001b[0m\u001b[0m_backend\u001b[0m\u001b[0;34m,\u001b[0m \u001b[0mn_jobs\u001b[0m\u001b[0;34m=\u001b[0m\u001b[0mself\u001b[0m\u001b[0;34m.\u001b[0m\u001b[0m_n_jobs\u001b[0m\u001b[0;34m)\u001b[0m\u001b[0;34m:\u001b[0m\u001b[0;34m\u001b[0m\u001b[0;34m\u001b[0m\u001b[0m\n\u001b[1;32m    224\u001b[0m             return [func(*args, **kwargs)\n\u001b[0;32m--> 225\u001b[0;31m                     for func, args, kwargs in self.items]\n\u001b[0m\u001b[1;32m    226\u001b[0m \u001b[0;34m\u001b[0m\u001b[0m\n\u001b[1;32m    227\u001b[0m     \u001b[0;32mdef\u001b[0m \u001b[0m__len__\u001b[0m\u001b[0;34m(\u001b[0m\u001b[0mself\u001b[0m\u001b[0;34m)\u001b[0m\u001b[0;34m:\u001b[0m\u001b[0;34m\u001b[0m\u001b[0;34m\u001b[0m\u001b[0m\n",
      "\u001b[0;32m~/anaconda3/lib/python3.6/site-packages/sklearn/externals/joblib/parallel.py\u001b[0m in \u001b[0;36m<listcomp>\u001b[0;34m(.0)\u001b[0m\n\u001b[1;32m    223\u001b[0m         \u001b[0;32mwith\u001b[0m \u001b[0mparallel_backend\u001b[0m\u001b[0;34m(\u001b[0m\u001b[0mself\u001b[0m\u001b[0;34m.\u001b[0m\u001b[0m_backend\u001b[0m\u001b[0;34m,\u001b[0m \u001b[0mn_jobs\u001b[0m\u001b[0;34m=\u001b[0m\u001b[0mself\u001b[0m\u001b[0;34m.\u001b[0m\u001b[0m_n_jobs\u001b[0m\u001b[0;34m)\u001b[0m\u001b[0;34m:\u001b[0m\u001b[0;34m\u001b[0m\u001b[0;34m\u001b[0m\u001b[0m\n\u001b[1;32m    224\u001b[0m             return [func(*args, **kwargs)\n\u001b[0;32m--> 225\u001b[0;31m                     for func, args, kwargs in self.items]\n\u001b[0m\u001b[1;32m    226\u001b[0m \u001b[0;34m\u001b[0m\u001b[0m\n\u001b[1;32m    227\u001b[0m     \u001b[0;32mdef\u001b[0m \u001b[0m__len__\u001b[0m\u001b[0;34m(\u001b[0m\u001b[0mself\u001b[0m\u001b[0;34m)\u001b[0m\u001b[0;34m:\u001b[0m\u001b[0;34m\u001b[0m\u001b[0;34m\u001b[0m\u001b[0m\n",
      "\u001b[0;32m~/anaconda3/lib/python3.6/site-packages/sklearn/model_selection/_validation.py\u001b[0m in \u001b[0;36m_fit_and_score\u001b[0;34m(estimator, X, y, scorer, train, test, verbose, parameters, fit_params, return_train_score, return_parameters, return_n_test_samples, return_times, return_estimator, error_score)\u001b[0m\n\u001b[1;32m    566\u001b[0m         \u001b[0mfit_time\u001b[0m \u001b[0;34m=\u001b[0m \u001b[0mtime\u001b[0m\u001b[0;34m.\u001b[0m\u001b[0mtime\u001b[0m\u001b[0;34m(\u001b[0m\u001b[0;34m)\u001b[0m \u001b[0;34m-\u001b[0m \u001b[0mstart_time\u001b[0m\u001b[0;34m\u001b[0m\u001b[0;34m\u001b[0m\u001b[0m\n\u001b[1;32m    567\u001b[0m         \u001b[0;31m# _score will return dict if is_multimetric is True\u001b[0m\u001b[0;34m\u001b[0m\u001b[0;34m\u001b[0m\u001b[0;34m\u001b[0m\u001b[0m\n\u001b[0;32m--> 568\u001b[0;31m         \u001b[0mtest_scores\u001b[0m \u001b[0;34m=\u001b[0m \u001b[0m_score\u001b[0m\u001b[0;34m(\u001b[0m\u001b[0mestimator\u001b[0m\u001b[0;34m,\u001b[0m \u001b[0mX_test\u001b[0m\u001b[0;34m,\u001b[0m \u001b[0my_test\u001b[0m\u001b[0;34m,\u001b[0m \u001b[0mscorer\u001b[0m\u001b[0;34m,\u001b[0m \u001b[0mis_multimetric\u001b[0m\u001b[0;34m)\u001b[0m\u001b[0;34m\u001b[0m\u001b[0;34m\u001b[0m\u001b[0m\n\u001b[0m\u001b[1;32m    569\u001b[0m         \u001b[0mscore_time\u001b[0m \u001b[0;34m=\u001b[0m \u001b[0mtime\u001b[0m\u001b[0;34m.\u001b[0m\u001b[0mtime\u001b[0m\u001b[0;34m(\u001b[0m\u001b[0;34m)\u001b[0m \u001b[0;34m-\u001b[0m \u001b[0mstart_time\u001b[0m \u001b[0;34m-\u001b[0m \u001b[0mfit_time\u001b[0m\u001b[0;34m\u001b[0m\u001b[0;34m\u001b[0m\u001b[0m\n\u001b[1;32m    570\u001b[0m         \u001b[0;32mif\u001b[0m \u001b[0mreturn_train_score\u001b[0m\u001b[0;34m:\u001b[0m\u001b[0;34m\u001b[0m\u001b[0;34m\u001b[0m\u001b[0m\n",
      "\u001b[0;32m~/anaconda3/lib/python3.6/site-packages/sklearn/model_selection/_validation.py\u001b[0m in \u001b[0;36m_score\u001b[0;34m(estimator, X_test, y_test, scorer, is_multimetric)\u001b[0m\n\u001b[1;32m    603\u001b[0m     \"\"\"\n\u001b[1;32m    604\u001b[0m     \u001b[0;32mif\u001b[0m \u001b[0mis_multimetric\u001b[0m\u001b[0;34m:\u001b[0m\u001b[0;34m\u001b[0m\u001b[0;34m\u001b[0m\u001b[0m\n\u001b[0;32m--> 605\u001b[0;31m         \u001b[0;32mreturn\u001b[0m \u001b[0m_multimetric_score\u001b[0m\u001b[0;34m(\u001b[0m\u001b[0mestimator\u001b[0m\u001b[0;34m,\u001b[0m \u001b[0mX_test\u001b[0m\u001b[0;34m,\u001b[0m \u001b[0my_test\u001b[0m\u001b[0;34m,\u001b[0m \u001b[0mscorer\u001b[0m\u001b[0;34m)\u001b[0m\u001b[0;34m\u001b[0m\u001b[0;34m\u001b[0m\u001b[0m\n\u001b[0m\u001b[1;32m    606\u001b[0m     \u001b[0;32melse\u001b[0m\u001b[0;34m:\u001b[0m\u001b[0;34m\u001b[0m\u001b[0;34m\u001b[0m\u001b[0m\n\u001b[1;32m    607\u001b[0m         \u001b[0;32mif\u001b[0m \u001b[0my_test\u001b[0m \u001b[0;32mis\u001b[0m \u001b[0;32mNone\u001b[0m\u001b[0;34m:\u001b[0m\u001b[0;34m\u001b[0m\u001b[0;34m\u001b[0m\u001b[0m\n",
      "\u001b[0;32m~/anaconda3/lib/python3.6/site-packages/sklearn/model_selection/_validation.py\u001b[0m in \u001b[0;36m_multimetric_score\u001b[0;34m(estimator, X_test, y_test, scorers)\u001b[0m\n\u001b[1;32m    633\u001b[0m             \u001b[0mscore\u001b[0m \u001b[0;34m=\u001b[0m \u001b[0mscorer\u001b[0m\u001b[0;34m(\u001b[0m\u001b[0mestimator\u001b[0m\u001b[0;34m,\u001b[0m \u001b[0mX_test\u001b[0m\u001b[0;34m)\u001b[0m\u001b[0;34m\u001b[0m\u001b[0;34m\u001b[0m\u001b[0m\n\u001b[1;32m    634\u001b[0m         \u001b[0;32melse\u001b[0m\u001b[0;34m:\u001b[0m\u001b[0;34m\u001b[0m\u001b[0;34m\u001b[0m\u001b[0m\n\u001b[0;32m--> 635\u001b[0;31m             \u001b[0mscore\u001b[0m \u001b[0;34m=\u001b[0m \u001b[0mscorer\u001b[0m\u001b[0;34m(\u001b[0m\u001b[0mestimator\u001b[0m\u001b[0;34m,\u001b[0m \u001b[0mX_test\u001b[0m\u001b[0;34m,\u001b[0m \u001b[0my_test\u001b[0m\u001b[0;34m)\u001b[0m\u001b[0;34m\u001b[0m\u001b[0;34m\u001b[0m\u001b[0m\n\u001b[0m\u001b[1;32m    636\u001b[0m \u001b[0;34m\u001b[0m\u001b[0m\n\u001b[1;32m    637\u001b[0m         \u001b[0;32mif\u001b[0m \u001b[0mhasattr\u001b[0m\u001b[0;34m(\u001b[0m\u001b[0mscore\u001b[0m\u001b[0;34m,\u001b[0m \u001b[0;34m'item'\u001b[0m\u001b[0;34m)\u001b[0m\u001b[0;34m:\u001b[0m\u001b[0;34m\u001b[0m\u001b[0;34m\u001b[0m\u001b[0m\n",
      "\u001b[0;32m~/anaconda3/lib/python3.6/site-packages/sklearn/metrics/scorer.py\u001b[0m in \u001b[0;36m_passthrough_scorer\u001b[0;34m(estimator, *args, **kwargs)\u001b[0m\n\u001b[1;32m    239\u001b[0m \u001b[0;32mdef\u001b[0m \u001b[0m_passthrough_scorer\u001b[0m\u001b[0;34m(\u001b[0m\u001b[0mestimator\u001b[0m\u001b[0;34m,\u001b[0m \u001b[0;34m*\u001b[0m\u001b[0margs\u001b[0m\u001b[0;34m,\u001b[0m \u001b[0;34m**\u001b[0m\u001b[0mkwargs\u001b[0m\u001b[0;34m)\u001b[0m\u001b[0;34m:\u001b[0m\u001b[0;34m\u001b[0m\u001b[0;34m\u001b[0m\u001b[0m\n\u001b[1;32m    240\u001b[0m     \u001b[0;34m\"\"\"Function that wraps estimator.score\"\"\"\u001b[0m\u001b[0;34m\u001b[0m\u001b[0;34m\u001b[0m\u001b[0m\n\u001b[0;32m--> 241\u001b[0;31m     \u001b[0;32mreturn\u001b[0m \u001b[0mestimator\u001b[0m\u001b[0;34m.\u001b[0m\u001b[0mscore\u001b[0m\u001b[0;34m(\u001b[0m\u001b[0;34m*\u001b[0m\u001b[0margs\u001b[0m\u001b[0;34m,\u001b[0m \u001b[0;34m**\u001b[0m\u001b[0mkwargs\u001b[0m\u001b[0;34m)\u001b[0m\u001b[0;34m\u001b[0m\u001b[0;34m\u001b[0m\u001b[0m\n\u001b[0m\u001b[1;32m    242\u001b[0m \u001b[0;34m\u001b[0m\u001b[0m\n\u001b[1;32m    243\u001b[0m \u001b[0;34m\u001b[0m\u001b[0m\n",
      "\u001b[0;32m~/anaconda3/lib/python3.6/site-packages/keras/wrappers/scikit_learn.py\u001b[0m in \u001b[0;36mscore\u001b[0;34m(self, x, y, **kwargs)\u001b[0m\n\u001b[1;32m    297\u001b[0m             \u001b[0;32mif\u001b[0m \u001b[0mname\u001b[0m \u001b[0;34m==\u001b[0m \u001b[0;34m'acc'\u001b[0m\u001b[0;34m:\u001b[0m\u001b[0;34m\u001b[0m\u001b[0;34m\u001b[0m\u001b[0m\n\u001b[1;32m    298\u001b[0m                 \u001b[0;32mreturn\u001b[0m \u001b[0moutput\u001b[0m\u001b[0;34m\u001b[0m\u001b[0;34m\u001b[0m\u001b[0m\n\u001b[0;32m--> 299\u001b[0;31m         raise ValueError('The model is not configured to compute accuracy. '\n\u001b[0m\u001b[1;32m    300\u001b[0m                          \u001b[0;34m'You should pass `metrics=[\"accuracy\"]` to '\u001b[0m\u001b[0;34m\u001b[0m\u001b[0;34m\u001b[0m\u001b[0m\n\u001b[1;32m    301\u001b[0m                          'the `model.compile()` method.')\n",
      "\u001b[0;31mValueError\u001b[0m: The model is not configured to compute accuracy. You should pass `metrics=[\"accuracy\"]` to the `model.compile()` method."
     ]
    }
   ],
   "source": [
    "results = cross_val_score(estimator, X, dummy_Y, cv=10)"
   ]
  },
  {
   "cell_type": "code",
   "execution_count": 32,
   "metadata": {
    "colab": {},
    "colab_type": "code",
    "id": "zTKtgaLOla2W"
   },
   "outputs": [
    {
     "ename": "NameError",
     "evalue": "name 'results' is not defined",
     "output_type": "error",
     "traceback": [
      "\u001b[0;31m---------------------------------------------------------------------------\u001b[0m",
      "\u001b[0;31mNameError\u001b[0m                                 Traceback (most recent call last)",
      "\u001b[0;32m<ipython-input-32-b6bb0a74094a>\u001b[0m in \u001b[0;36m<module>\u001b[0;34m\u001b[0m\n\u001b[1;32m      1\u001b[0m \u001b[0;31m#Mostrando os resultados obtidos:\u001b[0m\u001b[0;34m\u001b[0m\u001b[0;34m\u001b[0m\u001b[0;34m\u001b[0m\u001b[0m\n\u001b[0;32m----> 2\u001b[0;31m \u001b[0mprint\u001b[0m\u001b[0;34m(\u001b[0m\u001b[0;34m\"A taxa de acerto foi de: \"\u001b[0m \u001b[0;34m+\u001b[0m \u001b[0mstr\u001b[0m\u001b[0;34m(\u001b[0m\u001b[0mresults\u001b[0m\u001b[0;34m.\u001b[0m\u001b[0mmean\u001b[0m\u001b[0;34m(\u001b[0m\u001b[0;34m)\u001b[0m\u001b[0;34m)\u001b[0m\u001b[0;34m)\u001b[0m\u001b[0;34m\u001b[0m\u001b[0;34m\u001b[0m\u001b[0m\n\u001b[0m",
      "\u001b[0;31mNameError\u001b[0m: name 'results' is not defined"
     ]
    }
   ],
   "source": [
    "#Mostrando os resultados obtidos:\n",
    "print(\"A taxa de acerto foi de: \" + str(results.mean()))"
   ]
  },
  {
   "cell_type": "code",
   "execution_count": null,
   "metadata": {},
   "outputs": [],
   "source": []
  }
 ],
 "metadata": {
  "colab": {
   "collapsed_sections": [],
   "name": "Copy of PredictSeasons-SVM.ipynb",
   "provenance": [],
   "version": "0.3.2"
  },
  "kernelspec": {
   "display_name": "Python 3",
   "language": "python",
   "name": "python3"
  },
  "language_info": {
   "codemirror_mode": {
    "name": "ipython",
    "version": 3
   },
   "file_extension": ".py",
   "mimetype": "text/x-python",
   "name": "python",
   "nbconvert_exporter": "python",
   "pygments_lexer": "ipython3",
   "version": "3.6.8"
  }
 },
 "nbformat": 4,
 "nbformat_minor": 1
}
